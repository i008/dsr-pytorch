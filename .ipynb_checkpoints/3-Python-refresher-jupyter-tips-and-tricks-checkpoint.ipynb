{
 "cells": [
  {
   "cell_type": "markdown",
   "metadata": {},
   "source": [
    "### Dealing with Paths"
   ]
  },
  {
   "cell_type": "code",
   "execution_count": 2,
   "metadata": {
    "execution_event_id": "b454a374-a5e0-4220-927f-7e72dca402d1",
    "last_executed_text": "import os\nfrom pathlib import Path\nimport numpy \n\n# get Path for home directory\nhome = Path(os.path.expanduser('~'))\nimages_in_home = home.glob('*.jpg')\n\n# You can use  the '/' operator wich is overriden to navigate trough folders\nhome / 'Downloads'\n\n# You can create folders and files:\n\nnew_folder = home / 'newfolder'\nnew_folder.mkdir(exist_ok=True)\n",
    "persistent_id": "8d2f3304-4f7c-48c1-b027-47d4fdb1877f"
   },
   "outputs": [],
   "source": [
    "import os\n",
    "from pathlib import Path\n",
    "import numpy \n",
    "\n",
    "# get Path for home directory\n",
    "home = Path(os.path.expanduser('~'))\n",
    "images_in_home = home.glob('*.jpg')\n",
    "\n",
    "# You can use  the '/' operator wich is overriden to navigate trough folders\n",
    "home / 'Downloads'\n",
    "\n",
    "# You can create folders and files:\n",
    "\n",
    "new_folder = home / 'newfolder'\n",
    "new_folder.mkdir(exist_ok=True)\n"
   ]
  },
  {
   "cell_type": "code",
   "execution_count": 3,
   "metadata": {
    "execution_event_id": "fe0f7ad0-b0f1-47bf-9ae8-a9c65d30a34e",
    "last_executed_text": "str(new_folder)",
    "persistent_id": "bb679769-105e-404a-8793-f6acff17b44b"
   },
   "outputs": [
    {
     "data": {
      "text/plain": [
       "'/home/i008/newfolder'"
      ]
     },
     "execution_count": 3,
     "metadata": {},
     "output_type": "execute_result"
    }
   ],
   "source": [
    "str(new_folder)"
   ]
  },
  {
   "cell_type": "markdown",
   "metadata": {},
   "source": [
    "### Classes"
   ]
  },
  {
   "cell_type": "code",
   "execution_count": 4,
   "metadata": {
    "execution_event_id": "2e1c7c89-8ad6-4624-80a9-b0012597ffce",
    "last_executed_text": "# Class / super\n\nclass Person:\n    # initializing the variables\n    name = \"\"\n    age = 0\n    def __init__(self, person_name, person_age):\n        self.name = person_name\n        self.age = person_age\n    def show_name(self):\n        print(self.name)\n    def show_age(self):\n        print(self.age)\n\n        \nclass Student(Person):\n    studentId = \"\"\n    def __init__(self, student_name, student_age, student_id):\n#         Person.__init__(self, student_name, student_age)\n        super().__init__(student_name, student_age)\n        self.studentId = student_id\n    def get_id(self):\n        return self.studentId  # returns the value of student id\n\n# Super allows us to initialize the super class without needing to provide the name of if explicitly\n# super().__init__(student_name, student_age) == Person.__init__(self, student_name, student_age)\n",
    "persistent_id": "8e21b83c-bad6-4193-8cbb-fe42c4b959bf"
   },
   "outputs": [],
   "source": [
    "# Class / super\n",
    "\n",
    "class Person:\n",
    "    # initializing the variables\n",
    "    name = \"\"\n",
    "    age = 0\n",
    "    def __init__(self, person_name, person_age):\n",
    "        self.name = person_name\n",
    "        self.age = person_age\n",
    "    def show_name(self):\n",
    "        print(self.name)\n",
    "    def show_age(self):\n",
    "        print(self.age)\n",
    "\n",
    "        \n",
    "class Student(Person):\n",
    "    studentId = \"\"\n",
    "    def __init__(self, student_name, student_age, student_id):\n",
    "#         Person.__init__(self, student_name, student_age)\n",
    "        super().__init__(student_name, student_age)\n",
    "        self.studentId = student_id\n",
    "    def get_id(self):\n",
    "        return self.studentId  # returns the value of student id\n",
    "\n",
    "# Super allows us to initialize the super class without needing to provide the name of if explicitly\n",
    "# super().__init__(student_name, student_age) == Person.__init__(self, student_name, student_age)\n"
   ]
  },
  {
   "cell_type": "markdown",
   "metadata": {},
   "source": [
    "### Dunder methods"
   ]
  },
  {
   "cell_type": "code",
   "execution_count": 5,
   "metadata": {
    "execution_event_id": "21ecf18a-e005-4c0a-9264-42f64b9de8fd",
    "last_executed_text": "# Some important Magic/Dunder methods \n\nclass A:\n    def __init__(self, data):\n        self.data = data\n    \n    def __len__(self):\n        return len(self.data)\n    \n    def __getitem__(self, i):\n        return self.data[i]\n    \n    def __str__(self):\n        return \"This is alternative representation off data {}\".format(self.data)\n    \n    def __repr__(self):\n        return self.__str__()\n    \n    def __call__(self):\n        print(\"I can be called like a function without specifying a method\")\n        \ndata = A([1,2,3,4,5]) \nlen(data) # prints 5\ndata[0] # prints 1\ndata() # prints  \"I can be called like a function without specifying a method\"\n# etc",
    "persistent_id": "e340c00b-95f3-4664-8048-834bf05c2d9c"
   },
   "outputs": [
    {
     "name": "stdout",
     "output_type": "stream",
     "text": [
      "I can be called like a function without specifying a method\n"
     ]
    }
   ],
   "source": [
    "# Some important Magic/Dunder methods \n",
    "\n",
    "class A:\n",
    "    def __init__(self, data):\n",
    "        self.data = data\n",
    "    \n",
    "    def __len__(self):\n",
    "        return len(self.data)\n",
    "    \n",
    "    def __getitem__(self, i):\n",
    "        return self.data[i]\n",
    "    \n",
    "    def __str__(self):\n",
    "        return \"This is alternative representation off data {}\".format(self.data)\n",
    "    \n",
    "    def __repr__(self):\n",
    "        return self.__str__()\n",
    "    \n",
    "    def __call__(self):\n",
    "        print(\"I can be called like a function without specifying a method\")\n",
    "        \n",
    "data = A([1,2,3,4,5]) \n",
    "len(data) # prints 5\n",
    "data[0] # prints 1\n",
    "data() # prints  \"I can be called like a function without specifying a method\"\n",
    "# etc"
   ]
  },
  {
   "cell_type": "markdown",
   "metadata": {},
   "source": [
    "### Generators"
   ]
  },
  {
   "cell_type": "code",
   "execution_count": 6,
   "metadata": {
    "execution_event_id": "7b86d0f2-60e2-467a-98e4-460ef719752e",
    "last_executed_text": "# one liner generator\ng = (i for i in range(10))\nprint(next(g))\nprint(next(g))\nprint(next(g))",
    "persistent_id": "640b5a26-36c1-4b56-9a06-1f5b4abe3f9d"
   },
   "outputs": [
    {
     "name": "stdout",
     "output_type": "stream",
     "text": [
      "0\n",
      "1\n",
      "2\n"
     ]
    }
   ],
   "source": [
    "# one liner generator\n",
    "g = (i for i in range(10))\n",
    "print(next(g))\n",
    "print(next(g))\n",
    "print(next(g))"
   ]
  },
  {
   "cell_type": "markdown",
   "metadata": {},
   "source": [
    "### Debugging"
   ]
  },
  {
   "cell_type": "code",
   "execution_count": null,
   "metadata": {
    "execution_event_id": "3d7b66e9-e359-4522-94b1-370938e0c3d1",
    "last_executed_text": "import pdb\nimport numpy as np\nfrom IPython.core.debugger import set_trace\n%pdb",
    "persistent_id": "3df85f2c-df4e-4604-b18c-fe3fea0b8efa"
   },
   "outputs": [],
   "source": [
    "import pdb\n",
    "import numpy as np\n",
    "from IPython.core.debugger import set_trace"
   ]
  },
  {
   "cell_type": "code",
   "execution_count": null,
   "metadata": {
    "execution_event_id": "60131e27-a143-40a8-b564-b7a019231530",
    "last_executed_text": "%pdb 1\nimport numpy as np \ndef this_fails_sometimes():\n    a = np.random.choice([0, 1])\n#     set_trace()\n    if a == 1:\n        raise ValueError\n    else:\n        print(\"all good\")\n",
    "persistent_id": "b1718527-6560-45ae-897e-adddb11274bb"
   },
   "outputs": [],
   "source": [
    "%pdb 1\n",
    "import numpy as np \n",
    "def this_fails_sometimes():\n",
    "    a = np.random.choice([0, 1])\n",
    "#     set_trace()\n",
    "    if a == 1:\n",
    "        raise ValueError\n",
    "    else:\n",
    "        print(\"all good\")\n"
   ]
  },
  {
   "cell_type": "code",
   "execution_count": null,
   "metadata": {
    "collapsed": true,
    "execution_event_id": "4f6a35e2-c0d0-4d94-a4e0-3a57ac22449c",
    "jupyter": {
     "outputs_hidden": true
    },
    "last_executed_text": "this_fails_sometimes()",
    "persistent_id": "4e93fa5b-11be-47bd-bade-2bbb6f6732eb"
   },
   "outputs": [
    {
     "ename": "ValueError",
     "evalue": "",
     "output_type": "error",
     "traceback": [
      "\u001b[0;31m---------------------------------------------------------------------------\u001b[0m",
      "\u001b[0;31mValueError\u001b[0m                                Traceback (most recent call last)",
      "\u001b[0;32m<ipython-input-24-644bada69e91>\u001b[0m in \u001b[0;36m<module>\u001b[0;34m\u001b[0m\n\u001b[0;32m----> 1\u001b[0;31m \u001b[0mthis_fails_sometimes\u001b[0m\u001b[0;34m(\u001b[0m\u001b[0;34m)\u001b[0m\u001b[0;34m\u001b[0m\u001b[0;34m\u001b[0m\u001b[0m\n\u001b[0m",
      "\u001b[0;32m<ipython-input-21-8aed0faf4fcb>\u001b[0m in \u001b[0;36mthis_fails_sometimes\u001b[0;34m()\u001b[0m\n\u001b[1;32m      5\u001b[0m \u001b[0;31m#     set_trace()\u001b[0m\u001b[0;34m\u001b[0m\u001b[0;34m\u001b[0m\u001b[0;34m\u001b[0m\u001b[0m\n\u001b[1;32m      6\u001b[0m     \u001b[0;32mif\u001b[0m \u001b[0ma\u001b[0m \u001b[0;34m==\u001b[0m \u001b[0;36m1\u001b[0m\u001b[0;34m:\u001b[0m\u001b[0;34m\u001b[0m\u001b[0;34m\u001b[0m\u001b[0m\n\u001b[0;32m----> 7\u001b[0;31m         \u001b[0;32mraise\u001b[0m \u001b[0mValueError\u001b[0m\u001b[0;34m\u001b[0m\u001b[0;34m\u001b[0m\u001b[0m\n\u001b[0m\u001b[1;32m      8\u001b[0m     \u001b[0;32melse\u001b[0m\u001b[0;34m:\u001b[0m\u001b[0;34m\u001b[0m\u001b[0;34m\u001b[0m\u001b[0m\n\u001b[1;32m      9\u001b[0m         \u001b[0mprint\u001b[0m\u001b[0;34m(\u001b[0m\u001b[0;34m\"all good\"\u001b[0m\u001b[0;34m)\u001b[0m\u001b[0;34m\u001b[0m\u001b[0;34m\u001b[0m\u001b[0m\n",
      "\u001b[0;31mValueError\u001b[0m: "
     ]
    },
    {
     "name": "stdout",
     "output_type": "stream",
     "text": [
      "> \u001b[0;32m<ipython-input-21-8aed0faf4fcb>\u001b[0m(7)\u001b[0;36mthis_fails_sometimes\u001b[0;34m()\u001b[0m\n",
      "\u001b[0;32m      5 \u001b[0;31m\u001b[0;31m#     set_trace()\u001b[0m\u001b[0;34m\u001b[0m\u001b[0;34m\u001b[0m\u001b[0;34m\u001b[0m\u001b[0m\n",
      "\u001b[0m\u001b[0;32m      6 \u001b[0;31m    \u001b[0;32mif\u001b[0m \u001b[0ma\u001b[0m \u001b[0;34m==\u001b[0m \u001b[0;36m1\u001b[0m\u001b[0;34m:\u001b[0m\u001b[0;34m\u001b[0m\u001b[0;34m\u001b[0m\u001b[0m\n",
      "\u001b[0m\u001b[0;32m----> 7 \u001b[0;31m        \u001b[0;32mraise\u001b[0m \u001b[0mValueError\u001b[0m\u001b[0;34m\u001b[0m\u001b[0;34m\u001b[0m\u001b[0m\n",
      "\u001b[0m\u001b[0;32m      8 \u001b[0;31m    \u001b[0;32melse\u001b[0m\u001b[0;34m:\u001b[0m\u001b[0;34m\u001b[0m\u001b[0;34m\u001b[0m\u001b[0m\n",
      "\u001b[0m\u001b[0;32m      9 \u001b[0;31m        \u001b[0mprint\u001b[0m\u001b[0;34m(\u001b[0m\u001b[0;34m\"all good\"\u001b[0m\u001b[0;34m)\u001b[0m\u001b[0;34m\u001b[0m\u001b[0;34m\u001b[0m\u001b[0m\n",
      "\u001b[0m\n"
     ]
    },
    {
     "name": "stdin",
     "output_type": "stream",
     "text": [
      "ipdb>  l\n"
     ]
    },
    {
     "name": "stdout",
     "output_type": "stream",
     "text": [
      "\u001b[1;32m      2 \u001b[0m\u001b[0;32mimport\u001b[0m \u001b[0mnumpy\u001b[0m \u001b[0;32mas\u001b[0m \u001b[0mnp\u001b[0m\u001b[0;34m\u001b[0m\u001b[0;34m\u001b[0m\u001b[0m\n",
      "\u001b[1;32m      3 \u001b[0m\u001b[0;32mdef\u001b[0m \u001b[0mthis_fails_sometimes\u001b[0m\u001b[0;34m(\u001b[0m\u001b[0;34m)\u001b[0m\u001b[0;34m:\u001b[0m\u001b[0;34m\u001b[0m\u001b[0;34m\u001b[0m\u001b[0m\n",
      "\u001b[1;32m      4 \u001b[0m    \u001b[0ma\u001b[0m \u001b[0;34m=\u001b[0m \u001b[0mnp\u001b[0m\u001b[0;34m.\u001b[0m\u001b[0mrandom\u001b[0m\u001b[0;34m.\u001b[0m\u001b[0mchoice\u001b[0m\u001b[0;34m(\u001b[0m\u001b[0;34m[\u001b[0m\u001b[0;36m0\u001b[0m\u001b[0;34m,\u001b[0m \u001b[0;36m1\u001b[0m\u001b[0;34m]\u001b[0m\u001b[0;34m)\u001b[0m\u001b[0;34m\u001b[0m\u001b[0;34m\u001b[0m\u001b[0m\n",
      "\u001b[1;32m      5 \u001b[0m\u001b[0;31m#     set_trace()\u001b[0m\u001b[0;34m\u001b[0m\u001b[0;34m\u001b[0m\u001b[0;34m\u001b[0m\u001b[0m\n",
      "\u001b[1;32m      6 \u001b[0m    \u001b[0;32mif\u001b[0m \u001b[0ma\u001b[0m \u001b[0;34m==\u001b[0m \u001b[0;36m1\u001b[0m\u001b[0;34m:\u001b[0m\u001b[0;34m\u001b[0m\u001b[0;34m\u001b[0m\u001b[0m\n",
      "\u001b[0;32m----> 7 \u001b[0;31m        \u001b[0;32mraise\u001b[0m \u001b[0mValueError\u001b[0m\u001b[0;34m\u001b[0m\u001b[0;34m\u001b[0m\u001b[0m\n",
      "\u001b[0m\u001b[1;32m      8 \u001b[0m    \u001b[0;32melse\u001b[0m\u001b[0;34m:\u001b[0m\u001b[0;34m\u001b[0m\u001b[0;34m\u001b[0m\u001b[0m\n",
      "\u001b[1;32m      9 \u001b[0m        \u001b[0mprint\u001b[0m\u001b[0;34m(\u001b[0m\u001b[0;34m\"all good\"\u001b[0m\u001b[0;34m)\u001b[0m\u001b[0;34m\u001b[0m\u001b[0;34m\u001b[0m\u001b[0m\n",
      "\n"
     ]
    },
    {
     "name": "stdin",
     "output_type": "stream",
     "text": [
      "ipdb>  ll\n"
     ]
    },
    {
     "name": "stdout",
     "output_type": "stream",
     "text": [
      "\u001b[1;32m      3 \u001b[0m\u001b[0;32mdef\u001b[0m \u001b[0mthis_fails_sometimes\u001b[0m\u001b[0;34m(\u001b[0m\u001b[0;34m)\u001b[0m\u001b[0;34m:\u001b[0m\u001b[0;34m\u001b[0m\u001b[0;34m\u001b[0m\u001b[0m\n",
      "\u001b[1;32m      4 \u001b[0m    \u001b[0ma\u001b[0m \u001b[0;34m=\u001b[0m \u001b[0mnp\u001b[0m\u001b[0;34m.\u001b[0m\u001b[0mrandom\u001b[0m\u001b[0;34m.\u001b[0m\u001b[0mchoice\u001b[0m\u001b[0;34m(\u001b[0m\u001b[0;34m[\u001b[0m\u001b[0;36m0\u001b[0m\u001b[0;34m,\u001b[0m \u001b[0;36m1\u001b[0m\u001b[0;34m]\u001b[0m\u001b[0;34m)\u001b[0m\u001b[0;34m\u001b[0m\u001b[0;34m\u001b[0m\u001b[0m\n",
      "\u001b[1;32m      5 \u001b[0m\u001b[0;31m#     set_trace()\u001b[0m\u001b[0;34m\u001b[0m\u001b[0;34m\u001b[0m\u001b[0;34m\u001b[0m\u001b[0m\n",
      "\u001b[1;32m      6 \u001b[0m    \u001b[0;32mif\u001b[0m \u001b[0ma\u001b[0m \u001b[0;34m==\u001b[0m \u001b[0;36m1\u001b[0m\u001b[0;34m:\u001b[0m\u001b[0;34m\u001b[0m\u001b[0;34m\u001b[0m\u001b[0m\n",
      "\u001b[0;32m----> 7 \u001b[0;31m        \u001b[0;32mraise\u001b[0m \u001b[0mValueError\u001b[0m\u001b[0;34m\u001b[0m\u001b[0;34m\u001b[0m\u001b[0m\n",
      "\u001b[0m\u001b[1;32m      8 \u001b[0m    \u001b[0;32melse\u001b[0m\u001b[0;34m:\u001b[0m\u001b[0;34m\u001b[0m\u001b[0;34m\u001b[0m\u001b[0m\n",
      "\u001b[1;32m      9 \u001b[0m        \u001b[0mprint\u001b[0m\u001b[0;34m(\u001b[0m\u001b[0;34m\"all good\"\u001b[0m\u001b[0;34m)\u001b[0m\u001b[0;34m\u001b[0m\u001b[0;34m\u001b[0m\u001b[0m\n",
      "\n"
     ]
    },
    {
     "name": "stdin",
     "output_type": "stream",
     "text": [
      "ipdb>  a\n",
      "ipdb>  print(a)\n"
     ]
    },
    {
     "name": "stdout",
     "output_type": "stream",
     "text": [
      "1\n"
     ]
    }
   ],
   "source": [
    "this_fails_sometimes()"
   ]
  }
 ],
 "metadata": {
  "history": [
   {
    "cell": {
     "executionCount": 1,
     "executionEventId": "2f2cfc2c-565d-440f-a0b1-c031164cbcd6",
     "hasError": true,
     "id": "260117ba-4a16-425c-9bdf-1f1c0f2b0d69",
     "outputs": [
      {
       "ename": "ModuleNotFoundError",
       "evalue": "No module named 'numpy'",
       "output_type": "error",
       "traceback": [
        "\u001b[0;31m---------------------------------------------------------------------------\u001b[0m",
        "\u001b[0;31mModuleNotFoundError\u001b[0m                       Traceback (most recent call last)",
        "\u001b[0;32m<ipython-input-1-9f3e6b273c96>\u001b[0m in \u001b[0;36m<module>\u001b[0;34m\u001b[0m\n\u001b[1;32m      1\u001b[0m \u001b[0;32mimport\u001b[0m \u001b[0mpdb\u001b[0m\u001b[0;34m\u001b[0m\u001b[0;34m\u001b[0m\u001b[0m\n\u001b[0;32m----> 2\u001b[0;31m \u001b[0;32mimport\u001b[0m \u001b[0mnumpy\u001b[0m \u001b[0;32mas\u001b[0m \u001b[0mnp\u001b[0m\u001b[0;34m\u001b[0m\u001b[0;34m\u001b[0m\u001b[0m\n\u001b[0m\u001b[1;32m      3\u001b[0m \u001b[0;32mfrom\u001b[0m \u001b[0mIPython\u001b[0m\u001b[0;34m.\u001b[0m\u001b[0mcore\u001b[0m\u001b[0;34m.\u001b[0m\u001b[0mdebugger\u001b[0m \u001b[0;32mimport\u001b[0m \u001b[0mset_trace\u001b[0m\u001b[0;34m\u001b[0m\u001b[0;34m\u001b[0m\u001b[0m\n\u001b[1;32m      4\u001b[0m \u001b[0mget_ipython\u001b[0m\u001b[0;34m(\u001b[0m\u001b[0;34m)\u001b[0m\u001b[0;34m.\u001b[0m\u001b[0mrun_line_magic\u001b[0m\u001b[0;34m(\u001b[0m\u001b[0;34m'pdb'\u001b[0m\u001b[0;34m,\u001b[0m \u001b[0;34m''\u001b[0m\u001b[0;34m)\u001b[0m\u001b[0;34m\u001b[0m\u001b[0;34m\u001b[0m\u001b[0m\n",
        "\u001b[0;31mModuleNotFoundError\u001b[0m: No module named 'numpy'"
       ]
      }
     ],
     "persistentId": "3df85f2c-df4e-4604-b18c-fe3fea0b8efa",
     "text": "import pdb\nimport numpy as np\nfrom IPython.core.debugger import set_trace\n%pdb"
    },
    "executionTime": "2019-10-12T17:21:29.066Z"
   },
   {
    "cell": {
     "executionCount": 2,
     "executionEventId": "f617be98-dbdf-4cdc-bde1-cc89b8c34198",
     "hasError": false,
     "id": "74273ba5-60fd-4758-88be-5f4aac2c5a10",
     "outputs": [],
     "persistentId": "8d2f3304-4f7c-48c1-b027-47d4fdb1877f",
     "text": "import os\nfrom pathlib import Path\n\n# get Path for home directory\nhome = Path(os.path.expanduser('~'))\nimages_in_home = home.glob('*.jpg')\n\n# You can use  the '/' operator wich is overriden to navigate trough folders\nhome / 'Downloads'\n\n# You can create folders and files:\n\nnew_folder = home / 'newfolder'\nnew_folder.mkdir(exist_ok=True)\n"
    },
    "executionTime": "2019-10-12T17:21:32.844Z"
   },
   {
    "cell": {
     "executionCount": 1,
     "executionEventId": "56b99c2f-461b-43bb-a993-c7da0d55257a",
     "hasError": false,
     "id": "74273ba5-60fd-4758-88be-5f4aac2c5a10",
     "outputs": [],
     "persistentId": "8d2f3304-4f7c-48c1-b027-47d4fdb1877f",
     "text": "import os\nfrom pathlib import Path\n\n# get Path for home directory\nhome = Path(os.path.expanduser('~'))\nimages_in_home = home.glob('*.jpg')\n\n# You can use  the '/' operator wich is overriden to navigate trough folders\nhome / 'Downloads'\n\n# You can create folders and files:\n\nnew_folder = home / 'newfolder'\nnew_folder.mkdir(exist_ok=True)\n"
    },
    "executionTime": "2019-10-12T17:21:43.584Z"
   },
   {
    "cell": {
     "executionCount": 2,
     "executionEventId": "b454a374-a5e0-4220-927f-7e72dca402d1",
     "hasError": false,
     "id": "74273ba5-60fd-4758-88be-5f4aac2c5a10",
     "outputs": [],
     "persistentId": "8d2f3304-4f7c-48c1-b027-47d4fdb1877f",
     "text": "import os\nfrom pathlib import Path\nimport numpy \n\n# get Path for home directory\nhome = Path(os.path.expanduser('~'))\nimages_in_home = home.glob('*.jpg')\n\n# You can use  the '/' operator wich is overriden to navigate trough folders\nhome / 'Downloads'\n\n# You can create folders and files:\n\nnew_folder = home / 'newfolder'\nnew_folder.mkdir(exist_ok=True)\n"
    },
    "executionTime": "2019-10-12T17:21:48.537Z"
   },
   {
    "cell": {
     "executionCount": 3,
     "executionEventId": "fe0f7ad0-b0f1-47bf-9ae8-a9c65d30a34e",
     "hasError": false,
     "id": "48f7fdce-fef7-4b12-9204-99508f2c6bc4",
     "outputs": [
      {
       "data": {
        "text/plain": "'/home/i008/newfolder'"
       },
       "execution_count": 3,
       "metadata": {},
       "output_type": "execute_result"
      }
     ],
     "persistentId": "bb679769-105e-404a-8793-f6acff17b44b",
     "text": "str(new_folder)"
    },
    "executionTime": "2019-10-12T17:21:48.692Z"
   },
   {
    "cell": {
     "executionCount": 4,
     "executionEventId": "2e1c7c89-8ad6-4624-80a9-b0012597ffce",
     "hasError": false,
     "id": "c9d86774-8d38-4a89-ba0b-c0b6b3938851",
     "outputs": [],
     "persistentId": "8e21b83c-bad6-4193-8cbb-fe42c4b959bf",
     "text": "# Class / super\n\nclass Person:\n    # initializing the variables\n    name = \"\"\n    age = 0\n    def __init__(self, person_name, person_age):\n        self.name = person_name\n        self.age = person_age\n    def show_name(self):\n        print(self.name)\n    def show_age(self):\n        print(self.age)\n\n        \nclass Student(Person):\n    studentId = \"\"\n    def __init__(self, student_name, student_age, student_id):\n#         Person.__init__(self, student_name, student_age)\n        super().__init__(student_name, student_age)\n        self.studentId = student_id\n    def get_id(self):\n        return self.studentId  # returns the value of student id\n\n# Super allows us to initialize the super class without needing to provide the name of if explicitly\n# super().__init__(student_name, student_age) == Person.__init__(self, student_name, student_age)\n"
    },
    "executionTime": "2019-10-12T17:21:49.198Z"
   },
   {
    "cell": {
     "executionCount": 5,
     "executionEventId": "21ecf18a-e005-4c0a-9264-42f64b9de8fd",
     "hasError": false,
     "id": "271ad1c1-51f6-4a44-ac6f-248b92ed248c",
     "outputs": [
      {
       "name": "stdout",
       "output_type": "stream",
       "text": "I can be called like a function without specifying a method\n"
      }
     ],
     "persistentId": "e340c00b-95f3-4664-8048-834bf05c2d9c",
     "text": "# Some important Magic/Dunder methods \n\nclass A:\n    def __init__(self, data):\n        self.data = data\n    \n    def __len__(self):\n        return len(self.data)\n    \n    def __getitem__(self, i):\n        return self.data[i]\n    \n    def __str__(self):\n        return \"This is alternative representation off data {}\".format(self.data)\n    \n    def __repr__(self):\n        return self.__str__()\n    \n    def __call__(self):\n        print(\"I can be called like a function without specifying a method\")\n        \ndata = A([1,2,3,4,5]) \nlen(data) # prints 5\ndata[0] # prints 1\ndata() # prints  \"I can be called like a function without specifying a method\"\n# etc"
    },
    "executionTime": "2019-10-12T17:21:50.402Z"
   },
   {
    "cell": {
     "executionCount": 6,
     "executionEventId": "7b86d0f2-60e2-467a-98e4-460ef719752e",
     "hasError": false,
     "id": "52c30d01-4fa3-4528-b825-ba5b77aeea3d",
     "outputs": [
      {
       "name": "stdout",
       "output_type": "stream",
       "text": "0\n1\n2\n"
      }
     ],
     "persistentId": "640b5a26-36c1-4b56-9a06-1f5b4abe3f9d",
     "text": "# one liner generator\ng = (i for i in range(10))\nprint(next(g))\nprint(next(g))\nprint(next(g))"
    },
    "executionTime": "2019-10-12T17:21:51.959Z"
   },
   {
    "cell": {
     "executionCount": 7,
     "executionEventId": "3d7b66e9-e359-4522-94b1-370938e0c3d1",
     "hasError": false,
     "id": "260117ba-4a16-425c-9bdf-1f1c0f2b0d69",
     "outputs": [
      {
       "name": "stdout",
       "output_type": "stream",
       "text": "Automatic pdb calling has been turned ON\n"
      }
     ],
     "persistentId": "3df85f2c-df4e-4604-b18c-fe3fea0b8efa",
     "text": "import pdb\nimport numpy as np\nfrom IPython.core.debugger import set_trace\n%pdb"
    },
    "executionTime": "2019-10-12T17:21:53.484Z"
   },
   {
    "cell": {
     "executionCount": 8,
     "executionEventId": "f91b6a96-8675-4d1a-a567-052415f6c082",
     "hasError": false,
     "id": "bd37978d-5381-4c53-95c2-6be94bce0628",
     "outputs": [
      {
       "name": "stdout",
       "output_type": "stream",
       "text": "Automatic pdb calling has been turned ON\n"
      }
     ],
     "persistentId": "b1718527-6560-45ae-897e-adddb11274bb",
     "text": "%pdb 1\nimport numpy as np \ndef this_fails_sometimes():\n    a = np.random.choice([0, 1])\n#     set_trace()\n    if a == 1:\n        raise ValueError\n    else:\n        print(\"all good\")\n"
    },
    "executionTime": "2019-10-12T17:21:54.552Z"
   },
   {
    "cell": {
     "executionCount": 9,
     "executionEventId": "5cf7aa7f-96a6-45e4-ba1d-1c64b031897d",
     "hasError": false,
     "id": "bd37978d-5381-4c53-95c2-6be94bce0628",
     "outputs": [
      {
       "name": "stdout",
       "output_type": "stream",
       "text": "Automatic pdb calling has been turned ON\n"
      }
     ],
     "persistentId": "b1718527-6560-45ae-897e-adddb11274bb",
     "text": "%pdb 1\nimport numpy as np \ndef this_fails_sometimes():\n    a = np.random.choice([0, 1])\n#     set_trace()\n    if a == 1:\n        raise ValueError\n    else:\n        print(\"all good\")\n"
    },
    "executionTime": "2019-10-12T17:21:55.642Z"
   },
   {
    "cell": {
     "executionCount": 10,
     "executionEventId": "ed76e07a-0cdc-4c4c-a450-71091090a144",
     "hasError": false,
     "id": "bd37978d-5381-4c53-95c2-6be94bce0628",
     "outputs": [
      {
       "name": "stdout",
       "output_type": "stream",
       "text": "Automatic pdb calling has been turned ON\n"
      }
     ],
     "persistentId": "b1718527-6560-45ae-897e-adddb11274bb",
     "text": "%pdb 1\nimport numpy as np \ndef this_fails_sometimes():\n    a = np.random.choice([0, 1])\n#     set_trace()\n    if a == 1:\n        raise ValueError\n    else:\n        print(\"all good\")\n"
    },
    "executionTime": "2019-10-12T17:21:56.394Z"
   },
   {
    "cell": {
     "executionCount": 11,
     "executionEventId": "2d224d74-4aca-4ef1-ab01-5d8098fac9ad",
     "hasError": false,
     "id": "bd37978d-5381-4c53-95c2-6be94bce0628",
     "outputs": [
      {
       "name": "stdout",
       "output_type": "stream",
       "text": "Automatic pdb calling has been turned ON\n"
      }
     ],
     "persistentId": "b1718527-6560-45ae-897e-adddb11274bb",
     "text": "%pdb 1\nimport numpy as np \ndef this_fails_sometimes():\n    a = np.random.choice([0, 1])\n#     set_trace()\n    if a == 1:\n        raise ValueError\n    else:\n        print(\"all good\")\n"
    },
    "executionTime": "2019-10-12T17:21:58.412Z"
   },
   {
    "cell": {
     "executionCount": 12,
     "executionEventId": "3d881131-aa00-4407-abc8-1c3bb2c71239",
     "hasError": false,
     "id": "bd37978d-5381-4c53-95c2-6be94bce0628",
     "outputs": [
      {
       "name": "stdout",
       "output_type": "stream",
       "text": "Automatic pdb calling has been turned ON\n"
      }
     ],
     "persistentId": "b1718527-6560-45ae-897e-adddb11274bb",
     "text": "%pdb 1\nimport numpy as np \ndef this_fails_sometimes():\n    a = np.random.choice([0, 1])\n#     set_trace()\n    if a == 1:\n        raise ValueError\n    else:\n        print(\"all good\")\n"
    },
    "executionTime": "2019-10-12T17:21:59.078Z"
   },
   {
    "cell": {
     "executionCount": 13,
     "executionEventId": "096bfe03-b936-4bff-8531-1617b7a72c69",
     "hasError": false,
     "id": "bd37978d-5381-4c53-95c2-6be94bce0628",
     "outputs": [
      {
       "name": "stdout",
       "output_type": "stream",
       "text": "Automatic pdb calling has been turned ON\n"
      }
     ],
     "persistentId": "b1718527-6560-45ae-897e-adddb11274bb",
     "text": "%pdb 1\nimport numpy as np \ndef this_fails_sometimes():\n    a = np.random.choice([0, 1])\n#     set_trace()\n    if a == 1:\n        raise ValueError\n    else:\n        print(\"all good\")\n"
    },
    "executionTime": "2019-10-12T17:21:59.480Z"
   },
   {
    "cell": {
     "executionCount": 14,
     "executionEventId": "3419cb3e-4d57-465d-87f7-b939370a0091",
     "hasError": false,
     "id": "bd37978d-5381-4c53-95c2-6be94bce0628",
     "outputs": [
      {
       "name": "stdout",
       "output_type": "stream",
       "text": "Automatic pdb calling has been turned ON\n"
      }
     ],
     "persistentId": "b1718527-6560-45ae-897e-adddb11274bb",
     "text": "%pdb 1\nimport numpy as np \ndef this_fails_sometimes():\n    a = np.random.choice([0, 1])\n#     set_trace()\n    if a == 1:\n        raise ValueError\n    else:\n        print(\"all good\")\n"
    },
    "executionTime": "2019-10-12T17:21:59.856Z"
   },
   {
    "cell": {
     "executionCount": 15,
     "executionEventId": "e019c020-21bf-4302-9251-632e98c31ee2",
     "hasError": false,
     "id": "bd37978d-5381-4c53-95c2-6be94bce0628",
     "outputs": [
      {
       "name": "stdout",
       "output_type": "stream",
       "text": "Automatic pdb calling has been turned ON\n"
      }
     ],
     "persistentId": "b1718527-6560-45ae-897e-adddb11274bb",
     "text": "%pdb 1\nimport numpy as np \ndef this_fails_sometimes():\n    a = np.random.choice([0, 1])\n#     set_trace()\n    if a == 1:\n        raise ValueError\n    else:\n        print(\"all good\")\n"
    },
    "executionTime": "2019-10-12T17:22:00.231Z"
   },
   {
    "cell": {
     "executionCount": 16,
     "executionEventId": "6a03a423-af7b-4999-80ba-4fc2351b6553",
     "hasError": false,
     "id": "bd37978d-5381-4c53-95c2-6be94bce0628",
     "outputs": [
      {
       "name": "stdout",
       "output_type": "stream",
       "text": "Automatic pdb calling has been turned ON\n"
      }
     ],
     "persistentId": "b1718527-6560-45ae-897e-adddb11274bb",
     "text": "%pdb 1\nimport numpy as np \ndef this_fails_sometimes():\n    a = np.random.choice([0, 1])\n#     set_trace()\n    if a == 1:\n        raise ValueError\n    else:\n        print(\"all good\")\n"
    },
    "executionTime": "2019-10-12T17:22:00.603Z"
   },
   {
    "cell": {
     "executionCount": 17,
     "executionEventId": "6d827ce5-bc55-4cec-a73d-a99999cc784b",
     "hasError": false,
     "id": "bd37978d-5381-4c53-95c2-6be94bce0628",
     "outputs": [
      {
       "name": "stdout",
       "output_type": "stream",
       "text": "Automatic pdb calling has been turned ON\n"
      }
     ],
     "persistentId": "b1718527-6560-45ae-897e-adddb11274bb",
     "text": "%pdb 1\nimport numpy as np \ndef this_fails_sometimes():\n    a = np.random.choice([0, 1])\n#     set_trace()\n    if a == 1:\n        raise ValueError\n    else:\n        print(\"all good\")\n"
    },
    "executionTime": "2019-10-12T17:22:00.988Z"
   },
   {
    "cell": {
     "executionCount": 18,
     "executionEventId": "805b53b0-1d30-47d7-ad72-7c73abe2d7c7",
     "hasError": false,
     "id": "bd37978d-5381-4c53-95c2-6be94bce0628",
     "outputs": [
      {
       "name": "stdout",
       "output_type": "stream",
       "text": "Automatic pdb calling has been turned ON\n"
      }
     ],
     "persistentId": "b1718527-6560-45ae-897e-adddb11274bb",
     "text": "%pdb 1\nimport numpy as np \ndef this_fails_sometimes():\n    a = np.random.choice([0, 1])\n#     set_trace()\n    if a == 1:\n        raise ValueError\n    else:\n        print(\"all good\")\n"
    },
    "executionTime": "2019-10-12T17:22:01.450Z"
   },
   {
    "cell": {
     "executionCount": 19,
     "executionEventId": "3e6a93c8-c1a4-4368-b68f-ee3fd06bbd0a",
     "hasError": false,
     "id": "bd37978d-5381-4c53-95c2-6be94bce0628",
     "outputs": [
      {
       "name": "stdout",
       "output_type": "stream",
       "text": "Automatic pdb calling has been turned ON\n"
      }
     ],
     "persistentId": "b1718527-6560-45ae-897e-adddb11274bb",
     "text": "%pdb 1\nimport numpy as np \ndef this_fails_sometimes():\n    a = np.random.choice([0, 1])\n#     set_trace()\n    if a == 1:\n        raise ValueError\n    else:\n        print(\"all good\")\n"
    },
    "executionTime": "2019-10-12T17:22:01.863Z"
   },
   {
    "cell": {
     "executionCount": 20,
     "executionEventId": "03c7fed2-26ab-463d-82a4-a14c09e69732",
     "hasError": false,
     "id": "bd37978d-5381-4c53-95c2-6be94bce0628",
     "outputs": [
      {
       "name": "stdout",
       "output_type": "stream",
       "text": "Automatic pdb calling has been turned ON\n"
      }
     ],
     "persistentId": "b1718527-6560-45ae-897e-adddb11274bb",
     "text": "%pdb 1\nimport numpy as np \ndef this_fails_sometimes():\n    a = np.random.choice([0, 1])\n#     set_trace()\n    if a == 1:\n        raise ValueError\n    else:\n        print(\"all good\")\n"
    },
    "executionTime": "2019-10-12T17:22:02.225Z"
   },
   {
    "cell": {
     "executionCount": 21,
     "executionEventId": "60131e27-a143-40a8-b564-b7a019231530",
     "hasError": false,
     "id": "bd37978d-5381-4c53-95c2-6be94bce0628",
     "outputs": [
      {
       "name": "stdout",
       "output_type": "stream",
       "text": "Automatic pdb calling has been turned ON\n"
      }
     ],
     "persistentId": "b1718527-6560-45ae-897e-adddb11274bb",
     "text": "%pdb 1\nimport numpy as np \ndef this_fails_sometimes():\n    a = np.random.choice([0, 1])\n#     set_trace()\n    if a == 1:\n        raise ValueError\n    else:\n        print(\"all good\")\n"
    },
    "executionTime": "2019-10-12T17:22:02.659Z"
   },
   {
    "cell": {
     "executionCount": 22,
     "executionEventId": "922d682c-3e5c-4ceb-ae51-397474770ab1",
     "hasError": true,
     "id": "eef4a888-2cb8-4490-a959-985aca801611",
     "outputs": [
      {
       "ename": "NameError",
       "evalue": "name 'a' is not defined",
       "output_type": "error",
       "traceback": [
        "\u001b[0;31m---------------------------------------------------------------------------\u001b[0m",
        "\u001b[0;31mNameError\u001b[0m                                 Traceback (most recent call last)",
        "\u001b[0;32m<ipython-input-22-3f786850e387>\u001b[0m in \u001b[0;36m<module>\u001b[0;34m\u001b[0m\n\u001b[0;32m----> 1\u001b[0;31m \u001b[0ma\u001b[0m\u001b[0;34m\u001b[0m\u001b[0;34m\u001b[0m\u001b[0m\n\u001b[0m",
        "\u001b[0;31mNameError\u001b[0m: name 'a' is not defined"
       ]
      },
      {
       "name": "stdout",
       "output_type": "stream",
       "text": "> \u001b[0;32m<ipython-input-22-3f786850e387>\u001b[0m(1)\u001b[0;36m<module>\u001b[0;34m()\u001b[0m\n\u001b[0;32m----> 1 \u001b[0;31m\u001b[0ma\u001b[0m\u001b[0;34m\u001b[0m\u001b[0;34m\u001b[0m\u001b[0m\n\u001b[0m\n"
      },
      {
       "name": "stdin",
       "output_type": "stream",
       "text": "ipdb>  l\n"
      },
      {
       "name": "stdout",
       "output_type": "stream",
       "text": "\u001b[0;32m----> 1 \u001b[0;31m\u001b[0ma\u001b[0m\u001b[0;34m\u001b[0m\u001b[0;34m\u001b[0m\u001b[0m\n\u001b[0m\n"
      },
      {
       "name": "stdin",
       "output_type": "stream",
       "text": "ipdb>  ll\n"
      },
      {
       "name": "stdout",
       "output_type": "stream",
       "text": "\u001b[0;32m----> 1 \u001b[0;31m\u001b[0ma\u001b[0m\u001b[0;34m\u001b[0m\u001b[0;34m\u001b[0m\u001b[0m\n\u001b[0m\n"
      },
      {
       "name": "stdin",
       "output_type": "stream",
       "text": "ipdb>  q\n"
      }
     ],
     "persistentId": "4e93fa5b-11be-47bd-bade-2bbb6f6732eb",
     "text": "this"
    },
    "executionTime": "2019-10-12T17:22:35.344Z"
   },
   {
    "cell": {
     "executionCount": 23,
     "executionEventId": "4f6a35e2-c0d0-4d94-a4e0-3a57ac22449c",
     "hasError": false,
     "id": "eef4a888-2cb8-4490-a959-985aca801611",
     "outputs": [
      {
       "name": "stdout",
       "output_type": "stream",
       "text": "all good\n"
      }
     ],
     "persistentId": "4e93fa5b-11be-47bd-bade-2bbb6f6732eb",
     "text": "this_fails_sometimes()"
    },
    "executionTime": "2019-10-12T17:22:38.987Z"
   }
  ],
  "kernelspec": {
   "display_name": "dsr-dl",
   "language": "python",
   "name": "dl"
  },
  "language_info": {
   "codemirror_mode": {
    "name": "ipython",
    "version": 3
   },
   "file_extension": ".py",
   "mimetype": "text/x-python",
   "name": "python",
   "nbconvert_exporter": "python",
   "pygments_lexer": "ipython3",
   "version": "3.7.4"
  },
  "neptune": {
   "notebookId": "ad95e509-de3f-44b8-b00d-d1d46023f793"
  },
  "uuid": "69bb9627-20a7-4122-8694-b8cb72bee3a8"
 },
 "nbformat": 4,
 "nbformat_minor": 4
}
