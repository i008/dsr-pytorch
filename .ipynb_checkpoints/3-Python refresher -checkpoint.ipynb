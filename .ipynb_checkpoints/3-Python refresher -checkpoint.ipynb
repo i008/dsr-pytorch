{
 "cells": [
  {
   "cell_type": "markdown",
   "metadata": {},
   "source": [
    "### Dealing with Paths"
   ]
  },
  {
   "cell_type": "code",
   "execution_count": 1,
   "metadata": {},
   "outputs": [],
   "source": [
    "import os\n",
    "from pathlib import Path\n",
    "\n",
    "# get Path for home directory\n",
    "home = Path(os.path.expanduser('~'))\n",
    "images_in_home = home.glob('*.jpg')\n",
    "\n",
    "# You can use  the '/' operator wich is overriden to nabivgate trough folders\n",
    "home / 'Downloads'\n",
    "\n",
    "# You can create folders and files:\n",
    "\n",
    "new_folder = home / 'newfolder'\n",
    "new_folder.mkdir(exist_ok=True)"
   ]
  },
  {
   "cell_type": "code",
   "execution_count": 2,
   "metadata": {},
   "outputs": [
    {
     "data": {
      "text/plain": [
       "'/home/i008/newfolder'"
      ]
     },
     "execution_count": 2,
     "metadata": {},
     "output_type": "execute_result"
    }
   ],
   "source": [
    "str(new_folder)"
   ]
  },
  {
   "cell_type": "markdown",
   "metadata": {},
   "source": [
    "### Classes"
   ]
  },
  {
   "cell_type": "code",
   "execution_count": 4,
   "metadata": {},
   "outputs": [],
   "source": [
    "# Class / super\n",
    "\n",
    "class Person:\n",
    "    # initializing the variables\n",
    "    name = \"\"\n",
    "    age = 0\n",
    "    def __init__(self, person_name, person_age):\n",
    "        self.name = person_name\n",
    "        self.age = person_age\n",
    "    def show_name(self):\n",
    "        print(self.name)\n",
    "    def show_age(self):\n",
    "        print(self.age)\n",
    "\n",
    "        \n",
    "class Student(Person):\n",
    "    studentId = \"\"\n",
    "    def __init__(self, student_name, student_age, student_id):\n",
    "#         Person.__init__(self, student_name, student_age)\n",
    "        super().__init__(student_name, student_age)\n",
    "        self.studentId = student_id\n",
    "    def get_id(self):\n",
    "        return self.studentId  # returns the value of student id\n",
    "\n",
    "# Super allows us to initialize the super class without needing to provide the name of if explicitly\n",
    "# super().__init__(student_name, student_age) == Person.__init__(self, student_name, student_age)\n"
   ]
  },
  {
   "cell_type": "markdown",
   "metadata": {},
   "source": [
    "### Dunder methods"
   ]
  },
  {
   "cell_type": "code",
   "execution_count": 83,
   "metadata": {},
   "outputs": [
    {
     "name": "stdout",
     "output_type": "stream",
     "text": [
      "I can be called like a function without specifying a method\n"
     ]
    }
   ],
   "source": [
    "# Some important Magic/Dunder methods \n",
    "\n",
    "class A:\n",
    "    def __init__(self, data):\n",
    "        self.data = data\n",
    "    \n",
    "    def __len__(self):\n",
    "        return len(self.data)\n",
    "    \n",
    "    def __getitem__(self, i):\n",
    "        return self.data[i]\n",
    "    \n",
    "    def __str__(self):\n",
    "        return \"This is alternative representation off data {}\".format(self.data)\n",
    "    \n",
    "    def __repr__(self):\n",
    "        return self.__str__()\n",
    "    \n",
    "    def __call__(self):\n",
    "        print(\"I can be called like a function without specifying a method\")\n",
    "        \n",
    "data = A([1,2,3,4,5]) \n",
    "len(data) # prints 5\n",
    "data[0] # prints 1\n",
    "data() # prints  \"I can be called like a function without specifying a method\"\n",
    "# etc"
   ]
  },
  {
   "cell_type": "markdown",
   "metadata": {},
   "source": [
    "### Generators"
   ]
  },
  {
   "cell_type": "code",
   "execution_count": 4,
   "metadata": {},
   "outputs": [
    {
     "name": "stdout",
     "output_type": "stream",
     "text": [
      "0\n",
      "1\n",
      "2\n"
     ]
    }
   ],
   "source": [
    "# one liner generator\n",
    "g = (i for i in range(10))\n",
    "print(next(g))\n",
    "print(next(g))\n",
    "print(next(g))"
   ]
  },
  {
   "cell_type": "code",
   "execution_count": null,
   "metadata": {},
   "outputs": [],
   "source": []
  }
 ],
 "metadata": {
  "kernelspec": {
   "display_name": "Python [default]",
   "language": "python",
   "name": "python3"
  },
  "language_info": {
   "codemirror_mode": {
    "name": "ipython",
    "version": 3
   },
   "file_extension": ".py",
   "mimetype": "text/x-python",
   "name": "python",
   "nbconvert_exporter": "python",
   "pygments_lexer": "ipython3",
   "version": "3.6.4"
  }
 },
 "nbformat": 4,
 "nbformat_minor": 2
}
