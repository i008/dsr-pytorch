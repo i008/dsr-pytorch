{
 "cells": [
  {
   "cell_type": "markdown",
   "metadata": {},
   "source": [
    "# Single Shot Multi Scale Object Detection Tutorial\n"
   ]
  },
  {
   "cell_type": "code",
   "execution_count": 1,
   "metadata": {},
   "outputs": [],
   "source": [
    "%matplotlib inline\n",
    "%load_ext autoreload\n",
    "%autoreload 1\n",
    "\n",
    "import os\n",
    "\n",
    "import PIL\n",
    "import matplotlib\n",
    "\n",
    "import torch\n",
    "from easyimages.utils import change_box_order, vis_image\n",
    "from livelossplot import PlotLosses\n",
    "from pycocotools.coco import COCO\n",
    "from retinanet.encoder import DataEncoder\n",
    "from torch import nn\n",
    "from torch.utils.data import DataLoader\n",
    "from torch.utils.data.sampler import RandomSampler\n",
    "from torchvision.transforms import ToPILImage, ToTensor\n",
    "import torch.nn.functional as F\n",
    "from torch.autograd import Variable\n",
    "from retinanet.utils import one_hot_embedding\n",
    "from retinanet.loss import FocalLoss\n",
    "\n",
    "\n",
    "matplotlib.rcParams['figure.figsize'] = [14, 10]\n",
    "\n",
    "\n",
    "device = 'cuda' if torch.cuda.is_available() else 'cpu'\n"
   ]
  },
  {
   "cell_type": "markdown",
   "metadata": {},
   "source": [
    "# Object Detection\n",
    "\n",
    "Object detection is the process of localizing and classyfing a region of interest in an image. Usually by prediting the coordinates of a bounding box enclosing this object.\n",
    "\n",
    "In this notebook we focus on single shot methods detection which means that the detection happens during a single forward pass. There is no second network learning object proposals which would be the case in RCNN architectures.\n",
    "\n",
    "\n",
    "\n",
    "# Example (Synthetic) Object Detection Dataset\n",
    "\n",
    "Our problem boils down to predicting the coordinates and label of the red box given an input image.\n",
    "\n",
    "![alt text](static/shapes-coco.png \"Title\")\n"
   ]
  },
  {
   "cell_type": "markdown",
   "metadata": {},
   "source": [
    "# COCO Dataset Annotations Format"
   ]
  },
  {
   "cell_type": "markdown",
   "metadata": {},
   "source": [
    "COCO format  is the standard for storing object detection and segmentation data so we will work on an example  following the same.\n",
    "\n",
    "In COCO we follow the **xywh** convention or as i like to call it *tlwh*: **(top-left-width-height)**\n",
    "that way you can not confuse it with for instance *cwh*: **(center-point, w, h)**\n",
    "\n",
    "![alt text](static/cocodsformat.jpg \"Title\")\n"
   ]
  },
  {
   "cell_type": "markdown",
   "metadata": {},
   "source": [
    "# Bounding Box Encoding\n",
    "\n",
    "Probably the most challenging concept to grasp while learning  object detection is the way how we encode our ground truth information. This is a crucial step in most applications in  deep learning, usually its not that complicated for instance encoding categories as one-hot encoded vectors is a straight forward task, but it can get quite challenging for example in NLP problems where its common to have variable sequence lenghts.\n",
    "\n",
    "In a regular bounding box setup your image can have different number of boxes and classes per image. So how do you encode this information into a fixed size target-tensor?\n",
    "\n",
    "The solution to this problem are **Anchor Boxes** also known as prior boxes.\n",
    "\n",
    "Essentialy Anchor Boxes are a finite set of boundig boxes with different sizes and aspect ratios for each position in the feature map. Usually there are thousands of anchor boxes in modern OD architectures - but only few will \"match\" with our ground truth.\n",
    "\n",
    "\n",
    "![alt text](static/anchors3.png \"All\")\n",
    "\n",
    "Here we visualize 100 random anchor boxes. Next up we will find which ones match our ground-truth using a crieteria known as IoU (Intersection over union)\n",
    "\n",
    "![alt text](static/iou.png \"All\")\n",
    "\n",
    "\n",
    "![alt text](static/matched_anchors.png \"All\")\n",
    "\n",
    "\n",
    "# Bounding Box Regression Coefficients\n",
    "\n",
    "Since predicting the anchor itself would be suboptimal (having IoU's close to 1.0 is unlikely even with a very high number of anchors) Thats why we want our network to predict an offset between the real box (T) and the Anchor (O) and for the width and height we learn the ratio between the Target width and Anchor width. Furthermore its quite common to log-transform this target for more efficient training.\n",
    "\n",
    "We will only use coefficients coming from Anchor boxes with high IoU (usually above 0.5) the rest is ignored in regression loss computation.\n",
    "\n",
    "![alt text](static/anchor_coef.png \"All\")\n",
    "\n",
    "Now the question arises how do you predict those offsets, the trick to this is attaching the detection heads to regular feature maps of a convolutiona neural network (base network)\n",
    "\n",
    "To understand what it means here is a qucik recap of a typical CNN architecture w.r.t Object Detection an important concept is the receptive field of a neuron and the fact that the deeper you go in regular CNN you trade resolution for \"broad-knowledge\" neurons deep in a neural network are more context aware.\n",
    "\n",
    "![alt text](static/cnn.jpg \"All\")\n",
    "\n",
    "Given that it would make sense to use higher resolution feature maps (for instance the 56x56 f-map) to predict small objects and lower resolution ones for big objects. And thats exactly the idea behind **multi scale object detection**\n",
    "\n",
    "\n",
    "\n",
    "# Regression and Detection Heads\n",
    "\n",
    "A regression and detection head is nothing else then a Conv2D block that is convolving a particular feature map. In the most simplified scennario it would work like this:\n",
    "\n",
    "```python\n",
    "num_classes = 3\n",
    "fmap1 = torch.random(BS, 256, 9, 9) # Lets assume this is a 9x9 feature map with depth=256.\n",
    "bbox_regression_head = nn.Conv2d(32, n_anchors * 4, 3, padding=1)\n",
    "bbox_classification_head = nn.Conv2d(32, n_anchors * num_classes, 3, padding=1)\n",
    "\n",
    "bbox_offsets = bbox_regression_head(fmap1)\n",
    "bbox_cls_pred = bbox_classification_head(fmap1)\n",
    "\n",
    "```\n",
    "n_anchors is the number of anchor per location (its pretty common this number is 9 as we have 3 scale ratios and 3 aspect ratios) so the product of those is 9.\n",
    "For regression we multiple this by **4** (we need 4 floats for each anchor to predict the offsets tx,ty,tw,th)\n",
    "\n",
    "Notice how elegant this solution actually is - we have a fully convolutional architecture (which is usually quite efficient memory and speed-wise) it also makes sense intuitivly - convolution is nothing else but sliding a filter on each position of the feature maps, and we know that those neurons have 'knowledge' about a particular part of the image (among other things)\n",
    "\n",
    "\n",
    "\n",
    "\n",
    "# Encoding steps put together\n",
    "\n",
    "To recap the above:  here are the steps neccesery to encode our target bounding boxes:\n",
    "\n",
    "- For each feature map that we want to use for predictions generate a set of anchor-boxes with different size and aspect ratios\n",
    "- Calculate the IoU between your target boxes and anchor boxes\n",
    "- For anchors that had the biggest IoU  calculate the offset values.\n",
    "    tx = (x - anchor_x) / anchor_w\n",
    "    ty = (y - anchor_y) / anchor_h\n",
    "    tw = log(w / anchor_w)\n",
    "    th = log(h / anchor_h)\n",
    "\n",
    "- For box regression only offsets  that matched with an IoU > 0.5 will be used during loss computation\n",
    "- For box classification only boxes with IoU > 0.5 and  IoU < 0.4 will be used during loss computetion"
   ]
  },
  {
   "cell_type": "markdown",
   "metadata": {},
   "source": [
    "# Data Encoding Examples"
   ]
  },
  {
   "cell_type": "code",
   "execution_count": 2,
   "metadata": {},
   "outputs": [
    {
     "name": "stdout",
     "output_type": "stream",
     "text": [
      "torch.Size([12321, 4])\n",
      "torch.Size([2916, 4])\n",
      "torch.Size([729, 4])\n",
      "tensor([[  0.0000,   0.0000, 141.4214, 282.8427],\n",
      "        [  0.0000,   0.0000, 176.7767, 353.5534],\n",
      "        [  0.0000,   0.0000, 212.1320, 424.2641],\n",
      "        ...,\n",
      "        [266.6667, 266.6667, 282.8427, 141.4214],\n",
      "        [266.6667, 266.6667, 353.5534, 176.7767],\n",
      "        [266.6667, 266.6667, 424.2641, 212.1320]])\n"
     ]
    }
   ],
   "source": [
    "\n",
    "de = DataEncoder(anchor_areas=[50*50, 100*100, 200*200],\n",
    "                 aspect_ratios=[0.5, 1, 2],\n",
    "                 scale_ratios=[1.0, 1.25, 1.5],\n",
    "                 fm_sizes=torch.tensor([(37, 37),\n",
    "                                        (18, 18),\n",
    "                                        (9, 9)]).float(),\n",
    "\n",
    "                 min_iou=0.5\n",
    "                 )\n",
    "\n",
    "anchors, anchors_per_fm = de._get_anchor_boxes(torch.Tensor((300, 300)))\n",
    "\n",
    "for fms in anchors_per_fm:\n",
    "    print(fms.shape)\n",
    "    \n",
    "print(fms)"
   ]
  },
  {
   "cell_type": "markdown",
   "metadata": {},
   "source": [
    "Lets make sure we understand where the number are coming from:\n",
    "\n",
    "- We have 12321 anchors on fm1 (37 * 37 *9)\n",
    "- We have 2916 anchors on fm2 (18 * 18 * 9)\n",
    "- We have 729 anchors on fm3 (9 * 9 * 9)\n",
    "\n"
   ]
  },
  {
   "cell_type": "markdown",
   "metadata": {},
   "source": [
    "# Wrapping COCO dataset into a pytorch dataset\n"
   ]
  },
  {
   "cell_type": "code",
   "execution_count": 3,
   "metadata": {
    "lines_to_next_cell": 2
   },
   "outputs": [
    {
     "name": "stdout",
     "output_type": "stream",
     "text": [
      "loading annotations into memory...\n",
      "Done (t=0.00s)\n",
      "creating index...\n",
      "index created!\n"
     ]
    }
   ],
   "source": [
    "coco = COCO(annotation_file='generate-shapes/coco_shapes_100_200/100_200.json')\n",
    "\n",
    "\n",
    "class CoCoDS():\n",
    "    def __init__(self, coco, base_path, encoder):\n",
    "        self.coco = coco\n",
    "        self.base_path = base_path\n",
    "        self.encoder = encoder\n",
    "        self.all_images = coco.getImgIds()\n",
    "\n",
    "    def __getitem__(self, i):\n",
    "\n",
    "        image_id = self.all_images[i]\n",
    "        image_meta = coco.loadImgs(ids=[image_id])[0]\n",
    "        image = PIL.Image.open(os.path.join(self.base_path, image_id))\n",
    "        image = ToTensor()(image)\n",
    "\n",
    "        w, h = image_meta['width'], image_meta['height']\n",
    "        annot = coco.loadAnns(ids=coco.getAnnIds(imgIds=[image_id]))\n",
    "        boxes = torch.tensor([a['bbox'] for a in annot]).float()\n",
    "        labels = torch.tensor([a['category_id']for a in annot]).float()\n",
    "        boxes = change_box_order(\n",
    "            boxes, input_order='tlwh', output_order='tlbr')\n",
    "\n",
    "        loc_targets, cls_targets = self.encoder.encode(boxes, labels, (w, h))\n",
    "\n",
    "        return image, loc_targets, cls_targets\n",
    "\n",
    "    def __len__(self):\n",
    "        return len(self.coco.getImgIds())"
   ]
  },
  {
   "cell_type": "code",
   "execution_count": 4,
   "metadata": {},
   "outputs": [
    {
     "name": "stdout",
     "output_type": "stream",
     "text": [
      "torch.Size([15966, 4])\n",
      "torch.Size([15966])\n"
     ]
    }
   ],
   "source": [
    "cocds = CoCoDS(coco, 'generate-shapes/coco_shapes_100_200/images', de)\n",
    "\n",
    "_, loc, cls = cocds[0]\n",
    "\n",
    "print(loc.shape)\n",
    "print(cls.shape)"
   ]
  },
  {
   "cell_type": "markdown",
   "metadata": {},
   "source": [
    "# Lets model a very simple network\n",
    "Our network is really simple it consists of 5 downsample steps. Each downsample is a **Conv2->BN->Relu->Conv2->BN->Relu->MaxPool2D** block. \n",
    "\n",
    "We will attach our detection heads to f-map3 f-map4 and f-map5. Lets caculate the shapes of those feature maps:\n",
    "\n",
    "outpu shape  after step 3 -> 300 / 2 / 2 / 2 = 37   \n",
    "output shape after step 4 -> 300 / 2 / 2 / 2 / 2  = 18   \n",
    "output shape after step 5 -> 300 / 2 / 2 / 2 / 2 / 2 = 9   \n",
    "\n",
    "As you can imagine the Anchor boxes reflect this architecture. In the end all the shape must match."
   ]
  },
  {
   "cell_type": "code",
   "execution_count": 5,
   "metadata": {},
   "outputs": [],
   "source": [
    "\n",
    "class SimpleSSD(nn.Module):\n",
    "\n",
    "    def __init__(self, n_cls=1, num_anchors=9):\n",
    "        super(SimpleSSD, self).__init__()\n",
    "\n",
    "        self.n_cls = n_cls\n",
    "        self.num_anchors = num_anchors\n",
    "\n",
    "        # Base CNN (think resnet/vgg or other base network)\n",
    "        self.step1 = self.down_sample(3, 128)\n",
    "        self.step2 = self.down_sample(128, 128)\n",
    "        self.step3 = self.down_sample(128, 128)\n",
    "        self.step4 = self.down_sample(128, 128)\n",
    "        self.step5 = self.down_sample(128, 128)\n",
    "\n",
    "        self.cls_head1 = self.create_cls_head(\n",
    "            128, self.n_cls, self.num_anchors)\n",
    "        self.bbox_head1 = self.create_bbox_head(128, self.num_anchors)\n",
    "\n",
    "        self.cls_head2 = self.create_cls_head(\n",
    "            128, self.n_cls, self.num_anchors)\n",
    "        self.bbox_head2 = self.create_bbox_head(128, self.num_anchors)\n",
    "\n",
    "        self.cls_head3 = self.create_cls_head(\n",
    "            128, self.n_cls, self.num_anchors)\n",
    "        self.bbox_head3 = self.create_bbox_head(128, self.num_anchors)\n",
    "\n",
    "    @staticmethod\n",
    "    def down_sample(in_channels, out_channels):\n",
    "\n",
    "        return nn.Sequential(\n",
    "            nn.Conv2d(in_channels, out_channels, 3, stride=1, padding=1),\n",
    "            nn.BatchNorm2d(out_channels),\n",
    "            nn.ReLU(),\n",
    "            nn.Conv2d(out_channels, out_channels, 3, stride=1, padding=1),\n",
    "            nn.BatchNorm2d(out_channels),\n",
    "            nn.ReLU(),\n",
    "            nn.MaxPool2d(2, 2)\n",
    "        )\n",
    "\n",
    "    @staticmethod\n",
    "    def create_cls_head(n_in, n_cls, num_anchors):\n",
    "        return nn.Sequential(\n",
    "            nn.Conv2d(n_in, 92, 3, padding=1),\n",
    "            nn.BatchNorm2d(92),\n",
    "            nn.ReLU(),\n",
    "            nn.Conv2d(92, 64, 3, stride=1, padding=1),\n",
    "            nn.BatchNorm2d(64),\n",
    "            nn.ReLU(),\n",
    "            nn.Conv2d(64, num_anchors * n_cls, 3, stride=1, padding=1),\n",
    "        )\n",
    "\n",
    "    @staticmethod\n",
    "    def create_bbox_head(n_in, num_anchors):\n",
    "        return nn.Sequential(\n",
    "            nn.Conv2d(n_in, 92, 3, padding=1),\n",
    "            nn.BatchNorm2d(92),\n",
    "            nn.ReLU(),\n",
    "            nn.Conv2d(92, 64, 3, stride=1, padding=1),\n",
    "            nn.BatchNorm2d(64),\n",
    "            nn.ReLU(),\n",
    "            nn.Conv2d(64,  num_anchors * 4, 3, stride=1, padding=1))\n",
    "\n",
    "    def forward(self, x):\n",
    "\n",
    "        # x -> [BS, 3, 300, 300]\n",
    "\n",
    "        step1 = self.step1(x)\n",
    "        step2 = self.step2(step1)\n",
    "        step3 = self.step3(step2)\n",
    "        step4 = self.step4(step3)\n",
    "        step5 = self.step5(step4)\n",
    "\n",
    "        cls1 = self.cls_head1(step3)\n",
    "        bbox1 = self.bbox_head1(step3)\n",
    "\n",
    "        cls2 = self.cls_head2(step4)\n",
    "        bbox2 = self.bbox_head2(step4)\n",
    "\n",
    "        cls3 = self.cls_head3(step5)\n",
    "        bbox3 = self.bbox_head3(step5)\n",
    "\n",
    "        cls1 = cls1.permute(0, 2, 3, 1).contiguous().view(\n",
    "            x.size(0), -1, self.n_cls)\n",
    "        cls2 = cls2.permute(0, 2, 3, 1).contiguous().view(\n",
    "            x.size(0), -1, self.n_cls)\n",
    "        cls3 = cls3.permute(0, 2, 3, 1).contiguous().view(\n",
    "            x.size(0), -1, self.n_cls)\n",
    "\n",
    "        bbox1 = bbox1.permute(0, 2, 3, 1).contiguous().view(x.size(0), -1, 4)\n",
    "        bbox2 = bbox2.permute(0, 2, 3, 1).contiguous().view(x.size(0), -1, 4)\n",
    "        bbox3 = bbox3.permute(0, 2, 3, 1).k().view(x.size(0), -1, 4)\n",
    "\n",
    "        cls_pred = torch.cat([cls1, cls2, cls3], dim=1)\n",
    "        bbox_pred = torch.cat([bbox1, bbox2, bbox3], dim=1)\n",
    "\n",
    "        return bbox_pred, cls_pred"
   ]
  },
  {
   "cell_type": "code",
   "execution_count": null,
   "metadata": {
    "lines_to_next_cell": 2
   },
   "outputs": [
    {
     "data": {
      "image/png": "[encoded data removed]",
      "text/plain": [
       "<Figure size 864x576 with 1 Axes>"
      ]
     },
     "metadata": {
      "needs_background": "light"
     },
     "output_type": "display_data"
    },
    {
     "name": "stdout",
     "output_type": "stream",
     "text": [
      "loss:\n",
      "training   (min:   56.372, max: 26488.379, cur:  141.540)\n"
     ]
    }
   ],
   "source": [
    "\n",
    "de = DataEncoder(anchor_areas=[50*50, 100*100, 200*200],\n",
    "                 aspect_ratios=[0.5, 1, 2],\n",
    "                 scale_ratios=[1.0, 1.25, 1.5],\n",
    "                 fm_sizes=torch.tensor([(37, 37),\n",
    "                                        (18, 18),\n",
    "                                        (9, 9)]).float(),\n",
    "\n",
    "                 min_iou=0.5\n",
    "                 )\n",
    "\n",
    "coco = COCO(annotation_file='generate-shapes/coco_shapes_50_100/50_100.json')\n",
    "coco_ds = CoCoDS(coco, 'generate-shapes/coco_shapes_50_100/images', de)\n",
    "coco_dl = DataLoader(coco_ds, batch_size=4, sampler=RandomSampler(coco_ds))\n",
    "\n",
    "model = SimpleSSD(n_cls=3)\n",
    "model = model.to(device)\n",
    "criterion = FocalLoss(num_classes=3)\n",
    "plot_losses = PlotLosses()\n",
    "optimizer = torch.optim.Adam(model.parameters(), lr=0.001)\n",
    "\n",
    "collect = []\n",
    "for epoch in range(100):\n",
    "    for i, b in enumerate(coco_dl):\n",
    "        logs = {}\n",
    "        optimizer.zero_grad()\n",
    "        image, bounding_boxes, labels = b\n",
    "        image = image.to(device)\n",
    "        bounding_boxes = bounding_boxes.to(device)\n",
    "        labels = labels.to(device)\n",
    "        loc_pred, cls_pred = model(image)\n",
    "        total_loss = criterion(loc_pred, bounding_boxes, cls_pred, labels)\n",
    "        total_loss.backward()\n",
    "        optimizer.step()\n",
    "        collect.append([total_loss.detach().cpu().numpy()])\n",
    "        logs['loss'] = total_loss.item()\n",
    "        if i % 1 == 0:\n",
    "            plot_losses.update(logs)\n",
    "            plot_losses.draw()"
   ]
  },
  {
   "cell_type": "code",
   "execution_count": 38,
   "metadata": {},
   "outputs": [],
   "source": [
    "it = iter(coco_dl)"
   ]
  },
  {
   "cell_type": "code",
   "execution_count": 42,
   "metadata": {},
   "outputs": [
    {
     "data": {
      "image/png": "[encoded data removed]",
      "text/plain": [
       "<Figure size 1080x720 with 1 Axes>"
      ]
     },
     "metadata": {
      "needs_background": "light"
     },
     "output_type": "display_data"
    }
   ],
   "source": [
    "image, _, _ = next(it)\n",
    "model = model.cuda()\n",
    "model.eval()\n",
    "loc_pred, cls_pred = model(image.cuda())\n",
    "\n",
    "i = 1\n",
    "bbspred, labelpred, score = de.decode(\n",
    "    loc_pred[i].float().cpu(),\n",
    "    cls_pred[i].float().cpu(),\n",
    "    torch.Tensor([300, 300]).float().cpu(),\n",
    "    cls_thresh=0.2, nms_thresh=0.2\n",
    ")\n",
    "imagepil = ToPILImage()(image[1])\n",
    "\n",
    "d = {0: 'circle', 1: 'triangle',  2: 'rectanglee'}\n",
    "B = bbspred.detach().cpu().numpy()\n",
    "L = labelpred.detach().cpu().numpy()\n",
    "S = score.detach().cpu().numpy()\n",
    "\n",
    "L = [d[i] for i in L]\n",
    "f = vis_image(imagepil, bbspred.detach().numpy(), label_names=L, scores=S)"
   ]
  },
  {
   "cell_type": "code",
   "execution_count": null,
   "metadata": {},
   "outputs": [],
   "source": []
  }
 ],
 "metadata": {
  "kernelspec": {
   "display_name": "Python [conda env:dl]",
   "language": "python",
   "name": "conda-env-dl-py"
  },
  "language_info": {
   "codemirror_mode": {
    "name": "ipython",
    "version": 3
   },
   "file_extension": ".py",
   "mimetype": "text/x-python",
   "name": "python",
   "nbconvert_exporter": "python",
   "pygments_lexer": "ipython3",
   "version": "3.7.4"
  }
 },
 "nbformat": 4,
 "nbformat_minor": 2
}
