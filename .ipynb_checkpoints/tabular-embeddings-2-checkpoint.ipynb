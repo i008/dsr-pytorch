{
 "cells": [
  {
   "cell_type": "markdown",
   "metadata": {},
   "source": [
    "# TABULAR EMBEDDINGS"
   ]
  },
  {
   "cell_type": "code",
   "execution_count": 1,
   "metadata": {
    "execution_event_id": "7fc797cb-7b3d-4d3f-8641-c2d63afc67f6",
    "last_executed_text": "\nimport pandas as pd\nimport scikitplot as skplt\nimport torch\nfrom ignite.engine import (\n    Events,\n    create_supervised_evaluator,\n    create_supervised_trainer,\n)\nfrom ignite.metrics import Accuracy, Loss\nfrom sklearn.ensemble import RandomForestClassifier\nfrom sklearn.model_selection import train_test_split\nfrom sklearn.preprocessing import (\n    LabelBinarizer,\n    LabelEncoder,\n    MinMaxScaler,\n    OneHotEncoder,\n    StandardScaler,\n)\nfrom torch import nn\nfrom torch.nn import BCEWithLogitsLoss\nfrom torch.optim import Adam\nfrom torch.utils.data import DataLoader, Dataset",
    "persistent_id": "b2f151e4-d7b8-45d4-9005-0ea131ea111e"
   },
   "outputs": [],
   "source": [
    "\n",
    "import pandas as pd\n",
    "import scikitplot as skplt\n",
    "import torch\n",
    "from ignite.engine import (\n",
    "    Events,\n",
    "    create_supervised_evaluator,\n",
    "    create_supervised_trainer,\n",
    ")\n",
    "from ignite.metrics import Accuracy, Loss\n",
    "from sklearn.ensemble import RandomForestClassifier\n",
    "from sklearn.model_selection import train_test_split\n",
    "from sklearn.preprocessing import (\n",
    "    LabelBinarizer,\n",
    "    LabelEncoder,\n",
    "    MinMaxScaler,\n",
    "    OneHotEncoder,\n",
    "    StandardScaler,\n",
    ")\n",
    "from torch import nn\n",
    "from torch.nn import BCEWithLogitsLoss\n",
    "from torch.optim import Adam\n",
    "from torch.utils.data import DataLoader, Dataset"
   ]
  },
  {
   "cell_type": "code",
   "execution_count": 2,
   "metadata": {
    "execution_event_id": "805da5b1-beeb-4c96-8e8c-1359f53afc14",
    "last_executed_text": "def process_train(df, cat_columns, num_columns, target):\n    \n    encoders = {c: LabelEncoder() for c in cat_columns}\n    scalers = {c: MinMaxScaler() for c in num_columns}\n    \n    df = df[target + cat_columns + num_columns]\n\n    df_train, df_val = train_test_split(df, train_size=0.8)\n\n    for cat_column in cat_columns:\n        df[cat_column] = encoders[cat_column].fit_transform((df[cat_column]))\n        \n    for cat_column in cat_columns:\n        df_train[cat_column] = encoders[cat_column].transform((df_train[cat_column]))\n        \n    for cat_column in cat_columns:\n        df_val[cat_column] = encoders[cat_column].transform((df_val[cat_column]))     \n        \n    for num_column in num_columns:\n        df_train[num_column] = scalers[num_column].fit_transform(df_train[num_column].values.reshape(-1,1))\\\n    \n    for num_column in num_columns:\n        df_val[num_column] = scalers[num_column].transform(df_val[num_column].values.reshape(-1,1))\n        \n    target_binarizer = LabelBinarizer()\n    df_train[target] = target_binarizer.fit_transform(df_train[target])\n    df_val[target] = target_binarizer.transform(df_val[target])\n    embedding_dict = {cat_column: df[cat_column].unique().shape[0] for cat_column in cat_columns}\n    \n    return df_train, df_val, embedding_dict, encoders, scalers",
    "persistent_id": "aa4a849b-e251-4b7f-bf2e-71621850bf03"
   },
   "outputs": [],
   "source": [
    "def process_train(df, cat_columns, num_columns, target):\n",
    "    \n",
    "    encoders = {c: LabelEncoder() for c in cat_columns}\n",
    "    scalers = {c: MinMaxScaler() for c in num_columns}\n",
    "    \n",
    "    df = df[target + cat_columns + num_columns]\n",
    "\n",
    "    df_train, df_val = train_test_split(df, train_size=0.8)\n",
    "\n",
    "    for cat_column in cat_columns:\n",
    "        df[cat_column] = encoders[cat_column].fit_transform((df[cat_column]))\n",
    "        \n",
    "    for cat_column in cat_columns:\n",
    "        df_train[cat_column] = encoders[cat_column].transform((df_train[cat_column]))\n",
    "        \n",
    "    for cat_column in cat_columns:\n",
    "        df_val[cat_column] = encoders[cat_column].transform((df_val[cat_column]))     \n",
    "        \n",
    "    for num_column in num_columns:\n",
    "        df_train[num_column] = scalers[num_column].fit_transform(df_train[num_column].values.reshape(-1,1))\\\n",
    "    \n",
    "    for num_column in num_columns:\n",
    "        df_val[num_column] = scalers[num_column].transform(df_val[num_column].values.reshape(-1,1))\n",
    "        \n",
    "    target_binarizer = LabelBinarizer()\n",
    "    df_train[target] = target_binarizer.fit_transform(df_train[target])\n",
    "    df_val[target] = target_binarizer.transform(df_val[target])\n",
    "    embedding_dict = {cat_column: df[cat_column].unique().shape[0] for cat_column in cat_columns}\n",
    "    \n",
    "    return df_train, df_val, embedding_dict, encoders, scalers"
   ]
  },
  {
   "cell_type": "code",
   "execution_count": 3,
   "metadata": {
    "execution_event_id": "2aa8f9b0-1218-4baf-9dc4-28facfa6c391",
    "last_executed_text": "class TabEmbedModel(nn.Module):\n    def __init__(self,out_features=1, n_num_column=1, embedding_dict={}):\n        super(TabEmbedModel, self).__init__()\n    \n        self.out_features = out_features\n        embdding_output_sizes = sum([v // 2 for  v in embedding_dict.values()])\n\n        total_dens_layers = n_num_column + embdding_output_sizes\n        \n        for embed, value in embedding_dict.items():\n            setattr(self, embed, nn.Embedding(value, value // 2))\n        \n        self.layers = nn.Sequential(\n            nn.Linear(total_dens_layers, 100),\n            nn.ReLU(inplace=True),\n            nn.BatchNorm1d(100),\n            nn.Linear(100, 100),\n            nn.ReLU(inplace=True),\n            nn.BatchNorm1d(100,100),\n            nn.Linear(100, self.out_features)\n        )\n        \n      \n    def forward(self, X):  \n        num_x, cat_x = X\n        embeddings_collect = []\n\n        for i, c in enumerate(embedding_dict):\n            embed = getattr(self, c)(cat_x[:, i])\n            embeddings_collect.append(embed)\n            \n        embeddings_cat = torch.cat(embeddings_collect, dim=1).float()\n        X = torch.cat([num_x, embeddings_cat], dim=1)\n        ypred = self.layers(X)\n        \n        return ypred.float()",
    "persistent_id": "e419a40a-3601-4855-a715-c6bf86fa4261"
   },
   "outputs": [],
   "source": [
    "class TabEmbedModel(nn.Module):\n",
    "    def __init__(self,out_features=1, n_num_column=1, embedding_dict={}):\n",
    "        super(TabEmbedModel, self).__init__()\n",
    "    \n",
    "        self.out_features = out_features\n",
    "        embdding_output_sizes = sum([v // 2 for  v in embedding_dict.values()])\n",
    "\n",
    "        total_dens_layers = n_num_column + embdding_output_sizes\n",
    "        \n",
    "        for embed, value in embedding_dict.items():\n",
    "            setattr(self, embed, nn.Embedding(value, value // 2))\n",
    "        \n",
    "        self.layers = nn.Sequential(\n",
    "            nn.Linear(total_dens_layers, 100),\n",
    "            nn.ReLU(inplace=True),\n",
    "            nn.BatchNorm1d(100),\n",
    "            nn.Linear(100, 100),\n",
    "            nn.ReLU(inplace=True),\n",
    "            nn.BatchNorm1d(100,100),\n",
    "            nn.Linear(100, self.out_features)\n",
    "        )\n",
    "        \n",
    "      \n",
    "    def forward(self, X):  \n",
    "        num_x, cat_x = X\n",
    "        embeddings_collect = []\n",
    "\n",
    "        for i, c in enumerate(embedding_dict):\n",
    "            embed = getattr(self, c)(cat_x[:, i])\n",
    "            embeddings_collect.append(embed)\n",
    "            \n",
    "        embeddings_cat = torch.cat(embeddings_collect, dim=1).float()\n",
    "        X = torch.cat([num_x, embeddings_cat], dim=1)\n",
    "        ypred = self.layers(X)\n",
    "        \n",
    "        return ypred.float()"
   ]
  },
  {
   "cell_type": "markdown",
   "metadata": {},
   "source": [
    "# Creating the Dataset Class"
   ]
  },
  {
   "cell_type": "code",
   "execution_count": 4,
   "metadata": {
    "execution_event_id": "5c32ec55-3a4f-4095-a502-eb6b3bab1dac",
    "last_executed_text": "class TabDataset(Dataset):\n    def __init__(self, df, cat_columns, num_columns, target_column):\n        self.df = df\n        self.cat_columns = cat_columns\n        self.num_columns = num_columns\n        self.target_column = target_column\n        \n    def __len__(self):\n        return len(self.df)\n\n    def __getitem__(self, ix):\n        \n        row = self.df.iloc[ix]\n        \n\n        cat_values = torch.from_numpy(row[self.cat_columns].values)\n        num_values = torch.from_numpy(row[self.num_columns].values.astype(float))\n        target = torch.from_numpy(row[[self.target_column]].values)\n        \n        return num_values, cat_values, target \n      \n    def collate_func(self, batch):\n        num = torch.stack([n[0] for n in batch], dim=0).float()\n        cat = torch.stack([n[1] for n in batch], dim=0).long()\n        target = torch.stack([n[2] for n in batch], dim=0)\n        \n        return (num, cat), target.float()",
    "lines_to_next_cell": 2,
    "persistent_id": "3f1d5625-5497-4434-9d8a-84b06f7f3c44"
   },
   "outputs": [],
   "source": [
    "class TabDataset(Dataset):\n",
    "    def __init__(self, df, cat_columns, num_columns, target_column):\n",
    "        self.df = df\n",
    "        self.cat_columns = cat_columns\n",
    "        self.num_columns = num_columns\n",
    "        self.target_column = target_column\n",
    "        \n",
    "    def __len__(self):\n",
    "        return len(self.df)\n",
    "\n",
    "    def __getitem__(self, ix):\n",
    "        \n",
    "        row = self.df.iloc[ix]\n",
    "        \n",
    "\n",
    "        cat_values = torch.from_numpy(row[self.cat_columns].values)\n",
    "        num_values = torch.from_numpy(row[self.num_columns].values.astype(float))\n",
    "        target = torch.from_numpy(row[[self.target_column]].values)\n",
    "        \n",
    "        return num_values, cat_values, target \n",
    "      \n",
    "    def collate_func(self, batch):\n",
    "        num = torch.stack([n[0] for n in batch], dim=0).float()\n",
    "        cat = torch.stack([n[1] for n in batch], dim=0).long()\n",
    "        target = torch.stack([n[2] for n in batch], dim=0)\n",
    "        \n",
    "        return (num, cat), target.float()"
   ]
  },
  {
   "cell_type": "code",
   "execution_count": 5,
   "metadata": {
    "execution_event_id": "aa87fb45-9059-4f84-9bf5-6f52198f3e0e",
    "last_executed_text": "BATCH_SIZE = 256\nLR = 2e-3\n\ndf = pd.read_csv('data/adult.csv', dtype={'age':int, \n                                          'education':'category',\n                                          'native.country': 'category',\n                                          'income':object,\n                                          'capital.loss': float,\n                                         })\n# \ndf = df.rename(columns={c: c.replace('.', '-') for c in df.columns if '.' in c})\ntarget = ['income']\ncat_columns = ['education',\n               'native-country',\n               'marital-status',\n               'occupation',\n               'race',\n               'gender',\n               'capital-gain',\n               'workclass',\n               'relationship',\n               'educational-num',\n              ]\n\nnum_columns = ['capital-loss',\n               'age',\n               'fnlwgt',\n               'hours-per-week',\n              ]\n\n\ndf_train, df_val, embedding_dict, encoders, scalers = process_train(df, cat_columns, num_columns, target)\n\n\nmodel = TabEmbedModel(1, n_num_column=len(num_columns), embedding_dict=embedding_dict)\nmodel = model.cuda()\n\nds = TabDataset(df_train, cat_columns, num_columns, 'income')\ndsval = TabDataset(df_val, cat_columns, num_columns, 'income')\n\ndltrain = DataLoader(ds, batch_size=BATCH_SIZE, \n                     collate_fn=ds.collate_func, \n                     shuffle=True, drop_last=False)\n\ndlval = DataLoader(dsval, batch_size=BATCH_SIZE, \n                   collate_fn=ds.collate_func, \n                   shuffle=True, drop_last=False)\n\n\noptimizer = Adam(model.parameters(), lr=LR)\nloss = BCEWithLogitsLoss()\ntrainer = create_supervised_trainer(model, optimizer, loss, device='cuda')\n",
    "persistent_id": "114ab1f0-b31c-4dc4-a3eb-363c6b4c44e5",
    "scrolled": true
   },
   "outputs": [
    {
     "name": "stderr",
     "output_type": "stream",
     "text": [
      "/home/i008/anaconda3/envs/dl/lib/python3.7/site-packages/ipykernel_launcher.py:14: SettingWithCopyWarning: \n",
      "A value is trying to be set on a copy of a slice from a DataFrame.\n",
      "Try using .loc[row_indexer,col_indexer] = value instead\n",
      "\n",
      "See the caveats in the documentation: https://pandas.pydata.org/pandas-docs/stable/user_guide/indexing.html#returning-a-view-versus-a-copy\n",
      "  \n",
      "/home/i008/anaconda3/envs/dl/lib/python3.7/site-packages/ipykernel_launcher.py:17: SettingWithCopyWarning: \n",
      "A value is trying to be set on a copy of a slice from a DataFrame.\n",
      "Try using .loc[row_indexer,col_indexer] = value instead\n",
      "\n",
      "See the caveats in the documentation: https://pandas.pydata.org/pandas-docs/stable/user_guide/indexing.html#returning-a-view-versus-a-copy\n",
      "/home/i008/anaconda3/envs/dl/lib/python3.7/site-packages/ipykernel_launcher.py:20: SettingWithCopyWarning: \n",
      "A value is trying to be set on a copy of a slice from a DataFrame.\n",
      "Try using .loc[row_indexer,col_indexer] = value instead\n",
      "\n",
      "See the caveats in the documentation: https://pandas.pydata.org/pandas-docs/stable/user_guide/indexing.html#returning-a-view-versus-a-copy\n",
      "/home/i008/anaconda3/envs/dl/lib/python3.7/site-packages/ipykernel_launcher.py:20: SettingWithCopyWarning: \n",
      "A value is trying to be set on a copy of a slice from a DataFrame.\n",
      "Try using .loc[row_indexer,col_indexer] = value instead\n",
      "\n",
      "See the caveats in the documentation: https://pandas.pydata.org/pandas-docs/stable/user_guide/indexing.html#returning-a-view-versus-a-copy\n",
      "/home/i008/anaconda3/envs/dl/lib/python3.7/site-packages/ipykernel_launcher.py:20: SettingWithCopyWarning: \n",
      "A value is trying to be set on a copy of a slice from a DataFrame.\n",
      "Try using .loc[row_indexer,col_indexer] = value instead\n",
      "\n",
      "See the caveats in the documentation: https://pandas.pydata.org/pandas-docs/stable/user_guide/indexing.html#returning-a-view-versus-a-copy\n",
      "/home/i008/anaconda3/envs/dl/lib/python3.7/site-packages/ipykernel_launcher.py:20: SettingWithCopyWarning: \n",
      "A value is trying to be set on a copy of a slice from a DataFrame.\n",
      "Try using .loc[row_indexer,col_indexer] = value instead\n",
      "\n",
      "See the caveats in the documentation: https://pandas.pydata.org/pandas-docs/stable/user_guide/indexing.html#returning-a-view-versus-a-copy\n",
      "/home/i008/anaconda3/envs/dl/lib/python3.7/site-packages/ipykernel_launcher.py:23: SettingWithCopyWarning: \n",
      "A value is trying to be set on a copy of a slice from a DataFrame.\n",
      "Try using .loc[row_indexer,col_indexer] = value instead\n",
      "\n",
      "See the caveats in the documentation: https://pandas.pydata.org/pandas-docs/stable/user_guide/indexing.html#returning-a-view-versus-a-copy\n",
      "/home/i008/anaconda3/envs/dl/lib/python3.7/site-packages/ipykernel_launcher.py:23: SettingWithCopyWarning: \n",
      "A value is trying to be set on a copy of a slice from a DataFrame.\n",
      "Try using .loc[row_indexer,col_indexer] = value instead\n",
      "\n",
      "See the caveats in the documentation: https://pandas.pydata.org/pandas-docs/stable/user_guide/indexing.html#returning-a-view-versus-a-copy\n",
      "/home/i008/anaconda3/envs/dl/lib/python3.7/site-packages/ipykernel_launcher.py:23: SettingWithCopyWarning: \n",
      "A value is trying to be set on a copy of a slice from a DataFrame.\n",
      "Try using .loc[row_indexer,col_indexer] = value instead\n",
      "\n",
      "See the caveats in the documentation: https://pandas.pydata.org/pandas-docs/stable/user_guide/indexing.html#returning-a-view-versus-a-copy\n",
      "/home/i008/anaconda3/envs/dl/lib/python3.7/site-packages/ipykernel_launcher.py:23: SettingWithCopyWarning: \n",
      "A value is trying to be set on a copy of a slice from a DataFrame.\n",
      "Try using .loc[row_indexer,col_indexer] = value instead\n",
      "\n",
      "See the caveats in the documentation: https://pandas.pydata.org/pandas-docs/stable/user_guide/indexing.html#returning-a-view-versus-a-copy\n",
      "/home/i008/anaconda3/envs/dl/lib/python3.7/site-packages/ipykernel_launcher.py:26: SettingWithCopyWarning: \n",
      "A value is trying to be set on a copy of a slice from a DataFrame.\n",
      "Try using .loc[row_indexer,col_indexer] = value instead\n",
      "\n",
      "See the caveats in the documentation: https://pandas.pydata.org/pandas-docs/stable/user_guide/indexing.html#returning-a-view-versus-a-copy\n",
      "/home/i008/anaconda3/envs/dl/lib/python3.7/site-packages/pandas/core/indexing.py:966: SettingWithCopyWarning: \n",
      "A value is trying to be set on a copy of a slice from a DataFrame.\n",
      "Try using .loc[row_indexer,col_indexer] = value instead\n",
      "\n",
      "See the caveats in the documentation: https://pandas.pydata.org/pandas-docs/stable/user_guide/indexing.html#returning-a-view-versus-a-copy\n",
      "  self.obj[item] = s\n",
      "/home/i008/anaconda3/envs/dl/lib/python3.7/site-packages/ipykernel_launcher.py:27: SettingWithCopyWarning: \n",
      "A value is trying to be set on a copy of a slice from a DataFrame.\n",
      "Try using .loc[row_indexer,col_indexer] = value instead\n",
      "\n",
      "See the caveats in the documentation: https://pandas.pydata.org/pandas-docs/stable/user_guide/indexing.html#returning-a-view-versus-a-copy\n",
      "/home/i008/anaconda3/envs/dl/lib/python3.7/site-packages/pandas/core/indexing.py:966: SettingWithCopyWarning: \n",
      "A value is trying to be set on a copy of a slice from a DataFrame.\n",
      "Try using .loc[row_indexer,col_indexer] = value instead\n",
      "\n",
      "See the caveats in the documentation: https://pandas.pydata.org/pandas-docs/stable/user_guide/indexing.html#returning-a-view-versus-a-copy\n",
      "  self.obj[item] = s\n"
     ]
    }
   ],
   "source": [
    "BATCH_SIZE = 256\n",
    "LR = 2e-3\n",
    "\n",
    "df = pd.read_csv('data/adult.csv', dtype={'age':int, \n",
    "                                          'education':'category',\n",
    "                                          'native.country': 'category',\n",
    "                                          'income':object,\n",
    "                                          'capital.loss': float,\n",
    "                                         })\n",
    "# \n",
    "df = df.rename(columns={c: c.replace('.', '-') for c in df.columns if '.' in c})\n",
    "target = ['income']\n",
    "cat_columns = ['education',\n",
    "               'native-country',\n",
    "               'marital-status',\n",
    "               'occupation',\n",
    "               'race',\n",
    "               'gender',\n",
    "               'capital-gain',\n",
    "               'workclass',\n",
    "               'relationship',\n",
    "               'educational-num',\n",
    "              ]\n",
    "\n",
    "num_columns = ['capital-loss',\n",
    "               'age',\n",
    "               'fnlwgt',\n",
    "               'hours-per-week',\n",
    "              ]\n",
    "\n",
    "\n",
    "df_train, df_val, embedding_dict, encoders, scalers = process_train(df, cat_columns, num_columns, target)\n",
    "\n",
    "\n",
    "model = TabEmbedModel(1, n_num_column=len(num_columns), embedding_dict=embedding_dict)\n",
    "model = model.cuda()\n",
    "\n",
    "ds = TabDataset(df_train, cat_columns, num_columns, 'income')\n",
    "dsval = TabDataset(df_val, cat_columns, num_columns, 'income')\n",
    "\n",
    "dltrain = DataLoader(ds, batch_size=BATCH_SIZE, \n",
    "                     collate_fn=ds.collate_func, \n",
    "                     shuffle=True, drop_last=False)\n",
    "\n",
    "dlval = DataLoader(dsval, batch_size=BATCH_SIZE, \n",
    "                   collate_fn=ds.collate_func, \n",
    "                   shuffle=True, drop_last=False)\n",
    "\n",
    "\n",
    "optimizer = Adam(model.parameters(), lr=LR)\n",
    "loss = BCEWithLogitsLoss()\n",
    "trainer = create_supervised_trainer(model, optimizer, loss, device='cuda')\n"
   ]
  },
  {
   "cell_type": "code",
   "execution_count": 6,
   "metadata": {
    "execution_event_id": "a5dcb422-a2a7-402e-b338-75c91299ce19",
    "last_executed_text": "# this shows us how many categories are there for each of the categorical-variables.\n# its important as we need to know how big our embedding matrix has to be.\nembedding_dict",
    "persistent_id": "61f35282-796d-4d54-a65d-fc2b88604786"
   },
   "outputs": [
    {
     "data": {
      "text/plain": [
       "{'education': 16,\n",
       " 'native-country': 42,\n",
       " 'marital-status': 7,\n",
       " 'occupation': 15,\n",
       " 'race': 5,\n",
       " 'gender': 2,\n",
       " 'capital-gain': 123,\n",
       " 'workclass': 9,\n",
       " 'relationship': 6,\n",
       " 'educational-num': 16}"
      ]
     },
     "execution_count": 6,
     "metadata": {},
     "output_type": "execute_result"
    }
   ],
   "source": [
    "# this shows us how many categories are there for each of the categorical-variables.\n",
    "# its important as we need to know how big our embedding matrix has to be.\n",
    "embedding_dict"
   ]
  },
  {
   "cell_type": "code",
   "execution_count": 7,
   "metadata": {
    "execution_event_id": "9e20cd2d-87cd-4bd1-855f-38e9663f3ff1",
    "last_executed_text": "\ndef thresholded_output_transform(output):\n    y_pred, y = output\n    y_pred = torch.round(y_pred)\n    return y_pred.int(), y.int()\n\nacc = Accuracy(thresholded_output_transform)\n\nevaluator = create_supervised_evaluator(model,\n                                        device='cuda',\n                                        metrics={\n                                            'accuracy': acc,\n                                            'nll': Loss(loss)\n                                            })\n\nmodel.cuda()\n\n@trainer.on(Events.ITERATION_COMPLETED)\ndef log_trainig_loss(trainer):\n    print(\"Epoch[{}] Loss: {:.2f}\".format(trainer.state.epoch, trainer.state.output))\n\n    \n# @trainer.on(Events.EPOCH_COMPLETED)\n# def log_validation_results(engine):\n#     evaluator.run(dlval)\n#     metrics = evaluator.state.metrics\n#     print(\"Validation Results - Epoch: {}  Avg accuracy: {:.2f} Avg loss: {:.2f}\"\n#           .format(engine.state.epoch, metrics['accuracy'], metrics['nll']))",
    "persistent_id": "7416fa10-7acf-44ee-bd67-e0ef264f85e2"
   },
   "outputs": [],
   "source": [
    "\n",
    "def thresholded_output_transform(output):\n",
    "    y_pred, y = output\n",
    "    y_pred = torch.round(y_pred)\n",
    "    return y_pred.int(), y.int()\n",
    "\n",
    "acc = Accuracy(thresholded_output_transform)\n",
    "\n",
    "evaluator = create_supervised_evaluator(model,\n",
    "                                        device='cuda',\n",
    "                                        metrics={\n",
    "                                            'accuracy': acc,\n",
    "                                            'nll': Loss(loss)\n",
    "                                            })\n",
    "\n",
    "model.cuda()\n",
    "\n",
    "@trainer.on(Events.ITERATION_COMPLETED)\n",
    "def log_trainig_loss(trainer):\n",
    "    print(\"Epoch[{}] Loss: {:.2f}\".format(trainer.state.epoch, trainer.state.output))\n",
    "\n",
    "    \n",
    "# @trainer.on(Events.EPOCH_COMPLETED)\n",
    "# def log_validation_results(engine):\n",
    "#     evaluator.run(dlval)\n",
    "#     metrics = evaluator.state.metrics\n",
    "#     print(\"Validation Results - Epoch: {}  Avg accuracy: {:.2f} Avg loss: {:.2f}\"\n",
    "#           .format(engine.state.epoch, metrics['accuracy'], metrics['nll']))"
   ]
  },
  {
   "cell_type": "code",
   "execution_count": 8,
   "metadata": {
    "execution_event_id": "57693aaa-9d04-463c-baec-3dc2dc33b37e",
    "last_executed_text": "trainer.run(dltrain, max_epochs=1)\n\ncollect = []\ny_true = []\nfor b in dlval:\n    X, y = b \n    model.eval()\n    r = model.cpu()(X)\n    collect.append(r)\n    y_true.append(y)",
    "lines_to_next_cell": 2,
    "persistent_id": "f4a2b58b-9304-4bb1-bc83-bdc0106ddc77",
    "scrolled": true
   },
   "outputs": [
    {
     "name": "stdout",
     "output_type": "stream",
     "text": [
      "Epoch[1] Loss: 0.67\n",
      "Epoch[1] Loss: 0.67\n",
      "Epoch[1] Loss: 0.66\n",
      "Epoch[1] Loss: 0.65\n",
      "Epoch[1] Loss: 0.65\n",
      "Epoch[1] Loss: 0.63\n",
      "Epoch[1] Loss: 0.63\n",
      "Epoch[1] Loss: 0.61\n",
      "Epoch[1] Loss: 0.61\n",
      "Epoch[1] Loss: 0.61\n",
      "Epoch[1] Loss: 0.58\n",
      "Epoch[1] Loss: 0.58\n",
      "Epoch[1] Loss: 0.57\n",
      "Epoch[1] Loss: 0.54\n",
      "Epoch[1] Loss: 0.57\n",
      "Epoch[1] Loss: 0.56\n",
      "Epoch[1] Loss: 0.52\n",
      "Epoch[1] Loss: 0.52\n",
      "Epoch[1] Loss: 0.50\n",
      "Epoch[1] Loss: 0.51\n",
      "Epoch[1] Loss: 0.50\n",
      "Epoch[1] Loss: 0.48\n",
      "Epoch[1] Loss: 0.47\n",
      "Epoch[1] Loss: 0.49\n",
      "Epoch[1] Loss: 0.46\n",
      "Epoch[1] Loss: 0.42\n",
      "Epoch[1] Loss: 0.41\n",
      "Epoch[1] Loss: 0.42\n",
      "Epoch[1] Loss: 0.42\n",
      "Epoch[1] Loss: 0.41\n",
      "Epoch[1] Loss: 0.39\n",
      "Epoch[1] Loss: 0.42\n",
      "Epoch[1] Loss: 0.38\n",
      "Epoch[1] Loss: 0.41\n",
      "Epoch[1] Loss: 0.42\n",
      "Epoch[1] Loss: 0.38\n",
      "Epoch[1] Loss: 0.42\n",
      "Epoch[1] Loss: 0.38\n",
      "Epoch[1] Loss: 0.36\n",
      "Epoch[1] Loss: 0.36\n",
      "Epoch[1] Loss: 0.36\n",
      "Epoch[1] Loss: 0.36\n",
      "Epoch[1] Loss: 0.40\n",
      "Epoch[1] Loss: 0.34\n",
      "Epoch[1] Loss: 0.32\n",
      "Epoch[1] Loss: 0.31\n",
      "Epoch[1] Loss: 0.38\n",
      "Epoch[1] Loss: 0.33\n",
      "Epoch[1] Loss: 0.30\n",
      "Epoch[1] Loss: 0.40\n",
      "Epoch[1] Loss: 0.33\n",
      "Epoch[1] Loss: 0.32\n",
      "Epoch[1] Loss: 0.34\n",
      "Epoch[1] Loss: 0.29\n",
      "Epoch[1] Loss: 0.35\n",
      "Epoch[1] Loss: 0.29\n",
      "Epoch[1] Loss: 0.33\n",
      "Epoch[1] Loss: 0.34\n",
      "Epoch[1] Loss: 0.33\n",
      "Epoch[1] Loss: 0.35\n",
      "Epoch[1] Loss: 0.33\n",
      "Epoch[1] Loss: 0.33\n",
      "Epoch[1] Loss: 0.34\n",
      "Epoch[1] Loss: 0.34\n",
      "Epoch[1] Loss: 0.35\n",
      "Epoch[1] Loss: 0.37\n",
      "Epoch[1] Loss: 0.27\n",
      "Epoch[1] Loss: 0.37\n",
      "Epoch[1] Loss: 0.39\n",
      "Epoch[1] Loss: 0.34\n",
      "Epoch[1] Loss: 0.29\n",
      "Epoch[1] Loss: 0.33\n",
      "Epoch[1] Loss: 0.31\n",
      "Epoch[1] Loss: 0.30\n",
      "Epoch[1] Loss: 0.30\n",
      "Epoch[1] Loss: 0.30\n",
      "Epoch[1] Loss: 0.30\n",
      "Epoch[1] Loss: 0.30\n",
      "Epoch[1] Loss: 0.31\n",
      "Epoch[1] Loss: 0.33\n",
      "Epoch[1] Loss: 0.36\n",
      "Epoch[1] Loss: 0.31\n",
      "Epoch[1] Loss: 0.37\n",
      "Epoch[1] Loss: 0.35\n",
      "Epoch[1] Loss: 0.26\n",
      "Epoch[1] Loss: 0.39\n",
      "Epoch[1] Loss: 0.30\n",
      "Epoch[1] Loss: 0.35\n",
      "Epoch[1] Loss: 0.40\n",
      "Epoch[1] Loss: 0.29\n",
      "Epoch[1] Loss: 0.33\n",
      "Epoch[1] Loss: 0.31\n",
      "Epoch[1] Loss: 0.34\n",
      "Epoch[1] Loss: 0.26\n",
      "Epoch[1] Loss: 0.38\n",
      "Epoch[1] Loss: 0.30\n",
      "Epoch[1] Loss: 0.33\n",
      "Epoch[1] Loss: 0.32\n",
      "Epoch[1] Loss: 0.36\n",
      "Epoch[1] Loss: 0.32\n",
      "Epoch[1] Loss: 0.30\n",
      "Epoch[1] Loss: 0.31\n",
      "Epoch[1] Loss: 0.35\n",
      "Epoch[1] Loss: 0.26\n",
      "Epoch[1] Loss: 0.31\n",
      "Epoch[1] Loss: 0.32\n",
      "Epoch[1] Loss: 0.26\n",
      "Epoch[1] Loss: 0.34\n",
      "Epoch[1] Loss: 0.32\n",
      "Epoch[1] Loss: 0.26\n",
      "Epoch[1] Loss: 0.30\n",
      "Epoch[1] Loss: 0.35\n",
      "Epoch[1] Loss: 0.29\n",
      "Epoch[1] Loss: 0.30\n",
      "Epoch[1] Loss: 0.37\n",
      "Epoch[1] Loss: 0.30\n",
      "Epoch[1] Loss: 0.33\n",
      "Epoch[1] Loss: 0.33\n",
      "Epoch[1] Loss: 0.26\n",
      "Epoch[1] Loss: 0.30\n",
      "Epoch[1] Loss: 0.35\n",
      "Epoch[1] Loss: 0.35\n",
      "Epoch[1] Loss: 0.25\n",
      "Epoch[1] Loss: 0.31\n",
      "Epoch[1] Loss: 0.30\n",
      "Epoch[1] Loss: 0.30\n",
      "Epoch[1] Loss: 0.35\n",
      "Epoch[1] Loss: 0.31\n",
      "Epoch[1] Loss: 0.38\n",
      "Epoch[1] Loss: 0.36\n",
      "Epoch[1] Loss: 0.36\n",
      "Epoch[1] Loss: 0.34\n",
      "Epoch[1] Loss: 0.32\n",
      "Epoch[1] Loss: 0.37\n",
      "Epoch[1] Loss: 0.30\n",
      "Epoch[1] Loss: 0.30\n",
      "Epoch[1] Loss: 0.34\n",
      "Epoch[1] Loss: 0.27\n",
      "Epoch[1] Loss: 0.30\n",
      "Epoch[1] Loss: 0.29\n",
      "Epoch[1] Loss: 0.26\n",
      "Epoch[1] Loss: 0.33\n",
      "Epoch[1] Loss: 0.34\n",
      "Epoch[1] Loss: 0.30\n",
      "Epoch[1] Loss: 0.31\n",
      "Epoch[1] Loss: 0.38\n",
      "Epoch[1] Loss: 0.29\n",
      "Epoch[1] Loss: 0.29\n",
      "Epoch[1] Loss: 0.35\n",
      "Epoch[1] Loss: 0.29\n",
      "Epoch[1] Loss: 0.35\n",
      "Epoch[1] Loss: 0.30\n",
      "Epoch[1] Loss: 0.28\n"
     ]
    }
   ],
   "source": [
    "trainer.run(dltrain, max_epochs=1)\n",
    "\n",
    "collect = []\n",
    "y_true = []\n",
    "for b in dlval:\n",
    "    X, y = b \n",
    "    model.eval()\n",
    "    r = model.cpu()(X)\n",
    "    collect.append(r)\n",
    "    y_true.append(y)"
   ]
  },
  {
   "cell_type": "code",
   "execution_count": 9,
   "metadata": {
    "execution_event_id": "314f9e47-1c52-4e26-a493-9048f440437e",
    "last_executed_text": "preds = torch.cat(collect).sigmoid().round()\nproba = torch.cat(collect)\ntrue = torch.cat(y_true)\n\nproba = torch.stack([1 - proba, proba], dim=1).squeeze()\nskplt.metrics.plot_precision_recall_curve(true.detach().cpu().numpy(), \n                                          proba.detach().cpu().numpy())",
    "persistent_id": "d1ae1650-4448-46ce-ae4c-5b178b194dfa"
   },
   "outputs": [
    {
     "name": "stderr",
     "output_type": "stream",
     "text": [
      "/home/i008/anaconda3/envs/dl/lib/python3.7/site-packages/sklearn/utils/deprecation.py:86: FutureWarning: Function plot_precision_recall_curve is deprecated; This will be removed in v0.5.0. Please use scikitplot.metrics.plot_precision_recall instead.\n",
      "  warnings.warn(msg, category=FutureWarning)\n"
     ]
    },
    {
     "data": {
      "text/plain": [
       "<matplotlib.axes._subplots.AxesSubplot at 0x7f55b2ca3150>"
      ]
     },
     "execution_count": 9,
     "metadata": {},
     "output_type": "execute_result"
    },
    {
     "data": {
      "image/png": "[encoded data removed]",
      "text/plain": [
       "<Figure size 432x288 with 1 Axes>"
      ]
     },
     "metadata": {
      "needs_background": "light"
     },
     "output_type": "display_data"
    }
   ],
   "source": [
    "preds = torch.cat(collect).sigmoid().round()\n",
    "proba = torch.cat(collect)\n",
    "true = torch.cat(y_true)\n",
    "\n",
    "proba = torch.stack([1 - proba, proba], dim=1).squeeze()\n",
    "skplt.metrics.plot_precision_recall_curve(true.detach().cpu().numpy(), \n",
    "                                          proba.detach().cpu().numpy())"
   ]
  },
  {
   "cell_type": "code",
   "execution_count": 10,
   "metadata": {
    "execution_event_id": "a787dd35-c3ec-4807-a37e-e26369f559de",
    "last_executed_text": "true.detach().cpu().numpy()\nproba.detach().cpu().numpy()",
    "persistent_id": "2599b23a-82bc-487f-8e71-9e971401aea4"
   },
   "outputs": [
    {
     "data": {
      "text/plain": [
       "array([[ 0.84888923,  0.1511108 ],\n",
       "       [-1.3334596 ,  2.3334596 ],\n",
       "       [ 1.1520519 , -0.15205194],\n",
       "       ...,\n",
       "       [ 1.2350645 , -0.23506454],\n",
       "       [ 2.198248  , -1.198248  ],\n",
       "       [ 6.1575356 , -5.1575356 ]], dtype=float32)"
      ]
     },
     "execution_count": 10,
     "metadata": {},
     "output_type": "execute_result"
    }
   ],
   "source": [
    "true.detach().cpu().numpy()\n",
    "proba.detach().cpu().numpy()"
   ]
  },
  {
   "cell_type": "code",
   "execution_count": 11,
   "metadata": {
    "execution_event_id": "61ddeb07-32a5-4785-8677-4bc91f3361c5",
    "last_executed_text": "\ndef process_train_non_nn(df, cat_columns, num_columns, target):\n    cat  = pd.get_dummies(df, columns=cat_columns)\n    df = pd.concat([df.drop(cat_columns + ['income'], axis=1), cat], axis=1)\n\n    df_train, df_val = train_test_split(df, train_size=0.8)\n    \n    target_binarizer = LabelBinarizer()\n    df_train[target] = target_binarizer.fit_transform(df_train[target])\n    df_val[target] = target_binarizer.transform(df_val[target])\n\n    return df_train, df_val\n",
    "persistent_id": "0d2a8851-caad-471a-a509-9be77429655b"
   },
   "outputs": [],
   "source": [
    "\n",
    "def process_train_non_nn(df, cat_columns, num_columns, target):\n",
    "    cat  = pd.get_dummies(df, columns=cat_columns)\n",
    "    df = pd.concat([df.drop(cat_columns + ['income'], axis=1), cat], axis=1)\n",
    "\n",
    "    df_train, df_val = train_test_split(df, train_size=0.8)\n",
    "    \n",
    "    target_binarizer = LabelBinarizer()\n",
    "    df_train[target] = target_binarizer.fit_transform(df_train[target])\n",
    "    df_val[target] = target_binarizer.transform(df_val[target])\n",
    "\n",
    "    return df_train, df_val\n"
   ]
  },
  {
   "cell_type": "code",
   "execution_count": 12,
   "metadata": {
    "lines_to_next_cell": 0,
    "persistent_id": "119b550b-6426-4168-9b3e-0616f0f9092e"
   },
   "outputs": [
    {
     "name": "stderr",
     "output_type": "stream",
     "text": [
      "/home/i008/anaconda3/envs/dl/lib/python3.7/site-packages/ipykernel_launcher.py:8: SettingWithCopyWarning: \n",
      "A value is trying to be set on a copy of a slice from a DataFrame.\n",
      "Try using .loc[row_indexer,col_indexer] = value instead\n",
      "\n",
      "See the caveats in the documentation: https://pandas.pydata.org/pandas-docs/stable/user_guide/indexing.html#returning-a-view-versus-a-copy\n",
      "  \n",
      "/home/i008/anaconda3/envs/dl/lib/python3.7/site-packages/pandas/core/indexing.py:966: SettingWithCopyWarning: \n",
      "A value is trying to be set on a copy of a slice from a DataFrame.\n",
      "Try using .loc[row_indexer,col_indexer] = value instead\n",
      "\n",
      "See the caveats in the documentation: https://pandas.pydata.org/pandas-docs/stable/user_guide/indexing.html#returning-a-view-versus-a-copy\n",
      "  self.obj[item] = s\n",
      "/home/i008/anaconda3/envs/dl/lib/python3.7/site-packages/ipykernel_launcher.py:9: SettingWithCopyWarning: \n",
      "A value is trying to be set on a copy of a slice from a DataFrame.\n",
      "Try using .loc[row_indexer,col_indexer] = value instead\n",
      "\n",
      "See the caveats in the documentation: https://pandas.pydata.org/pandas-docs/stable/user_guide/indexing.html#returning-a-view-versus-a-copy\n",
      "  if __name__ == '__main__':\n",
      "/home/i008/anaconda3/envs/dl/lib/python3.7/site-packages/pandas/core/indexing.py:966: SettingWithCopyWarning: \n",
      "A value is trying to be set on a copy of a slice from a DataFrame.\n",
      "Try using .loc[row_indexer,col_indexer] = value instead\n",
      "\n",
      "See the caveats in the documentation: https://pandas.pydata.org/pandas-docs/stable/user_guide/indexing.html#returning-a-view-versus-a-copy\n",
      "  self.obj[item] = s\n",
      "/home/i008/anaconda3/envs/dl/lib/python3.7/site-packages/sklearn/utils/deprecation.py:86: FutureWarning: Function plot_precision_recall_curve is deprecated; This will be removed in v0.5.0. Please use scikitplot.metrics.plot_precision_recall instead.\n",
      "  warnings.warn(msg, category=FutureWarning)\n"
     ]
    },
    {
     "data": {
      "text/plain": [
       "<matplotlib.axes._subplots.AxesSubplot at 0x7f55b23a2650>"
      ]
     },
     "execution_count": 12,
     "metadata": {},
     "output_type": "execute_result"
    },
    {
     "data": {
      "image/png": "[encoded data removed]",
      "text/plain": [
       "<Figure size 432x288 with 1 Axes>"
      ]
     },
     "metadata": {
      "needs_background": "light"
     },
     "output_type": "display_data"
    }
   ],
   "source": [
    "df_train, df_val  = process_train_non_nn(df, cat_columns, num_columns, target)\n",
    "y_train = df_train.pop('income')\n",
    "y_test = df_val.pop('income')\n",
    "\n",
    "\n",
    "rfc = RandomForestClassifier(n_estimators=1000)\n",
    "rfc.fit(df_train,  y_train)\n",
    "\n",
    "p = rfc.predict(df_val)\n",
    "pred = rfc.predict_proba(df_val)\n",
    "skplt.metrics.plot_precision_recall_curve(y_test, pred)"
   ]
  },
  {
   "cell_type": "code",
   "execution_count": null,
   "metadata": {},
   "outputs": [],
   "source": []
  }
 ],
 "metadata": {
  "history": [
   {
    "cell": {
     "executionCount": 1,
     "executionEventId": "7fc797cb-7b3d-4d3f-8641-c2d63afc67f6",
     "hasError": false,
     "id": "d059d308-dc40-4e6e-9b44-ec948ed79c39",
     "outputs": [],
     "persistentId": "b2f151e4-d7b8-45d4-9005-0ea131ea111e",
     "text": "\nimport pandas as pd\nimport scikitplot as skplt\nimport torch\nfrom ignite.engine import (\n    Events,\n    create_supervised_evaluator,\n    create_supervised_trainer,\n)\nfrom ignite.metrics import Accuracy, Loss\nfrom sklearn.ensemble import RandomForestClassifier\nfrom sklearn.model_selection import train_test_split\nfrom sklearn.preprocessing import (\n    LabelBinarizer,\n    LabelEncoder,\n    MinMaxScaler,\n    OneHotEncoder,\n    StandardScaler,\n)\nfrom torch import nn\nfrom torch.nn import BCEWithLogitsLoss\nfrom torch.optim import Adam\nfrom torch.utils.data import DataLoader, Dataset"
    },
    "executionTime": "2019-10-13T20:47:53.287Z"
   },
   {
    "cell": {
     "executionCount": 2,
     "executionEventId": "805da5b1-beeb-4c96-8e8c-1359f53afc14",
     "hasError": false,
     "id": "434acd0e-cfdf-4daa-8437-4a51f56bc7f8",
     "outputs": [],
     "persistentId": "aa4a849b-e251-4b7f-bf2e-71621850bf03",
     "text": "def process_train(df, cat_columns, num_columns, target):\n    \n    encoders = {c: LabelEncoder() for c in cat_columns}\n    scalers = {c: MinMaxScaler() for c in num_columns}\n    \n    df = df[target + cat_columns + num_columns]\n\n    df_train, df_val = train_test_split(df, train_size=0.8)\n\n    for cat_column in cat_columns:\n        df[cat_column] = encoders[cat_column].fit_transform((df[cat_column]))\n        \n    for cat_column in cat_columns:\n        df_train[cat_column] = encoders[cat_column].transform((df_train[cat_column]))\n        \n    for cat_column in cat_columns:\n        df_val[cat_column] = encoders[cat_column].transform((df_val[cat_column]))     \n        \n    for num_column in num_columns:\n        df_train[num_column] = scalers[num_column].fit_transform(df_train[num_column].values.reshape(-1,1))\\\n    \n    for num_column in num_columns:\n        df_val[num_column] = scalers[num_column].transform(df_val[num_column].values.reshape(-1,1))\n        \n    target_binarizer = LabelBinarizer()\n    df_train[target] = target_binarizer.fit_transform(df_train[target])\n    df_val[target] = target_binarizer.transform(df_val[target])\n    embedding_dict = {cat_column: df[cat_column].unique().shape[0] for cat_column in cat_columns}\n    \n    return df_train, df_val, embedding_dict, encoders, scalers"
    },
    "executionTime": "2019-10-13T20:47:53.374Z"
   },
   {
    "cell": {
     "executionCount": 3,
     "executionEventId": "2aa8f9b0-1218-4baf-9dc4-28facfa6c391",
     "hasError": false,
     "id": "70a72144-f9e5-4904-8861-6b869ce73f30",
     "outputs": [],
     "persistentId": "e419a40a-3601-4855-a715-c6bf86fa4261",
     "text": "class TabEmbedModel(nn.Module):\n    def __init__(self,out_features=1, n_num_column=1, embedding_dict={}):\n        super(TabEmbedModel, self).__init__()\n    \n        self.out_features = out_features\n        embdding_output_sizes = sum([v // 2 for  v in embedding_dict.values()])\n\n        total_dens_layers = n_num_column + embdding_output_sizes\n        \n        for embed, value in embedding_dict.items():\n            setattr(self, embed, nn.Embedding(value, value // 2))\n        \n        self.layers = nn.Sequential(\n            nn.Linear(total_dens_layers, 100),\n            nn.ReLU(inplace=True),\n            nn.BatchNorm1d(100),\n            nn.Linear(100, 100),\n            nn.ReLU(inplace=True),\n            nn.BatchNorm1d(100,100),\n            nn.Linear(100, self.out_features)\n        )\n        \n      \n    def forward(self, X):  \n        num_x, cat_x = X\n        embeddings_collect = []\n\n        for i, c in enumerate(embedding_dict):\n            embed = getattr(self, c)(cat_x[:, i])\n            embeddings_collect.append(embed)\n            \n        embeddings_cat = torch.cat(embeddings_collect, dim=1).float()\n        X = torch.cat([num_x, embeddings_cat], dim=1)\n        ypred = self.layers(X)\n        \n        return ypred.float()"
    },
    "executionTime": "2019-10-13T20:47:55.897Z"
   },
   {
    "cell": {
     "executionCount": 4,
     "executionEventId": "5c32ec55-3a4f-4095-a502-eb6b3bab1dac",
     "hasError": false,
     "id": "cd26dd75-205a-4a49-8c21-b3a12b514cb8",
     "outputs": [],
     "persistentId": "3f1d5625-5497-4434-9d8a-84b06f7f3c44",
     "text": "class TabDataset(Dataset):\n    def __init__(self, df, cat_columns, num_columns, target_column):\n        self.df = df\n        self.cat_columns = cat_columns\n        self.num_columns = num_columns\n        self.target_column = target_column\n        \n    def __len__(self):\n        return len(self.df)\n\n    def __getitem__(self, ix):\n        \n        row = self.df.iloc[ix]\n        \n\n        cat_values = torch.from_numpy(row[self.cat_columns].values)\n        num_values = torch.from_numpy(row[self.num_columns].values.astype(float))\n        target = torch.from_numpy(row[[self.target_column]].values)\n        \n        return num_values, cat_values, target \n      \n    def collate_func(self, batch):\n        num = torch.stack([n[0] for n in batch], dim=0).float()\n        cat = torch.stack([n[1] for n in batch], dim=0).long()\n        target = torch.stack([n[2] for n in batch], dim=0)\n        \n        return (num, cat), target.float()"
    },
    "executionTime": "2019-10-13T20:47:57.060Z"
   },
   {
    "cell": {
     "executionCount": 5,
     "executionEventId": "aa87fb45-9059-4f84-9bf5-6f52198f3e0e",
     "hasError": false,
     "id": "d8b298f0-5099-4542-b66d-8a163c379ffc",
     "outputs": [
      {
       "name": "stderr",
       "output_type": "stream",
       "text": "/home/i008/anaconda3/envs/dl/lib/python3.7/site-packages/ipykernel_launcher.py:14: SettingWithCopyWarning: \nA value is trying to be set on a copy of a slice from a DataFrame.\nTry using .loc[row_indexer,col_indexer] = value instead\n\nSee the caveats in the documentation: http://pandas.pydata.org/pandas-docs/stable/user_guide/indexing.html#returning-a-view-versus-a-copy\n  \n/home/i008/anaconda3/envs/dl/lib/python3.7/site-packages/ipykernel_launcher.py:17: SettingWithCopyWarning: \nA value is trying to be set on a copy of a slice from a DataFrame.\nTry using .loc[row_indexer,col_indexer] = value instead\n\nSee the caveats in the documentation: http://pandas.pydata.org/pandas-docs/stable/user_guide/indexing.html#returning-a-view-versus-a-copy\n/home/i008/anaconda3/envs/dl/lib/python3.7/site-packages/ipykernel_launcher.py:20: SettingWithCopyWarning: \nA value is trying to be set on a copy of a slice from a DataFrame.\nTry using .loc[row_indexer,col_indexer] = value instead\n\nSee the caveats in the documentation: http://pandas.pydata.org/pandas-docs/stable/user_guide/indexing.html#returning-a-view-versus-a-copy\n/home/i008/anaconda3/envs/dl/lib/python3.7/site-packages/ipykernel_launcher.py:20: SettingWithCopyWarning: \nA value is trying to be set on a copy of a slice from a DataFrame.\nTry using .loc[row_indexer,col_indexer] = value instead\n\nSee the caveats in the documentation: http://pandas.pydata.org/pandas-docs/stable/user_guide/indexing.html#returning-a-view-versus-a-copy\n/home/i008/anaconda3/envs/dl/lib/python3.7/site-packages/ipykernel_launcher.py:20: SettingWithCopyWarning: \nA value is trying to be set on a copy of a slice from a DataFrame.\nTry using .loc[row_indexer,col_indexer] = value instead\n\nSee the caveats in the documentation: http://pandas.pydata.org/pandas-docs/stable/user_guide/indexing.html#returning-a-view-versus-a-copy\n/home/i008/anaconda3/envs/dl/lib/python3.7/site-packages/ipykernel_launcher.py:20: SettingWithCopyWarning: \nA value is trying to be set on a copy of a slice from a DataFrame.\nTry using .loc[row_indexer,col_indexer] = value instead\n\nSee the caveats in the documentation: http://pandas.pydata.org/pandas-docs/stable/user_guide/indexing.html#returning-a-view-versus-a-copy\n/home/i008/anaconda3/envs/dl/lib/python3.7/site-packages/ipykernel_launcher.py:23: SettingWithCopyWarning: \nA value is trying to be set on a copy of a slice from a DataFrame.\nTry using .loc[row_indexer,col_indexer] = value instead\n\nSee the caveats in the documentation: http://pandas.pydata.org/pandas-docs/stable/user_guide/indexing.html#returning-a-view-versus-a-copy\n/home/i008/anaconda3/envs/dl/lib/python3.7/site-packages/ipykernel_launcher.py:23: SettingWithCopyWarning: \nA value is trying to be set on a copy of a slice from a DataFrame.\nTry using .loc[row_indexer,col_indexer] = value instead\n\nSee the caveats in the documentation: http://pandas.pydata.org/pandas-docs/stable/user_guide/indexing.html#returning-a-view-versus-a-copy\n/home/i008/anaconda3/envs/dl/lib/python3.7/site-packages/ipykernel_launcher.py:23: SettingWithCopyWarning: \nA value is trying to be set on a copy of a slice from a DataFrame.\nTry using .loc[row_indexer,col_indexer] = value instead\n\nSee the caveats in the documentation: http://pandas.pydata.org/pandas-docs/stable/user_guide/indexing.html#returning-a-view-versus-a-copy\n/home/i008/anaconda3/envs/dl/lib/python3.7/site-packages/ipykernel_launcher.py:23: SettingWithCopyWarning: \nA value is trying to be set on a copy of a slice from a DataFrame.\nTry using .loc[row_indexer,col_indexer] = value instead\n\nSee the caveats in the documentation: http://pandas.pydata.org/pandas-docs/stable/user_guide/indexing.html#returning-a-view-versus-a-copy\n/home/i008/anaconda3/envs/dl/lib/python3.7/site-packages/ipykernel_launcher.py:26: SettingWithCopyWarning: \nA value is trying to be set on a copy of a slice from a DataFrame.\nTry using .loc[row_indexer,col_indexer] = value instead\n\nSee the caveats in the documentation: http://pandas.pydata.org/pandas-docs/stable/user_guide/indexing.html#returning-a-view-versus-a-copy\n/home/i008/anaconda3/envs/dl/lib/python3.7/site-packages/pandas/core/indexing.py:494: SettingWithCopyWarning: \nA value is trying to be set on a copy of a slice from a DataFrame.\nTry using .loc[row_indexer,col_indexer] = value instead\n\nSee the caveats in the documentation: http://pandas.pydata.org/pandas-docs/stable/user_guide/indexing.html#returning-a-view-versus-a-copy\n  self.obj[item] = s\n/home/i008/anaconda3/envs/dl/lib/python3.7/site-packages/ipykernel_launcher.py:27: SettingWithCopyWarning: \nA value is trying to be set on a copy of a slice from a DataFrame.\nTry using .loc[row_indexer,col_indexer] = value instead\n\nSee the caveats in the documentation: http://pandas.pydata.org/pandas-docs/stable/user_guide/indexing.html#returning-a-view-versus-a-copy\n/home/i008/anaconda3/envs/dl/lib/python3.7/site-packages/pandas/core/indexing.py:494: SettingWithCopyWarning: \nA value is trying to be set on a copy of a slice from a DataFrame.\nTry using .loc[row_indexer,col_indexer] = value instead\n\nSee the caveats in the documentation: http://pandas.pydata.org/pandas-docs/stable/user_guide/indexing.html#returning-a-view-versus-a-copy\n  self.obj[item] = s\n"
      }
     ],
     "persistentId": "114ab1f0-b31c-4dc4-a3eb-363c6b4c44e5",
     "text": "BATCH_SIZE = 256\nLR = 2e-3\n\ndf = pd.read_csv('data/adult.csv', dtype={'age':int, \n                                          'education':'category',\n                                          'native.country': 'category',\n                                          'income':object,\n                                          'capital.loss': float,\n                                         })\n# \ndf = df.rename(columns={c: c.replace('.', '-') for c in df.columns if '.' in c})\ntarget = ['income']\ncat_columns = ['education',\n               'native-country',\n               'marital-status',\n               'occupation',\n               'race',\n               'gender',\n               'capital-gain',\n               'workclass',\n               'relationship',\n               'educational-num',\n              ]\n\nnum_columns = ['capital-loss',\n               'age',\n               'fnlwgt',\n               'hours-per-week',\n              ]\n\n\ndf_train, df_val, embedding_dict, encoders, scalers = process_train(df, cat_columns, num_columns, target)\n\n\nmodel = TabEmbedModel(1, n_num_column=len(num_columns), embedding_dict=embedding_dict)\nmodel = model.cuda()\n\nds = TabDataset(df_train, cat_columns, num_columns, 'income')\ndsval = TabDataset(df_val, cat_columns, num_columns, 'income')\n\ndltrain = DataLoader(ds, batch_size=BATCH_SIZE, \n                     collate_fn=ds.collate_func, \n                     shuffle=True, drop_last=False)\n\ndlval = DataLoader(dsval, batch_size=BATCH_SIZE, \n                   collate_fn=ds.collate_func, \n                   shuffle=True, drop_last=False)\n\n\noptimizer = Adam(model.parameters(), lr=LR)\nloss = BCEWithLogitsLoss()\ntrainer = create_supervised_trainer(model, optimizer, loss, device='cuda')\n"
    },
    "executionTime": "2019-10-13T20:48:02.088Z"
   },
   {
    "cell": {
     "executionCount": 6,
     "executionEventId": "a5dcb422-a2a7-402e-b338-75c91299ce19",
     "hasError": false,
     "id": "b92a123f-d600-4d66-beeb-689d0c052697",
     "outputs": [
      {
       "data": {
        "text/plain": "{'education': 16,\n 'native-country': 42,\n 'marital-status': 7,\n 'occupation': 15,\n 'race': 5,\n 'gender': 2,\n 'capital-gain': 123,\n 'workclass': 9,\n 'relationship': 6,\n 'educational-num': 16}"
       },
       "execution_count": 6,
       "metadata": {},
       "output_type": "execute_result"
      }
     ],
     "persistentId": "61f35282-796d-4d54-a65d-fc2b88604786",
     "text": "# this shows us how many categories are there for each of the categorical-variables.\n# its important as we need to know how big our embedding matrix has to be.\nembedding_dict"
    },
    "executionTime": "2019-10-13T20:48:07.769Z"
   },
   {
    "cell": {
     "executionCount": 7,
     "executionEventId": "9e20cd2d-87cd-4bd1-855f-38e9663f3ff1",
     "hasError": false,
     "id": "45897c06-78bb-4b70-9cce-dd0215721234",
     "outputs": [],
     "persistentId": "7416fa10-7acf-44ee-bd67-e0ef264f85e2",
     "text": "\ndef thresholded_output_transform(output):\n    y_pred, y = output\n    y_pred = torch.round(y_pred)\n    return y_pred.int(), y.int()\n\nacc = Accuracy(thresholded_output_transform)\n\nevaluator = create_supervised_evaluator(model,\n                                        device='cuda',\n                                        metrics={\n                                            'accuracy': acc,\n                                            'nll': Loss(loss)\n                                            })\n\nmodel.cuda()\n\n@trainer.on(Events.ITERATION_COMPLETED)\ndef log_trainig_loss(trainer):\n    print(\"Epoch[{}] Loss: {:.2f}\".format(trainer.state.epoch, trainer.state.output))\n\n    \n# @trainer.on(Events.EPOCH_COMPLETED)\n# def log_validation_results(engine):\n#     evaluator.run(dlval)\n#     metrics = evaluator.state.metrics\n#     print(\"Validation Results - Epoch: {}  Avg accuracy: {:.2f} Avg loss: {:.2f}\"\n#           .format(engine.state.epoch, metrics['accuracy'], metrics['nll']))"
    },
    "executionTime": "2019-10-13T20:48:09.894Z"
   },
   {
    "cell": {
     "executionCount": 8,
     "executionEventId": "57693aaa-9d04-463c-baec-3dc2dc33b37e",
     "hasError": false,
     "id": "83f2e89a-7399-4c2c-bf99-bd3d05817e44",
     "outputs": [
      {
       "name": "stdout",
       "output_type": "stream",
       "text": "Epoch[1] Loss: 0.69\nEpoch[1] Loss: 0.68\nEpoch[1] Loss: 0.68\nEpoch[1] Loss: 0.67\nEpoch[1] Loss: 0.66\nEpoch[1] Loss: 0.66\nEpoch[1] Loss: 0.65\nEpoch[1] Loss: 0.64\nEpoch[1] Loss: 0.63\nEpoch[1] Loss: 0.62\nEpoch[1] Loss: 0.61\nEpoch[1] Loss: 0.61\nEpoch[1] Loss: 0.58\nEpoch[1] Loss: 0.58\nEpoch[1] Loss: 0.58\nEpoch[1] Loss: 0.56\nEpoch[1] Loss: 0.54\nEpoch[1] Loss: 0.54\nEpoch[1] Loss: 0.52\nEpoch[1] Loss: 0.51\nEpoch[1] Loss: 0.46\nEpoch[1] Loss: 0.49\nEpoch[1] Loss: 0.48\nEpoch[1] Loss: 0.46\nEpoch[1] Loss: 0.44\nEpoch[1] Loss: 0.44\nEpoch[1] Loss: 0.42\nEpoch[1] Loss: 0.39\nEpoch[1] Loss: 0.41\nEpoch[1] Loss: 0.41\nEpoch[1] Loss: 0.42\nEpoch[1] Loss: 0.41\nEpoch[1] Loss: 0.35\nEpoch[1] Loss: 0.40\nEpoch[1] Loss: 0.38\nEpoch[1] Loss: 0.36\nEpoch[1] Loss: 0.41\nEpoch[1] Loss: 0.35\nEpoch[1] Loss: 0.35\nEpoch[1] Loss: 0.36\nEpoch[1] Loss: 0.34\nEpoch[1] Loss: 0.34\nEpoch[1] Loss: 0.35\nEpoch[1] Loss: 0.34\nEpoch[1] Loss: 0.36\nEpoch[1] Loss: 0.35\nEpoch[1] Loss: 0.36\nEpoch[1] Loss: 0.29\nEpoch[1] Loss: 0.37\nEpoch[1] Loss: 0.37\nEpoch[1] Loss: 0.33\nEpoch[1] Loss: 0.35\nEpoch[1] Loss: 0.28\nEpoch[1] Loss: 0.34\nEpoch[1] Loss: 0.34\nEpoch[1] Loss: 0.33\nEpoch[1] Loss: 0.31\nEpoch[1] Loss: 0.33\nEpoch[1] Loss: 0.33\nEpoch[1] Loss: 0.33\nEpoch[1] Loss: 0.31\nEpoch[1] Loss: 0.31\nEpoch[1] Loss: 0.31\nEpoch[1] Loss: 0.31\nEpoch[1] Loss: 0.31\nEpoch[1] Loss: 0.33\nEpoch[1] Loss: 0.27\nEpoch[1] Loss: 0.32\nEpoch[1] Loss: 0.34\nEpoch[1] Loss: 0.39\nEpoch[1] Loss: 0.35\nEpoch[1] Loss: 0.31\nEpoch[1] Loss: 0.34\nEpoch[1] Loss: 0.28\nEpoch[1] Loss: 0.32\nEpoch[1] Loss: 0.37\nEpoch[1] Loss: 0.30\nEpoch[1] Loss: 0.29\nEpoch[1] Loss: 0.28\nEpoch[1] Loss: 0.27\nEpoch[1] Loss: 0.28\nEpoch[1] Loss: 0.34\nEpoch[1] Loss: 0.33\nEpoch[1] Loss: 0.33\nEpoch[1] Loss: 0.33\nEpoch[1] Loss: 0.32\nEpoch[1] Loss: 0.39\nEpoch[1] Loss: 0.31\nEpoch[1] Loss: 0.25\nEpoch[1] Loss: 0.25\nEpoch[1] Loss: 0.27\nEpoch[1] Loss: 0.29\nEpoch[1] Loss: 0.36\nEpoch[1] Loss: 0.33\nEpoch[1] Loss: 0.33\nEpoch[1] Loss: 0.32\nEpoch[1] Loss: 0.28\nEpoch[1] Loss: 0.32\nEpoch[1] Loss: 0.34\nEpoch[1] Loss: 0.33\nEpoch[1] Loss: 0.33\nEpoch[1] Loss: 0.35\nEpoch[1] Loss: 0.27\nEpoch[1] Loss: 0.30\nEpoch[1] Loss: 0.32\nEpoch[1] Loss: 0.33\nEpoch[1] Loss: 0.36\nEpoch[1] Loss: 0.31\nEpoch[1] Loss: 0.37\nEpoch[1] Loss: 0.29\nEpoch[1] Loss: 0.28\nEpoch[1] Loss: 0.33\nEpoch[1] Loss: 0.33\nEpoch[1] Loss: 0.28\nEpoch[1] Loss: 0.34\nEpoch[1] Loss: 0.32\nEpoch[1] Loss: 0.34\nEpoch[1] Loss: 0.31\nEpoch[1] Loss: 0.36\nEpoch[1] Loss: 0.32\nEpoch[1] Loss: 0.32\nEpoch[1] Loss: 0.29\nEpoch[1] Loss: 0.32\nEpoch[1] Loss: 0.28\nEpoch[1] Loss: 0.31\nEpoch[1] Loss: 0.27\nEpoch[1] Loss: 0.32\nEpoch[1] Loss: 0.35\nEpoch[1] Loss: 0.30\nEpoch[1] Loss: 0.28\nEpoch[1] Loss: 0.32\nEpoch[1] Loss: 0.33\nEpoch[1] Loss: 0.32\nEpoch[1] Loss: 0.31\nEpoch[1] Loss: 0.30\nEpoch[1] Loss: 0.32\nEpoch[1] Loss: 0.20\nEpoch[1] Loss: 0.27\nEpoch[1] Loss: 0.37\nEpoch[1] Loss: 0.25\nEpoch[1] Loss: 0.32\nEpoch[1] Loss: 0.30\nEpoch[1] Loss: 0.26\nEpoch[1] Loss: 0.28\nEpoch[1] Loss: 0.31\nEpoch[1] Loss: 0.31\nEpoch[1] Loss: 0.29\nEpoch[1] Loss: 0.30\nEpoch[1] Loss: 0.36\nEpoch[1] Loss: 0.29\nEpoch[1] Loss: 0.38\nEpoch[1] Loss: 0.23\nEpoch[1] Loss: 0.27\n"
      }
     ],
     "persistentId": "f4a2b58b-9304-4bb1-bc83-bdc0106ddc77",
     "text": "trainer.run(dltrain, max_epochs=1)\n\ncollect = []\ny_true = []\nfor b in dlval:\n    X, y = b \n    model.eval()\n    r = model.cpu()(X)\n    collect.append(r)\n    y_true.append(y)"
    },
    "executionTime": "2019-10-13T20:49:23.659Z"
   },
   {
    "cell": {
     "executionCount": 9,
     "executionEventId": "314f9e47-1c52-4e26-a493-9048f440437e",
     "hasError": false,
     "id": "a212cdc0-79f0-4280-9b86-0399aea59956",
     "outputs": [
      {
       "name": "stderr",
       "output_type": "stream",
       "text": "/home/i008/anaconda3/envs/dl/lib/python3.7/site-packages/sklearn/utils/deprecation.py:85: DeprecationWarning: Function plot_precision_recall_curve is deprecated; This will be removed in v0.5.0. Please use scikitplot.metrics.plot_precision_recall instead.\n  warnings.warn(msg, category=DeprecationWarning)\n"
      },
      {
       "data": {
        "text/plain": "<matplotlib.axes._subplots.AxesSubplot at 0x7fbc30475e10>"
       },
       "execution_count": 9,
       "metadata": {},
       "output_type": "execute_result"
      },
      {
       "data": {
        "image/png": "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\n",
        "text/plain": "<Figure size 432x288 with 1 Axes>"
       },
       "metadata": {
        "needs_background": "light"
       },
       "output_type": "display_data"
      }
     ],
     "persistentId": "d1ae1650-4448-46ce-ae4c-5b178b194dfa",
     "text": "preds = torch.cat(collect).sigmoid().round()\nproba = torch.cat(collect)\ntrue = torch.cat(y_true)\n\nproba = torch.stack([1 - proba, proba], dim=1).squeeze()\nskplt.metrics.plot_precision_recall_curve(true.detach().cpu().numpy(), \n                                          proba.detach().cpu().numpy())"
    },
    "executionTime": "2019-10-13T20:49:24.185Z"
   },
   {
    "cell": {
     "executionCount": 10,
     "executionEventId": "a787dd35-c3ec-4807-a37e-e26369f559de",
     "hasError": false,
     "id": "0eda4511-042a-47a2-9b25-f90e0e31b40d",
     "outputs": [
      {
       "data": {
        "text/plain": "array([[ 2.338727  , -1.338727  ],\n       [ 2.4884639 , -1.4884638 ],\n       [ 6.903667  , -5.903667  ],\n       ...,\n       [ 1.1116879 , -0.11168788],\n       [ 1.6842041 , -0.68420416],\n       [ 0.34166408,  0.6583359 ]], dtype=float32)"
       },
       "execution_count": 10,
       "metadata": {},
       "output_type": "execute_result"
      }
     ],
     "persistentId": "2599b23a-82bc-487f-8e71-9e971401aea4",
     "text": "true.detach().cpu().numpy()\nproba.detach().cpu().numpy()"
    },
    "executionTime": "2019-10-13T20:49:24.275Z"
   },
   {
    "cell": {
     "executionCount": 11,
     "executionEventId": "61ddeb07-32a5-4785-8677-4bc91f3361c5",
     "hasError": false,
     "id": "e1e45bbd-fa7a-487b-90fb-74454fbf691d",
     "outputs": [],
     "persistentId": "0d2a8851-caad-471a-a509-9be77429655b",
     "text": "\ndef process_train_non_nn(df, cat_columns, num_columns, target):\n    cat  = pd.get_dummies(df, columns=cat_columns)\n    df = pd.concat([df.drop(cat_columns + ['income'], axis=1), cat], axis=1)\n\n    df_train, df_val = train_test_split(df, train_size=0.8)\n    \n    target_binarizer = LabelBinarizer()\n    df_train[target] = target_binarizer.fit_transform(df_train[target])\n    df_val[target] = target_binarizer.transform(df_val[target])\n\n    return df_train, df_val\n"
    },
    "executionTime": "2019-10-13T20:49:24.299Z"
   }
  ],
  "kernelspec": {
   "display_name": "Python [conda env:dl]",
   "language": "python",
   "name": "conda-env-dl-py"
  },
  "language_info": {
   "codemirror_mode": {
    "name": "ipython",
    "version": 3
   },
   "file_extension": ".py",
   "mimetype": "text/x-python",
   "name": "python",
   "nbconvert_exporter": "python",
   "pygments_lexer": "ipython3",
   "version": "3.7.7"
  },
  "uuid": "aa8c62fe-f406-449d-81f9-76c557466ce9"
 },
 "nbformat": 4,
 "nbformat_minor": 4
}
