{
 "cells": [
  {
   "cell_type": "code",
   "execution_count": 286,
   "metadata": {},
   "outputs": [
    {
     "name": "stdout",
     "output_type": "stream",
     "text": [
      "2.1094237467877998e-15\n",
      "0.2231435513142097\n"
     ]
    }
   ],
   "source": [
    "import numpy as np\n",
    "import math\n",
    "from torch.nn.functional import nll_loss, cross_entropy as torch_cross_entropy, log_softmax\n",
    "from torch import Tensor as T\n",
    "from sklearn.metrics import log_loss # aka cross-entropy\n",
    "\n",
    "ll = log_loss(['Airplane'],\n",
    "         [[1, 0, 0]], \n",
    "         labels=['Airplane','Bee','Train'])\n",
    "\n",
    "\n",
    "print(ll)\n",
    "print(-np.log(0.8))\n"
   ]
  },
  {
   "cell_type": "code",
   "execution_count": 285,
   "metadata": {},
   "outputs": [
    {
     "name": "stdout",
     "output_type": "stream",
     "text": [
      "after softmax tensor([[1.0000e+00, 3.3983e-09, 3.3983e-09]])\n"
     ]
    },
    {
     "name": "stderr",
     "output_type": "stream",
     "text": [
      "/home/i008/anaconda3/lib/python3.6/site-packages/ipykernel/__main__.py:4: UserWarning: Implicit dimension choice for softmax has been deprecated. Change the call to include dim=X as an argument.\n"
     ]
    },
    {
     "data": {
      "text/plain": [
       "0.0"
      ]
     },
     "execution_count": 285,
     "metadata": {},
     "output_type": "execute_result"
    }
   ],
   "source": [
    "\n",
    "preds = T([[20, 0.5, 0.5]]).float()\n",
    "torch_cross_entropy(preds,y)\n",
    "after_softmax = torch.nn.functional.softmax(preds)\n",
    "print(\"after softmax\", after_softmax)\n",
    "after_softmax.numpy()\n",
    "\n",
    "log_loss(['Airplane'], after_softmax.numpy(), labels=['Airplane','Bee','Train'])"
   ]
  },
  {
   "cell_type": "code",
   "execution_count": 309,
   "metadata": {},
   "outputs": [
    {
     "name": "stderr",
     "output_type": "stream",
     "text": [
      "/home/i008/anaconda3/lib/python3.6/site-packages/ipykernel/__main__.py:1: UserWarning: Implicit dimension choice for log_softmax has been deprecated. Change the call to include dim=X as an argument.\n",
      "  if __name__ == '__main__':\n"
     ]
    },
    {
     "data": {
      "text/plain": [
       "tensor([-9.0599e-05, -1.0000e+01, -1.0000e+01])"
      ]
     },
     "execution_count": 309,
     "metadata": {},
     "output_type": "execute_result"
    }
   ],
   "source": [
    "torch.nn.functional.log_softmax(T([10,0,0]))"
   ]
  }
 ],
 "metadata": {
  "kernelspec": {
   "display_name": "Python [conda env:anaconda3]",
   "language": "python",
   "name": "conda-env-anaconda3-py"
  },
  "language_info": {
   "codemirror_mode": {
    "name": "ipython",
    "version": 3
   },
   "file_extension": ".py",
   "mimetype": "text/x-python",
   "name": "python",
   "nbconvert_exporter": "python",
   "pygments_lexer": "ipython3",
   "version": "3.6.4"
  }
 },
 "nbformat": 4,
 "nbformat_minor": 2
}
