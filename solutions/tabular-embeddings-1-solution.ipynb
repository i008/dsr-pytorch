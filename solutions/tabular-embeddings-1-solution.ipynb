{
 "cells": [
  {
   "cell_type": "markdown",
   "metadata": {},
   "source": [
    "# TABULAR EMBEDDINGS INTRO"
   ]
  },
  {
   "cell_type": "markdown",
   "metadata": {},
   "source": [
    "### Encode Categorical Features \n",
    "given the dataframe df, encode labels in the cat_col. ie cat_col should be encoded as [0,1,0,0,1]\n"
   ]
  },
  {
   "cell_type": "code",
   "execution_count": 2,
   "metadata": {
    "execution_event_id": "a12a37ff-ea49-414c-be0b-cb53a1d5e78d",
    "last_executed_text": "import pandas as pd\nfrom torch import nn\nimport torch\nimport numpy as np\n\ndf = pd.DataFrame({'num_col': [0,1,2,3,4], 'cat_col': ['A', 'B', 'A', 'A', 'B',]})\nprint(df)",
    "persistent_id": "26e50e24-cfe6-469c-a0b6-bbfb622594e6"
   },
   "outputs": [
    {
     "name": "stdout",
     "output_type": "stream",
     "text": [
      "   num_col cat_col\n",
      "0        0       A\n",
      "1        1       B\n",
      "2        2       A\n",
      "3        3       A\n",
      "4        4       B\n"
     ]
    }
   ],
   "source": [
    "import pandas as pd\n",
    "from torch import nn\n",
    "import torch\n",
    "import numpy as np\n",
    "\n",
    "df = pd.DataFrame({'num_col': [0,1,2,3,4], 'cat_col': ['A', 'B', 'A', 'A', 'B',]})\n",
    "print(df)"
   ]
  },
  {
   "cell_type": "code",
   "execution_count": 3,
   "metadata": {
    "execution_event_id": "6714af48-9eec-4851-8047-976f4582d3dc",
    "last_executed_text": "from sklearn.preprocessing import LabelEncoder\n\nle = LabelEncoder()\ndf.cat_col = le.fit_transform(df.cat_col)\ndf\n",
    "persistent_id": "c2a28be4-0f4c-4168-8864-a8d58c9f203f"
   },
   "outputs": [
    {
     "data": {
      "text/html": [
       "<div>\n",
       "<style scoped>\n",
       "    .dataframe tbody tr th:only-of-type {\n",
       "        vertical-align: middle;\n",
       "    }\n",
       "\n",
       "    .dataframe tbody tr th {\n",
       "        vertical-align: top;\n",
       "    }\n",
       "\n",
       "    .dataframe thead th {\n",
       "        text-align: right;\n",
       "    }\n",
       "</style>\n",
       "<table border=\"1\" class=\"dataframe\">\n",
       "  <thead>\n",
       "    <tr style=\"text-align: right;\">\n",
       "      <th></th>\n",
       "      <th>num_col</th>\n",
       "      <th>cat_col</th>\n",
       "    </tr>\n",
       "  </thead>\n",
       "  <tbody>\n",
       "    <tr>\n",
       "      <td>0</td>\n",
       "      <td>0</td>\n",
       "      <td>0</td>\n",
       "    </tr>\n",
       "    <tr>\n",
       "      <td>1</td>\n",
       "      <td>1</td>\n",
       "      <td>1</td>\n",
       "    </tr>\n",
       "    <tr>\n",
       "      <td>2</td>\n",
       "      <td>2</td>\n",
       "      <td>0</td>\n",
       "    </tr>\n",
       "    <tr>\n",
       "      <td>3</td>\n",
       "      <td>3</td>\n",
       "      <td>0</td>\n",
       "    </tr>\n",
       "    <tr>\n",
       "      <td>4</td>\n",
       "      <td>4</td>\n",
       "      <td>1</td>\n",
       "    </tr>\n",
       "  </tbody>\n",
       "</table>\n",
       "</div>"
      ],
      "text/plain": [
       "   num_col  cat_col\n",
       "0        0        0\n",
       "1        1        1\n",
       "2        2        0\n",
       "3        3        0\n",
       "4        4        1"
      ]
     },
     "execution_count": 3,
     "metadata": {},
     "output_type": "execute_result"
    }
   ],
   "source": [
    "from sklearn.preprocessing import LabelEncoder\n",
    "\n",
    "le = LabelEncoder()\n",
    "df.cat_col = le.fit_transform(df.cat_col)\n",
    "df\n"
   ]
  },
  {
   "cell_type": "markdown",
   "metadata": {},
   "source": [
    "### Create an embedding layera with the correct number of embeddings and dimensionality of 5 "
   ]
  },
  {
   "cell_type": "code",
   "execution_count": 4,
   "metadata": {
    "execution_event_id": "0343b8b0-ec46-4a3f-b4d4-a793128422f6",
    "last_executed_text": "embedding_layer = nn.Embedding(2, 5)\nembedding_layer.weight",
    "persistent_id": "339da085-1ec4-4eda-99f8-cfb1fc66d03d"
   },
   "outputs": [
    {
     "data": {
      "text/plain": [
       "Parameter containing:\n",
       "tensor([[-0.2327,  0.5648,  1.7428, -1.3169, -2.1947],\n",
       "        [ 1.4607, -0.3352, -0.3484, -2.0949,  0.8337]], requires_grad=True)"
      ]
     },
     "execution_count": 4,
     "metadata": {},
     "output_type": "execute_result"
    }
   ],
   "source": [
    "embedding_layer = nn.Embedding(2, 5)\n",
    "embedding_layer.weight"
   ]
  },
  {
   "cell_type": "markdown",
   "metadata": {},
   "source": [
    "### Retrieve the embedding for rows the data"
   ]
  },
  {
   "cell_type": "code",
   "execution_count": 6,
   "metadata": {
    "execution_event_id": "24a9f942-2188-4a9d-b338-4fbce4e29391",
    "last_executed_text": "print(df.cat_col)\nembedding_layer.weight[df.cat_col]\nembed = embedding_layer(torch.tensor(df.cat_col))",
    "persistent_id": "1a709c37-cd75-4151-855e-ff3dffdea862"
   },
   "outputs": [
    {
     "name": "stdout",
     "output_type": "stream",
     "text": [
      "0    0\n",
      "1    1\n",
      "2    0\n",
      "3    0\n",
      "4    1\n",
      "Name: cat_col, dtype: int64\n"
     ]
    }
   ],
   "source": [
    "print(df.cat_col)\n",
    "embedding_layer.weight[df.cat_col]\n",
    "embed = embedding_layer(torch.tensor(df.cat_col))"
   ]
  },
  {
   "cell_type": "markdown",
   "metadata": {},
   "source": [
    "### Combine(concatanate) the embeddings for all the rows with the numerical column. \n",
    "You should get something similar to:\n",
    "```\n",
    "tensor([[-0.2773, -1.2062, -1.2379,  0.1075,  0.3603,  0.0000],\n",
    "        [ 1.8006, -0.3486,  0.7133, -0.1914,  0.7819,  1.0000],\n",
    "        [-0.2773, -1.2062, -1.2379,  0.1075,  0.3603,  2.0000],\n",
    "        [ 1.8006, -0.3486,  0.7133, -0.1914,  0.7819,  3.0000],\n",
    "        [-0.2773, -1.2062, -1.2379,  0.1075,  0.3603,  4.0000]],\n",
    "       grad_fn=<CatBackward>)\n",
    "       \n",
    "torch.Size([5, 6])       \n",
    "```"
   ]
  },
  {
   "cell_type": "code",
   "execution_count": 44,
   "metadata": {
    "execution_event_id": "62123306-a6df-49c5-bf48-17cd468a376f",
    "last_executed_text": "b = torch.tensor(df.num_col).float()\nprint(torch.cat((embed, b.unsqueeze(1)), axis=1))",
    "persistent_id": "c3fa9ac2-3bd6-40b5-88d6-e2e9f7c5ed07"
   },
   "outputs": [
    {
     "name": "stdout",
     "output_type": "stream",
     "text": [
      "tensor([[-0.2327,  0.5648,  1.7428, -1.3169, -2.1947,  0.0000],\n",
      "        [ 1.4607, -0.3352, -0.3484, -2.0949,  0.8337,  1.0000],\n",
      "        [-0.2327,  0.5648,  1.7428, -1.3169, -2.1947,  2.0000],\n",
      "        [-0.2327,  0.5648,  1.7428, -1.3169, -2.1947,  3.0000],\n",
      "        [ 1.4607, -0.3352, -0.3484, -2.0949,  0.8337,  4.0000]],\n",
      "       grad_fn=<CatBackward>)\n"
     ]
    }
   ],
   "source": [
    "b = torch.tensor(df.num_col).float()\n",
    "print(torch.cat((embed, b.unsqueeze(1)), axis=1))"
   ]
  },
  {
   "cell_type": "code",
   "execution_count": 43,
   "metadata": {
    "execution_event_id": "169dd6e9-ac6c-4232-9f60-904f40ae4c8e",
    "last_executed_text": "torch.cat((embed, b.unsqueeze(1)), axis=1)",
    "persistent_id": "fa3d8ecc-75c2-4abc-8d01-c3fee3e4c007"
   },
   "outputs": [
    {
     "data": {
      "text/plain": [
       "tensor([[-0.2327,  0.5648,  1.7428, -1.3169, -2.1947,  0.0000],\n",
       "        [ 1.4607, -0.3352, -0.3484, -2.0949,  0.8337,  1.0000],\n",
       "        [-0.2327,  0.5648,  1.7428, -1.3169, -2.1947,  2.0000],\n",
       "        [-0.2327,  0.5648,  1.7428, -1.3169, -2.1947,  3.0000],\n",
       "        [ 1.4607, -0.3352, -0.3484, -2.0949,  0.8337,  4.0000]],\n",
       "       grad_fn=<CatBackward>)"
      ]
     },
     "execution_count": 43,
     "metadata": {},
     "output_type": "execute_result"
    }
   ],
   "source": []
  }
 ],
 "metadata": {
  "history": [
   {
    "cell": {
     "executionCount": 1,
     "executionEventId": "67d4d0ea-b38e-4fc5-92eb-5cb3a402b8f6",
     "hasError": false,
     "id": "e68b8a99-c189-44c6-83d8-db75f66a7c78",
     "outputs": [
      {
       "name": "stdout",
       "output_type": "stream",
       "text": "   num_col cat_col\n0        0       A\n1        1       B\n2        2       A\n3        3       A\n4        4       B\n"
      }
     ],
     "persistentId": "26e50e24-cfe6-469c-a0b6-bbfb622594e6",
     "text": "import pandas as pd\nfrom torch import nn\nimport torch\nimport numpy as np\n\ndf = pd.DataFrame({'num_col': [0,1,2,3,4], 'cat_col': ['A', 'B', 'A', 'A', 'B',]})\nprint(df)"
    },
    "executionTime": "2019-10-13T20:26:14.201Z"
   },
   {
    "cell": {
     "executionCount": 2,
     "executionEventId": "b7248941-2576-4775-9d24-3990eddfcc40",
     "hasError": false,
     "id": "90f3f113-6983-4389-a158-2a890b5c7d46",
     "outputs": [
      {
       "data": {
        "text/html": "<div>\n<style scoped>\n    .dataframe tbody tr th:only-of-type {\n        vertical-align: middle;\n    }\n\n    .dataframe tbody tr th {\n        vertical-align: top;\n    }\n\n    .dataframe thead th {\n        text-align: right;\n    }\n</style>\n<table border=\"1\" class=\"dataframe\">\n  <thead>\n    <tr style=\"text-align: right;\">\n      <th></th>\n      <th>num_col</th>\n      <th>cat_col</th>\n    </tr>\n  </thead>\n  <tbody>\n    <tr>\n      <td>0</td>\n      <td>0</td>\n      <td>0</td>\n    </tr>\n    <tr>\n      <td>1</td>\n      <td>1</td>\n      <td>1</td>\n    </tr>\n    <tr>\n      <td>2</td>\n      <td>2</td>\n      <td>0</td>\n    </tr>\n    <tr>\n      <td>3</td>\n      <td>3</td>\n      <td>0</td>\n    </tr>\n    <tr>\n      <td>4</td>\n      <td>4</td>\n      <td>1</td>\n    </tr>\n  </tbody>\n</table>\n</div>",
        "text/plain": "   num_col  cat_col\n0        0        0\n1        1        1\n2        2        0\n3        3        0\n4        4        1"
       },
       "execution_count": 2,
       "metadata": {},
       "output_type": "execute_result"
      }
     ],
     "persistentId": "c2a28be4-0f4c-4168-8864-a8d58c9f203f",
     "text": "from sklearn.preprocessing import LabelEncoder\n\nle = LabelEncoder()\ndf.cat_col = le.fit_transform(df.cat_col)\ndf\n"
    },
    "executionTime": "2019-10-13T20:26:15.236Z"
   },
   {
    "cell": {
     "executionCount": 3,
     "executionEventId": "18085250-5f83-474e-9e07-2e9ad0297396",
     "hasError": false,
     "id": "addb871c-f56d-4918-bc22-dfaf3d2d8d55",
     "outputs": [
      {
       "data": {
        "text/plain": "Parameter containing:\ntensor([[ 1.5940, -0.1383, -1.1144,  0.7372, -1.0788],\n        [-1.4933, -0.3248,  0.6160,  0.5103,  0.7067]], requires_grad=True)"
       },
       "execution_count": 3,
       "metadata": {},
       "output_type": "execute_result"
      }
     ],
     "persistentId": "339da085-1ec4-4eda-99f8-cfb1fc66d03d",
     "text": "embedding_layer = nn.Embedding(2, 5)\nembedding_layer.weight"
    },
    "executionTime": "2019-10-13T20:26:16.418Z"
   },
   {
    "cell": {
     "executionCount": 4,
     "executionEventId": "819645ac-58fe-4541-b964-abf374049981",
     "hasError": false,
     "id": "43e4da44-ce8f-4a91-8f78-e4238481e58d",
     "outputs": [
      {
       "name": "stdout",
       "output_type": "stream",
       "text": "0    0\n1    1\n2    0\n3    0\n4    1\nName: cat_col, dtype: int64\n"
      },
      {
       "data": {
        "text/plain": "tensor([[ 1.5940, -0.1383, -1.1144,  0.7372, -1.0788],\n        [-1.4933, -0.3248,  0.6160,  0.5103,  0.7067],\n        [ 1.5940, -0.1383, -1.1144,  0.7372, -1.0788],\n        [ 1.5940, -0.1383, -1.1144,  0.7372, -1.0788],\n        [-1.4933, -0.3248,  0.6160,  0.5103,  0.7067]],\n       grad_fn=<IndexBackward>)"
       },
       "execution_count": 4,
       "metadata": {},
       "output_type": "execute_result"
      }
     ],
     "persistentId": "1a709c37-cd75-4151-855e-ff3dffdea862",
     "text": "print(df.cat_col)\nembedding_layer.weight[df.cat_col]"
    },
    "executionTime": "2019-10-13T20:26:17.920Z"
   },
   {
    "cell": {
     "executionCount": 5,
     "executionEventId": "3c1d5fa1-5a56-4c62-9f98-9360b80f3e40",
     "hasError": false,
     "id": "f80b2f07-bee0-45da-8a4b-a07c32ce2f39",
     "outputs": [],
     "persistentId": "8ec21385-3a33-491b-bb0b-6cf43486d7c1",
     "text": "from sklearn.preprocessing import LabelEncoder"
    },
    "executionTime": "2019-10-13T20:26:21.639Z"
   },
   {
    "cell": {
     "executionCount": 6,
     "executionEventId": "c64b7e1a-0eb1-4681-8580-1dd91e9b5088",
     "hasError": true,
     "id": "b7b95d48-2558-40ab-8290-105bd4e7984d",
     "outputs": [
      {
       "ename": "SyntaxError",
       "evalue": "invalid syntax (<ipython-input-6-d56e0c68024c>, line 1)",
       "output_type": "error",
       "traceback": [
        "\u001b[0;36m  File \u001b[0;32m\"<ipython-input-6-d56e0c68024c>\"\u001b[0;36m, line \u001b[0;32m1\u001b[0m\n\u001b[0;31m    7 regular numerical variables\u001b[0m\n\u001b[0m            ^\u001b[0m\n\u001b[0;31mSyntaxError\u001b[0m\u001b[0;31m:\u001b[0m invalid syntax\n"
       ]
      }
     ],
     "persistentId": "0c10a3af-2c19-4c24-97be-c7ab6f7d4c9c",
     "text": "7 regular numerical variables\n3 categorical variables ('type_of_pet(20)','type_of_car(100)','has_loan(2)')\n\n{'type_of_pet': 10, 'type_of_car':50, 'has_loan': 2}\n\nn_input_neurons = 7 + 10 + 50 + 2"
    },
    "executionTime": "2019-10-13T20:26:21.990Z"
   },
   {
    "cell": {
     "executionCount": 7,
     "executionEventId": "136728d9-4d9f-4d88-a01a-ea7653c3d815",
     "hasError": false,
     "id": "e68b8a99-c189-44c6-83d8-db75f66a7c78",
     "outputs": [
      {
       "name": "stdout",
       "output_type": "stream",
       "text": "   num_col cat_col\n0        0       A\n1        1       B\n2        2       A\n3        3       A\n4        4       B\n"
      }
     ],
     "persistentId": "26e50e24-cfe6-469c-a0b6-bbfb622594e6",
     "text": "import pandas as pd\nfrom torch import nn\nimport torch\nimport numpy as np\n\ndf = pd.DataFrame({'num_col': [0,1,2,3,4], 'cat_col': ['A', 'B', 'A', 'A', 'B',]})\nprint(df)"
    },
    "executionTime": "2019-10-13T20:26:44.140Z"
   },
   {
    "cell": {
     "executionCount": 8,
     "executionEventId": "723d802c-3b3e-424d-b5b4-d5b369f73c9d",
     "hasError": false,
     "id": "addb871c-f56d-4918-bc22-dfaf3d2d8d55",
     "outputs": [
      {
       "data": {
        "text/plain": "Parameter containing:\ntensor([[-1.2990, -1.7480,  1.4952,  0.1954, -1.1429],\n        [ 1.2574, -0.3615,  0.2828, -0.6255, -0.1632]], requires_grad=True)"
       },
       "execution_count": 8,
       "metadata": {},
       "output_type": "execute_result"
      }
     ],
     "persistentId": "339da085-1ec4-4eda-99f8-cfb1fc66d03d",
     "text": "embedding_layer = nn.Embedding(2, 5)\nembedding_layer.weight"
    },
    "executionTime": "2019-10-13T20:26:47.775Z"
   },
   {
    "cell": {
     "executionCount": 9,
     "executionEventId": "e0395f3f-3edb-419f-b031-71539a1ffd51",
     "hasError": true,
     "id": "43e4da44-ce8f-4a91-8f78-e4238481e58d",
     "outputs": [
      {
       "name": "stdout",
       "output_type": "stream",
       "text": "0    A\n1    B\n2    A\n3    A\n4    B\nName: cat_col, dtype: object\n"
      },
      {
       "ename": "IndexError",
       "evalue": "too many indices for tensor of dimension 2",
       "output_type": "error",
       "traceback": [
        "\u001b[0;31m---------------------------------------------------------------------------\u001b[0m",
        "\u001b[0;31mIndexError\u001b[0m                                Traceback (most recent call last)",
        "\u001b[0;32m<ipython-input-9-d18f9f25ecbb>\u001b[0m in \u001b[0;36m<module>\u001b[0;34m\u001b[0m\n\u001b[1;32m      1\u001b[0m \u001b[0mprint\u001b[0m\u001b[0;34m(\u001b[0m\u001b[0mdf\u001b[0m\u001b[0;34m.\u001b[0m\u001b[0mcat_col\u001b[0m\u001b[0;34m)\u001b[0m\u001b[0;34m\u001b[0m\u001b[0;34m\u001b[0m\u001b[0m\n\u001b[0;32m----> 2\u001b[0;31m \u001b[0membedding_layer\u001b[0m\u001b[0;34m.\u001b[0m\u001b[0mweight\u001b[0m\u001b[0;34m[\u001b[0m\u001b[0mdf\u001b[0m\u001b[0;34m.\u001b[0m\u001b[0mcat_col\u001b[0m\u001b[0;34m]\u001b[0m\u001b[0;34m\u001b[0m\u001b[0;34m\u001b[0m\u001b[0m\n\u001b[0m",
        "\u001b[0;31mIndexError\u001b[0m: too many indices for tensor of dimension 2"
       ]
      }
     ],
     "persistentId": "1a709c37-cd75-4151-855e-ff3dffdea862",
     "text": "print(df.cat_col)\nembedding_layer.weight[df.cat_col]"
    },
    "executionTime": "2019-10-13T20:27:05.153Z"
   },
   {
    "cell": {
     "executionCount": 10,
     "executionEventId": "57b7a582-5cb8-441d-a5f8-5675eb44767c",
     "hasError": false,
     "id": "e68b8a99-c189-44c6-83d8-db75f66a7c78",
     "outputs": [
      {
       "name": "stdout",
       "output_type": "stream",
       "text": "   num_col cat_col\n0        0       A\n1        1       B\n2        2       A\n3        3       A\n4        4       B\n"
      }
     ],
     "persistentId": "26e50e24-cfe6-469c-a0b6-bbfb622594e6",
     "text": "import pandas as pd\nfrom torch import nn\nimport torch\nimport numpy as np\n\ndf = pd.DataFrame({'num_col': [0,1,2,3,4], 'cat_col': ['A', 'B', 'A', 'A', 'B',]})\nprint(df)"
    },
    "executionTime": "2019-10-13T20:27:12.085Z"
   },
   {
    "cell": {
     "executionCount": 11,
     "executionEventId": "261c87d3-81f1-43ef-9081-d7ae0027f44b",
     "hasError": false,
     "id": "90f3f113-6983-4389-a158-2a890b5c7d46",
     "outputs": [
      {
       "data": {
        "text/html": "<div>\n<style scoped>\n    .dataframe tbody tr th:only-of-type {\n        vertical-align: middle;\n    }\n\n    .dataframe tbody tr th {\n        vertical-align: top;\n    }\n\n    .dataframe thead th {\n        text-align: right;\n    }\n</style>\n<table border=\"1\" class=\"dataframe\">\n  <thead>\n    <tr style=\"text-align: right;\">\n      <th></th>\n      <th>num_col</th>\n      <th>cat_col</th>\n    </tr>\n  </thead>\n  <tbody>\n    <tr>\n      <td>0</td>\n      <td>0</td>\n      <td>0</td>\n    </tr>\n    <tr>\n      <td>1</td>\n      <td>1</td>\n      <td>1</td>\n    </tr>\n    <tr>\n      <td>2</td>\n      <td>2</td>\n      <td>0</td>\n    </tr>\n    <tr>\n      <td>3</td>\n      <td>3</td>\n      <td>0</td>\n    </tr>\n    <tr>\n      <td>4</td>\n      <td>4</td>\n      <td>1</td>\n    </tr>\n  </tbody>\n</table>\n</div>",
        "text/plain": "   num_col  cat_col\n0        0        0\n1        1        1\n2        2        0\n3        3        0\n4        4        1"
       },
       "execution_count": 11,
       "metadata": {},
       "output_type": "execute_result"
      }
     ],
     "persistentId": "c2a28be4-0f4c-4168-8864-a8d58c9f203f",
     "text": "from sklearn.preprocessing import LabelEncoder\n\nle = LabelEncoder()\ndf.cat_col = le.fit_transform(df.cat_col)\ndf\n"
    },
    "executionTime": "2019-10-13T20:27:12.944Z"
   },
   {
    "cell": {
     "executionCount": 12,
     "executionEventId": "9b1117a0-bfaf-4d65-97b0-9b613bc7f221",
     "hasError": false,
     "id": "addb871c-f56d-4918-bc22-dfaf3d2d8d55",
     "outputs": [
      {
       "data": {
        "text/plain": "Parameter containing:\ntensor([[-1.0420, -0.2601,  1.9042, -0.1016, -0.4973],\n        [ 1.7575,  0.2312,  1.8921,  0.5452, -1.1089]], requires_grad=True)"
       },
       "execution_count": 12,
       "metadata": {},
       "output_type": "execute_result"
      }
     ],
     "persistentId": "339da085-1ec4-4eda-99f8-cfb1fc66d03d",
     "text": "embedding_layer = nn.Embedding(2, 5)\nembedding_layer.weight"
    },
    "executionTime": "2019-10-13T20:27:13.978Z"
   },
   {
    "cell": {
     "executionCount": 13,
     "executionEventId": "4c1875e7-df92-4479-b28a-0714973cd033",
     "hasError": false,
     "id": "43e4da44-ce8f-4a91-8f78-e4238481e58d",
     "outputs": [
      {
       "name": "stdout",
       "output_type": "stream",
       "text": "0    0\n1    1\n2    0\n3    0\n4    1\nName: cat_col, dtype: int64\n"
      },
      {
       "data": {
        "text/plain": "tensor([[-1.0420, -0.2601,  1.9042, -0.1016, -0.4973],\n        [ 1.7575,  0.2312,  1.8921,  0.5452, -1.1089],\n        [-1.0420, -0.2601,  1.9042, -0.1016, -0.4973],\n        [-1.0420, -0.2601,  1.9042, -0.1016, -0.4973],\n        [ 1.7575,  0.2312,  1.8921,  0.5452, -1.1089]],\n       grad_fn=<IndexBackward>)"
       },
       "execution_count": 13,
       "metadata": {},
       "output_type": "execute_result"
      }
     ],
     "persistentId": "1a709c37-cd75-4151-855e-ff3dffdea862",
     "text": "print(df.cat_col)\nembedding_layer.weight[df.cat_col]"
    },
    "executionTime": "2019-10-13T20:27:14.516Z"
   },
   {
    "cell": {
     "executionCount": 14,
     "executionEventId": "d3e80da2-254b-4db2-b7cc-5a7e11897841",
     "hasError": false,
     "id": "43e4da44-ce8f-4a91-8f78-e4238481e58d",
     "outputs": [
      {
       "name": "stdout",
       "output_type": "stream",
       "text": "0    0\n1    1\n2    0\n3    0\n4    1\nName: cat_col, dtype: int64\n"
      },
      {
       "data": {
        "text/plain": "tensor([[-1.0420, -0.2601,  1.9042, -0.1016, -0.4973],\n        [ 1.7575,  0.2312,  1.8921,  0.5452, -1.1089],\n        [-1.0420, -0.2601,  1.9042, -0.1016, -0.4973],\n        [-1.0420, -0.2601,  1.9042, -0.1016, -0.4973],\n        [ 1.7575,  0.2312,  1.8921,  0.5452, -1.1089]],\n       grad_fn=<IndexBackward>)"
       },
       "execution_count": 14,
       "metadata": {},
       "output_type": "execute_result"
      }
     ],
     "persistentId": "1a709c37-cd75-4151-855e-ff3dffdea862",
     "text": "print(df.cat_col)\nembedding_layer.weight[df.cat_col]"
    },
    "executionTime": "2019-10-13T20:27:16.114Z"
   },
   {
    "cell": {
     "executionCount": 15,
     "executionEventId": "c799e009-f3ee-4447-90e7-2334d471d620",
     "hasError": false,
     "id": "90f3f113-6983-4389-a158-2a890b5c7d46",
     "outputs": [
      {
       "data": {
        "text/html": "<div>\n<style scoped>\n    .dataframe tbody tr th:only-of-type {\n        vertical-align: middle;\n    }\n\n    .dataframe tbody tr th {\n        vertical-align: top;\n    }\n\n    .dataframe thead th {\n        text-align: right;\n    }\n</style>\n<table border=\"1\" class=\"dataframe\">\n  <thead>\n    <tr style=\"text-align: right;\">\n      <th></th>\n      <th>num_col</th>\n      <th>cat_col</th>\n    </tr>\n  </thead>\n  <tbody>\n    <tr>\n      <td>0</td>\n      <td>0</td>\n      <td>0</td>\n    </tr>\n    <tr>\n      <td>1</td>\n      <td>1</td>\n      <td>1</td>\n    </tr>\n    <tr>\n      <td>2</td>\n      <td>2</td>\n      <td>0</td>\n    </tr>\n    <tr>\n      <td>3</td>\n      <td>3</td>\n      <td>0</td>\n    </tr>\n    <tr>\n      <td>4</td>\n      <td>4</td>\n      <td>1</td>\n    </tr>\n  </tbody>\n</table>\n</div>",
        "text/plain": "   num_col  cat_col\n0        0        0\n1        1        1\n2        2        0\n3        3        0\n4        4        1"
       },
       "execution_count": 15,
       "metadata": {},
       "output_type": "execute_result"
      }
     ],
     "persistentId": "c2a28be4-0f4c-4168-8864-a8d58c9f203f",
     "text": "from sklearn.preprocessing import LabelEncoder\n\nle = LabelEncoder()\ndf.cat_col = le.fit_transform(df.cat_col)\ndf\n"
    },
    "executionTime": "2019-10-13T20:27:45.280Z"
   },
   {
    "cell": {
     "executionCount": 16,
     "executionEventId": "0f11afdb-38f8-4aec-9502-82251e064645",
     "hasError": false,
     "id": "addb871c-f56d-4918-bc22-dfaf3d2d8d55",
     "outputs": [
      {
       "data": {
        "text/plain": "Parameter containing:\ntensor([[-1.7768,  0.6515, -1.1714,  0.6298, -0.3583],\n        [ 0.7440,  0.1020,  0.6331,  0.8409,  0.5512]], requires_grad=True)"
       },
       "execution_count": 16,
       "metadata": {},
       "output_type": "execute_result"
      }
     ],
     "persistentId": "339da085-1ec4-4eda-99f8-cfb1fc66d03d",
     "text": "embedding_layer = nn.Embedding(2, 5)\nembedding_layer.weight"
    },
    "executionTime": "2019-10-13T20:27:46.422Z"
   },
   {
    "cell": {
     "executionCount": 17,
     "executionEventId": "aa9d9ba1-2152-48d9-bf14-a19517550b54",
     "hasError": false,
     "id": "43e4da44-ce8f-4a91-8f78-e4238481e58d",
     "outputs": [
      {
       "name": "stdout",
       "output_type": "stream",
       "text": "0    0\n1    1\n2    0\n3    0\n4    1\nName: cat_col, dtype: int64\n"
      },
      {
       "data": {
        "text/plain": "tensor([[-1.7768,  0.6515, -1.1714,  0.6298, -0.3583],\n        [ 0.7440,  0.1020,  0.6331,  0.8409,  0.5512],\n        [-1.7768,  0.6515, -1.1714,  0.6298, -0.3583],\n        [-1.7768,  0.6515, -1.1714,  0.6298, -0.3583],\n        [ 0.7440,  0.1020,  0.6331,  0.8409,  0.5512]],\n       grad_fn=<IndexBackward>)"
       },
       "execution_count": 17,
       "metadata": {},
       "output_type": "execute_result"
      }
     ],
     "persistentId": "1a709c37-cd75-4151-855e-ff3dffdea862",
     "text": "print(df.cat_col)\nembedding_layer.weight[df.cat_col]"
    },
    "executionTime": "2019-10-13T20:27:47.785Z"
   },
   {
    "cell": {
     "executionCount": 18,
     "executionEventId": "8b55145e-7b5b-45b6-89ae-f1969440382d",
     "hasError": true,
     "id": "43e4da44-ce8f-4a91-8f78-e4238481e58d",
     "outputs": [
      {
       "name": "stdout",
       "output_type": "stream",
       "text": "0    0\n1    1\n2    0\n3    0\n4    1\nName: cat_col, dtype: int64\n"
      },
      {
       "ename": "TypeError",
       "evalue": "embedding(): argument 'indices' (position 2) must be Tensor, not Series",
       "output_type": "error",
       "traceback": [
        "\u001b[0;31m---------------------------------------------------------------------------\u001b[0m",
        "\u001b[0;31mTypeError\u001b[0m                                 Traceback (most recent call last)",
        "\u001b[0;32m<ipython-input-18-994be95887ff>\u001b[0m in \u001b[0;36m<module>\u001b[0;34m\u001b[0m\n\u001b[1;32m      2\u001b[0m \u001b[0;31m# embedding_layer.weight[df.cat_col]\u001b[0m\u001b[0;34m\u001b[0m\u001b[0;34m\u001b[0m\u001b[0;34m\u001b[0m\u001b[0m\n\u001b[1;32m      3\u001b[0m \u001b[0;34m\u001b[0m\u001b[0m\n\u001b[0;32m----> 4\u001b[0;31m \u001b[0membedding_layer\u001b[0m\u001b[0;34m(\u001b[0m\u001b[0mdf\u001b[0m\u001b[0;34m.\u001b[0m\u001b[0mcat_col\u001b[0m\u001b[0;34m)\u001b[0m\u001b[0;34m\u001b[0m\u001b[0;34m\u001b[0m\u001b[0m\n\u001b[0m",
        "\u001b[0;32m~/anaconda3/envs/dl/lib/python3.7/site-packages/torch/nn/modules/module.py\u001b[0m in \u001b[0;36m__call__\u001b[0;34m(self, *input, **kwargs)\u001b[0m\n\u001b[1;32m    539\u001b[0m             \u001b[0mresult\u001b[0m \u001b[0;34m=\u001b[0m \u001b[0mself\u001b[0m\u001b[0;34m.\u001b[0m\u001b[0m_slow_forward\u001b[0m\u001b[0;34m(\u001b[0m\u001b[0;34m*\u001b[0m\u001b[0minput\u001b[0m\u001b[0;34m,\u001b[0m \u001b[0;34m**\u001b[0m\u001b[0mkwargs\u001b[0m\u001b[0;34m)\u001b[0m\u001b[0;34m\u001b[0m\u001b[0;34m\u001b[0m\u001b[0m\n\u001b[1;32m    540\u001b[0m         \u001b[0;32melse\u001b[0m\u001b[0;34m:\u001b[0m\u001b[0;34m\u001b[0m\u001b[0;34m\u001b[0m\u001b[0m\n\u001b[0;32m--> 541\u001b[0;31m             \u001b[0mresult\u001b[0m \u001b[0;34m=\u001b[0m \u001b[0mself\u001b[0m\u001b[0;34m.\u001b[0m\u001b[0mforward\u001b[0m\u001b[0;34m(\u001b[0m\u001b[0;34m*\u001b[0m\u001b[0minput\u001b[0m\u001b[0;34m,\u001b[0m \u001b[0;34m**\u001b[0m\u001b[0mkwargs\u001b[0m\u001b[0;34m)\u001b[0m\u001b[0;34m\u001b[0m\u001b[0;34m\u001b[0m\u001b[0m\n\u001b[0m\u001b[1;32m    542\u001b[0m         \u001b[0;32mfor\u001b[0m \u001b[0mhook\u001b[0m \u001b[0;32min\u001b[0m \u001b[0mself\u001b[0m\u001b[0;34m.\u001b[0m\u001b[0m_forward_hooks\u001b[0m\u001b[0;34m.\u001b[0m\u001b[0mvalues\u001b[0m\u001b[0;34m(\u001b[0m\u001b[0;34m)\u001b[0m\u001b[0;34m:\u001b[0m\u001b[0;34m\u001b[0m\u001b[0;34m\u001b[0m\u001b[0m\n\u001b[1;32m    543\u001b[0m             \u001b[0mhook_result\u001b[0m \u001b[0;34m=\u001b[0m \u001b[0mhook\u001b[0m\u001b[0;34m(\u001b[0m\u001b[0mself\u001b[0m\u001b[0;34m,\u001b[0m \u001b[0minput\u001b[0m\u001b[0;34m,\u001b[0m \u001b[0mresult\u001b[0m\u001b[0;34m)\u001b[0m\u001b[0;34m\u001b[0m\u001b[0;34m\u001b[0m\u001b[0m\n",
        "\u001b[0;32m~/anaconda3/envs/dl/lib/python3.7/site-packages/torch/nn/modules/sparse.py\u001b[0m in \u001b[0;36mforward\u001b[0;34m(self, input)\u001b[0m\n\u001b[1;32m    112\u001b[0m         return F.embedding(\n\u001b[1;32m    113\u001b[0m             \u001b[0minput\u001b[0m\u001b[0;34m,\u001b[0m \u001b[0mself\u001b[0m\u001b[0;34m.\u001b[0m\u001b[0mweight\u001b[0m\u001b[0;34m,\u001b[0m \u001b[0mself\u001b[0m\u001b[0;34m.\u001b[0m\u001b[0mpadding_idx\u001b[0m\u001b[0;34m,\u001b[0m \u001b[0mself\u001b[0m\u001b[0;34m.\u001b[0m\u001b[0mmax_norm\u001b[0m\u001b[0;34m,\u001b[0m\u001b[0;34m\u001b[0m\u001b[0;34m\u001b[0m\u001b[0m\n\u001b[0;32m--> 114\u001b[0;31m             self.norm_type, self.scale_grad_by_freq, self.sparse)\n\u001b[0m\u001b[1;32m    115\u001b[0m \u001b[0;34m\u001b[0m\u001b[0m\n\u001b[1;32m    116\u001b[0m     \u001b[0;32mdef\u001b[0m \u001b[0mextra_repr\u001b[0m\u001b[0;34m(\u001b[0m\u001b[0mself\u001b[0m\u001b[0;34m)\u001b[0m\u001b[0;34m:\u001b[0m\u001b[0;34m\u001b[0m\u001b[0;34m\u001b[0m\u001b[0m\n",
        "\u001b[0;32m~/anaconda3/envs/dl/lib/python3.7/site-packages/torch/nn/functional.py\u001b[0m in \u001b[0;36membedding\u001b[0;34m(input, weight, padding_idx, max_norm, norm_type, scale_grad_by_freq, sparse)\u001b[0m\n\u001b[1;32m   1482\u001b[0m         \u001b[0;31m# remove once script supports set_grad_enabled\u001b[0m\u001b[0;34m\u001b[0m\u001b[0;34m\u001b[0m\u001b[0;34m\u001b[0m\u001b[0m\n\u001b[1;32m   1483\u001b[0m         \u001b[0m_no_grad_embedding_renorm_\u001b[0m\u001b[0;34m(\u001b[0m\u001b[0mweight\u001b[0m\u001b[0;34m,\u001b[0m \u001b[0minput\u001b[0m\u001b[0;34m,\u001b[0m \u001b[0mmax_norm\u001b[0m\u001b[0;34m,\u001b[0m \u001b[0mnorm_type\u001b[0m\u001b[0;34m)\u001b[0m\u001b[0;34m\u001b[0m\u001b[0;34m\u001b[0m\u001b[0m\n\u001b[0;32m-> 1484\u001b[0;31m     \u001b[0;32mreturn\u001b[0m \u001b[0mtorch\u001b[0m\u001b[0;34m.\u001b[0m\u001b[0membedding\u001b[0m\u001b[0;34m(\u001b[0m\u001b[0mweight\u001b[0m\u001b[0;34m,\u001b[0m \u001b[0minput\u001b[0m\u001b[0;34m,\u001b[0m \u001b[0mpadding_idx\u001b[0m\u001b[0;34m,\u001b[0m \u001b[0mscale_grad_by_freq\u001b[0m\u001b[0;34m,\u001b[0m \u001b[0msparse\u001b[0m\u001b[0;34m)\u001b[0m\u001b[0;34m\u001b[0m\u001b[0;34m\u001b[0m\u001b[0m\n\u001b[0m\u001b[1;32m   1485\u001b[0m \u001b[0;34m\u001b[0m\u001b[0m\n\u001b[1;32m   1486\u001b[0m \u001b[0;34m\u001b[0m\u001b[0m\n",
        "\u001b[0;31mTypeError\u001b[0m: embedding(): argument 'indices' (position 2) must be Tensor, not Series"
       ]
      }
     ],
     "persistentId": "1a709c37-cd75-4151-855e-ff3dffdea862",
     "text": "print(df.cat_col)\n# embedding_layer.weight[df.cat_col]\n\nembedding_layer(df.cat_col)"
    },
    "executionTime": "2019-10-13T20:29:00.131Z"
   },
   {
    "cell": {
     "executionCount": 19,
     "executionEventId": "e2309df9-9c79-401e-992a-c0ac2c9bd344",
     "hasError": false,
     "id": "43e4da44-ce8f-4a91-8f78-e4238481e58d",
     "outputs": [
      {
       "name": "stdout",
       "output_type": "stream",
       "text": "0    0\n1    1\n2    0\n3    0\n4    1\nName: cat_col, dtype: int64\n"
      },
      {
       "data": {
        "text/plain": "tensor([[-1.7768,  0.6515, -1.1714,  0.6298, -0.3583],\n        [ 0.7440,  0.1020,  0.6331,  0.8409,  0.5512],\n        [-1.7768,  0.6515, -1.1714,  0.6298, -0.3583],\n        [-1.7768,  0.6515, -1.1714,  0.6298, -0.3583],\n        [ 0.7440,  0.1020,  0.6331,  0.8409,  0.5512]],\n       grad_fn=<EmbeddingBackward>)"
       },
       "execution_count": 19,
       "metadata": {},
       "output_type": "execute_result"
      }
     ],
     "persistentId": "1a709c37-cd75-4151-855e-ff3dffdea862",
     "text": "print(df.cat_col)\n# embedding_layer.weight[df.cat_col]\n\nembedding_layer(torch.tensor(df.cat_col))"
    },
    "executionTime": "2019-10-13T20:29:13.452Z"
   },
   {
    "cell": {
     "executionCount": 20,
     "executionEventId": "c72a3d80-07af-4e2b-81d3-53984541dccb",
     "hasError": false,
     "id": "43e4da44-ce8f-4a91-8f78-e4238481e58d",
     "outputs": [
      {
       "data": {
        "text/plain": "tensor([[-1.7768,  0.6515, -1.1714,  0.6298, -0.3583],\n        [ 0.7440,  0.1020,  0.6331,  0.8409,  0.5512],\n        [-1.7768,  0.6515, -1.1714,  0.6298, -0.3583],\n        [-1.7768,  0.6515, -1.1714,  0.6298, -0.3583],\n        [ 0.7440,  0.1020,  0.6331,  0.8409,  0.5512]],\n       grad_fn=<EmbeddingBackward>)"
       },
       "execution_count": 20,
       "metadata": {},
       "output_type": "execute_result"
      }
     ],
     "persistentId": "1a709c37-cd75-4151-855e-ff3dffdea862",
     "text": "# print(df.cat_col)\n# embedding_layer.weight[df.cat_col]\n\nembedding_layer(torch.tensor(df.cat_col))"
    },
    "executionTime": "2019-10-13T20:29:26.908Z"
   },
   {
    "cell": {
     "executionCount": 21,
     "executionEventId": "210cfabb-6829-4a4b-9f6c-86241c71a42c",
     "hasError": false,
     "id": "43e4da44-ce8f-4a91-8f78-e4238481e58d",
     "outputs": [
      {
       "data": {
        "text/plain": "tensor([[-1.7768,  0.6515, -1.1714,  0.6298, -0.3583],\n        [ 0.7440,  0.1020,  0.6331,  0.8409,  0.5512],\n        [-1.7768,  0.6515, -1.1714,  0.6298, -0.3583],\n        [-1.7768,  0.6515, -1.1714,  0.6298, -0.3583],\n        [ 0.7440,  0.1020,  0.6331,  0.8409,  0.5512]],\n       grad_fn=<EmbeddingBackward>)"
       },
       "execution_count": 21,
       "metadata": {},
       "output_type": "execute_result"
      }
     ],
     "persistentId": "1a709c37-cd75-4151-855e-ff3dffdea862",
     "text": "# print(df.cat_col)\n# embedding_layer.weight[df.cat_col]\n\nembedding_layer(torch.tensor(df.cat_col))"
    },
    "executionTime": "2019-10-13T20:29:27.904Z"
   },
   {
    "cell": {
     "executionCount": 22,
     "executionEventId": "19aa9dbf-405c-4f35-8d42-e17718772858",
     "hasError": false,
     "id": "43e4da44-ce8f-4a91-8f78-e4238481e58d",
     "outputs": [
      {
       "data": {
        "text/plain": "tensor([[-1.7768,  0.6515, -1.1714,  0.6298, -0.3583],\n        [ 0.7440,  0.1020,  0.6331,  0.8409,  0.5512],\n        [-1.7768,  0.6515, -1.1714,  0.6298, -0.3583],\n        [-1.7768,  0.6515, -1.1714,  0.6298, -0.3583],\n        [ 0.7440,  0.1020,  0.6331,  0.8409,  0.5512]],\n       grad_fn=<EmbeddingBackward>)"
       },
       "execution_count": 22,
       "metadata": {},
       "output_type": "execute_result"
      }
     ],
     "persistentId": "1a709c37-cd75-4151-855e-ff3dffdea862",
     "text": "# print(df.cat_col)\n# embedding_layer.weight[df.cat_col]\n\nembedding_layer(torch.tensor(df.cat_col))"
    },
    "executionTime": "2019-10-13T20:29:28.362Z"
   },
   {
    "cell": {
     "executionCount": 23,
     "executionEventId": "14e449d6-4abc-4169-9c4b-c6139c8fbc63",
     "hasError": false,
     "id": "43e4da44-ce8f-4a91-8f78-e4238481e58d",
     "outputs": [
      {
       "data": {
        "text/plain": "tensor([[-1.7768,  0.6515, -1.1714,  0.6298, -0.3583],\n        [ 0.7440,  0.1020,  0.6331,  0.8409,  0.5512],\n        [-1.7768,  0.6515, -1.1714,  0.6298, -0.3583],\n        [-1.7768,  0.6515, -1.1714,  0.6298, -0.3583],\n        [ 0.7440,  0.1020,  0.6331,  0.8409,  0.5512]],\n       grad_fn=<EmbeddingBackward>)"
       },
       "execution_count": 23,
       "metadata": {},
       "output_type": "execute_result"
      }
     ],
     "persistentId": "1a709c37-cd75-4151-855e-ff3dffdea862",
     "text": "# print(df.cat_col)\n# embedding_layer.weight[df.cat_col]\n\nembedding_layer(torch.tensor(df.cat_col))"
    },
    "executionTime": "2019-10-13T20:29:28.883Z"
   },
   {
    "cell": {
     "executionCount": 24,
     "executionEventId": "536c27aa-759b-4edf-abdf-9387e980d333",
     "hasError": false,
     "id": "43e4da44-ce8f-4a91-8f78-e4238481e58d",
     "outputs": [
      {
       "name": "stdout",
       "output_type": "stream",
       "text": "0    0\n1    1\n2    0\n3    0\n4    1\nName: cat_col, dtype: int64\n"
      },
      {
       "data": {
        "text/plain": "tensor([[-1.7768,  0.6515, -1.1714,  0.6298, -0.3583],\n        [ 0.7440,  0.1020,  0.6331,  0.8409,  0.5512],\n        [-1.7768,  0.6515, -1.1714,  0.6298, -0.3583],\n        [-1.7768,  0.6515, -1.1714,  0.6298, -0.3583],\n        [ 0.7440,  0.1020,  0.6331,  0.8409,  0.5512]],\n       grad_fn=<EmbeddingBackward>)"
       },
       "execution_count": 24,
       "metadata": {},
       "output_type": "execute_result"
      }
     ],
     "persistentId": "1a709c37-cd75-4151-855e-ff3dffdea862",
     "text": "print(df.cat_col)\nembedding_layer.weight[df.cat_col]\nembedding_layer(torch.tensor(df.cat_col))"
    },
    "executionTime": "2019-10-13T20:30:26.780Z"
   },
   {
    "cell": {
     "executionCount": 25,
     "executionEventId": "abacf684-bf57-4117-a7ee-41f6d836ee4d",
     "hasError": false,
     "id": "addb871c-f56d-4918-bc22-dfaf3d2d8d55",
     "outputs": [
      {
       "data": {
        "text/plain": "Parameter containing:\ntensor([[ 1.9155,  2.4608,  1.0199, -0.0116, -1.0563],\n        [ 0.0390,  0.7546,  1.0426, -0.3201, -0.8174]], requires_grad=True)"
       },
       "execution_count": 25,
       "metadata": {},
       "output_type": "execute_result"
      }
     ],
     "persistentId": "339da085-1ec4-4eda-99f8-cfb1fc66d03d",
     "text": "embedding_layer = nn.Embedding(2, 5)\nembedding_layer.weight"
    },
    "executionTime": "2019-10-13T20:30:29.838Z"
   },
   {
    "cell": {
     "executionCount": 26,
     "executionEventId": "33ea1d26-30ae-4a33-9d13-e9c15214a891",
     "hasError": false,
     "id": "ec9267b8-22b9-44bf-9d07-82bcfa7b4434",
     "outputs": [],
     "persistentId": "c3fa9ac2-3bd6-40b5-88d6-e2e9f7c5ed07",
     "text": "# YOUR CODE"
    },
    "executionTime": "2019-10-13T20:31:03.034Z"
   },
   {
    "cell": {
     "executionCount": 1,
     "executionEventId": "7040c85c-c91c-422f-a845-811a87692b9a",
     "hasError": true,
     "id": "dbfbf6c3-584e-4df1-85cc-0fdb7ac4c993",
     "outputs": [
      {
       "ename": "NameError",
       "evalue": "name 'df' is not defined",
       "output_type": "error",
       "traceback": [
        "\u001b[0;31m---------------------------------------------------------------------------\u001b[0m",
        "\u001b[0;31mNameError\u001b[0m                                 Traceback (most recent call last)",
        "\u001b[0;32m<ipython-input-1-b308226e5f5e>\u001b[0m in \u001b[0;36m<module>\u001b[0;34m\u001b[0m\n\u001b[0;32m----> 1\u001b[0;31m \u001b[0mprint\u001b[0m\u001b[0;34m(\u001b[0m\u001b[0mdf\u001b[0m\u001b[0;34m.\u001b[0m\u001b[0mcat_col\u001b[0m\u001b[0;34m)\u001b[0m\u001b[0;34m\u001b[0m\u001b[0;34m\u001b[0m\u001b[0m\n\u001b[0m\u001b[1;32m      2\u001b[0m \u001b[0membedding_layer\u001b[0m\u001b[0;34m.\u001b[0m\u001b[0mweight\u001b[0m\u001b[0;34m[\u001b[0m\u001b[0mdf\u001b[0m\u001b[0;34m.\u001b[0m\u001b[0mcat_col\u001b[0m\u001b[0;34m]\u001b[0m\u001b[0;34m\u001b[0m\u001b[0;34m\u001b[0m\u001b[0m\n\u001b[1;32m      3\u001b[0m \u001b[0membedding_layer\u001b[0m\u001b[0;34m(\u001b[0m\u001b[0mtorch\u001b[0m\u001b[0;34m.\u001b[0m\u001b[0mtensor\u001b[0m\u001b[0;34m(\u001b[0m\u001b[0mdf\u001b[0m\u001b[0;34m.\u001b[0m\u001b[0mcat_col\u001b[0m\u001b[0;34m)\u001b[0m\u001b[0;34m)\u001b[0m\u001b[0;34m\u001b[0m\u001b[0;34m\u001b[0m\u001b[0m\n",
        "\u001b[0;31mNameError\u001b[0m: name 'df' is not defined"
       ]
      }
     ],
     "persistentId": "1a709c37-cd75-4151-855e-ff3dffdea862",
     "text": "print(df.cat_col)\nembedding_layer.weight[df.cat_col]\nembedding_layer(torch.tensor(df.cat_col))"
    },
    "executionTime": "2019-10-13T20:32:49.911Z"
   },
   {
    "cell": {
     "executionCount": 2,
     "executionEventId": "a12a37ff-ea49-414c-be0b-cb53a1d5e78d",
     "hasError": false,
     "id": "35080ff2-e332-44f2-908d-c9dd1aa91221",
     "outputs": [
      {
       "name": "stdout",
       "output_type": "stream",
       "text": "   num_col cat_col\n0        0       A\n1        1       B\n2        2       A\n3        3       A\n4        4       B\n"
      }
     ],
     "persistentId": "26e50e24-cfe6-469c-a0b6-bbfb622594e6",
     "text": "import pandas as pd\nfrom torch import nn\nimport torch\nimport numpy as np\n\ndf = pd.DataFrame({'num_col': [0,1,2,3,4], 'cat_col': ['A', 'B', 'A', 'A', 'B',]})\nprint(df)"
    },
    "executionTime": "2019-10-13T20:32:56.953Z"
   },
   {
    "cell": {
     "executionCount": 3,
     "executionEventId": "6714af48-9eec-4851-8047-976f4582d3dc",
     "hasError": false,
     "id": "df2d32f6-fab1-4600-a9cc-19206f2a8328",
     "outputs": [
      {
       "data": {
        "text/html": "<div>\n<style scoped>\n    .dataframe tbody tr th:only-of-type {\n        vertical-align: middle;\n    }\n\n    .dataframe tbody tr th {\n        vertical-align: top;\n    }\n\n    .dataframe thead th {\n        text-align: right;\n    }\n</style>\n<table border=\"1\" class=\"dataframe\">\n  <thead>\n    <tr style=\"text-align: right;\">\n      <th></th>\n      <th>num_col</th>\n      <th>cat_col</th>\n    </tr>\n  </thead>\n  <tbody>\n    <tr>\n      <td>0</td>\n      <td>0</td>\n      <td>0</td>\n    </tr>\n    <tr>\n      <td>1</td>\n      <td>1</td>\n      <td>1</td>\n    </tr>\n    <tr>\n      <td>2</td>\n      <td>2</td>\n      <td>0</td>\n    </tr>\n    <tr>\n      <td>3</td>\n      <td>3</td>\n      <td>0</td>\n    </tr>\n    <tr>\n      <td>4</td>\n      <td>4</td>\n      <td>1</td>\n    </tr>\n  </tbody>\n</table>\n</div>",
        "text/plain": "   num_col  cat_col\n0        0        0\n1        1        1\n2        2        0\n3        3        0\n4        4        1"
       },
       "execution_count": 3,
       "metadata": {},
       "output_type": "execute_result"
      }
     ],
     "persistentId": "c2a28be4-0f4c-4168-8864-a8d58c9f203f",
     "text": "from sklearn.preprocessing import LabelEncoder\n\nle = LabelEncoder()\ndf.cat_col = le.fit_transform(df.cat_col)\ndf\n"
    },
    "executionTime": "2019-10-13T20:32:56.980Z"
   },
   {
    "cell": {
     "executionCount": 4,
     "executionEventId": "0343b8b0-ec46-4a3f-b4d4-a793128422f6",
     "hasError": false,
     "id": "3e220f21-9217-478d-b4d6-ae05fcc79c86",
     "outputs": [
      {
       "data": {
        "text/plain": "Parameter containing:\ntensor([[-0.2327,  0.5648,  1.7428, -1.3169, -2.1947],\n        [ 1.4607, -0.3352, -0.3484, -2.0949,  0.8337]], requires_grad=True)"
       },
       "execution_count": 4,
       "metadata": {},
       "output_type": "execute_result"
      }
     ],
     "persistentId": "339da085-1ec4-4eda-99f8-cfb1fc66d03d",
     "text": "embedding_layer = nn.Embedding(2, 5)\nembedding_layer.weight"
    },
    "executionTime": "2019-10-13T20:32:57.064Z"
   },
   {
    "cell": {
     "executionCount": 5,
     "executionEventId": "2971b880-2b81-44f9-a480-ea57c10bbd9a",
     "hasError": false,
     "id": "dbfbf6c3-584e-4df1-85cc-0fdb7ac4c993",
     "outputs": [
      {
       "name": "stdout",
       "output_type": "stream",
       "text": "0    0\n1    1\n2    0\n3    0\n4    1\nName: cat_col, dtype: int64\n"
      },
      {
       "data": {
        "text/plain": "tensor([[-0.2327,  0.5648,  1.7428, -1.3169, -2.1947],\n        [ 1.4607, -0.3352, -0.3484, -2.0949,  0.8337],\n        [-0.2327,  0.5648,  1.7428, -1.3169, -2.1947],\n        [-0.2327,  0.5648,  1.7428, -1.3169, -2.1947],\n        [ 1.4607, -0.3352, -0.3484, -2.0949,  0.8337]],\n       grad_fn=<EmbeddingBackward>)"
       },
       "execution_count": 5,
       "metadata": {},
       "output_type": "execute_result"
      }
     ],
     "persistentId": "1a709c37-cd75-4151-855e-ff3dffdea862",
     "text": "print(df.cat_col)\nembedding_layer.weight[df.cat_col]\nembedding_layer(torch.tensor(df.cat_col))"
    },
    "executionTime": "2019-10-13T20:32:57.118Z"
   },
   {
    "cell": {
     "executionCount": 6,
     "executionEventId": "24a9f942-2188-4a9d-b338-4fbce4e29391",
     "hasError": false,
     "id": "dbfbf6c3-584e-4df1-85cc-0fdb7ac4c993",
     "outputs": [
      {
       "name": "stdout",
       "output_type": "stream",
       "text": "0    0\n1    1\n2    0\n3    0\n4    1\nName: cat_col, dtype: int64\n"
      }
     ],
     "persistentId": "1a709c37-cd75-4151-855e-ff3dffdea862",
     "text": "print(df.cat_col)\nembedding_layer.weight[df.cat_col]\nembed = embedding_layer(torch.tensor(df.cat_col))"
    },
    "executionTime": "2019-10-13T20:33:12.331Z"
   },
   {
    "cell": {
     "executionCount": 7,
     "executionEventId": "94f016df-7948-409d-afb8-1fbff87fa9df",
     "hasError": true,
     "id": "1cc01286-79d0-4ca5-b04c-241ef50b1c5b",
     "outputs": [
      {
       "ename": "RuntimeError",
       "evalue": "Expected object of scalar type Float but got scalar type Long for sequence element 1 in sequence argument at position #1 'tensors'",
       "output_type": "error",
       "traceback": [
        "\u001b[0;31m---------------------------------------------------------------------------\u001b[0m",
        "\u001b[0;31mRuntimeError\u001b[0m                              Traceback (most recent call last)",
        "\u001b[0;32m<ipython-input-7-e040a08413ee>\u001b[0m in \u001b[0;36m<module>\u001b[0;34m\u001b[0m\n\u001b[0;32m----> 1\u001b[0;31m \u001b[0mtorch\u001b[0m\u001b[0;34m.\u001b[0m\u001b[0mcat\u001b[0m\u001b[0;34m(\u001b[0m\u001b[0;34m[\u001b[0m\u001b[0membed\u001b[0m\u001b[0;34m,\u001b[0m \u001b[0mtorch\u001b[0m\u001b[0;34m.\u001b[0m\u001b[0mtensor\u001b[0m\u001b[0;34m(\u001b[0m\u001b[0mdf\u001b[0m\u001b[0;34m.\u001b[0m\u001b[0mnum_col\u001b[0m\u001b[0;34m)\u001b[0m\u001b[0;34m]\u001b[0m\u001b[0;34m)\u001b[0m\u001b[0;34m\u001b[0m\u001b[0;34m\u001b[0m\u001b[0m\n\u001b[0m",
        "\u001b[0;31mRuntimeError\u001b[0m: Expected object of scalar type Float but got scalar type Long for sequence element 1 in sequence argument at position #1 'tensors'"
       ]
      }
     ],
     "persistentId": "c3fa9ac2-3bd6-40b5-88d6-e2e9f7c5ed07",
     "text": "torch.cat([embed, torch.tensor(df.num_col)])"
    },
    "executionTime": "2019-10-13T20:33:23.757Z"
   },
   {
    "cell": {
     "executionCount": 8,
     "executionEventId": "d4cdc84f-d721-4a0e-b4a8-10ca0ad518d8",
     "hasError": true,
     "id": "1cc01286-79d0-4ca5-b04c-241ef50b1c5b",
     "outputs": [
      {
       "ename": "RuntimeError",
       "evalue": "Expected object of scalar type Float but got scalar type Long for sequence element 1 in sequence argument at position #1 'tensors'",
       "output_type": "error",
       "traceback": [
        "\u001b[0;31m---------------------------------------------------------------------------\u001b[0m",
        "\u001b[0;31mRuntimeError\u001b[0m                              Traceback (most recent call last)",
        "\u001b[0;32m<ipython-input-8-e040a08413ee>\u001b[0m in \u001b[0;36m<module>\u001b[0;34m\u001b[0m\n\u001b[0;32m----> 1\u001b[0;31m \u001b[0mtorch\u001b[0m\u001b[0;34m.\u001b[0m\u001b[0mcat\u001b[0m\u001b[0;34m(\u001b[0m\u001b[0;34m[\u001b[0m\u001b[0membed\u001b[0m\u001b[0;34m,\u001b[0m \u001b[0mtorch\u001b[0m\u001b[0;34m.\u001b[0m\u001b[0mtensor\u001b[0m\u001b[0;34m(\u001b[0m\u001b[0mdf\u001b[0m\u001b[0;34m.\u001b[0m\u001b[0mnum_col\u001b[0m\u001b[0;34m)\u001b[0m\u001b[0;34m]\u001b[0m\u001b[0;34m)\u001b[0m\u001b[0;34m\u001b[0m\u001b[0;34m\u001b[0m\u001b[0m\n\u001b[0m",
        "\u001b[0;31mRuntimeError\u001b[0m: Expected object of scalar type Float but got scalar type Long for sequence element 1 in sequence argument at position #1 'tensors'"
       ]
      }
     ],
     "persistentId": "c3fa9ac2-3bd6-40b5-88d6-e2e9f7c5ed07",
     "text": "torch.cat([embed, torch.tensor(df.num_col)])"
    },
    "executionTime": "2019-10-13T20:33:37.818Z"
   },
   {
    "cell": {
     "executionCount": 9,
     "executionEventId": "0e8293cf-d7fb-4b32-b885-b925c42f5044",
     "hasError": false,
     "id": "d5e62cc9-8f71-4ae7-8402-67c8fc2351b4",
     "outputs": [
      {
       "data": {
        "text/plain": "tensor([0, 1, 2, 3, 4])"
       },
       "execution_count": 9,
       "metadata": {},
       "output_type": "execute_result"
      }
     ],
     "persistentId": "fa3d8ecc-75c2-4abc-8d01-c3fee3e4c007",
     "text": "torch.tensor(df.num_col)"
    },
    "executionTime": "2019-10-13T20:33:42.280Z"
   },
   {
    "cell": {
     "executionCount": 10,
     "executionEventId": "bbd553cb-d1f1-4e0a-9213-1f4d05530ab0",
     "hasError": false,
     "id": "d5e62cc9-8f71-4ae7-8402-67c8fc2351b4",
     "outputs": [
      {
       "data": {
        "text/plain": "tensor([[-0.2327,  0.5648,  1.7428, -1.3169, -2.1947],\n        [ 1.4607, -0.3352, -0.3484, -2.0949,  0.8337],\n        [-0.2327,  0.5648,  1.7428, -1.3169, -2.1947],\n        [-0.2327,  0.5648,  1.7428, -1.3169, -2.1947],\n        [ 1.4607, -0.3352, -0.3484, -2.0949,  0.8337]],\n       grad_fn=<EmbeddingBackward>)"
       },
       "execution_count": 10,
       "metadata": {},
       "output_type": "execute_result"
      }
     ],
     "persistentId": "fa3d8ecc-75c2-4abc-8d01-c3fee3e4c007",
     "text": "embed"
    },
    "executionTime": "2019-10-13T20:33:49.922Z"
   },
   {
    "cell": {
     "executionCount": 11,
     "executionEventId": "f04862cf-db70-4f44-ab99-a10e37657636",
     "hasError": true,
     "id": "1cc01286-79d0-4ca5-b04c-241ef50b1c5b",
     "outputs": [
      {
       "ename": "RuntimeError",
       "evalue": "invalid argument 0: Tensors must have same number of dimensions: got 2 and 1 at /opt/conda/conda-bld/pytorch_1570710718161/work/aten/src/TH/generic/THTensor.cpp:680",
       "output_type": "error",
       "traceback": [
        "\u001b[0;31m---------------------------------------------------------------------------\u001b[0m",
        "\u001b[0;31mRuntimeError\u001b[0m                              Traceback (most recent call last)",
        "\u001b[0;32m<ipython-input-11-6c430467af5d>\u001b[0m in \u001b[0;36m<module>\u001b[0;34m\u001b[0m\n\u001b[0;32m----> 1\u001b[0;31m \u001b[0mtorch\u001b[0m\u001b[0;34m.\u001b[0m\u001b[0mcat\u001b[0m\u001b[0;34m(\u001b[0m\u001b[0;34m[\u001b[0m\u001b[0membed\u001b[0m\u001b[0;34m,\u001b[0m \u001b[0mtorch\u001b[0m\u001b[0;34m.\u001b[0m\u001b[0mtensor\u001b[0m\u001b[0;34m(\u001b[0m\u001b[0mdf\u001b[0m\u001b[0;34m.\u001b[0m\u001b[0mnum_col\u001b[0m\u001b[0;34m)\u001b[0m\u001b[0;34m.\u001b[0m\u001b[0mfloat\u001b[0m\u001b[0;34m(\u001b[0m\u001b[0;34m)\u001b[0m\u001b[0;34m]\u001b[0m\u001b[0;34m)\u001b[0m\u001b[0;34m\u001b[0m\u001b[0;34m\u001b[0m\u001b[0m\n\u001b[0m",
        "\u001b[0;31mRuntimeError\u001b[0m: invalid argument 0: Tensors must have same number of dimensions: got 2 and 1 at /opt/conda/conda-bld/pytorch_1570710718161/work/aten/src/TH/generic/THTensor.cpp:680"
       ]
      }
     ],
     "persistentId": "c3fa9ac2-3bd6-40b5-88d6-e2e9f7c5ed07",
     "text": "torch.cat([embed, torch.tensor(df.num_col).float()])"
    },
    "executionTime": "2019-10-13T20:33:54.643Z"
   },
   {
    "cell": {
     "executionCount": 12,
     "executionEventId": "0c0d36ab-c495-4b34-a0f2-ee1c16a667c8",
     "hasError": true,
     "id": "1cc01286-79d0-4ca5-b04c-241ef50b1c5b",
     "outputs": [
      {
       "ename": "RuntimeError",
       "evalue": "invalid argument 0: Tensors must have same number of dimensions: got 2 and 1 at /opt/conda/conda-bld/pytorch_1570710718161/work/aten/src/TH/generic/THTensor.cpp:680",
       "output_type": "error",
       "traceback": [
        "\u001b[0;31m---------------------------------------------------------------------------\u001b[0m",
        "\u001b[0;31mRuntimeError\u001b[0m                              Traceback (most recent call last)",
        "\u001b[0;32m<ipython-input-12-289bc7f08e55>\u001b[0m in \u001b[0;36m<module>\u001b[0;34m\u001b[0m\n\u001b[0;32m----> 1\u001b[0;31m \u001b[0mtorch\u001b[0m\u001b[0;34m.\u001b[0m\u001b[0mcat\u001b[0m\u001b[0;34m(\u001b[0m\u001b[0;34m[\u001b[0m\u001b[0membed\u001b[0m\u001b[0;34m,\u001b[0m \u001b[0mtorch\u001b[0m\u001b[0;34m.\u001b[0m\u001b[0mtensor\u001b[0m\u001b[0;34m(\u001b[0m\u001b[0mdf\u001b[0m\u001b[0;34m.\u001b[0m\u001b[0mnum_col\u001b[0m\u001b[0;34m)\u001b[0m\u001b[0;34m.\u001b[0m\u001b[0mfloat\u001b[0m\u001b[0;34m(\u001b[0m\u001b[0;34m)\u001b[0m\u001b[0;34m]\u001b[0m\u001b[0;34m,\u001b[0m \u001b[0maxis\u001b[0m\u001b[0;34m=\u001b[0m\u001b[0;36m1\u001b[0m\u001b[0;34m)\u001b[0m\u001b[0;34m\u001b[0m\u001b[0;34m\u001b[0m\u001b[0m\n\u001b[0m",
        "\u001b[0;31mRuntimeError\u001b[0m: invalid argument 0: Tensors must have same number of dimensions: got 2 and 1 at /opt/conda/conda-bld/pytorch_1570710718161/work/aten/src/TH/generic/THTensor.cpp:680"
       ]
      }
     ],
     "persistentId": "c3fa9ac2-3bd6-40b5-88d6-e2e9f7c5ed07",
     "text": "torch.cat([embed, torch.tensor(df.num_col).float()], axis=1)"
    },
    "executionTime": "2019-10-13T20:34:01.121Z"
   },
   {
    "cell": {
     "executionCount": 13,
     "executionEventId": "69611268-9408-48ea-963d-67a8144e3d0c",
     "hasError": true,
     "id": "1cc01286-79d0-4ca5-b04c-241ef50b1c5b",
     "outputs": [
      {
       "ename": "RuntimeError",
       "evalue": "invalid argument 0: Tensors must have same number of dimensions: got 2 and 1 at /opt/conda/conda-bld/pytorch_1570710718161/work/aten/src/TH/generic/THTensor.cpp:680",
       "output_type": "error",
       "traceback": [
        "\u001b[0;31m---------------------------------------------------------------------------\u001b[0m",
        "\u001b[0;31mRuntimeError\u001b[0m                              Traceback (most recent call last)",
        "\u001b[0;32m<ipython-input-13-816a2bd6e011>\u001b[0m in \u001b[0;36m<module>\u001b[0;34m\u001b[0m\n\u001b[0;32m----> 1\u001b[0;31m \u001b[0mtorch\u001b[0m\u001b[0;34m.\u001b[0m\u001b[0mcat\u001b[0m\u001b[0;34m(\u001b[0m\u001b[0;34m[\u001b[0m\u001b[0membed\u001b[0m\u001b[0;34m,\u001b[0m \u001b[0mtorch\u001b[0m\u001b[0;34m.\u001b[0m\u001b[0mtensor\u001b[0m\u001b[0;34m(\u001b[0m\u001b[0mdf\u001b[0m\u001b[0;34m.\u001b[0m\u001b[0mnum_col\u001b[0m\u001b[0;34m)\u001b[0m\u001b[0;34m.\u001b[0m\u001b[0mfloat\u001b[0m\u001b[0;34m(\u001b[0m\u001b[0;34m)\u001b[0m\u001b[0;34m]\u001b[0m\u001b[0;34m,\u001b[0m \u001b[0maxis\u001b[0m\u001b[0;34m=\u001b[0m\u001b[0;36m0\u001b[0m\u001b[0;34m)\u001b[0m\u001b[0;34m\u001b[0m\u001b[0;34m\u001b[0m\u001b[0m\n\u001b[0m",
        "\u001b[0;31mRuntimeError\u001b[0m: invalid argument 0: Tensors must have same number of dimensions: got 2 and 1 at /opt/conda/conda-bld/pytorch_1570710718161/work/aten/src/TH/generic/THTensor.cpp:680"
       ]
      }
     ],
     "persistentId": "c3fa9ac2-3bd6-40b5-88d6-e2e9f7c5ed07",
     "text": "torch.cat([embed, torch.tensor(df.num_col).float()], axis=0)"
    },
    "executionTime": "2019-10-13T20:34:04.200Z"
   },
   {
    "cell": {
     "executionCount": 14,
     "executionEventId": "ebd1d33d-28ef-487b-a16b-3e3053ecd998",
     "hasError": true,
     "id": "1cc01286-79d0-4ca5-b04c-241ef50b1c5b",
     "outputs": [
      {
       "ename": "TypeError",
       "evalue": "unsqueeze() missing 1 required positional arguments: \"dim\"",
       "output_type": "error",
       "traceback": [
        "\u001b[0;31m---------------------------------------------------------------------------\u001b[0m",
        "\u001b[0;31mTypeError\u001b[0m                                 Traceback (most recent call last)",
        "\u001b[0;32m<ipython-input-14-6892c7c5c5ee>\u001b[0m in \u001b[0;36m<module>\u001b[0;34m\u001b[0m\n\u001b[0;32m----> 1\u001b[0;31m \u001b[0mtorch\u001b[0m\u001b[0;34m.\u001b[0m\u001b[0mcat\u001b[0m\u001b[0;34m(\u001b[0m\u001b[0;34m[\u001b[0m\u001b[0membed\u001b[0m\u001b[0;34m,\u001b[0m \u001b[0mtorch\u001b[0m\u001b[0;34m.\u001b[0m\u001b[0mtensor\u001b[0m\u001b[0;34m(\u001b[0m\u001b[0mdf\u001b[0m\u001b[0;34m.\u001b[0m\u001b[0mnum_col\u001b[0m\u001b[0;34m)\u001b[0m\u001b[0;34m.\u001b[0m\u001b[0mfloat\u001b[0m\u001b[0;34m(\u001b[0m\u001b[0;34m)\u001b[0m\u001b[0;34m.\u001b[0m\u001b[0munsqueeze\u001b[0m\u001b[0;34m(\u001b[0m\u001b[0;34m)\u001b[0m\u001b[0;34m]\u001b[0m\u001b[0;34m,\u001b[0m \u001b[0maxis\u001b[0m\u001b[0;34m=\u001b[0m\u001b[0;36m0\u001b[0m\u001b[0;34m)\u001b[0m\u001b[0;34m\u001b[0m\u001b[0;34m\u001b[0m\u001b[0m\n\u001b[0m",
        "\u001b[0;31mTypeError\u001b[0m: unsqueeze() missing 1 required positional arguments: \"dim\""
       ]
      }
     ],
     "persistentId": "c3fa9ac2-3bd6-40b5-88d6-e2e9f7c5ed07",
     "text": "torch.cat([embed, torch.tensor(df.num_col).float().unsqueeze()], axis=0)"
    },
    "executionTime": "2019-10-13T20:34:18.733Z"
   },
   {
    "cell": {
     "executionCount": 15,
     "executionEventId": "d86ddc0b-491e-41dd-95e3-1909ce4d2378",
     "hasError": false,
     "id": "1cc01286-79d0-4ca5-b04c-241ef50b1c5b",
     "outputs": [
      {
       "data": {
        "text/plain": "tensor([[-0.2327,  0.5648,  1.7428, -1.3169, -2.1947],\n        [ 1.4607, -0.3352, -0.3484, -2.0949,  0.8337],\n        [-0.2327,  0.5648,  1.7428, -1.3169, -2.1947],\n        [-0.2327,  0.5648,  1.7428, -1.3169, -2.1947],\n        [ 1.4607, -0.3352, -0.3484, -2.0949,  0.8337],\n        [ 0.0000,  1.0000,  2.0000,  3.0000,  4.0000]], grad_fn=<CatBackward>)"
       },
       "execution_count": 15,
       "metadata": {},
       "output_type": "execute_result"
      }
     ],
     "persistentId": "c3fa9ac2-3bd6-40b5-88d6-e2e9f7c5ed07",
     "text": "torch.cat([embed, torch.tensor(df.num_col).float().unsqueeze(0)], axis=0)"
    },
    "executionTime": "2019-10-13T20:34:26.306Z"
   },
   {
    "cell": {
     "executionCount": 16,
     "executionEventId": "1d2c7fa0-8710-4a93-ab48-56863052554a",
     "hasError": true,
     "id": "1cc01286-79d0-4ca5-b04c-241ef50b1c5b",
     "outputs": [
      {
       "ename": "RuntimeError",
       "evalue": "invalid argument 0: Sizes of tensors must match except in dimension 1. Got 5 and 1 in dimension 0 at /opt/conda/conda-bld/pytorch_1570710718161/work/aten/src/TH/generic/THTensor.cpp:689",
       "output_type": "error",
       "traceback": [
        "\u001b[0;31m---------------------------------------------------------------------------\u001b[0m",
        "\u001b[0;31mRuntimeError\u001b[0m                              Traceback (most recent call last)",
        "\u001b[0;32m<ipython-input-16-c0e86d473138>\u001b[0m in \u001b[0;36m<module>\u001b[0;34m\u001b[0m\n\u001b[0;32m----> 1\u001b[0;31m \u001b[0mtorch\u001b[0m\u001b[0;34m.\u001b[0m\u001b[0mcat\u001b[0m\u001b[0;34m(\u001b[0m\u001b[0;34m[\u001b[0m\u001b[0membed\u001b[0m\u001b[0;34m,\u001b[0m \u001b[0mtorch\u001b[0m\u001b[0;34m.\u001b[0m\u001b[0mtensor\u001b[0m\u001b[0;34m(\u001b[0m\u001b[0mdf\u001b[0m\u001b[0;34m.\u001b[0m\u001b[0mnum_col\u001b[0m\u001b[0;34m)\u001b[0m\u001b[0;34m.\u001b[0m\u001b[0mfloat\u001b[0m\u001b[0;34m(\u001b[0m\u001b[0;34m)\u001b[0m\u001b[0;34m.\u001b[0m\u001b[0munsqueeze\u001b[0m\u001b[0;34m(\u001b[0m\u001b[0;36m0\u001b[0m\u001b[0;34m)\u001b[0m\u001b[0;34m]\u001b[0m\u001b[0;34m,\u001b[0m \u001b[0maxis\u001b[0m\u001b[0;34m=\u001b[0m\u001b[0;36m1\u001b[0m\u001b[0;34m)\u001b[0m\u001b[0;34m\u001b[0m\u001b[0;34m\u001b[0m\u001b[0m\n\u001b[0m",
        "\u001b[0;31mRuntimeError\u001b[0m: invalid argument 0: Sizes of tensors must match except in dimension 1. Got 5 and 1 in dimension 0 at /opt/conda/conda-bld/pytorch_1570710718161/work/aten/src/TH/generic/THTensor.cpp:689"
       ]
      }
     ],
     "persistentId": "c3fa9ac2-3bd6-40b5-88d6-e2e9f7c5ed07",
     "text": "torch.cat([embed, torch.tensor(df.num_col).float().unsqueeze(0)], axis=1)"
    },
    "executionTime": "2019-10-13T20:34:29.304Z"
   },
   {
    "cell": {
     "executionCount": 17,
     "executionEventId": "f871dfb9-c819-4d27-adb1-1c9d7b6b6731",
     "hasError": false,
     "id": "1cc01286-79d0-4ca5-b04c-241ef50b1c5b",
     "outputs": [
      {
       "data": {
        "text/plain": "tensor([[0., 1., 2., 3., 4.]])"
       },
       "execution_count": 17,
       "metadata": {},
       "output_type": "execute_result"
      }
     ],
     "persistentId": "c3fa9ac2-3bd6-40b5-88d6-e2e9f7c5ed07",
     "text": "torch.tensor(df.num_col).float().unsqueeze(0)"
    },
    "executionTime": "2019-10-13T20:34:37.303Z"
   },
   {
    "cell": {
     "executionCount": 18,
     "executionEventId": "9a2d8332-c30e-4f2a-b991-1f9805e11db0",
     "hasError": false,
     "id": "1cc01286-79d0-4ca5-b04c-241ef50b1c5b",
     "outputs": [
      {
       "data": {
        "text/plain": "tensor([0., 1., 2., 3., 4.])"
       },
       "execution_count": 18,
       "metadata": {},
       "output_type": "execute_result"
      }
     ],
     "persistentId": "c3fa9ac2-3bd6-40b5-88d6-e2e9f7c5ed07",
     "text": "torch.tensor(df.num_col).float()"
    },
    "executionTime": "2019-10-13T20:34:41.324Z"
   },
   {
    "cell": {
     "executionCount": 19,
     "executionEventId": "336ba1c5-2a9e-4140-88e2-39d7c3d31c61",
     "hasError": false,
     "id": "1cc01286-79d0-4ca5-b04c-241ef50b1c5b",
     "outputs": [
      {
       "data": {
        "text/plain": "tensor([[-0.2327,  0.5648,  1.7428, -1.3169, -2.1947],\n        [ 1.4607, -0.3352, -0.3484, -2.0949,  0.8337],\n        [-0.2327,  0.5648,  1.7428, -1.3169, -2.1947],\n        [-0.2327,  0.5648,  1.7428, -1.3169, -2.1947],\n        [ 1.4607, -0.3352, -0.3484, -2.0949,  0.8337]],\n       grad_fn=<EmbeddingBackward>)"
       },
       "execution_count": 19,
       "metadata": {},
       "output_type": "execute_result"
      }
     ],
     "persistentId": "c3fa9ac2-3bd6-40b5-88d6-e2e9f7c5ed07",
     "text": "# b = torch.tensor(df.num_col).float()\nembed"
    },
    "executionTime": "2019-10-13T20:34:50.401Z"
   },
   {
    "cell": {
     "executionCount": 20,
     "executionEventId": "ae56af43-edf8-4162-b6a1-524f5f673cd1",
     "hasError": false,
     "id": "1cc01286-79d0-4ca5-b04c-241ef50b1c5b",
     "outputs": [
      {
       "data": {
        "text/plain": "torch.Size([5, 5])"
       },
       "execution_count": 20,
       "metadata": {},
       "output_type": "execute_result"
      }
     ],
     "persistentId": "c3fa9ac2-3bd6-40b5-88d6-e2e9f7c5ed07",
     "text": "# b = torch.tensor(df.num_col).float()\nembed.shape"
    },
    "executionTime": "2019-10-13T20:34:51.852Z"
   },
   {
    "cell": {
     "executionCount": 21,
     "executionEventId": "9b4d2759-de17-4fd1-ac35-1c3704d2a6f7",
     "hasError": true,
     "id": "1cc01286-79d0-4ca5-b04c-241ef50b1c5b",
     "outputs": [
      {
       "ename": "NameError",
       "evalue": "name 'b' is not defined",
       "output_type": "error",
       "traceback": [
        "\u001b[0;31m---------------------------------------------------------------------------\u001b[0m",
        "\u001b[0;31mNameError\u001b[0m                                 Traceback (most recent call last)",
        "\u001b[0;32m<ipython-input-21-ec03139e434b>\u001b[0m in \u001b[0;36m<module>\u001b[0;34m\u001b[0m\n\u001b[1;32m      1\u001b[0m \u001b[0;31m# b = torch.tensor(df.num_col).float()\u001b[0m\u001b[0;34m\u001b[0m\u001b[0;34m\u001b[0m\u001b[0;34m\u001b[0m\u001b[0m\n\u001b[0;32m----> 2\u001b[0;31m \u001b[0mtorch\u001b[0m\u001b[0;34m.\u001b[0m\u001b[0mstack\u001b[0m\u001b[0;34m(\u001b[0m\u001b[0;34m[\u001b[0m\u001b[0membed\u001b[0m\u001b[0;34m,\u001b[0m \u001b[0mb\u001b[0m\u001b[0;34m]\u001b[0m\u001b[0;34m)\u001b[0m\u001b[0;34m\u001b[0m\u001b[0;34m\u001b[0m\u001b[0m\n\u001b[0m",
        "\u001b[0;31mNameError\u001b[0m: name 'b' is not defined"
       ]
      }
     ],
     "persistentId": "c3fa9ac2-3bd6-40b5-88d6-e2e9f7c5ed07",
     "text": "# b = torch.tensor(df.num_col).float()\ntorch.stack([embed, b])"
    },
    "executionTime": "2019-10-13T20:35:02.821Z"
   },
   {
    "cell": {
     "executionCount": 22,
     "executionEventId": "36360a19-4ce7-471e-87c9-91eac530d6c5",
     "hasError": true,
     "id": "1cc01286-79d0-4ca5-b04c-241ef50b1c5b",
     "outputs": [
      {
       "ename": "RuntimeError",
       "evalue": "invalid argument 0: Tensors must have same number of dimensions: got 3 and 2 at /opt/conda/conda-bld/pytorch_1570710718161/work/aten/src/TH/generic/THTensor.cpp:680",
       "output_type": "error",
       "traceback": [
        "\u001b[0;31m---------------------------------------------------------------------------\u001b[0m",
        "\u001b[0;31mRuntimeError\u001b[0m                              Traceback (most recent call last)",
        "\u001b[0;32m<ipython-input-22-cd82e3819c24>\u001b[0m in \u001b[0;36m<module>\u001b[0;34m\u001b[0m\n\u001b[1;32m      1\u001b[0m \u001b[0mb\u001b[0m \u001b[0;34m=\u001b[0m \u001b[0mtorch\u001b[0m\u001b[0;34m.\u001b[0m\u001b[0mtensor\u001b[0m\u001b[0;34m(\u001b[0m\u001b[0mdf\u001b[0m\u001b[0;34m.\u001b[0m\u001b[0mnum_col\u001b[0m\u001b[0;34m)\u001b[0m\u001b[0;34m.\u001b[0m\u001b[0mfloat\u001b[0m\u001b[0;34m(\u001b[0m\u001b[0;34m)\u001b[0m\u001b[0;34m\u001b[0m\u001b[0;34m\u001b[0m\u001b[0m\n\u001b[0;32m----> 2\u001b[0;31m \u001b[0mtorch\u001b[0m\u001b[0;34m.\u001b[0m\u001b[0mstack\u001b[0m\u001b[0;34m(\u001b[0m\u001b[0;34m[\u001b[0m\u001b[0membed\u001b[0m\u001b[0;34m,\u001b[0m \u001b[0mb\u001b[0m\u001b[0;34m]\u001b[0m\u001b[0;34m)\u001b[0m\u001b[0;34m\u001b[0m\u001b[0;34m\u001b[0m\u001b[0m\n\u001b[0m",
        "\u001b[0;31mRuntimeError\u001b[0m: invalid argument 0: Tensors must have same number of dimensions: got 3 and 2 at /opt/conda/conda-bld/pytorch_1570710718161/work/aten/src/TH/generic/THTensor.cpp:680"
       ]
      }
     ],
     "persistentId": "c3fa9ac2-3bd6-40b5-88d6-e2e9f7c5ed07",
     "text": "b = torch.tensor(df.num_col).float()\ntorch.stack([embed, b])"
    },
    "executionTime": "2019-10-13T20:35:04.967Z"
   },
   {
    "cell": {
     "executionCount": 23,
     "executionEventId": "5ae4466e-f5b3-40d2-aa35-384abcef753b",
     "hasError": false,
     "id": "d5e62cc9-8f71-4ae7-8402-67c8fc2351b4",
     "outputs": [
      {
       "data": {
        "text/plain": "torch.Size([5])"
       },
       "execution_count": 23,
       "metadata": {},
       "output_type": "execute_result"
      }
     ],
     "persistentId": "fa3d8ecc-75c2-4abc-8d01-c3fee3e4c007",
     "text": "b.shape"
    },
    "executionTime": "2019-10-13T20:35:12.203Z"
   },
   {
    "cell": {
     "executionCount": 24,
     "executionEventId": "b5a02ec0-05eb-4973-8eef-7f58f47c21f1",
     "hasError": true,
     "id": "1cc01286-79d0-4ca5-b04c-241ef50b1c5b",
     "outputs": [
      {
       "ename": "RuntimeError",
       "evalue": "invalid argument 0: Sizes of tensors must match except in dimension 0. Got 5 and 1 in dimension 1 at /opt/conda/conda-bld/pytorch_1570710718161/work/aten/src/TH/generic/THTensor.cpp:689",
       "output_type": "error",
       "traceback": [
        "\u001b[0;31m---------------------------------------------------------------------------\u001b[0m",
        "\u001b[0;31mRuntimeError\u001b[0m                              Traceback (most recent call last)",
        "\u001b[0;32m<ipython-input-24-30da1a9c6b5a>\u001b[0m in \u001b[0;36m<module>\u001b[0;34m\u001b[0m\n\u001b[1;32m      1\u001b[0m \u001b[0mb\u001b[0m \u001b[0;34m=\u001b[0m \u001b[0mtorch\u001b[0m\u001b[0;34m.\u001b[0m\u001b[0mtensor\u001b[0m\u001b[0;34m(\u001b[0m\u001b[0mdf\u001b[0m\u001b[0;34m.\u001b[0m\u001b[0mnum_col\u001b[0m\u001b[0;34m)\u001b[0m\u001b[0;34m.\u001b[0m\u001b[0mfloat\u001b[0m\u001b[0;34m(\u001b[0m\u001b[0;34m)\u001b[0m\u001b[0;34m\u001b[0m\u001b[0;34m\u001b[0m\u001b[0m\n\u001b[0;32m----> 2\u001b[0;31m \u001b[0mtorch\u001b[0m\u001b[0;34m.\u001b[0m\u001b[0mstack\u001b[0m\u001b[0;34m(\u001b[0m\u001b[0;34m[\u001b[0m\u001b[0membed\u001b[0m\u001b[0;34m,\u001b[0m \u001b[0mb\u001b[0m\u001b[0;34m.\u001b[0m\u001b[0munsqueeze\u001b[0m\u001b[0;34m(\u001b[0m\u001b[0;36m0\u001b[0m\u001b[0;34m)\u001b[0m\u001b[0;34m]\u001b[0m\u001b[0;34m)\u001b[0m\u001b[0;34m\u001b[0m\u001b[0;34m\u001b[0m\u001b[0m\n\u001b[0m",
        "\u001b[0;31mRuntimeError\u001b[0m: invalid argument 0: Sizes of tensors must match except in dimension 0. Got 5 and 1 in dimension 1 at /opt/conda/conda-bld/pytorch_1570710718161/work/aten/src/TH/generic/THTensor.cpp:689"
       ]
      }
     ],
     "persistentId": "c3fa9ac2-3bd6-40b5-88d6-e2e9f7c5ed07",
     "text": "b = torch.tensor(df.num_col).float()\ntorch.stack([embed, b.unsqueeze(0)])"
    },
    "executionTime": "2019-10-13T20:35:16.977Z"
   },
   {
    "cell": {
     "executionCount": 25,
     "executionEventId": "faaba9cf-1e1a-408b-9b6b-59fb20b8eb04",
     "hasError": true,
     "id": "1cc01286-79d0-4ca5-b04c-241ef50b1c5b",
     "outputs": [
      {
       "ename": "RuntimeError",
       "evalue": "invalid argument 0: Sizes of tensors must match except in dimension 0. Got 5 and 1 in dimension 2 at /opt/conda/conda-bld/pytorch_1570710718161/work/aten/src/TH/generic/THTensor.cpp:689",
       "output_type": "error",
       "traceback": [
        "\u001b[0;31m---------------------------------------------------------------------------\u001b[0m",
        "\u001b[0;31mRuntimeError\u001b[0m                              Traceback (most recent call last)",
        "\u001b[0;32m<ipython-input-25-46baff90b330>\u001b[0m in \u001b[0;36m<module>\u001b[0;34m\u001b[0m\n\u001b[1;32m      1\u001b[0m \u001b[0mb\u001b[0m \u001b[0;34m=\u001b[0m \u001b[0mtorch\u001b[0m\u001b[0;34m.\u001b[0m\u001b[0mtensor\u001b[0m\u001b[0;34m(\u001b[0m\u001b[0mdf\u001b[0m\u001b[0;34m.\u001b[0m\u001b[0mnum_col\u001b[0m\u001b[0;34m)\u001b[0m\u001b[0;34m.\u001b[0m\u001b[0mfloat\u001b[0m\u001b[0;34m(\u001b[0m\u001b[0;34m)\u001b[0m\u001b[0;34m\u001b[0m\u001b[0;34m\u001b[0m\u001b[0m\n\u001b[0;32m----> 2\u001b[0;31m \u001b[0mtorch\u001b[0m\u001b[0;34m.\u001b[0m\u001b[0mstack\u001b[0m\u001b[0;34m(\u001b[0m\u001b[0;34m[\u001b[0m\u001b[0membed\u001b[0m\u001b[0;34m,\u001b[0m \u001b[0mb\u001b[0m\u001b[0;34m.\u001b[0m\u001b[0munsqueeze\u001b[0m\u001b[0;34m(\u001b[0m\u001b[0;36m1\u001b[0m\u001b[0;34m)\u001b[0m\u001b[0;34m]\u001b[0m\u001b[0;34m)\u001b[0m\u001b[0;34m\u001b[0m\u001b[0;34m\u001b[0m\u001b[0m\n\u001b[0m",
        "\u001b[0;31mRuntimeError\u001b[0m: invalid argument 0: Sizes of tensors must match except in dimension 0. Got 5 and 1 in dimension 2 at /opt/conda/conda-bld/pytorch_1570710718161/work/aten/src/TH/generic/THTensor.cpp:689"
       ]
      }
     ],
     "persistentId": "c3fa9ac2-3bd6-40b5-88d6-e2e9f7c5ed07",
     "text": "b = torch.tensor(df.num_col).float()\ntorch.stack([embed, b.unsqueeze(1)])"
    },
    "executionTime": "2019-10-13T20:35:20.096Z"
   },
   {
    "cell": {
     "executionCount": 26,
     "executionEventId": "5d50b3d4-7ea2-49d9-9099-33ae3ee0b7bc",
     "hasError": true,
     "id": "1cc01286-79d0-4ca5-b04c-241ef50b1c5b",
     "outputs": [
      {
       "ename": "RuntimeError",
       "evalue": "invalid argument 0: Tensors must have same number of dimensions: got 3 and 2 at /opt/conda/conda-bld/pytorch_1570710718161/work/aten/src/TH/generic/THTensor.cpp:680",
       "output_type": "error",
       "traceback": [
        "\u001b[0;31m---------------------------------------------------------------------------\u001b[0m",
        "\u001b[0;31mRuntimeError\u001b[0m                              Traceback (most recent call last)",
        "\u001b[0;32m<ipython-input-26-cd82e3819c24>\u001b[0m in \u001b[0;36m<module>\u001b[0;34m\u001b[0m\n\u001b[1;32m      1\u001b[0m \u001b[0mb\u001b[0m \u001b[0;34m=\u001b[0m \u001b[0mtorch\u001b[0m\u001b[0;34m.\u001b[0m\u001b[0mtensor\u001b[0m\u001b[0;34m(\u001b[0m\u001b[0mdf\u001b[0m\u001b[0;34m.\u001b[0m\u001b[0mnum_col\u001b[0m\u001b[0;34m)\u001b[0m\u001b[0;34m.\u001b[0m\u001b[0mfloat\u001b[0m\u001b[0;34m(\u001b[0m\u001b[0;34m)\u001b[0m\u001b[0;34m\u001b[0m\u001b[0;34m\u001b[0m\u001b[0m\n\u001b[0;32m----> 2\u001b[0;31m \u001b[0mtorch\u001b[0m\u001b[0;34m.\u001b[0m\u001b[0mstack\u001b[0m\u001b[0;34m(\u001b[0m\u001b[0;34m[\u001b[0m\u001b[0membed\u001b[0m\u001b[0;34m,\u001b[0m \u001b[0mb\u001b[0m\u001b[0;34m]\u001b[0m\u001b[0;34m)\u001b[0m\u001b[0;34m\u001b[0m\u001b[0;34m\u001b[0m\u001b[0m\n\u001b[0m",
        "\u001b[0;31mRuntimeError\u001b[0m: invalid argument 0: Tensors must have same number of dimensions: got 3 and 2 at /opt/conda/conda-bld/pytorch_1570710718161/work/aten/src/TH/generic/THTensor.cpp:680"
       ]
      }
     ],
     "persistentId": "c3fa9ac2-3bd6-40b5-88d6-e2e9f7c5ed07",
     "text": "b = torch.tensor(df.num_col).float()\ntorch.stack([embed, b])"
    },
    "executionTime": "2019-10-13T20:35:24.424Z"
   },
   {
    "cell": {
     "executionCount": 27,
     "executionEventId": "b37efb32-bdc6-424a-a466-e4d6611db2c5",
     "hasError": true,
     "id": "1cc01286-79d0-4ca5-b04c-241ef50b1c5b",
     "outputs": [
      {
       "ename": "RuntimeError",
       "evalue": "invalid argument 0: Tensors must have same number of dimensions: got 3 and 2 at /opt/conda/conda-bld/pytorch_1570710718161/work/aten/src/TH/generic/THTensor.cpp:680",
       "output_type": "error",
       "traceback": [
        "\u001b[0;31m---------------------------------------------------------------------------\u001b[0m",
        "\u001b[0;31mRuntimeError\u001b[0m                              Traceback (most recent call last)",
        "\u001b[0;32m<ipython-input-27-ec03139e434b>\u001b[0m in \u001b[0;36m<module>\u001b[0;34m\u001b[0m\n\u001b[1;32m      1\u001b[0m \u001b[0;31m# b = torch.tensor(df.num_col).float()\u001b[0m\u001b[0;34m\u001b[0m\u001b[0;34m\u001b[0m\u001b[0;34m\u001b[0m\u001b[0m\n\u001b[0;32m----> 2\u001b[0;31m \u001b[0mtorch\u001b[0m\u001b[0;34m.\u001b[0m\u001b[0mstack\u001b[0m\u001b[0;34m(\u001b[0m\u001b[0;34m[\u001b[0m\u001b[0membed\u001b[0m\u001b[0;34m,\u001b[0m \u001b[0mb\u001b[0m\u001b[0;34m]\u001b[0m\u001b[0;34m)\u001b[0m\u001b[0;34m\u001b[0m\u001b[0;34m\u001b[0m\u001b[0m\n\u001b[0m",
        "\u001b[0;31mRuntimeError\u001b[0m: invalid argument 0: Tensors must have same number of dimensions: got 3 and 2 at /opt/conda/conda-bld/pytorch_1570710718161/work/aten/src/TH/generic/THTensor.cpp:680"
       ]
      }
     ],
     "persistentId": "c3fa9ac2-3bd6-40b5-88d6-e2e9f7c5ed07",
     "text": "# b = torch.tensor(df.num_col).float()\ntorch.stack([embed, b])"
    },
    "executionTime": "2019-10-13T20:35:25.326Z"
   },
   {
    "cell": {
     "executionCount": 28,
     "executionEventId": "eeecfa46-62be-4998-8e3f-c0421b83d9a9",
     "hasError": false,
     "id": "d5e62cc9-8f71-4ae7-8402-67c8fc2351b4",
     "outputs": [
      {
       "data": {
        "text/plain": "tensor([0., 1., 2., 3., 4.])"
       },
       "execution_count": 28,
       "metadata": {},
       "output_type": "execute_result"
      }
     ],
     "persistentId": "fa3d8ecc-75c2-4abc-8d01-c3fee3e4c007",
     "text": "b"
    },
    "executionTime": "2019-10-13T20:35:27.874Z"
   },
   {
    "cell": {
     "executionCount": 29,
     "executionEventId": "deddffcb-1ed4-4e42-8fbf-b00e92b7abc8",
     "hasError": false,
     "id": "d5e62cc9-8f71-4ae7-8402-67c8fc2351b4",
     "outputs": [
      {
       "data": {
        "text/plain": "torch.Size([5])"
       },
       "execution_count": 29,
       "metadata": {},
       "output_type": "execute_result"
      }
     ],
     "persistentId": "fa3d8ecc-75c2-4abc-8d01-c3fee3e4c007",
     "text": "b.shape"
    },
    "executionTime": "2019-10-13T20:35:35.862Z"
   },
   {
    "cell": {
     "executionCount": 30,
     "executionEventId": "68e5d1f4-7769-4a10-82e4-cf3af807c5c8",
     "hasError": false,
     "id": "d5e62cc9-8f71-4ae7-8402-67c8fc2351b4",
     "outputs": [
      {
       "data": {
        "text/plain": "tensor([0., 1., 2., 3., 4., 0., 1., 2., 3., 4.])"
       },
       "execution_count": 30,
       "metadata": {},
       "output_type": "execute_result"
      }
     ],
     "persistentId": "fa3d8ecc-75c2-4abc-8d01-c3fee3e4c007",
     "text": "torch.cat((b, b))"
    },
    "executionTime": "2019-10-13T20:36:12.489Z"
   },
   {
    "cell": {
     "executionCount": 31,
     "executionEventId": "544500ea-5ab2-4f6d-b764-07b03f68b8cb",
     "hasError": true,
     "id": "d5e62cc9-8f71-4ae7-8402-67c8fc2351b4",
     "outputs": [
      {
       "ename": "IndexError",
       "evalue": "Dimension out of range (expected to be in range of [-1, 0], but got 1)",
       "output_type": "error",
       "traceback": [
        "\u001b[0;31m---------------------------------------------------------------------------\u001b[0m",
        "\u001b[0;31mIndexError\u001b[0m                                Traceback (most recent call last)",
        "\u001b[0;32m<ipython-input-31-e98e9b2efb51>\u001b[0m in \u001b[0;36m<module>\u001b[0;34m\u001b[0m\n\u001b[0;32m----> 1\u001b[0;31m \u001b[0mtorch\u001b[0m\u001b[0;34m.\u001b[0m\u001b[0mcat\u001b[0m\u001b[0;34m(\u001b[0m\u001b[0;34m(\u001b[0m\u001b[0mb\u001b[0m\u001b[0;34m,\u001b[0m \u001b[0mb\u001b[0m\u001b[0;34m)\u001b[0m\u001b[0;34m,\u001b[0m \u001b[0maxis\u001b[0m\u001b[0;34m=\u001b[0m\u001b[0;36m1\u001b[0m\u001b[0;34m)\u001b[0m\u001b[0;34m\u001b[0m\u001b[0;34m\u001b[0m\u001b[0m\n\u001b[0m",
        "\u001b[0;31mIndexError\u001b[0m: Dimension out of range (expected to be in range of [-1, 0], but got 1)"
       ]
      }
     ],
     "persistentId": "fa3d8ecc-75c2-4abc-8d01-c3fee3e4c007",
     "text": "torch.cat((b, b), axis=1)"
    },
    "executionTime": "2019-10-13T20:36:16.961Z"
   },
   {
    "cell": {
     "executionCount": 32,
     "executionEventId": "bdcb21eb-1438-43c6-bda3-584ba66ec072",
     "hasError": true,
     "id": "d5e62cc9-8f71-4ae7-8402-67c8fc2351b4",
     "outputs": [
      {
       "ename": "RuntimeError",
       "evalue": "invalid argument 0: Tensors must have same number of dimensions: got 2 and 1 at /opt/conda/conda-bld/pytorch_1570710718161/work/aten/src/TH/generic/THTensor.cpp:680",
       "output_type": "error",
       "traceback": [
        "\u001b[0;31m---------------------------------------------------------------------------\u001b[0m",
        "\u001b[0;31mRuntimeError\u001b[0m                              Traceback (most recent call last)",
        "\u001b[0;32m<ipython-input-32-021a87f8167f>\u001b[0m in \u001b[0;36m<module>\u001b[0;34m\u001b[0m\n\u001b[0;32m----> 1\u001b[0;31m \u001b[0mtorch\u001b[0m\u001b[0;34m.\u001b[0m\u001b[0mcat\u001b[0m\u001b[0;34m(\u001b[0m\u001b[0;34m(\u001b[0m\u001b[0membed\u001b[0m\u001b[0;34m,\u001b[0m \u001b[0mb\u001b[0m\u001b[0;34m)\u001b[0m\u001b[0;34m)\u001b[0m\u001b[0;34m\u001b[0m\u001b[0;34m\u001b[0m\u001b[0m\n\u001b[0m",
        "\u001b[0;31mRuntimeError\u001b[0m: invalid argument 0: Tensors must have same number of dimensions: got 2 and 1 at /opt/conda/conda-bld/pytorch_1570710718161/work/aten/src/TH/generic/THTensor.cpp:680"
       ]
      }
     ],
     "persistentId": "fa3d8ecc-75c2-4abc-8d01-c3fee3e4c007",
     "text": "torch.cat((embed, b))"
    },
    "executionTime": "2019-10-13T20:36:23.852Z"
   },
   {
    "cell": {
     "executionCount": 33,
     "executionEventId": "90909477-0830-4ebe-bc6e-62ae152bf6bb",
     "hasError": false,
     "id": "d5e62cc9-8f71-4ae7-8402-67c8fc2351b4",
     "outputs": [
      {
       "data": {
        "text/plain": "tensor([[-0.2327,  0.5648,  1.7428, -1.3169, -2.1947],\n        [ 1.4607, -0.3352, -0.3484, -2.0949,  0.8337],\n        [-0.2327,  0.5648,  1.7428, -1.3169, -2.1947],\n        [-0.2327,  0.5648,  1.7428, -1.3169, -2.1947],\n        [ 1.4607, -0.3352, -0.3484, -2.0949,  0.8337],\n        [ 0.0000,  1.0000,  2.0000,  3.0000,  4.0000]], grad_fn=<CatBackward>)"
       },
       "execution_count": 33,
       "metadata": {},
       "output_type": "execute_result"
      }
     ],
     "persistentId": "fa3d8ecc-75c2-4abc-8d01-c3fee3e4c007",
     "text": "torch.cat((embed, b.unsqueeze(0)))"
    },
    "executionTime": "2019-10-13T20:36:30.292Z"
   },
   {
    "cell": {
     "executionCount": 34,
     "executionEventId": "7d5a967d-7cca-4119-8161-c03f34ee8741",
     "hasError": true,
     "id": "d5e62cc9-8f71-4ae7-8402-67c8fc2351b4",
     "outputs": [
      {
       "ename": "RuntimeError",
       "evalue": "invalid argument 0: Sizes of tensors must match except in dimension 0. Got 5 and 1 in dimension 1 at /opt/conda/conda-bld/pytorch_1570710718161/work/aten/src/TH/generic/THTensor.cpp:689",
       "output_type": "error",
       "traceback": [
        "\u001b[0;31m---------------------------------------------------------------------------\u001b[0m",
        "\u001b[0;31mRuntimeError\u001b[0m                              Traceback (most recent call last)",
        "\u001b[0;32m<ipython-input-34-a2cd296b83de>\u001b[0m in \u001b[0;36m<module>\u001b[0;34m\u001b[0m\n\u001b[0;32m----> 1\u001b[0;31m \u001b[0mtorch\u001b[0m\u001b[0;34m.\u001b[0m\u001b[0mstack\u001b[0m\u001b[0;34m(\u001b[0m\u001b[0;34m(\u001b[0m\u001b[0membed\u001b[0m\u001b[0;34m,\u001b[0m \u001b[0mb\u001b[0m\u001b[0;34m.\u001b[0m\u001b[0munsqueeze\u001b[0m\u001b[0;34m(\u001b[0m\u001b[0;36m0\u001b[0m\u001b[0;34m)\u001b[0m\u001b[0;34m)\u001b[0m\u001b[0;34m)\u001b[0m\u001b[0;34m\u001b[0m\u001b[0;34m\u001b[0m\u001b[0m\n\u001b[0m",
        "\u001b[0;31mRuntimeError\u001b[0m: invalid argument 0: Sizes of tensors must match except in dimension 0. Got 5 and 1 in dimension 1 at /opt/conda/conda-bld/pytorch_1570710718161/work/aten/src/TH/generic/THTensor.cpp:689"
       ]
      }
     ],
     "persistentId": "fa3d8ecc-75c2-4abc-8d01-c3fee3e4c007",
     "text": "torch.stack((embed, b.unsqueeze(0)))"
    },
    "executionTime": "2019-10-13T20:36:41.422Z"
   },
   {
    "cell": {
     "executionCount": 35,
     "executionEventId": "f381c1e5-7ca4-4aed-922c-82879a41f2f3",
     "hasError": true,
     "id": "d5e62cc9-8f71-4ae7-8402-67c8fc2351b4",
     "outputs": [
      {
       "ename": "RuntimeError",
       "evalue": "invalid argument 0: Sizes of tensors must match except in dimension 1. Got 5 and 1 in dimension 0 at /opt/conda/conda-bld/pytorch_1570710718161/work/aten/src/TH/generic/THTensor.cpp:689",
       "output_type": "error",
       "traceback": [
        "\u001b[0;31m---------------------------------------------------------------------------\u001b[0m",
        "\u001b[0;31mRuntimeError\u001b[0m                              Traceback (most recent call last)",
        "\u001b[0;32m<ipython-input-35-1a0b47f0b76a>\u001b[0m in \u001b[0;36m<module>\u001b[0;34m\u001b[0m\n\u001b[0;32m----> 1\u001b[0;31m \u001b[0mtorch\u001b[0m\u001b[0;34m.\u001b[0m\u001b[0mstack\u001b[0m\u001b[0;34m(\u001b[0m\u001b[0;34m(\u001b[0m\u001b[0membed\u001b[0m\u001b[0;34m,\u001b[0m \u001b[0mb\u001b[0m\u001b[0;34m.\u001b[0m\u001b[0munsqueeze\u001b[0m\u001b[0;34m(\u001b[0m\u001b[0;36m0\u001b[0m\u001b[0;34m)\u001b[0m\u001b[0;34m)\u001b[0m\u001b[0;34m,\u001b[0m \u001b[0mdim\u001b[0m\u001b[0;34m=\u001b[0m\u001b[0;36m1\u001b[0m\u001b[0;34m)\u001b[0m\u001b[0;34m\u001b[0m\u001b[0;34m\u001b[0m\u001b[0m\n\u001b[0m",
        "\u001b[0;31mRuntimeError\u001b[0m: invalid argument 0: Sizes of tensors must match except in dimension 1. Got 5 and 1 in dimension 0 at /opt/conda/conda-bld/pytorch_1570710718161/work/aten/src/TH/generic/THTensor.cpp:689"
       ]
      }
     ],
     "persistentId": "fa3d8ecc-75c2-4abc-8d01-c3fee3e4c007",
     "text": "torch.stack((embed, b.unsqueeze(0)), dim=1)"
    },
    "executionTime": "2019-10-13T20:36:55.974Z"
   },
   {
    "cell": {
     "executionCount": 36,
     "executionEventId": "ed0ddfd3-c11c-4697-824e-1068569d05be",
     "hasError": true,
     "id": "d5e62cc9-8f71-4ae7-8402-67c8fc2351b4",
     "outputs": [
      {
       "ename": "RuntimeError",
       "evalue": "invalid argument 0: Sizes of tensors must match except in dimension 0. Got 5 and 1 in dimension 1 at /opt/conda/conda-bld/pytorch_1570710718161/work/aten/src/TH/generic/THTensor.cpp:689",
       "output_type": "error",
       "traceback": [
        "\u001b[0;31m---------------------------------------------------------------------------\u001b[0m",
        "\u001b[0;31mRuntimeError\u001b[0m                              Traceback (most recent call last)",
        "\u001b[0;32m<ipython-input-36-e7afd3eab1fe>\u001b[0m in \u001b[0;36m<module>\u001b[0;34m\u001b[0m\n\u001b[0;32m----> 1\u001b[0;31m \u001b[0mtorch\u001b[0m\u001b[0;34m.\u001b[0m\u001b[0mstack\u001b[0m\u001b[0;34m(\u001b[0m\u001b[0;34m(\u001b[0m\u001b[0membed\u001b[0m\u001b[0;34m,\u001b[0m \u001b[0mb\u001b[0m\u001b[0;34m.\u001b[0m\u001b[0munsqueeze\u001b[0m\u001b[0;34m(\u001b[0m\u001b[0;36m0\u001b[0m\u001b[0;34m)\u001b[0m\u001b[0;34m)\u001b[0m\u001b[0;34m,\u001b[0m \u001b[0mdim\u001b[0m\u001b[0;34m=\u001b[0m\u001b[0;36m0\u001b[0m\u001b[0;34m)\u001b[0m\u001b[0;34m\u001b[0m\u001b[0;34m\u001b[0m\u001b[0m\n\u001b[0m",
        "\u001b[0;31mRuntimeError\u001b[0m: invalid argument 0: Sizes of tensors must match except in dimension 0. Got 5 and 1 in dimension 1 at /opt/conda/conda-bld/pytorch_1570710718161/work/aten/src/TH/generic/THTensor.cpp:689"
       ]
      }
     ],
     "persistentId": "fa3d8ecc-75c2-4abc-8d01-c3fee3e4c007",
     "text": "torch.stack((embed, b.unsqueeze(0)), dim=0)"
    },
    "executionTime": "2019-10-13T20:36:57.898Z"
   },
   {
    "cell": {
     "executionCount": 37,
     "executionEventId": "86ab88af-ddbc-4c56-b414-6954b61ad3d8",
     "hasError": false,
     "id": "d5e62cc9-8f71-4ae7-8402-67c8fc2351b4",
     "outputs": [
      {
       "data": {
        "text/plain": "tensor([[0., 1., 2., 3., 4.]])"
       },
       "execution_count": 37,
       "metadata": {},
       "output_type": "execute_result"
      }
     ],
     "persistentId": "fa3d8ecc-75c2-4abc-8d01-c3fee3e4c007",
     "text": "b.unsqueeze(0)"
    },
    "executionTime": "2019-10-13T20:37:03.129Z"
   },
   {
    "cell": {
     "executionCount": 38,
     "executionEventId": "a17ba581-7be5-43cf-95f8-9ccd801ab2b4",
     "hasError": false,
     "id": "d5e62cc9-8f71-4ae7-8402-67c8fc2351b4",
     "outputs": [
      {
       "data": {
        "text/plain": "torch.Size([1, 5])"
       },
       "execution_count": 38,
       "metadata": {},
       "output_type": "execute_result"
      }
     ],
     "persistentId": "fa3d8ecc-75c2-4abc-8d01-c3fee3e4c007",
     "text": "b.unsqueeze(0).shape"
    },
    "executionTime": "2019-10-13T20:37:04.491Z"
   },
   {
    "cell": {
     "executionCount": 39,
     "executionEventId": "91add56f-e696-4880-b9fe-21c8a9c2bf0f",
     "hasError": false,
     "id": "d5e62cc9-8f71-4ae7-8402-67c8fc2351b4",
     "outputs": [
      {
       "data": {
        "text/plain": "torch.Size([5, 1])"
       },
       "execution_count": 39,
       "metadata": {},
       "output_type": "execute_result"
      }
     ],
     "persistentId": "fa3d8ecc-75c2-4abc-8d01-c3fee3e4c007",
     "text": "b.unsqueeze(1).shape"
    },
    "executionTime": "2019-10-13T20:37:07.236Z"
   },
   {
    "cell": {
     "executionCount": 40,
     "executionEventId": "3645e013-e206-440c-bce7-51eaf0eb2a6d",
     "hasError": false,
     "id": "d5e62cc9-8f71-4ae7-8402-67c8fc2351b4",
     "outputs": [
      {
       "data": {
        "text/plain": "tensor([[0.],\n        [1.],\n        [2.],\n        [3.],\n        [4.]])"
       },
       "execution_count": 40,
       "metadata": {},
       "output_type": "execute_result"
      }
     ],
     "persistentId": "fa3d8ecc-75c2-4abc-8d01-c3fee3e4c007",
     "text": "b.unsqueeze(1)"
    },
    "executionTime": "2019-10-13T20:37:09.872Z"
   },
   {
    "cell": {
     "executionCount": 41,
     "executionEventId": "9b744a74-32d2-4c52-9f4a-2989073648b9",
     "hasError": true,
     "id": "d5e62cc9-8f71-4ae7-8402-67c8fc2351b4",
     "outputs": [
      {
       "ename": "TypeError",
       "evalue": "cat() received an invalid combination of arguments - got (Tensor, Tensor), but expected one of:\n * (tuple of Tensors tensors, name dim, Tensor out)\n * (tuple of Tensors tensors, int dim, Tensor out)\n",
       "output_type": "error",
       "traceback": [
        "\u001b[0;31m---------------------------------------------------------------------------\u001b[0m",
        "\u001b[0;31mTypeError\u001b[0m                                 Traceback (most recent call last)",
        "\u001b[0;32m<ipython-input-41-8c63870ef1ee>\u001b[0m in \u001b[0;36m<module>\u001b[0;34m\u001b[0m\n\u001b[0;32m----> 1\u001b[0;31m \u001b[0mtorch\u001b[0m\u001b[0;34m.\u001b[0m\u001b[0mcat\u001b[0m\u001b[0;34m(\u001b[0m\u001b[0membed\u001b[0m\u001b[0;34m,\u001b[0m \u001b[0mb\u001b[0m\u001b[0;34m.\u001b[0m\u001b[0munsqueeze\u001b[0m\u001b[0;34m(\u001b[0m\u001b[0;36m1\u001b[0m\u001b[0;34m)\u001b[0m\u001b[0;34m)\u001b[0m\u001b[0;34m\u001b[0m\u001b[0;34m\u001b[0m\u001b[0m\n\u001b[0m",
        "\u001b[0;31mTypeError\u001b[0m: cat() received an invalid combination of arguments - got (Tensor, Tensor), but expected one of:\n * (tuple of Tensors tensors, name dim, Tensor out)\n * (tuple of Tensors tensors, int dim, Tensor out)\n"
       ]
      }
     ],
     "persistentId": "fa3d8ecc-75c2-4abc-8d01-c3fee3e4c007",
     "text": "torch.cat(embed, b.unsqueeze(1))"
    },
    "executionTime": "2019-10-13T20:37:20.766Z"
   },
   {
    "cell": {
     "executionCount": 42,
     "executionEventId": "f3d7a293-ffd3-42d0-8d9b-4aa2835831cd",
     "hasError": true,
     "id": "d5e62cc9-8f71-4ae7-8402-67c8fc2351b4",
     "outputs": [
      {
       "ename": "RuntimeError",
       "evalue": "invalid argument 0: Sizes of tensors must match except in dimension 0. Got 5 and 1 in dimension 1 at /opt/conda/conda-bld/pytorch_1570710718161/work/aten/src/TH/generic/THTensor.cpp:689",
       "output_type": "error",
       "traceback": [
        "\u001b[0;31m---------------------------------------------------------------------------\u001b[0m",
        "\u001b[0;31mRuntimeError\u001b[0m                              Traceback (most recent call last)",
        "\u001b[0;32m<ipython-input-42-b87300af165f>\u001b[0m in \u001b[0;36m<module>\u001b[0;34m\u001b[0m\n\u001b[0;32m----> 1\u001b[0;31m \u001b[0mtorch\u001b[0m\u001b[0;34m.\u001b[0m\u001b[0mcat\u001b[0m\u001b[0;34m(\u001b[0m\u001b[0;34m(\u001b[0m\u001b[0membed\u001b[0m\u001b[0;34m,\u001b[0m \u001b[0mb\u001b[0m\u001b[0;34m.\u001b[0m\u001b[0munsqueeze\u001b[0m\u001b[0;34m(\u001b[0m\u001b[0;36m1\u001b[0m\u001b[0;34m)\u001b[0m\u001b[0;34m)\u001b[0m\u001b[0;34m)\u001b[0m\u001b[0;34m\u001b[0m\u001b[0;34m\u001b[0m\u001b[0m\n\u001b[0m",
        "\u001b[0;31mRuntimeError\u001b[0m: invalid argument 0: Sizes of tensors must match except in dimension 0. Got 5 and 1 in dimension 1 at /opt/conda/conda-bld/pytorch_1570710718161/work/aten/src/TH/generic/THTensor.cpp:689"
       ]
      }
     ],
     "persistentId": "fa3d8ecc-75c2-4abc-8d01-c3fee3e4c007",
     "text": "torch.cat((embed, b.unsqueeze(1)))"
    },
    "executionTime": "2019-10-13T20:37:28.519Z"
   },
   {
    "cell": {
     "executionCount": 43,
     "executionEventId": "169dd6e9-ac6c-4232-9f60-904f40ae4c8e",
     "hasError": false,
     "id": "d5e62cc9-8f71-4ae7-8402-67c8fc2351b4",
     "outputs": [
      {
       "data": {
        "text/plain": "tensor([[-0.2327,  0.5648,  1.7428, -1.3169, -2.1947,  0.0000],\n        [ 1.4607, -0.3352, -0.3484, -2.0949,  0.8337,  1.0000],\n        [-0.2327,  0.5648,  1.7428, -1.3169, -2.1947,  2.0000],\n        [-0.2327,  0.5648,  1.7428, -1.3169, -2.1947,  3.0000],\n        [ 1.4607, -0.3352, -0.3484, -2.0949,  0.8337,  4.0000]],\n       grad_fn=<CatBackward>)"
       },
       "execution_count": 43,
       "metadata": {},
       "output_type": "execute_result"
      }
     ],
     "persistentId": "fa3d8ecc-75c2-4abc-8d01-c3fee3e4c007",
     "text": "torch.cat((embed, b.unsqueeze(1)), axis=1)"
    },
    "executionTime": "2019-10-13T20:37:31.191Z"
   },
   {
    "cell": {
     "executionCount": 44,
     "executionEventId": "62123306-a6df-49c5-bf48-17cd468a376f",
     "hasError": false,
     "id": "1cc01286-79d0-4ca5-b04c-241ef50b1c5b",
     "outputs": [
      {
       "name": "stdout",
       "output_type": "stream",
       "text": "tensor([[-0.2327,  0.5648,  1.7428, -1.3169, -2.1947,  0.0000],\n        [ 1.4607, -0.3352, -0.3484, -2.0949,  0.8337,  1.0000],\n        [-0.2327,  0.5648,  1.7428, -1.3169, -2.1947,  2.0000],\n        [-0.2327,  0.5648,  1.7428, -1.3169, -2.1947,  3.0000],\n        [ 1.4607, -0.3352, -0.3484, -2.0949,  0.8337,  4.0000]],\n       grad_fn=<CatBackward>)\n"
      }
     ],
     "persistentId": "c3fa9ac2-3bd6-40b5-88d6-e2e9f7c5ed07",
     "text": "b = torch.tensor(df.num_col).float()\nprint(torch.cat((embed, b.unsqueeze(1)), axis=1))"
    },
    "executionTime": "2019-10-13T20:37:43.794Z"
   }
  ],
  "kernelspec": {
   "display_name": "dsr-dl",
   "language": "python",
   "name": "dl"
  },
  "language_info": {
   "codemirror_mode": {
    "name": "ipython",
    "version": 3
   },
   "file_extension": ".py",
   "mimetype": "text/x-python",
   "name": "python",
   "nbconvert_exporter": "python",
   "pygments_lexer": "ipython3",
   "version": "3.7.4"
  },
  "neptune": {
   "notebookId": "6d033343-33de-4022-8825-473fbd07a644"
  },
  "uuid": "294155db-f928-4145-8c43-ab93cd0ec2bc"
 },
 "nbformat": 4,
 "nbformat_minor": 4
}
