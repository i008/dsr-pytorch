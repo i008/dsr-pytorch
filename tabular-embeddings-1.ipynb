{
 "cells": [
  {
   "cell_type": "markdown",
   "metadata": {},
   "source": [
    "# TABULAR EMBEDDINGS INTRO"
   ]
  },
  {
   "cell_type": "markdown",
   "metadata": {},
   "source": [
    "### Encode Categorical Features \n",
    "given the dataframe df, encode labels in the cat_col. ie cat_col should be encoded as [0,1,0,0,1]\n"
   ]
  },
  {
   "cell_type": "code",
   "execution_count": 44,
   "metadata": {},
   "outputs": [
    {
     "name": "stdout",
     "output_type": "stream",
     "text": [
      "   num_col cat_col\n",
      "0        0       A\n",
      "1        1       B\n",
      "2        2       A\n",
      "3        3       A\n",
      "4        4       B\n"
     ]
    }
   ],
   "source": [
    "import pandas as pd\n",
    "from torch import nn\n",
    "import torch\n",
    "import numpy as np\n",
    "\n",
    "df = pd.DataFrame({'num_col': [0,1,2,3,4], 'cat_col': ['A', 'B', 'A', 'A', 'B']})\n",
    "print(df)"
   ]
  },
  {
   "cell_type": "code",
   "execution_count": 43,
   "metadata": {},
   "outputs": [],
   "source": [
    "df.cat_col = # YOUR_CODE_HERE"
   ]
  },
  {
   "cell_type": "markdown",
   "metadata": {},
   "source": [
    "### Create an embedding layera with the correct number of embeddings and dimensionality of 5 "
   ]
  },
  {
   "cell_type": "code",
   "execution_count": 11,
   "metadata": {},
   "outputs": [],
   "source": [
    "embedding_layer =  # YOUR_CODE_HERE"
   ]
  },
  {
   "cell_type": "markdown",
   "metadata": {},
   "source": [
    "### Retrieve the embedding for the first 3 rows of the data"
   ]
  },
  {
   "cell_type": "code",
   "execution_count": 41,
   "metadata": {},
   "outputs": [],
   "source": [
    "# YOUR_CODE_HERE"
   ]
  },
  {
   "cell_type": "markdown",
   "metadata": {},
   "source": [
    "### Combine(concatanate) the embeddings for all the rows with the numerical column. \n",
    "You should get something similar to:\n",
    "```\n",
    "tensor([[-0.2773, -1.2062, -1.2379,  0.1075,  0.3603,  0.0000],\n",
    "        [ 1.8006, -0.3486,  0.7133, -0.1914,  0.7819,  1.0000],\n",
    "        [-0.2773, -1.2062, -1.2379,  0.1075,  0.3603,  2.0000],\n",
    "        [ 1.8006, -0.3486,  0.7133, -0.1914,  0.7819,  3.0000],\n",
    "        [-0.2773, -1.2062, -1.2379,  0.1075,  0.3603,  4.0000]],\n",
    "       grad_fn=<CatBackward>)\n",
    "       \n",
    "torch.Size([5, 6])       \n",
    "```"
   ]
  },
  {
   "cell_type": "code",
   "execution_count": 40,
   "metadata": {},
   "outputs": [
    {
     "data": {
      "text/plain": [
       "torch.Size([5, 6])"
      ]
     },
     "execution_count": 40,
     "metadata": {},
     "output_type": "execute_result"
    }
   ],
   "source": [
    "# YOUR_CODE_HERE"
   ]
  }
 ],
 "metadata": {
  "kernelspec": {
   "display_name": "Python [conda env:dl] *",
   "language": "python",
   "name": "conda-env-dl-py"
  },
  "language_info": {
   "codemirror_mode": {
    "name": "ipython",
    "version": 3
   },
   "file_extension": ".py",
   "mimetype": "text/x-python",
   "name": "python",
   "nbconvert_exporter": "python",
   "pygments_lexer": "ipython3",
   "version": "3.7.3"
  },
  "neptune": {
   "notebookId": "6d033343-33de-4022-8825-473fbd07a644"
  }
 },
 "nbformat": 4,
 "nbformat_minor": 2
}
