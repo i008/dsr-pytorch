{
 "cells": [
  {
   "cell_type": "markdown",
   "metadata": {},
   "source": [
    "# TABULAR EMBEDDINGS INTRO"
   ]
  },
  {
   "cell_type": "markdown",
   "metadata": {},
   "source": [
    "### Encode Categorical Features \n",
    "given the dataframe df, encode labels in the cat_col. ie cat_col should be encoded as [0,1,0,0,1]\n"
   ]
  },
  {
   "cell_type": "code",
   "execution_count": 10,
   "metadata": {
    "execution_event_id": "57b7a582-5cb8-441d-a5f8-5675eb44767c",
    "last_executed_text": "import pandas as pd\nfrom torch import nn\nimport torch\nimport numpy as np\n\ndf = pd.DataFrame({'num_col': [0,1,2,3,4], 'cat_col': ['A', 'B', 'A', 'A', 'B',]})\nprint(df)",
    "persistent_id": "26e50e24-cfe6-469c-a0b6-bbfb622594e6"
   },
   "outputs": [
    {
     "name": "stdout",
     "output_type": "stream",
     "text": [
      "   num_col cat_col\n",
      "0        0       A\n",
      "1        1       B\n",
      "2        2       A\n",
      "3        3       A\n",
      "4        4       B\n"
     ]
    }
   ],
   "source": [
    "import pandas as pd\n",
    "from torch import nn\n",
    "import torch\n",
    "import numpy as np\n",
    "\n",
    "df = pd.DataFrame({'num_col': [0,1,2,3,4], 'cat_col': ['A', 'B', 'A', 'A', 'B',]})\n",
    "print(df)"
   ]
  },
  {
   "cell_type": "code",
   "execution_count": 15,
   "metadata": {
    "execution_event_id": "c799e009-f3ee-4447-90e7-2334d471d620",
    "last_executed_text": "from sklearn.preprocessing import LabelEncoder\n\nle = LabelEncoder()\ndf.cat_col = le.fit_transform(df.cat_col)\ndf\n",
    "persistent_id": "c2a28be4-0f4c-4168-8864-a8d58c9f203f"
   },
   "outputs": [
    {
     "data": {
      "text/html": [
       "<div>\n",
       "<style scoped>\n",
       "    .dataframe tbody tr th:only-of-type {\n",
       "        vertical-align: middle;\n",
       "    }\n",
       "\n",
       "    .dataframe tbody tr th {\n",
       "        vertical-align: top;\n",
       "    }\n",
       "\n",
       "    .dataframe thead th {\n",
       "        text-align: right;\n",
       "    }\n",
       "</style>\n",
       "<table border=\"1\" class=\"dataframe\">\n",
       "  <thead>\n",
       "    <tr style=\"text-align: right;\">\n",
       "      <th></th>\n",
       "      <th>num_col</th>\n",
       "      <th>cat_col</th>\n",
       "    </tr>\n",
       "  </thead>\n",
       "  <tbody>\n",
       "    <tr>\n",
       "      <td>0</td>\n",
       "      <td>0</td>\n",
       "      <td>0</td>\n",
       "    </tr>\n",
       "    <tr>\n",
       "      <td>1</td>\n",
       "      <td>1</td>\n",
       "      <td>1</td>\n",
       "    </tr>\n",
       "    <tr>\n",
       "      <td>2</td>\n",
       "      <td>2</td>\n",
       "      <td>0</td>\n",
       "    </tr>\n",
       "    <tr>\n",
       "      <td>3</td>\n",
       "      <td>3</td>\n",
       "      <td>0</td>\n",
       "    </tr>\n",
       "    <tr>\n",
       "      <td>4</td>\n",
       "      <td>4</td>\n",
       "      <td>1</td>\n",
       "    </tr>\n",
       "  </tbody>\n",
       "</table>\n",
       "</div>"
      ],
      "text/plain": [
       "   num_col  cat_col\n",
       "0        0        0\n",
       "1        1        1\n",
       "2        2        0\n",
       "3        3        0\n",
       "4        4        1"
      ]
     },
     "execution_count": 15,
     "metadata": {},
     "output_type": "execute_result"
    }
   ],
   "source": [
    "from sklearn.preprocessing import LabelEncoder\n",
    "\n",
    "le = LabelEncoder()\n",
    "df.cat_col = le.fit_transform(df.cat_col)\n",
    "df\n"
   ]
  },
  {
   "cell_type": "markdown",
   "metadata": {},
   "source": [
    "### Create an embedding layera with the correct number of embeddings and dimensionality of 5 "
   ]
  },
  {
   "cell_type": "code",
   "execution_count": 28,
   "metadata": {
    "execution_event_id": "86abd790-69e9-4afb-96c7-bab2a8523af1",
    "last_executed_text": "embedding_layer = nn.Embedding(2, 5)\nembedding_layer.weight",
    "persistent_id": "339da085-1ec4-4eda-99f8-cfb1fc66d03d"
   },
   "outputs": [
    {
     "data": {
      "text/plain": [
       "Parameter containing:\n",
       "tensor([[ 0.3977,  1.0155,  1.1620,  0.7934, -1.3490],\n",
       "        [ 1.8328,  0.2387,  0.5636,  0.3158, -1.9732]], requires_grad=True)"
      ]
     },
     "execution_count": 28,
     "metadata": {},
     "output_type": "execute_result"
    }
   ],
   "source": [
    "embedding_layer = nn.Embedding(2, 5)\n",
    "embedding_layer.weight"
   ]
  },
  {
   "cell_type": "markdown",
   "metadata": {},
   "source": [
    "### Retrieve the embedding for the categorical variables"
   ]
  },
  {
   "cell_type": "code",
   "execution_count": 27,
   "metadata": {
    "execution_event_id": "8db1c773-1b09-4e58-8715-607277752406",
    "last_executed_text": "# YOUR CODE",
    "persistent_id": "1a709c37-cd75-4151-855e-ff3dffdea862"
   },
   "outputs": [],
   "source": [
    "# YOUR CODE"
   ]
  },
  {
   "cell_type": "markdown",
   "metadata": {},
   "source": [
    "### Combine(concatanate) the embeddings for all the rows with the numerical column. \n",
    "You should get something similar to:\n",
    "```\n",
    "tensor([[-0.2773, -1.2062, -1.2379,  0.1075,  0.3603,  0.0000],\n",
    "        [ 1.8006, -0.3486,  0.7133, -0.1914,  0.7819,  1.0000],\n",
    "        [-0.2773, -1.2062, -1.2379,  0.1075,  0.3603,  2.0000],\n",
    "        [ 1.8006, -0.3486,  0.7133, -0.1914,  0.7819,  3.0000],\n",
    "        [-0.2773, -1.2062, -1.2379,  0.1075,  0.3603,  4.0000]],\n",
    "       grad_fn=<CatBackward>)\n",
    "       \n",
    "torch.Size([5, 6])       \n",
    "```"
   ]
  },
  {
   "cell_type": "code",
   "execution_count": 26,
   "metadata": {
    "execution_event_id": "33ea1d26-30ae-4a33-9d13-e9c15214a891",
    "last_executed_text": "# YOUR CODE",
    "persistent_id": "c3fa9ac2-3bd6-40b5-88d6-e2e9f7c5ed07"
   },
   "outputs": [],
   "source": [
    "# YOUR CODE"
   ]
  }
 ],
 "metadata": {
  "history": [
   {
    "cell": {
     "executionCount": 1,
     "executionEventId": "67d4d0ea-b38e-4fc5-92eb-5cb3a402b8f6",
     "hasError": false,
     "id": "e68b8a99-c189-44c6-83d8-db75f66a7c78",
     "outputs": [
      {
       "name": "stdout",
       "output_type": "stream",
       "text": "   num_col cat_col\n0        0       A\n1        1       B\n2        2       A\n3        3       A\n4        4       B\n"
      }
     ],
     "persistentId": "26e50e24-cfe6-469c-a0b6-bbfb622594e6",
     "text": "import pandas as pd\nfrom torch import nn\nimport torch\nimport numpy as np\n\ndf = pd.DataFrame({'num_col': [0,1,2,3,4], 'cat_col': ['A', 'B', 'A', 'A', 'B',]})\nprint(df)"
    },
    "executionTime": "2019-10-13T20:26:14.201Z"
   },
   {
    "cell": {
     "executionCount": 2,
     "executionEventId": "b7248941-2576-4775-9d24-3990eddfcc40",
     "hasError": false,
     "id": "90f3f113-6983-4389-a158-2a890b5c7d46",
     "outputs": [
      {
       "data": {
        "text/html": "<div>\n<style scoped>\n    .dataframe tbody tr th:only-of-type {\n        vertical-align: middle;\n    }\n\n    .dataframe tbody tr th {\n        vertical-align: top;\n    }\n\n    .dataframe thead th {\n        text-align: right;\n    }\n</style>\n<table border=\"1\" class=\"dataframe\">\n  <thead>\n    <tr style=\"text-align: right;\">\n      <th></th>\n      <th>num_col</th>\n      <th>cat_col</th>\n    </tr>\n  </thead>\n  <tbody>\n    <tr>\n      <td>0</td>\n      <td>0</td>\n      <td>0</td>\n    </tr>\n    <tr>\n      <td>1</td>\n      <td>1</td>\n      <td>1</td>\n    </tr>\n    <tr>\n      <td>2</td>\n      <td>2</td>\n      <td>0</td>\n    </tr>\n    <tr>\n      <td>3</td>\n      <td>3</td>\n      <td>0</td>\n    </tr>\n    <tr>\n      <td>4</td>\n      <td>4</td>\n      <td>1</td>\n    </tr>\n  </tbody>\n</table>\n</div>",
        "text/plain": "   num_col  cat_col\n0        0        0\n1        1        1\n2        2        0\n3        3        0\n4        4        1"
       },
       "execution_count": 2,
       "metadata": {},
       "output_type": "execute_result"
      }
     ],
     "persistentId": "c2a28be4-0f4c-4168-8864-a8d58c9f203f",
     "text": "from sklearn.preprocessing import LabelEncoder\n\nle = LabelEncoder()\ndf.cat_col = le.fit_transform(df.cat_col)\ndf\n"
    },
    "executionTime": "2019-10-13T20:26:15.236Z"
   },
   {
    "cell": {
     "executionCount": 3,
     "executionEventId": "18085250-5f83-474e-9e07-2e9ad0297396",
     "hasError": false,
     "id": "addb871c-f56d-4918-bc22-dfaf3d2d8d55",
     "outputs": [
      {
       "data": {
        "text/plain": "Parameter containing:\ntensor([[ 1.5940, -0.1383, -1.1144,  0.7372, -1.0788],\n        [-1.4933, -0.3248,  0.6160,  0.5103,  0.7067]], requires_grad=True)"
       },
       "execution_count": 3,
       "metadata": {},
       "output_type": "execute_result"
      }
     ],
     "persistentId": "339da085-1ec4-4eda-99f8-cfb1fc66d03d",
     "text": "embedding_layer = nn.Embedding(2, 5)\nembedding_layer.weight"
    },
    "executionTime": "2019-10-13T20:26:16.418Z"
   },
   {
    "cell": {
     "executionCount": 4,
     "executionEventId": "819645ac-58fe-4541-b964-abf374049981",
     "hasError": false,
     "id": "43e4da44-ce8f-4a91-8f78-e4238481e58d",
     "outputs": [
      {
       "name": "stdout",
       "output_type": "stream",
       "text": "0    0\n1    1\n2    0\n3    0\n4    1\nName: cat_col, dtype: int64\n"
      },
      {
       "data": {
        "text/plain": "tensor([[ 1.5940, -0.1383, -1.1144,  0.7372, -1.0788],\n        [-1.4933, -0.3248,  0.6160,  0.5103,  0.7067],\n        [ 1.5940, -0.1383, -1.1144,  0.7372, -1.0788],\n        [ 1.5940, -0.1383, -1.1144,  0.7372, -1.0788],\n        [-1.4933, -0.3248,  0.6160,  0.5103,  0.7067]],\n       grad_fn=<IndexBackward>)"
       },
       "execution_count": 4,
       "metadata": {},
       "output_type": "execute_result"
      }
     ],
     "persistentId": "1a709c37-cd75-4151-855e-ff3dffdea862",
     "text": "print(df.cat_col)\nembedding_layer.weight[df.cat_col]"
    },
    "executionTime": "2019-10-13T20:26:17.920Z"
   },
   {
    "cell": {
     "executionCount": 5,
     "executionEventId": "3c1d5fa1-5a56-4c62-9f98-9360b80f3e40",
     "hasError": false,
     "id": "f80b2f07-bee0-45da-8a4b-a07c32ce2f39",
     "outputs": [],
     "persistentId": "8ec21385-3a33-491b-bb0b-6cf43486d7c1",
     "text": "from sklearn.preprocessing import LabelEncoder"
    },
    "executionTime": "2019-10-13T20:26:21.639Z"
   },
   {
    "cell": {
     "executionCount": 6,
     "executionEventId": "c64b7e1a-0eb1-4681-8580-1dd91e9b5088",
     "hasError": true,
     "id": "b7b95d48-2558-40ab-8290-105bd4e7984d",
     "outputs": [
      {
       "ename": "SyntaxError",
       "evalue": "invalid syntax (<ipython-input-6-d56e0c68024c>, line 1)",
       "output_type": "error",
       "traceback": [
        "\u001b[0;36m  File \u001b[0;32m\"<ipython-input-6-d56e0c68024c>\"\u001b[0;36m, line \u001b[0;32m1\u001b[0m\n\u001b[0;31m    7 regular numerical variables\u001b[0m\n\u001b[0m            ^\u001b[0m\n\u001b[0;31mSyntaxError\u001b[0m\u001b[0;31m:\u001b[0m invalid syntax\n"
       ]
      }
     ],
     "persistentId": "0c10a3af-2c19-4c24-97be-c7ab6f7d4c9c",
     "text": "7 regular numerical variables\n3 categorical variables ('type_of_pet(20)','type_of_car(100)','has_loan(2)')\n\n{'type_of_pet': 10, 'type_of_car':50, 'has_loan': 2}\n\nn_input_neurons = 7 + 10 + 50 + 2"
    },
    "executionTime": "2019-10-13T20:26:21.990Z"
   },
   {
    "cell": {
     "executionCount": 7,
     "executionEventId": "136728d9-4d9f-4d88-a01a-ea7653c3d815",
     "hasError": false,
     "id": "e68b8a99-c189-44c6-83d8-db75f66a7c78",
     "outputs": [
      {
       "name": "stdout",
       "output_type": "stream",
       "text": "   num_col cat_col\n0        0       A\n1        1       B\n2        2       A\n3        3       A\n4        4       B\n"
      }
     ],
     "persistentId": "26e50e24-cfe6-469c-a0b6-bbfb622594e6",
     "text": "import pandas as pd\nfrom torch import nn\nimport torch\nimport numpy as np\n\ndf = pd.DataFrame({'num_col': [0,1,2,3,4], 'cat_col': ['A', 'B', 'A', 'A', 'B',]})\nprint(df)"
    },
    "executionTime": "2019-10-13T20:26:44.140Z"
   },
   {
    "cell": {
     "executionCount": 8,
     "executionEventId": "723d802c-3b3e-424d-b5b4-d5b369f73c9d",
     "hasError": false,
     "id": "addb871c-f56d-4918-bc22-dfaf3d2d8d55",
     "outputs": [
      {
       "data": {
        "text/plain": "Parameter containing:\ntensor([[-1.2990, -1.7480,  1.4952,  0.1954, -1.1429],\n        [ 1.2574, -0.3615,  0.2828, -0.6255, -0.1632]], requires_grad=True)"
       },
       "execution_count": 8,
       "metadata": {},
       "output_type": "execute_result"
      }
     ],
     "persistentId": "339da085-1ec4-4eda-99f8-cfb1fc66d03d",
     "text": "embedding_layer = nn.Embedding(2, 5)\nembedding_layer.weight"
    },
    "executionTime": "2019-10-13T20:26:47.775Z"
   },
   {
    "cell": {
     "executionCount": 9,
     "executionEventId": "e0395f3f-3edb-419f-b031-71539a1ffd51",
     "hasError": true,
     "id": "43e4da44-ce8f-4a91-8f78-e4238481e58d",
     "outputs": [
      {
       "name": "stdout",
       "output_type": "stream",
       "text": "0    A\n1    B\n2    A\n3    A\n4    B\nName: cat_col, dtype: object\n"
      },
      {
       "ename": "IndexError",
       "evalue": "too many indices for tensor of dimension 2",
       "output_type": "error",
       "traceback": [
        "\u001b[0;31m---------------------------------------------------------------------------\u001b[0m",
        "\u001b[0;31mIndexError\u001b[0m                                Traceback (most recent call last)",
        "\u001b[0;32m<ipython-input-9-d18f9f25ecbb>\u001b[0m in \u001b[0;36m<module>\u001b[0;34m\u001b[0m\n\u001b[1;32m      1\u001b[0m \u001b[0mprint\u001b[0m\u001b[0;34m(\u001b[0m\u001b[0mdf\u001b[0m\u001b[0;34m.\u001b[0m\u001b[0mcat_col\u001b[0m\u001b[0;34m)\u001b[0m\u001b[0;34m\u001b[0m\u001b[0;34m\u001b[0m\u001b[0m\n\u001b[0;32m----> 2\u001b[0;31m \u001b[0membedding_layer\u001b[0m\u001b[0;34m.\u001b[0m\u001b[0mweight\u001b[0m\u001b[0;34m[\u001b[0m\u001b[0mdf\u001b[0m\u001b[0;34m.\u001b[0m\u001b[0mcat_col\u001b[0m\u001b[0;34m]\u001b[0m\u001b[0;34m\u001b[0m\u001b[0;34m\u001b[0m\u001b[0m\n\u001b[0m",
        "\u001b[0;31mIndexError\u001b[0m: too many indices for tensor of dimension 2"
       ]
      }
     ],
     "persistentId": "1a709c37-cd75-4151-855e-ff3dffdea862",
     "text": "print(df.cat_col)\nembedding_layer.weight[df.cat_col]"
    },
    "executionTime": "2019-10-13T20:27:05.153Z"
   },
   {
    "cell": {
     "executionCount": 10,
     "executionEventId": "57b7a582-5cb8-441d-a5f8-5675eb44767c",
     "hasError": false,
     "id": "e68b8a99-c189-44c6-83d8-db75f66a7c78",
     "outputs": [
      {
       "name": "stdout",
       "output_type": "stream",
       "text": "   num_col cat_col\n0        0       A\n1        1       B\n2        2       A\n3        3       A\n4        4       B\n"
      }
     ],
     "persistentId": "26e50e24-cfe6-469c-a0b6-bbfb622594e6",
     "text": "import pandas as pd\nfrom torch import nn\nimport torch\nimport numpy as np\n\ndf = pd.DataFrame({'num_col': [0,1,2,3,4], 'cat_col': ['A', 'B', 'A', 'A', 'B',]})\nprint(df)"
    },
    "executionTime": "2019-10-13T20:27:12.085Z"
   },
   {
    "cell": {
     "executionCount": 11,
     "executionEventId": "261c87d3-81f1-43ef-9081-d7ae0027f44b",
     "hasError": false,
     "id": "90f3f113-6983-4389-a158-2a890b5c7d46",
     "outputs": [
      {
       "data": {
        "text/html": "<div>\n<style scoped>\n    .dataframe tbody tr th:only-of-type {\n        vertical-align: middle;\n    }\n\n    .dataframe tbody tr th {\n        vertical-align: top;\n    }\n\n    .dataframe thead th {\n        text-align: right;\n    }\n</style>\n<table border=\"1\" class=\"dataframe\">\n  <thead>\n    <tr style=\"text-align: right;\">\n      <th></th>\n      <th>num_col</th>\n      <th>cat_col</th>\n    </tr>\n  </thead>\n  <tbody>\n    <tr>\n      <td>0</td>\n      <td>0</td>\n      <td>0</td>\n    </tr>\n    <tr>\n      <td>1</td>\n      <td>1</td>\n      <td>1</td>\n    </tr>\n    <tr>\n      <td>2</td>\n      <td>2</td>\n      <td>0</td>\n    </tr>\n    <tr>\n      <td>3</td>\n      <td>3</td>\n      <td>0</td>\n    </tr>\n    <tr>\n      <td>4</td>\n      <td>4</td>\n      <td>1</td>\n    </tr>\n  </tbody>\n</table>\n</div>",
        "text/plain": "   num_col  cat_col\n0        0        0\n1        1        1\n2        2        0\n3        3        0\n4        4        1"
       },
       "execution_count": 11,
       "metadata": {},
       "output_type": "execute_result"
      }
     ],
     "persistentId": "c2a28be4-0f4c-4168-8864-a8d58c9f203f",
     "text": "from sklearn.preprocessing import LabelEncoder\n\nle = LabelEncoder()\ndf.cat_col = le.fit_transform(df.cat_col)\ndf\n"
    },
    "executionTime": "2019-10-13T20:27:12.944Z"
   },
   {
    "cell": {
     "executionCount": 12,
     "executionEventId": "9b1117a0-bfaf-4d65-97b0-9b613bc7f221",
     "hasError": false,
     "id": "addb871c-f56d-4918-bc22-dfaf3d2d8d55",
     "outputs": [
      {
       "data": {
        "text/plain": "Parameter containing:\ntensor([[-1.0420, -0.2601,  1.9042, -0.1016, -0.4973],\n        [ 1.7575,  0.2312,  1.8921,  0.5452, -1.1089]], requires_grad=True)"
       },
       "execution_count": 12,
       "metadata": {},
       "output_type": "execute_result"
      }
     ],
     "persistentId": "339da085-1ec4-4eda-99f8-cfb1fc66d03d",
     "text": "embedding_layer = nn.Embedding(2, 5)\nembedding_layer.weight"
    },
    "executionTime": "2019-10-13T20:27:13.978Z"
   },
   {
    "cell": {
     "executionCount": 13,
     "executionEventId": "4c1875e7-df92-4479-b28a-0714973cd033",
     "hasError": false,
     "id": "43e4da44-ce8f-4a91-8f78-e4238481e58d",
     "outputs": [
      {
       "name": "stdout",
       "output_type": "stream",
       "text": "0    0\n1    1\n2    0\n3    0\n4    1\nName: cat_col, dtype: int64\n"
      },
      {
       "data": {
        "text/plain": "tensor([[-1.0420, -0.2601,  1.9042, -0.1016, -0.4973],\n        [ 1.7575,  0.2312,  1.8921,  0.5452, -1.1089],\n        [-1.0420, -0.2601,  1.9042, -0.1016, -0.4973],\n        [-1.0420, -0.2601,  1.9042, -0.1016, -0.4973],\n        [ 1.7575,  0.2312,  1.8921,  0.5452, -1.1089]],\n       grad_fn=<IndexBackward>)"
       },
       "execution_count": 13,
       "metadata": {},
       "output_type": "execute_result"
      }
     ],
     "persistentId": "1a709c37-cd75-4151-855e-ff3dffdea862",
     "text": "print(df.cat_col)\nembedding_layer.weight[df.cat_col]"
    },
    "executionTime": "2019-10-13T20:27:14.516Z"
   },
   {
    "cell": {
     "executionCount": 14,
     "executionEventId": "d3e80da2-254b-4db2-b7cc-5a7e11897841",
     "hasError": false,
     "id": "43e4da44-ce8f-4a91-8f78-e4238481e58d",
     "outputs": [
      {
       "name": "stdout",
       "output_type": "stream",
       "text": "0    0\n1    1\n2    0\n3    0\n4    1\nName: cat_col, dtype: int64\n"
      },
      {
       "data": {
        "text/plain": "tensor([[-1.0420, -0.2601,  1.9042, -0.1016, -0.4973],\n        [ 1.7575,  0.2312,  1.8921,  0.5452, -1.1089],\n        [-1.0420, -0.2601,  1.9042, -0.1016, -0.4973],\n        [-1.0420, -0.2601,  1.9042, -0.1016, -0.4973],\n        [ 1.7575,  0.2312,  1.8921,  0.5452, -1.1089]],\n       grad_fn=<IndexBackward>)"
       },
       "execution_count": 14,
       "metadata": {},
       "output_type": "execute_result"
      }
     ],
     "persistentId": "1a709c37-cd75-4151-855e-ff3dffdea862",
     "text": "print(df.cat_col)\nembedding_layer.weight[df.cat_col]"
    },
    "executionTime": "2019-10-13T20:27:16.114Z"
   },
   {
    "cell": {
     "executionCount": 15,
     "executionEventId": "c799e009-f3ee-4447-90e7-2334d471d620",
     "hasError": false,
     "id": "90f3f113-6983-4389-a158-2a890b5c7d46",
     "outputs": [
      {
       "data": {
        "text/html": "<div>\n<style scoped>\n    .dataframe tbody tr th:only-of-type {\n        vertical-align: middle;\n    }\n\n    .dataframe tbody tr th {\n        vertical-align: top;\n    }\n\n    .dataframe thead th {\n        text-align: right;\n    }\n</style>\n<table border=\"1\" class=\"dataframe\">\n  <thead>\n    <tr style=\"text-align: right;\">\n      <th></th>\n      <th>num_col</th>\n      <th>cat_col</th>\n    </tr>\n  </thead>\n  <tbody>\n    <tr>\n      <td>0</td>\n      <td>0</td>\n      <td>0</td>\n    </tr>\n    <tr>\n      <td>1</td>\n      <td>1</td>\n      <td>1</td>\n    </tr>\n    <tr>\n      <td>2</td>\n      <td>2</td>\n      <td>0</td>\n    </tr>\n    <tr>\n      <td>3</td>\n      <td>3</td>\n      <td>0</td>\n    </tr>\n    <tr>\n      <td>4</td>\n      <td>4</td>\n      <td>1</td>\n    </tr>\n  </tbody>\n</table>\n</div>",
        "text/plain": "   num_col  cat_col\n0        0        0\n1        1        1\n2        2        0\n3        3        0\n4        4        1"
       },
       "execution_count": 15,
       "metadata": {},
       "output_type": "execute_result"
      }
     ],
     "persistentId": "c2a28be4-0f4c-4168-8864-a8d58c9f203f",
     "text": "from sklearn.preprocessing import LabelEncoder\n\nle = LabelEncoder()\ndf.cat_col = le.fit_transform(df.cat_col)\ndf\n"
    },
    "executionTime": "2019-10-13T20:27:45.280Z"
   },
   {
    "cell": {
     "executionCount": 16,
     "executionEventId": "0f11afdb-38f8-4aec-9502-82251e064645",
     "hasError": false,
     "id": "addb871c-f56d-4918-bc22-dfaf3d2d8d55",
     "outputs": [
      {
       "data": {
        "text/plain": "Parameter containing:\ntensor([[-1.7768,  0.6515, -1.1714,  0.6298, -0.3583],\n        [ 0.7440,  0.1020,  0.6331,  0.8409,  0.5512]], requires_grad=True)"
       },
       "execution_count": 16,
       "metadata": {},
       "output_type": "execute_result"
      }
     ],
     "persistentId": "339da085-1ec4-4eda-99f8-cfb1fc66d03d",
     "text": "embedding_layer = nn.Embedding(2, 5)\nembedding_layer.weight"
    },
    "executionTime": "2019-10-13T20:27:46.422Z"
   },
   {
    "cell": {
     "executionCount": 17,
     "executionEventId": "aa9d9ba1-2152-48d9-bf14-a19517550b54",
     "hasError": false,
     "id": "43e4da44-ce8f-4a91-8f78-e4238481e58d",
     "outputs": [
      {
       "name": "stdout",
       "output_type": "stream",
       "text": "0    0\n1    1\n2    0\n3    0\n4    1\nName: cat_col, dtype: int64\n"
      },
      {
       "data": {
        "text/plain": "tensor([[-1.7768,  0.6515, -1.1714,  0.6298, -0.3583],\n        [ 0.7440,  0.1020,  0.6331,  0.8409,  0.5512],\n        [-1.7768,  0.6515, -1.1714,  0.6298, -0.3583],\n        [-1.7768,  0.6515, -1.1714,  0.6298, -0.3583],\n        [ 0.7440,  0.1020,  0.6331,  0.8409,  0.5512]],\n       grad_fn=<IndexBackward>)"
       },
       "execution_count": 17,
       "metadata": {},
       "output_type": "execute_result"
      }
     ],
     "persistentId": "1a709c37-cd75-4151-855e-ff3dffdea862",
     "text": "print(df.cat_col)\nembedding_layer.weight[df.cat_col]"
    },
    "executionTime": "2019-10-13T20:27:47.785Z"
   },
   {
    "cell": {
     "executionCount": 18,
     "executionEventId": "8b55145e-7b5b-45b6-89ae-f1969440382d",
     "hasError": true,
     "id": "43e4da44-ce8f-4a91-8f78-e4238481e58d",
     "outputs": [
      {
       "name": "stdout",
       "output_type": "stream",
       "text": "0    0\n1    1\n2    0\n3    0\n4    1\nName: cat_col, dtype: int64\n"
      },
      {
       "ename": "TypeError",
       "evalue": "embedding(): argument 'indices' (position 2) must be Tensor, not Series",
       "output_type": "error",
       "traceback": [
        "\u001b[0;31m---------------------------------------------------------------------------\u001b[0m",
        "\u001b[0;31mTypeError\u001b[0m                                 Traceback (most recent call last)",
        "\u001b[0;32m<ipython-input-18-994be95887ff>\u001b[0m in \u001b[0;36m<module>\u001b[0;34m\u001b[0m\n\u001b[1;32m      2\u001b[0m \u001b[0;31m# embedding_layer.weight[df.cat_col]\u001b[0m\u001b[0;34m\u001b[0m\u001b[0;34m\u001b[0m\u001b[0;34m\u001b[0m\u001b[0m\n\u001b[1;32m      3\u001b[0m \u001b[0;34m\u001b[0m\u001b[0m\n\u001b[0;32m----> 4\u001b[0;31m \u001b[0membedding_layer\u001b[0m\u001b[0;34m(\u001b[0m\u001b[0mdf\u001b[0m\u001b[0;34m.\u001b[0m\u001b[0mcat_col\u001b[0m\u001b[0;34m)\u001b[0m\u001b[0;34m\u001b[0m\u001b[0;34m\u001b[0m\u001b[0m\n\u001b[0m",
        "\u001b[0;32m~/anaconda3/envs/dl/lib/python3.7/site-packages/torch/nn/modules/module.py\u001b[0m in \u001b[0;36m__call__\u001b[0;34m(self, *input, **kwargs)\u001b[0m\n\u001b[1;32m    539\u001b[0m             \u001b[0mresult\u001b[0m \u001b[0;34m=\u001b[0m \u001b[0mself\u001b[0m\u001b[0;34m.\u001b[0m\u001b[0m_slow_forward\u001b[0m\u001b[0;34m(\u001b[0m\u001b[0;34m*\u001b[0m\u001b[0minput\u001b[0m\u001b[0;34m,\u001b[0m \u001b[0;34m**\u001b[0m\u001b[0mkwargs\u001b[0m\u001b[0;34m)\u001b[0m\u001b[0;34m\u001b[0m\u001b[0;34m\u001b[0m\u001b[0m\n\u001b[1;32m    540\u001b[0m         \u001b[0;32melse\u001b[0m\u001b[0;34m:\u001b[0m\u001b[0;34m\u001b[0m\u001b[0;34m\u001b[0m\u001b[0m\n\u001b[0;32m--> 541\u001b[0;31m             \u001b[0mresult\u001b[0m \u001b[0;34m=\u001b[0m \u001b[0mself\u001b[0m\u001b[0;34m.\u001b[0m\u001b[0mforward\u001b[0m\u001b[0;34m(\u001b[0m\u001b[0;34m*\u001b[0m\u001b[0minput\u001b[0m\u001b[0;34m,\u001b[0m \u001b[0;34m**\u001b[0m\u001b[0mkwargs\u001b[0m\u001b[0;34m)\u001b[0m\u001b[0;34m\u001b[0m\u001b[0;34m\u001b[0m\u001b[0m\n\u001b[0m\u001b[1;32m    542\u001b[0m         \u001b[0;32mfor\u001b[0m \u001b[0mhook\u001b[0m \u001b[0;32min\u001b[0m \u001b[0mself\u001b[0m\u001b[0;34m.\u001b[0m\u001b[0m_forward_hooks\u001b[0m\u001b[0;34m.\u001b[0m\u001b[0mvalues\u001b[0m\u001b[0;34m(\u001b[0m\u001b[0;34m)\u001b[0m\u001b[0;34m:\u001b[0m\u001b[0;34m\u001b[0m\u001b[0;34m\u001b[0m\u001b[0m\n\u001b[1;32m    543\u001b[0m             \u001b[0mhook_result\u001b[0m \u001b[0;34m=\u001b[0m \u001b[0mhook\u001b[0m\u001b[0;34m(\u001b[0m\u001b[0mself\u001b[0m\u001b[0;34m,\u001b[0m \u001b[0minput\u001b[0m\u001b[0;34m,\u001b[0m \u001b[0mresult\u001b[0m\u001b[0;34m)\u001b[0m\u001b[0;34m\u001b[0m\u001b[0;34m\u001b[0m\u001b[0m\n",
        "\u001b[0;32m~/anaconda3/envs/dl/lib/python3.7/site-packages/torch/nn/modules/sparse.py\u001b[0m in \u001b[0;36mforward\u001b[0;34m(self, input)\u001b[0m\n\u001b[1;32m    112\u001b[0m         return F.embedding(\n\u001b[1;32m    113\u001b[0m             \u001b[0minput\u001b[0m\u001b[0;34m,\u001b[0m \u001b[0mself\u001b[0m\u001b[0;34m.\u001b[0m\u001b[0mweight\u001b[0m\u001b[0;34m,\u001b[0m \u001b[0mself\u001b[0m\u001b[0;34m.\u001b[0m\u001b[0mpadding_idx\u001b[0m\u001b[0;34m,\u001b[0m \u001b[0mself\u001b[0m\u001b[0;34m.\u001b[0m\u001b[0mmax_norm\u001b[0m\u001b[0;34m,\u001b[0m\u001b[0;34m\u001b[0m\u001b[0;34m\u001b[0m\u001b[0m\n\u001b[0;32m--> 114\u001b[0;31m             self.norm_type, self.scale_grad_by_freq, self.sparse)\n\u001b[0m\u001b[1;32m    115\u001b[0m \u001b[0;34m\u001b[0m\u001b[0m\n\u001b[1;32m    116\u001b[0m     \u001b[0;32mdef\u001b[0m \u001b[0mextra_repr\u001b[0m\u001b[0;34m(\u001b[0m\u001b[0mself\u001b[0m\u001b[0;34m)\u001b[0m\u001b[0;34m:\u001b[0m\u001b[0;34m\u001b[0m\u001b[0;34m\u001b[0m\u001b[0m\n",
        "\u001b[0;32m~/anaconda3/envs/dl/lib/python3.7/site-packages/torch/nn/functional.py\u001b[0m in \u001b[0;36membedding\u001b[0;34m(input, weight, padding_idx, max_norm, norm_type, scale_grad_by_freq, sparse)\u001b[0m\n\u001b[1;32m   1482\u001b[0m         \u001b[0;31m# remove once script supports set_grad_enabled\u001b[0m\u001b[0;34m\u001b[0m\u001b[0;34m\u001b[0m\u001b[0;34m\u001b[0m\u001b[0m\n\u001b[1;32m   1483\u001b[0m         \u001b[0m_no_grad_embedding_renorm_\u001b[0m\u001b[0;34m(\u001b[0m\u001b[0mweight\u001b[0m\u001b[0;34m,\u001b[0m \u001b[0minput\u001b[0m\u001b[0;34m,\u001b[0m \u001b[0mmax_norm\u001b[0m\u001b[0;34m,\u001b[0m \u001b[0mnorm_type\u001b[0m\u001b[0;34m)\u001b[0m\u001b[0;34m\u001b[0m\u001b[0;34m\u001b[0m\u001b[0m\n\u001b[0;32m-> 1484\u001b[0;31m     \u001b[0;32mreturn\u001b[0m \u001b[0mtorch\u001b[0m\u001b[0;34m.\u001b[0m\u001b[0membedding\u001b[0m\u001b[0;34m(\u001b[0m\u001b[0mweight\u001b[0m\u001b[0;34m,\u001b[0m \u001b[0minput\u001b[0m\u001b[0;34m,\u001b[0m \u001b[0mpadding_idx\u001b[0m\u001b[0;34m,\u001b[0m \u001b[0mscale_grad_by_freq\u001b[0m\u001b[0;34m,\u001b[0m \u001b[0msparse\u001b[0m\u001b[0;34m)\u001b[0m\u001b[0;34m\u001b[0m\u001b[0;34m\u001b[0m\u001b[0m\n\u001b[0m\u001b[1;32m   1485\u001b[0m \u001b[0;34m\u001b[0m\u001b[0m\n\u001b[1;32m   1486\u001b[0m \u001b[0;34m\u001b[0m\u001b[0m\n",
        "\u001b[0;31mTypeError\u001b[0m: embedding(): argument 'indices' (position 2) must be Tensor, not Series"
       ]
      }
     ],
     "persistentId": "1a709c37-cd75-4151-855e-ff3dffdea862",
     "text": "print(df.cat_col)\n# embedding_layer.weight[df.cat_col]\n\nembedding_layer(df.cat_col)"
    },
    "executionTime": "2019-10-13T20:29:00.131Z"
   },
   {
    "cell": {
     "executionCount": 19,
     "executionEventId": "e2309df9-9c79-401e-992a-c0ac2c9bd344",
     "hasError": false,
     "id": "43e4da44-ce8f-4a91-8f78-e4238481e58d",
     "outputs": [
      {
       "name": "stdout",
       "output_type": "stream",
       "text": "0    0\n1    1\n2    0\n3    0\n4    1\nName: cat_col, dtype: int64\n"
      },
      {
       "data": {
        "text/plain": "tensor([[-1.7768,  0.6515, -1.1714,  0.6298, -0.3583],\n        [ 0.7440,  0.1020,  0.6331,  0.8409,  0.5512],\n        [-1.7768,  0.6515, -1.1714,  0.6298, -0.3583],\n        [-1.7768,  0.6515, -1.1714,  0.6298, -0.3583],\n        [ 0.7440,  0.1020,  0.6331,  0.8409,  0.5512]],\n       grad_fn=<EmbeddingBackward>)"
       },
       "execution_count": 19,
       "metadata": {},
       "output_type": "execute_result"
      }
     ],
     "persistentId": "1a709c37-cd75-4151-855e-ff3dffdea862",
     "text": "print(df.cat_col)\n# embedding_layer.weight[df.cat_col]\n\nembedding_layer(torch.tensor(df.cat_col))"
    },
    "executionTime": "2019-10-13T20:29:13.452Z"
   },
   {
    "cell": {
     "executionCount": 20,
     "executionEventId": "c72a3d80-07af-4e2b-81d3-53984541dccb",
     "hasError": false,
     "id": "43e4da44-ce8f-4a91-8f78-e4238481e58d",
     "outputs": [
      {
       "data": {
        "text/plain": "tensor([[-1.7768,  0.6515, -1.1714,  0.6298, -0.3583],\n        [ 0.7440,  0.1020,  0.6331,  0.8409,  0.5512],\n        [-1.7768,  0.6515, -1.1714,  0.6298, -0.3583],\n        [-1.7768,  0.6515, -1.1714,  0.6298, -0.3583],\n        [ 0.7440,  0.1020,  0.6331,  0.8409,  0.5512]],\n       grad_fn=<EmbeddingBackward>)"
       },
       "execution_count": 20,
       "metadata": {},
       "output_type": "execute_result"
      }
     ],
     "persistentId": "1a709c37-cd75-4151-855e-ff3dffdea862",
     "text": "# print(df.cat_col)\n# embedding_layer.weight[df.cat_col]\n\nembedding_layer(torch.tensor(df.cat_col))"
    },
    "executionTime": "2019-10-13T20:29:26.908Z"
   },
   {
    "cell": {
     "executionCount": 21,
     "executionEventId": "210cfabb-6829-4a4b-9f6c-86241c71a42c",
     "hasError": false,
     "id": "43e4da44-ce8f-4a91-8f78-e4238481e58d",
     "outputs": [
      {
       "data": {
        "text/plain": "tensor([[-1.7768,  0.6515, -1.1714,  0.6298, -0.3583],\n        [ 0.7440,  0.1020,  0.6331,  0.8409,  0.5512],\n        [-1.7768,  0.6515, -1.1714,  0.6298, -0.3583],\n        [-1.7768,  0.6515, -1.1714,  0.6298, -0.3583],\n        [ 0.7440,  0.1020,  0.6331,  0.8409,  0.5512]],\n       grad_fn=<EmbeddingBackward>)"
       },
       "execution_count": 21,
       "metadata": {},
       "output_type": "execute_result"
      }
     ],
     "persistentId": "1a709c37-cd75-4151-855e-ff3dffdea862",
     "text": "# print(df.cat_col)\n# embedding_layer.weight[df.cat_col]\n\nembedding_layer(torch.tensor(df.cat_col))"
    },
    "executionTime": "2019-10-13T20:29:27.904Z"
   },
   {
    "cell": {
     "executionCount": 22,
     "executionEventId": "19aa9dbf-405c-4f35-8d42-e17718772858",
     "hasError": false,
     "id": "43e4da44-ce8f-4a91-8f78-e4238481e58d",
     "outputs": [
      {
       "data": {
        "text/plain": "tensor([[-1.7768,  0.6515, -1.1714,  0.6298, -0.3583],\n        [ 0.7440,  0.1020,  0.6331,  0.8409,  0.5512],\n        [-1.7768,  0.6515, -1.1714,  0.6298, -0.3583],\n        [-1.7768,  0.6515, -1.1714,  0.6298, -0.3583],\n        [ 0.7440,  0.1020,  0.6331,  0.8409,  0.5512]],\n       grad_fn=<EmbeddingBackward>)"
       },
       "execution_count": 22,
       "metadata": {},
       "output_type": "execute_result"
      }
     ],
     "persistentId": "1a709c37-cd75-4151-855e-ff3dffdea862",
     "text": "# print(df.cat_col)\n# embedding_layer.weight[df.cat_col]\n\nembedding_layer(torch.tensor(df.cat_col))"
    },
    "executionTime": "2019-10-13T20:29:28.362Z"
   },
   {
    "cell": {
     "executionCount": 23,
     "executionEventId": "14e449d6-4abc-4169-9c4b-c6139c8fbc63",
     "hasError": false,
     "id": "43e4da44-ce8f-4a91-8f78-e4238481e58d",
     "outputs": [
      {
       "data": {
        "text/plain": "tensor([[-1.7768,  0.6515, -1.1714,  0.6298, -0.3583],\n        [ 0.7440,  0.1020,  0.6331,  0.8409,  0.5512],\n        [-1.7768,  0.6515, -1.1714,  0.6298, -0.3583],\n        [-1.7768,  0.6515, -1.1714,  0.6298, -0.3583],\n        [ 0.7440,  0.1020,  0.6331,  0.8409,  0.5512]],\n       grad_fn=<EmbeddingBackward>)"
       },
       "execution_count": 23,
       "metadata": {},
       "output_type": "execute_result"
      }
     ],
     "persistentId": "1a709c37-cd75-4151-855e-ff3dffdea862",
     "text": "# print(df.cat_col)\n# embedding_layer.weight[df.cat_col]\n\nembedding_layer(torch.tensor(df.cat_col))"
    },
    "executionTime": "2019-10-13T20:29:28.883Z"
   },
   {
    "cell": {
     "executionCount": 24,
     "executionEventId": "536c27aa-759b-4edf-abdf-9387e980d333",
     "hasError": false,
     "id": "43e4da44-ce8f-4a91-8f78-e4238481e58d",
     "outputs": [
      {
       "name": "stdout",
       "output_type": "stream",
       "text": "0    0\n1    1\n2    0\n3    0\n4    1\nName: cat_col, dtype: int64\n"
      },
      {
       "data": {
        "text/plain": "tensor([[-1.7768,  0.6515, -1.1714,  0.6298, -0.3583],\n        [ 0.7440,  0.1020,  0.6331,  0.8409,  0.5512],\n        [-1.7768,  0.6515, -1.1714,  0.6298, -0.3583],\n        [-1.7768,  0.6515, -1.1714,  0.6298, -0.3583],\n        [ 0.7440,  0.1020,  0.6331,  0.8409,  0.5512]],\n       grad_fn=<EmbeddingBackward>)"
       },
       "execution_count": 24,
       "metadata": {},
       "output_type": "execute_result"
      }
     ],
     "persistentId": "1a709c37-cd75-4151-855e-ff3dffdea862",
     "text": "print(df.cat_col)\nembedding_layer.weight[df.cat_col]\nembedding_layer(torch.tensor(df.cat_col))"
    },
    "executionTime": "2019-10-13T20:30:26.780Z"
   },
   {
    "cell": {
     "executionCount": 25,
     "executionEventId": "abacf684-bf57-4117-a7ee-41f6d836ee4d",
     "hasError": false,
     "id": "addb871c-f56d-4918-bc22-dfaf3d2d8d55",
     "outputs": [
      {
       "data": {
        "text/plain": "Parameter containing:\ntensor([[ 1.9155,  2.4608,  1.0199, -0.0116, -1.0563],\n        [ 0.0390,  0.7546,  1.0426, -0.3201, -0.8174]], requires_grad=True)"
       },
       "execution_count": 25,
       "metadata": {},
       "output_type": "execute_result"
      }
     ],
     "persistentId": "339da085-1ec4-4eda-99f8-cfb1fc66d03d",
     "text": "embedding_layer = nn.Embedding(2, 5)\nembedding_layer.weight"
    },
    "executionTime": "2019-10-13T20:30:29.838Z"
   },
   {
    "cell": {
     "executionCount": 26,
     "executionEventId": "33ea1d26-30ae-4a33-9d13-e9c15214a891",
     "hasError": false,
     "id": "ec9267b8-22b9-44bf-9d07-82bcfa7b4434",
     "outputs": [],
     "persistentId": "c3fa9ac2-3bd6-40b5-88d6-e2e9f7c5ed07",
     "text": "# YOUR CODE"
    },
    "executionTime": "2019-10-13T20:31:03.034Z"
   },
   {
    "cell": {
     "executionCount": 27,
     "executionEventId": "8db1c773-1b09-4e58-8715-607277752406",
     "hasError": false,
     "id": "43e4da44-ce8f-4a91-8f78-e4238481e58d",
     "outputs": [],
     "persistentId": "1a709c37-cd75-4151-855e-ff3dffdea862",
     "text": "# YOUR CODE"
    },
    "executionTime": "2019-10-13T20:32:19.383Z"
   },
   {
    "cell": {
     "executionCount": 28,
     "executionEventId": "86abd790-69e9-4afb-96c7-bab2a8523af1",
     "hasError": false,
     "id": "addb871c-f56d-4918-bc22-dfaf3d2d8d55",
     "outputs": [
      {
       "data": {
        "text/plain": "Parameter containing:\ntensor([[ 0.3977,  1.0155,  1.1620,  0.7934, -1.3490],\n        [ 1.8328,  0.2387,  0.5636,  0.3158, -1.9732]], requires_grad=True)"
       },
       "execution_count": 28,
       "metadata": {},
       "output_type": "execute_result"
      }
     ],
     "persistentId": "339da085-1ec4-4eda-99f8-cfb1fc66d03d",
     "text": "embedding_layer = nn.Embedding(2, 5)\nembedding_layer.weight"
    },
    "executionTime": "2019-10-13T20:32:37.096Z"
   }
  ],
  "kernelspec": {
   "display_name": "dsr-dl",
   "language": "python",
   "name": "dl"
  },
  "language_info": {
   "codemirror_mode": {
    "name": "ipython",
    "version": 3
   },
   "file_extension": ".py",
   "mimetype": "text/x-python",
   "name": "python",
   "nbconvert_exporter": "python",
   "pygments_lexer": "ipython3",
   "version": "3.7.4"
  },
  "neptune": {
   "notebookId": "6d033343-33de-4022-8825-473fbd07a644"
  },
  "uuid": "294155db-f928-4145-8c43-ab93cd0ec2bc"
 },
 "nbformat": 4,
 "nbformat_minor": 4
}
