{
 "cells": [
  {
   "cell_type": "code",
   "execution_count": 1,
   "metadata": {
    "execution_event_id": "da8507de-5816-40ee-a880-a9b82443cd18",
    "last_executed_text": "from torch import nn\nimport torch",
    "persistent_id": "b15299c9-45b6-4f84-909e-3a95d6eec069"
   },
   "outputs": [],
   "source": [
    "from torch import nn\n",
    "import torch"
   ]
  },
  {
   "cell_type": "markdown",
   "metadata": {},
   "source": [
    "### Write a pytorch model reflecting the architecture below\n",
    "(Dark Orange blocks are MaxPooling 2x2 stride 2 operations)  \n",
    "(Light Orange blocks are Convolution blocks)  \n",
    "\n",
    "Assume Every convolution is using 3x3 kernels\n",
    "\n",
    "\n",
    "\n",
    "![alt text](static/vgg.png \"Title\")\n"
   ]
  },
  {
   "cell_type": "code",
   "execution_count": 38,
   "metadata": {
    "execution_event_id": "163108ff-120e-487a-a0b6-d01224fab3fa",
    "last_executed_text": "class MyNet(nn.Module):\n    def __init__(self):\n        super(MyNet, self).__init__()\n        pass\n\n\n    \n    def forward(self, x):\n        pass\n\n        \n        ",
    "persistent_id": "6fd8e1e4-e04a-4957-bd7f-1c2ff36b61b0"
   },
   "outputs": [],
   "source": [
    "class MyNet(nn.Module):\n",
    "    def __init__(self):\n",
    "        super(MyNet, self).__init__()\n",
    "        conv1 = \n",
    "        conv2 = \n",
    "        \n",
    "\n",
    "    \n",
    "    def forward(self, x):\n",
    "        pass\n",
    "\n",
    "               "
   ]
  },
  {
   "cell_type": "code",
   "execution_count": 39,
   "metadata": {
    "execution_event_id": "d59368f8-90a0-41c2-9b5e-767c9d8f07e1",
    "last_executed_text": "x = torch.rand(1,3, 224, 224)\nM = MyNet()\nM(x).shape",
    "persistent_id": "65457dd9-f93f-47a6-85c1-15e44643f4b8"
   },
   "outputs": [
    {
     "ename": "AttributeError",
     "evalue": "'NoneType' object has no attribute 'shape'",
     "output_type": "error",
     "traceback": [
      "\u001b[0;31m---------------------------------------------------------------------------\u001b[0m",
      "\u001b[0;31mAttributeError\u001b[0m                            Traceback (most recent call last)",
      "\u001b[0;32m<ipython-input-39-051c6699c7f6>\u001b[0m in \u001b[0;36m<module>\u001b[0;34m\u001b[0m\n\u001b[1;32m      1\u001b[0m \u001b[0mx\u001b[0m \u001b[0;34m=\u001b[0m \u001b[0mtorch\u001b[0m\u001b[0;34m.\u001b[0m\u001b[0mrand\u001b[0m\u001b[0;34m(\u001b[0m\u001b[0;36m1\u001b[0m\u001b[0;34m,\u001b[0m\u001b[0;36m3\u001b[0m\u001b[0;34m,\u001b[0m \u001b[0;36m224\u001b[0m\u001b[0;34m,\u001b[0m \u001b[0;36m224\u001b[0m\u001b[0;34m)\u001b[0m\u001b[0;34m\u001b[0m\u001b[0;34m\u001b[0m\u001b[0m\n\u001b[1;32m      2\u001b[0m \u001b[0mM\u001b[0m \u001b[0;34m=\u001b[0m \u001b[0mMyNet\u001b[0m\u001b[0;34m(\u001b[0m\u001b[0;34m)\u001b[0m\u001b[0;34m\u001b[0m\u001b[0;34m\u001b[0m\u001b[0m\n\u001b[0;32m----> 3\u001b[0;31m \u001b[0mM\u001b[0m\u001b[0;34m(\u001b[0m\u001b[0mx\u001b[0m\u001b[0;34m)\u001b[0m\u001b[0;34m.\u001b[0m\u001b[0mshape\u001b[0m\u001b[0;34m\u001b[0m\u001b[0;34m\u001b[0m\u001b[0m\n\u001b[0m",
      "\u001b[0;31mAttributeError\u001b[0m: 'NoneType' object has no attribute 'shape'"
     ]
    }
   ],
   "source": [
    "x = torch.rand(1,3, 224, 224)\n",
    "M = MyNet()\n",
    "M(x)"
   ]
  },
  {
   "cell_type": "code",
   "execution_count": 2,
   "metadata": {},
   "outputs": [
    {
     "data": {
      "text/plain": [
       "25088"
      ]
     },
     "execution_count": 2,
     "metadata": {},
     "output_type": "execute_result"
    }
   ],
   "source": [
    "7 * 7 * 512"
   ]
  },
  {
   "cell_type": "code",
   "execution_count": null,
   "metadata": {},
   "outputs": [],
   "source": []
  }
 ],
 "metadata": {
  "history": [
   {
    "cell": {
     "executionCount": 1,
     "executionEventId": "81121ed9-f014-4bf5-acae-113446140d68",
     "hasError": false,
     "id": "ef37454b-d6ee-4fa6-ab38-ea842a0001b8",
     "outputs": [],
     "persistentId": "b15299c9-45b6-4f84-909e-3a95d6eec069",
     "text": "from torch import nn"
    },
    "executionTime": "2019-10-12T17:41:02.959Z"
   },
   {
    "cell": {
     "executionCount": 2,
     "executionEventId": "2b009bb5-35a7-4b58-8a6b-613df454a0b4",
     "hasError": true,
     "id": "ee92825f-3907-4e42-94bb-c617269e1f1a",
     "outputs": [
      {
       "ename": "SyntaxError",
       "evalue": "invalid syntax (<ipython-input-2-dba448efecfc>, line 7)",
       "output_type": "error",
       "traceback": [
        "\u001b[0;36m  File \u001b[0;32m\"<ipython-input-2-dba448efecfc>\"\u001b[0;36m, line \u001b[0;32m7\u001b[0m\n\u001b[0;31m    conv5 = nn.Sequential(nn.Conv2d(512, 512, (3, 3)), nn.Conv2d(512, 512, (3, 3)), nn.Conv2d(512, 512, (3, 3), nn.MaxPool2d(2))\u001b[0m\n\u001b[0m        ^\u001b[0m\n\u001b[0;31mSyntaxError\u001b[0m\u001b[0;31m:\u001b[0m invalid syntax\n"
       ]
      }
     ],
     "persistentId": "6fd8e1e4-e04a-4957-bd7f-1c2ff36b61b0",
     "text": "class MyNet(nn.Module):\n    def __init__(self):\n        conv1 = nn.Sequential(nn.Conv2d(3, 64, (3, 3)), nn.Conv2d(64, 64, (3, 3)), nn.MaxPool2d(2))\n        conv2 = nn.Sequential(nn.Conv2d(64, 64, (3, 3)), nn.Conv2d(64, 256, (3, 3)), nn.MaxPool2d(2))\n        conv3 = nn.Sequential(nn.Conv2d(256, 256, (3, 3)), nn.Conv2d(256, 256, (3, 3)),nn.Conv2d(256, 512, (3, 3)), nn.MaxPool2d(2))\n        conv4 = nn.Sequential(nn.Conv2d(512, 512, (3, 3)), nn.Conv2d(512, 512, (3, 3)), nn.Conv2d(512, 512, (3, 3), nn.MaxPool2d(2))\n        conv5 = nn.Sequential(nn.Conv2d(512, 512, (3, 3)), nn.Conv2d(512, 512, (3, 3)), nn.Conv2d(512, 512, (3, 3), nn.MaxPool2d(2))\n\n    \n    def forward(self, x):\n        pass\n        "
    },
    "executionTime": "2019-10-12T17:46:02.229Z"
   },
   {
    "cell": {
     "executionCount": 3,
     "executionEventId": "7b6f1b50-c649-468a-a238-93fbe2a5e92a",
     "hasError": false,
     "id": "ee92825f-3907-4e42-94bb-c617269e1f1a",
     "outputs": [],
     "persistentId": "6fd8e1e4-e04a-4957-bd7f-1c2ff36b61b0",
     "text": "class MyNet(nn.Module):\n    def __init__(self):\n        conv1 = nn.Sequential(nn.Conv2d(3, 64, (3, 3)), nn.Conv2d(64, 64, (3, 3)), nn.MaxPool2d(2))\n        conv2 = nn.Sequential(nn.Conv2d(64, 64, (3, 3)), nn.Conv2d(64, 256, (3, 3)), nn.MaxPool2d(2))\n        conv3 = nn.Sequential(nn.Conv2d(256, 256, (3, 3)), nn.Conv2d(256, 256, (3, 3)),nn.Conv2d(256, 512, (3, 3)), nn.MaxPool2d(2))\n        conv4 = nn.Sequential(nn.Conv2d(512, 512, (3, 3)), nn.Conv2d(512, 512, (3, 3)), nn.Conv2d(512, 512, (3, 3), nn.MaxPool2d(2)))\n        conv5 = nn.Sequential(nn.Conv2d(512, 512, (3, 3)), nn.Conv2d(512, 512, (3, 3)), nn.Conv2d(512, 512, (3, 3), nn.MaxPool2d(2)))\n\n    \n    def forward(self, x):\n        pass\n        "
    },
    "executionTime": "2019-10-12T17:46:20.125Z"
   },
   {
    "cell": {
     "executionCount": 4,
     "executionEventId": "cf0c8af7-c11c-404b-9136-56b87b8ea96a",
     "hasError": false,
     "id": "ee92825f-3907-4e42-94bb-c617269e1f1a",
     "outputs": [],
     "persistentId": "6fd8e1e4-e04a-4957-bd7f-1c2ff36b61b0",
     "text": "class MyNet(nn.Module):\n    def __init__(self):\n        conv1 = nn.Sequential(nn.Conv2d(3, 64, (3, 3)), nn.Conv2d(64, 64, (3, 3)), nn.MaxPool2d(2))\n        conv2 = nn.Sequential(nn.Conv2d(64, 64, (3, 3)), nn.Conv2d(64, 256, (3, 3)), nn.MaxPool2d(2))\n        conv3 = nn.Sequential(nn.Conv2d(256, 256, (3, 3)), nn.Conv2d(256, 256, (3, 3)),nn.Conv2d(256, 512, (3, 3)), nn.MaxPool2d(2))\n        conv4 = nn.Sequential(nn.Conv2d(512, 512, (3, 3)), nn.Conv2d(512, 512, (3, 3)), nn.Conv2d(512, 512, (3, 3), nn.MaxPool2d(2)))\n        conv5 = nn.Sequential(nn.Conv2d(512, 512, (3, 3)), nn.Conv2d(512, 512, (3, 3)), nn.Conv2d(512, 512, (3, 3), nn.MaxPool2d(2)))\n\n    \n    def forward(self, x):\n        conv5(conv4(conv3(conv2(conv1(x)))))\n        \n        "
    },
    "executionTime": "2019-10-12T17:46:51.030Z"
   },
   {
    "cell": {
     "executionCount": 5,
     "executionEventId": "fb648e75-15e0-456e-af24-bf78d7691243",
     "hasError": true,
     "id": "ef37454b-d6ee-4fa6-ab38-ea842a0001b8",
     "outputs": [
      {
       "ename": "SyntaxError",
       "evalue": "invalid syntax (<ipython-input-5-5fdf396d162c>, line 2)",
       "output_type": "error",
       "traceback": [
        "\u001b[0;36m  File \u001b[0;32m\"<ipython-input-5-5fdf396d162c>\"\u001b[0;36m, line \u001b[0;32m2\u001b[0m\n\u001b[0;31m    improt torch\u001b[0m\n\u001b[0m               ^\u001b[0m\n\u001b[0;31mSyntaxError\u001b[0m\u001b[0;31m:\u001b[0m invalid syntax\n"
       ]
      }
     ],
     "persistentId": "b15299c9-45b6-4f84-909e-3a95d6eec069",
     "text": "from torch import nn\nimprot torch"
    },
    "executionTime": "2019-10-12T17:47:03.792Z"
   },
   {
    "cell": {
     "executionCount": 6,
     "executionEventId": "da8507de-5816-40ee-a880-a9b82443cd18",
     "hasError": false,
     "id": "ef37454b-d6ee-4fa6-ab38-ea842a0001b8",
     "outputs": [],
     "persistentId": "b15299c9-45b6-4f84-909e-3a95d6eec069",
     "text": "from torch import nn\nimport torch"
    },
    "executionTime": "2019-10-12T17:47:06.263Z"
   },
   {
    "cell": {
     "executionCount": 7,
     "executionEventId": "2a7f5214-e77f-496f-bdbf-fa85ace66a26",
     "hasError": false,
     "id": "7db4045b-8134-4794-9009-fb5bf45f6765",
     "outputs": [
      {
       "data": {
        "text/plain": "tensor([[[[0.8349, 0.8634, 0.5926,  ..., 0.6192, 0.8179, 0.4421],\n          [0.3540, 0.5362, 0.9399,  ..., 0.4461, 0.0104, 0.9554],\n          [0.9642, 0.9999, 0.6680,  ..., 0.0068, 0.4697, 0.3243],\n          ...,\n          [0.3757, 0.8706, 0.2342,  ..., 0.9390, 0.0917, 0.8187],\n          [0.2908, 0.4617, 0.7608,  ..., 0.4219, 0.4193, 0.4673],\n          [0.1824, 0.0447, 0.8608,  ..., 0.6696, 0.0425, 0.2822]],\n\n         [[0.7822, 0.3594, 0.1196,  ..., 0.4263, 0.0784, 0.1080],\n          [0.9674, 0.8838, 0.1879,  ..., 0.1659, 0.1067, 0.2212],\n          [0.3020, 0.5887, 0.8077,  ..., 0.0033, 0.1846, 0.8031],\n          ...,\n          [0.8955, 0.0947, 0.8200,  ..., 0.4021, 0.4448, 0.1730],\n          [0.2228, 0.6110, 0.9707,  ..., 0.5033, 0.8893, 0.4564],\n          [0.6877, 0.4528, 0.9604,  ..., 0.7523, 0.9967, 0.1812]],\n\n         [[0.8414, 0.7713, 0.4542,  ..., 0.1567, 0.3191, 0.8702],\n          [0.3701, 0.5346, 0.1072,  ..., 0.2071, 0.1422, 0.4357],\n          [0.4280, 0.4167, 0.9299,  ..., 0.6544, 0.2423, 0.4985],\n          ...,\n          [0.5823, 0.5724, 0.4470,  ..., 0.3520, 0.7447, 0.6239],\n          [0.0490, 0.2891, 0.8426,  ..., 0.1693, 0.1385, 0.7471],\n          [0.4464, 0.4570, 0.1557,  ..., 0.7704, 0.6493, 0.6935]]]])"
       },
       "execution_count": 7,
       "metadata": {},
       "output_type": "execute_result"
      }
     ],
     "persistentId": "65457dd9-f93f-47a6-85c1-15e44643f4b8",
     "text": "torch.rand(1,3, 224, 224)"
    },
    "executionTime": "2019-10-12T17:47:11.753Z"
   },
   {
    "cell": {
     "executionCount": 8,
     "executionEventId": "c06db0b8-3429-4896-b854-2ef2fdb9f5b8",
     "hasError": false,
     "id": "7db4045b-8134-4794-9009-fb5bf45f6765",
     "outputs": [],
     "persistentId": "65457dd9-f93f-47a6-85c1-15e44643f4b8",
     "text": "x = torch.rand(1,3, 224, 224)"
    },
    "executionTime": "2019-10-12T17:47:13.273Z"
   },
   {
    "cell": {
     "executionCount": 9,
     "executionEventId": "7ada7b35-7eef-4309-929a-84b3fd1afb79",
     "hasError": true,
     "id": "7db4045b-8134-4794-9009-fb5bf45f6765",
     "outputs": [
      {
       "ename": "AttributeError",
       "evalue": "'MyNet' object has no attribute '_forward_pre_hooks'",
       "output_type": "error",
       "traceback": [
        "\u001b[0;31m---------------------------------------------------------------------------\u001b[0m",
        "\u001b[0;31mAttributeError\u001b[0m                            Traceback (most recent call last)",
        "\u001b[0;32m<ipython-input-9-9fb70f2b6768>\u001b[0m in \u001b[0;36m<module>\u001b[0;34m\u001b[0m\n\u001b[1;32m      2\u001b[0m \u001b[0;34m\u001b[0m\u001b[0m\n\u001b[1;32m      3\u001b[0m \u001b[0mM\u001b[0m \u001b[0;34m=\u001b[0m \u001b[0mMyNet\u001b[0m\u001b[0;34m(\u001b[0m\u001b[0;34m)\u001b[0m\u001b[0;34m\u001b[0m\u001b[0;34m\u001b[0m\u001b[0m\n\u001b[0;32m----> 4\u001b[0;31m \u001b[0mM\u001b[0m\u001b[0;34m(\u001b[0m\u001b[0mx\u001b[0m\u001b[0;34m)\u001b[0m\u001b[0;34m\u001b[0m\u001b[0;34m\u001b[0m\u001b[0m\n\u001b[0m",
        "\u001b[0;32m~/anaconda3/envs/dl/lib/python3.7/site-packages/torch/nn/modules/module.py\u001b[0m in \u001b[0;36m__call__\u001b[0;34m(self, *input, **kwargs)\u001b[0m\n\u001b[1;32m    530\u001b[0m \u001b[0;34m\u001b[0m\u001b[0m\n\u001b[1;32m    531\u001b[0m     \u001b[0;32mdef\u001b[0m \u001b[0m__call__\u001b[0m\u001b[0;34m(\u001b[0m\u001b[0mself\u001b[0m\u001b[0;34m,\u001b[0m \u001b[0;34m*\u001b[0m\u001b[0minput\u001b[0m\u001b[0;34m,\u001b[0m \u001b[0;34m**\u001b[0m\u001b[0mkwargs\u001b[0m\u001b[0;34m)\u001b[0m\u001b[0;34m:\u001b[0m\u001b[0;34m\u001b[0m\u001b[0;34m\u001b[0m\u001b[0m\n\u001b[0;32m--> 532\u001b[0;31m         \u001b[0;32mfor\u001b[0m \u001b[0mhook\u001b[0m \u001b[0;32min\u001b[0m \u001b[0mself\u001b[0m\u001b[0;34m.\u001b[0m\u001b[0m_forward_pre_hooks\u001b[0m\u001b[0;34m.\u001b[0m\u001b[0mvalues\u001b[0m\u001b[0;34m(\u001b[0m\u001b[0;34m)\u001b[0m\u001b[0;34m:\u001b[0m\u001b[0;34m\u001b[0m\u001b[0;34m\u001b[0m\u001b[0m\n\u001b[0m\u001b[1;32m    533\u001b[0m             \u001b[0mresult\u001b[0m \u001b[0;34m=\u001b[0m \u001b[0mhook\u001b[0m\u001b[0;34m(\u001b[0m\u001b[0mself\u001b[0m\u001b[0;34m,\u001b[0m \u001b[0minput\u001b[0m\u001b[0;34m)\u001b[0m\u001b[0;34m\u001b[0m\u001b[0;34m\u001b[0m\u001b[0m\n\u001b[1;32m    534\u001b[0m             \u001b[0;32mif\u001b[0m \u001b[0mresult\u001b[0m \u001b[0;32mis\u001b[0m \u001b[0;32mnot\u001b[0m \u001b[0;32mNone\u001b[0m\u001b[0;34m:\u001b[0m\u001b[0;34m\u001b[0m\u001b[0;34m\u001b[0m\u001b[0m\n",
        "\u001b[0;32m~/anaconda3/envs/dl/lib/python3.7/site-packages/torch/nn/modules/module.py\u001b[0m in \u001b[0;36m__getattr__\u001b[0;34m(self, name)\u001b[0m\n\u001b[1;32m    583\u001b[0m                 \u001b[0;32mreturn\u001b[0m \u001b[0mmodules\u001b[0m\u001b[0;34m[\u001b[0m\u001b[0mname\u001b[0m\u001b[0;34m]\u001b[0m\u001b[0;34m\u001b[0m\u001b[0;34m\u001b[0m\u001b[0m\n\u001b[1;32m    584\u001b[0m         raise AttributeError(\"'{}' object has no attribute '{}'\".format(\n\u001b[0;32m--> 585\u001b[0;31m             type(self).__name__, name))\n\u001b[0m\u001b[1;32m    586\u001b[0m \u001b[0;34m\u001b[0m\u001b[0m\n\u001b[1;32m    587\u001b[0m     \u001b[0;32mdef\u001b[0m \u001b[0m__setattr__\u001b[0m\u001b[0;34m(\u001b[0m\u001b[0mself\u001b[0m\u001b[0;34m,\u001b[0m \u001b[0mname\u001b[0m\u001b[0;34m,\u001b[0m \u001b[0mvalue\u001b[0m\u001b[0;34m)\u001b[0m\u001b[0;34m:\u001b[0m\u001b[0;34m\u001b[0m\u001b[0;34m\u001b[0m\u001b[0m\n",
        "\u001b[0;31mAttributeError\u001b[0m: 'MyNet' object has no attribute '_forward_pre_hooks'"
       ]
      }
     ],
     "persistentId": "65457dd9-f93f-47a6-85c1-15e44643f4b8",
     "text": "x = torch.rand(1,3, 224, 224)\n\nM = MyNet()\nM(x)"
    },
    "executionTime": "2019-10-12T17:47:20.566Z"
   },
   {
    "cell": {
     "executionCount": 10,
     "executionEventId": "6aa6f62c-2980-4266-b04c-7634e8926594",
     "hasError": false,
     "id": "ee92825f-3907-4e42-94bb-c617269e1f1a",
     "outputs": [],
     "persistentId": "6fd8e1e4-e04a-4957-bd7f-1c2ff36b61b0",
     "text": "class MyNet(nn.Module):\n    def __init__(self):\n        MyNet.__init__(self)\n        conv1 = nn.Sequential(nn.Conv2d(3, 64, (3, 3)), nn.Conv2d(64, 64, (3, 3)), nn.MaxPool2d(2))\n        conv2 = nn.Sequential(nn.Conv2d(64, 64, (3, 3)), nn.Conv2d(64, 256, (3, 3)), nn.MaxPool2d(2))\n        conv3 = nn.Sequential(nn.Conv2d(256, 256, (3, 3)), nn.Conv2d(256, 256, (3, 3)),nn.Conv2d(256, 512, (3, 3)), nn.MaxPool2d(2))\n        conv4 = nn.Sequential(nn.Conv2d(512, 512, (3, 3)), nn.Conv2d(512, 512, (3, 3)), nn.Conv2d(512, 512, (3, 3), nn.MaxPool2d(2)))\n        conv5 = nn.Sequential(nn.Conv2d(512, 512, (3, 3)), nn.Conv2d(512, 512, (3, 3)), nn.Conv2d(512, 512, (3, 3), nn.MaxPool2d(2)))\n\n    \n    def forward(self, x):\n        conv5(conv4(conv3(conv2(conv1(x)))))\n        \n        "
    },
    "executionTime": "2019-10-12T17:47:32.269Z"
   },
   {
    "cell": {
     "executionCount": 11,
     "executionEventId": "33e54991-b296-47d6-aa37-cab93fe9ee3a",
     "hasError": false,
     "id": "ee92825f-3907-4e42-94bb-c617269e1f1a",
     "outputs": [],
     "persistentId": "6fd8e1e4-e04a-4957-bd7f-1c2ff36b61b0",
     "text": "class MyNet(nn.Module):\n    def __init__(self):\n        MyNet.__init__(self)\n        conv1 = nn.Sequential(nn.Conv2d(3, 64, (3, 3)), nn.Conv2d(64, 64, (3, 3)), nn.MaxPool2d(2))\n        conv2 = nn.Sequential(nn.Conv2d(64, 64, (3, 3)), nn.Conv2d(64, 256, (3, 3)), nn.MaxPool2d(2))\n        conv3 = nn.Sequential(nn.Conv2d(256, 256, (3, 3)), nn.Conv2d(256, 256, (3, 3)),nn.Conv2d(256, 512, (3, 3)), nn.MaxPool2d(2))\n        conv4 = nn.Sequential(nn.Conv2d(512, 512, (3, 3)), nn.Conv2d(512, 512, (3, 3)), nn.Conv2d(512, 512, (3, 3), nn.MaxPool2d(2)))\n        conv5 = nn.Sequential(nn.Conv2d(512, 512, (3, 3)), nn.Conv2d(512, 512, (3, 3)), nn.Conv2d(512, 512, (3, 3), nn.MaxPool2d(2)))\n\n    \n    def forward(self, x):\n        conv5(conv4(conv3(conv2(conv1(x)))))\n        \n        "
    },
    "executionTime": "2019-10-12T17:47:32.747Z"
   },
   {
    "cell": {
     "executionCount": 12,
     "executionEventId": "d52a1d93-ae9f-4567-aaac-5fe32bdd1ecb",
     "hasError": true,
     "id": "7db4045b-8134-4794-9009-fb5bf45f6765",
     "outputs": [
      {
       "ename": "RecursionError",
       "evalue": "maximum recursion depth exceeded",
       "output_type": "error",
       "traceback": [
        "\u001b[0;31m---------------------------------------------------------------------------\u001b[0m",
        "\u001b[0;31mRecursionError\u001b[0m                            Traceback (most recent call last)",
        "\u001b[0;32m<ipython-input-12-9fb70f2b6768>\u001b[0m in \u001b[0;36m<module>\u001b[0;34m\u001b[0m\n\u001b[1;32m      1\u001b[0m \u001b[0mx\u001b[0m \u001b[0;34m=\u001b[0m \u001b[0mtorch\u001b[0m\u001b[0;34m.\u001b[0m\u001b[0mrand\u001b[0m\u001b[0;34m(\u001b[0m\u001b[0;36m1\u001b[0m\u001b[0;34m,\u001b[0m\u001b[0;36m3\u001b[0m\u001b[0;34m,\u001b[0m \u001b[0;36m224\u001b[0m\u001b[0;34m,\u001b[0m \u001b[0;36m224\u001b[0m\u001b[0;34m)\u001b[0m\u001b[0;34m\u001b[0m\u001b[0;34m\u001b[0m\u001b[0m\n\u001b[1;32m      2\u001b[0m \u001b[0;34m\u001b[0m\u001b[0m\n\u001b[0;32m----> 3\u001b[0;31m \u001b[0mM\u001b[0m \u001b[0;34m=\u001b[0m \u001b[0mMyNet\u001b[0m\u001b[0;34m(\u001b[0m\u001b[0;34m)\u001b[0m\u001b[0;34m\u001b[0m\u001b[0;34m\u001b[0m\u001b[0m\n\u001b[0m\u001b[1;32m      4\u001b[0m \u001b[0mM\u001b[0m\u001b[0;34m(\u001b[0m\u001b[0mx\u001b[0m\u001b[0;34m)\u001b[0m\u001b[0;34m\u001b[0m\u001b[0;34m\u001b[0m\u001b[0m\n",
        "\u001b[0;32m<ipython-input-11-26cf67cb31de>\u001b[0m in \u001b[0;36m__init__\u001b[0;34m(self)\u001b[0m\n\u001b[1;32m      1\u001b[0m \u001b[0;32mclass\u001b[0m \u001b[0mMyNet\u001b[0m\u001b[0;34m(\u001b[0m\u001b[0mnn\u001b[0m\u001b[0;34m.\u001b[0m\u001b[0mModule\u001b[0m\u001b[0;34m)\u001b[0m\u001b[0;34m:\u001b[0m\u001b[0;34m\u001b[0m\u001b[0;34m\u001b[0m\u001b[0m\n\u001b[1;32m      2\u001b[0m     \u001b[0;32mdef\u001b[0m \u001b[0m__init__\u001b[0m\u001b[0;34m(\u001b[0m\u001b[0mself\u001b[0m\u001b[0;34m)\u001b[0m\u001b[0;34m:\u001b[0m\u001b[0;34m\u001b[0m\u001b[0;34m\u001b[0m\u001b[0m\n\u001b[0;32m----> 3\u001b[0;31m         \u001b[0mMyNet\u001b[0m\u001b[0;34m.\u001b[0m\u001b[0m__init__\u001b[0m\u001b[0;34m(\u001b[0m\u001b[0mself\u001b[0m\u001b[0;34m)\u001b[0m\u001b[0;34m\u001b[0m\u001b[0;34m\u001b[0m\u001b[0m\n\u001b[0m\u001b[1;32m      4\u001b[0m         \u001b[0mconv1\u001b[0m \u001b[0;34m=\u001b[0m \u001b[0mnn\u001b[0m\u001b[0;34m.\u001b[0m\u001b[0mSequential\u001b[0m\u001b[0;34m(\u001b[0m\u001b[0mnn\u001b[0m\u001b[0;34m.\u001b[0m\u001b[0mConv2d\u001b[0m\u001b[0;34m(\u001b[0m\u001b[0;36m3\u001b[0m\u001b[0;34m,\u001b[0m \u001b[0;36m64\u001b[0m\u001b[0;34m,\u001b[0m \u001b[0;34m(\u001b[0m\u001b[0;36m3\u001b[0m\u001b[0;34m,\u001b[0m \u001b[0;36m3\u001b[0m\u001b[0;34m)\u001b[0m\u001b[0;34m)\u001b[0m\u001b[0;34m,\u001b[0m \u001b[0mnn\u001b[0m\u001b[0;34m.\u001b[0m\u001b[0mConv2d\u001b[0m\u001b[0;34m(\u001b[0m\u001b[0;36m64\u001b[0m\u001b[0;34m,\u001b[0m \u001b[0;36m64\u001b[0m\u001b[0;34m,\u001b[0m \u001b[0;34m(\u001b[0m\u001b[0;36m3\u001b[0m\u001b[0;34m,\u001b[0m \u001b[0;36m3\u001b[0m\u001b[0;34m)\u001b[0m\u001b[0;34m)\u001b[0m\u001b[0;34m,\u001b[0m \u001b[0mnn\u001b[0m\u001b[0;34m.\u001b[0m\u001b[0mMaxPool2d\u001b[0m\u001b[0;34m(\u001b[0m\u001b[0;36m2\u001b[0m\u001b[0;34m)\u001b[0m\u001b[0;34m)\u001b[0m\u001b[0;34m\u001b[0m\u001b[0;34m\u001b[0m\u001b[0m\n\u001b[1;32m      5\u001b[0m         \u001b[0mconv2\u001b[0m \u001b[0;34m=\u001b[0m \u001b[0mnn\u001b[0m\u001b[0;34m.\u001b[0m\u001b[0mSequential\u001b[0m\u001b[0;34m(\u001b[0m\u001b[0mnn\u001b[0m\u001b[0;34m.\u001b[0m\u001b[0mConv2d\u001b[0m\u001b[0;34m(\u001b[0m\u001b[0;36m64\u001b[0m\u001b[0;34m,\u001b[0m \u001b[0;36m64\u001b[0m\u001b[0;34m,\u001b[0m \u001b[0;34m(\u001b[0m\u001b[0;36m3\u001b[0m\u001b[0;34m,\u001b[0m \u001b[0;36m3\u001b[0m\u001b[0;34m)\u001b[0m\u001b[0;34m)\u001b[0m\u001b[0;34m,\u001b[0m \u001b[0mnn\u001b[0m\u001b[0;34m.\u001b[0m\u001b[0mConv2d\u001b[0m\u001b[0;34m(\u001b[0m\u001b[0;36m64\u001b[0m\u001b[0;34m,\u001b[0m \u001b[0;36m256\u001b[0m\u001b[0;34m,\u001b[0m \u001b[0;34m(\u001b[0m\u001b[0;36m3\u001b[0m\u001b[0;34m,\u001b[0m \u001b[0;36m3\u001b[0m\u001b[0;34m)\u001b[0m\u001b[0;34m)\u001b[0m\u001b[0;34m,\u001b[0m \u001b[0mnn\u001b[0m\u001b[0;34m.\u001b[0m\u001b[0mMaxPool2d\u001b[0m\u001b[0;34m(\u001b[0m\u001b[0;36m2\u001b[0m\u001b[0;34m)\u001b[0m\u001b[0;34m)\u001b[0m\u001b[0;34m\u001b[0m\u001b[0;34m\u001b[0m\u001b[0m\n",
        "... last 1 frames repeated, from the frame below ...\n",
        "\u001b[0;32m<ipython-input-11-26cf67cb31de>\u001b[0m in \u001b[0;36m__init__\u001b[0;34m(self)\u001b[0m\n\u001b[1;32m      1\u001b[0m \u001b[0;32mclass\u001b[0m \u001b[0mMyNet\u001b[0m\u001b[0;34m(\u001b[0m\u001b[0mnn\u001b[0m\u001b[0;34m.\u001b[0m\u001b[0mModule\u001b[0m\u001b[0;34m)\u001b[0m\u001b[0;34m:\u001b[0m\u001b[0;34m\u001b[0m\u001b[0;34m\u001b[0m\u001b[0m\n\u001b[1;32m      2\u001b[0m     \u001b[0;32mdef\u001b[0m \u001b[0m__init__\u001b[0m\u001b[0;34m(\u001b[0m\u001b[0mself\u001b[0m\u001b[0;34m)\u001b[0m\u001b[0;34m:\u001b[0m\u001b[0;34m\u001b[0m\u001b[0;34m\u001b[0m\u001b[0m\n\u001b[0;32m----> 3\u001b[0;31m         \u001b[0mMyNet\u001b[0m\u001b[0;34m.\u001b[0m\u001b[0m__init__\u001b[0m\u001b[0;34m(\u001b[0m\u001b[0mself\u001b[0m\u001b[0;34m)\u001b[0m\u001b[0;34m\u001b[0m\u001b[0;34m\u001b[0m\u001b[0m\n\u001b[0m\u001b[1;32m      4\u001b[0m         \u001b[0mconv1\u001b[0m \u001b[0;34m=\u001b[0m \u001b[0mnn\u001b[0m\u001b[0;34m.\u001b[0m\u001b[0mSequential\u001b[0m\u001b[0;34m(\u001b[0m\u001b[0mnn\u001b[0m\u001b[0;34m.\u001b[0m\u001b[0mConv2d\u001b[0m\u001b[0;34m(\u001b[0m\u001b[0;36m3\u001b[0m\u001b[0;34m,\u001b[0m \u001b[0;36m64\u001b[0m\u001b[0;34m,\u001b[0m \u001b[0;34m(\u001b[0m\u001b[0;36m3\u001b[0m\u001b[0;34m,\u001b[0m \u001b[0;36m3\u001b[0m\u001b[0;34m)\u001b[0m\u001b[0;34m)\u001b[0m\u001b[0;34m,\u001b[0m \u001b[0mnn\u001b[0m\u001b[0;34m.\u001b[0m\u001b[0mConv2d\u001b[0m\u001b[0;34m(\u001b[0m\u001b[0;36m64\u001b[0m\u001b[0;34m,\u001b[0m \u001b[0;36m64\u001b[0m\u001b[0;34m,\u001b[0m \u001b[0;34m(\u001b[0m\u001b[0;36m3\u001b[0m\u001b[0;34m,\u001b[0m \u001b[0;36m3\u001b[0m\u001b[0;34m)\u001b[0m\u001b[0;34m)\u001b[0m\u001b[0;34m,\u001b[0m \u001b[0mnn\u001b[0m\u001b[0;34m.\u001b[0m\u001b[0mMaxPool2d\u001b[0m\u001b[0;34m(\u001b[0m\u001b[0;36m2\u001b[0m\u001b[0;34m)\u001b[0m\u001b[0;34m)\u001b[0m\u001b[0;34m\u001b[0m\u001b[0;34m\u001b[0m\u001b[0m\n\u001b[1;32m      5\u001b[0m         \u001b[0mconv2\u001b[0m \u001b[0;34m=\u001b[0m \u001b[0mnn\u001b[0m\u001b[0;34m.\u001b[0m\u001b[0mSequential\u001b[0m\u001b[0;34m(\u001b[0m\u001b[0mnn\u001b[0m\u001b[0;34m.\u001b[0m\u001b[0mConv2d\u001b[0m\u001b[0;34m(\u001b[0m\u001b[0;36m64\u001b[0m\u001b[0;34m,\u001b[0m \u001b[0;36m64\u001b[0m\u001b[0;34m,\u001b[0m \u001b[0;34m(\u001b[0m\u001b[0;36m3\u001b[0m\u001b[0;34m,\u001b[0m \u001b[0;36m3\u001b[0m\u001b[0;34m)\u001b[0m\u001b[0;34m)\u001b[0m\u001b[0;34m,\u001b[0m \u001b[0mnn\u001b[0m\u001b[0;34m.\u001b[0m\u001b[0mConv2d\u001b[0m\u001b[0;34m(\u001b[0m\u001b[0;36m64\u001b[0m\u001b[0;34m,\u001b[0m \u001b[0;36m256\u001b[0m\u001b[0;34m,\u001b[0m \u001b[0;34m(\u001b[0m\u001b[0;36m3\u001b[0m\u001b[0;34m,\u001b[0m \u001b[0;36m3\u001b[0m\u001b[0;34m)\u001b[0m\u001b[0;34m)\u001b[0m\u001b[0;34m,\u001b[0m \u001b[0mnn\u001b[0m\u001b[0;34m.\u001b[0m\u001b[0mMaxPool2d\u001b[0m\u001b[0;34m(\u001b[0m\u001b[0;36m2\u001b[0m\u001b[0;34m)\u001b[0m\u001b[0;34m)\u001b[0m\u001b[0;34m\u001b[0m\u001b[0;34m\u001b[0m\u001b[0m\n",
        "\u001b[0;31mRecursionError\u001b[0m: maximum recursion depth exceeded"
       ]
      }
     ],
     "persistentId": "65457dd9-f93f-47a6-85c1-15e44643f4b8",
     "text": "x = torch.rand(1,3, 224, 224)\n\nM = MyNet()\nM(x)"
    },
    "executionTime": "2019-10-12T17:47:36.155Z"
   },
   {
    "cell": {
     "executionCount": 13,
     "executionEventId": "02e2eef3-8944-4ca8-bd7e-873c23509835",
     "hasError": false,
     "id": "ee92825f-3907-4e42-94bb-c617269e1f1a",
     "outputs": [],
     "persistentId": "6fd8e1e4-e04a-4957-bd7f-1c2ff36b61b0",
     "text": "class MyNet(nn.Module):\n    def __init__(self):\n        super(MyNet, self).__init__()\n        conv1 = nn.Sequential(nn.Conv2d(3, 64, (3, 3)), nn.Conv2d(64, 64, (3, 3)), nn.MaxPool2d(2))\n        conv2 = nn.Sequential(nn.Conv2d(64, 64, (3, 3)), nn.Conv2d(64, 256, (3, 3)), nn.MaxPool2d(2))\n        conv3 = nn.Sequential(nn.Conv2d(256, 256, (3, 3)), nn.Conv2d(256, 256, (3, 3)),nn.Conv2d(256, 512, (3, 3)), nn.MaxPool2d(2))\n        conv4 = nn.Sequential(nn.Conv2d(512, 512, (3, 3)), nn.Conv2d(512, 512, (3, 3)), nn.Conv2d(512, 512, (3, 3), nn.MaxPool2d(2)))\n        conv5 = nn.Sequential(nn.Conv2d(512, 512, (3, 3)), nn.Conv2d(512, 512, (3, 3)), nn.Conv2d(512, 512, (3, 3), nn.MaxPool2d(2)))\n\n    \n    def forward(self, x):\n        conv5(conv4(conv3(conv2(conv1(x)))))\n        \n        "
    },
    "executionTime": "2019-10-12T17:48:10.917Z"
   },
   {
    "cell": {
     "executionCount": 14,
     "executionEventId": "5ee3eaa9-d87d-4f4c-b0ec-c35a529f64ea",
     "hasError": false,
     "id": "ee92825f-3907-4e42-94bb-c617269e1f1a",
     "outputs": [],
     "persistentId": "6fd8e1e4-e04a-4957-bd7f-1c2ff36b61b0",
     "text": "class MyNet(nn.Module):\n    def __init__(self):\n        super(MyNet, self).__init__()\n        conv1 = nn.Sequential(nn.Conv2d(3, 64, (3, 3)), nn.Conv2d(64, 64, (3, 3)), nn.MaxPool2d(2))\n        conv2 = nn.Sequential(nn.Conv2d(64, 64, (3, 3)), nn.Conv2d(64, 256, (3, 3)), nn.MaxPool2d(2))\n        conv3 = nn.Sequential(nn.Conv2d(256, 256, (3, 3)), nn.Conv2d(256, 256, (3, 3)),nn.Conv2d(256, 512, (3, 3)), nn.MaxPool2d(2))\n        conv4 = nn.Sequential(nn.Conv2d(512, 512, (3, 3)), nn.Conv2d(512, 512, (3, 3)), nn.Conv2d(512, 512, (3, 3), nn.MaxPool2d(2)))\n        conv5 = nn.Sequential(nn.Conv2d(512, 512, (3, 3)), nn.Conv2d(512, 512, (3, 3)), nn.Conv2d(512, 512, (3, 3), nn.MaxPool2d(2)))\n\n    \n    def forward(self, x):\n        conv5(conv4(conv3(conv2(conv1(x)))))\n        \n        "
    },
    "executionTime": "2019-10-12T17:48:12.675Z"
   },
   {
    "cell": {
     "executionCount": 15,
     "executionEventId": "4e87dc45-687f-4275-904a-2eefad7f0314",
     "hasError": true,
     "id": "7db4045b-8134-4794-9009-fb5bf45f6765",
     "outputs": [
      {
       "ename": "NameError",
       "evalue": "name 'conv5' is not defined",
       "output_type": "error",
       "traceback": [
        "\u001b[0;31m---------------------------------------------------------------------------\u001b[0m",
        "\u001b[0;31mNameError\u001b[0m                                 Traceback (most recent call last)",
        "\u001b[0;32m<ipython-input-15-9fb70f2b6768>\u001b[0m in \u001b[0;36m<module>\u001b[0;34m\u001b[0m\n\u001b[1;32m      2\u001b[0m \u001b[0;34m\u001b[0m\u001b[0m\n\u001b[1;32m      3\u001b[0m \u001b[0mM\u001b[0m \u001b[0;34m=\u001b[0m \u001b[0mMyNet\u001b[0m\u001b[0;34m(\u001b[0m\u001b[0;34m)\u001b[0m\u001b[0;34m\u001b[0m\u001b[0;34m\u001b[0m\u001b[0m\n\u001b[0;32m----> 4\u001b[0;31m \u001b[0mM\u001b[0m\u001b[0;34m(\u001b[0m\u001b[0mx\u001b[0m\u001b[0;34m)\u001b[0m\u001b[0;34m\u001b[0m\u001b[0;34m\u001b[0m\u001b[0m\n\u001b[0m",
        "\u001b[0;32m~/anaconda3/envs/dl/lib/python3.7/site-packages/torch/nn/modules/module.py\u001b[0m in \u001b[0;36m__call__\u001b[0;34m(self, *input, **kwargs)\u001b[0m\n\u001b[1;32m    539\u001b[0m             \u001b[0mresult\u001b[0m \u001b[0;34m=\u001b[0m \u001b[0mself\u001b[0m\u001b[0;34m.\u001b[0m\u001b[0m_slow_forward\u001b[0m\u001b[0;34m(\u001b[0m\u001b[0;34m*\u001b[0m\u001b[0minput\u001b[0m\u001b[0;34m,\u001b[0m \u001b[0;34m**\u001b[0m\u001b[0mkwargs\u001b[0m\u001b[0;34m)\u001b[0m\u001b[0;34m\u001b[0m\u001b[0;34m\u001b[0m\u001b[0m\n\u001b[1;32m    540\u001b[0m         \u001b[0;32melse\u001b[0m\u001b[0;34m:\u001b[0m\u001b[0;34m\u001b[0m\u001b[0;34m\u001b[0m\u001b[0m\n\u001b[0;32m--> 541\u001b[0;31m             \u001b[0mresult\u001b[0m \u001b[0;34m=\u001b[0m \u001b[0mself\u001b[0m\u001b[0;34m.\u001b[0m\u001b[0mforward\u001b[0m\u001b[0;34m(\u001b[0m\u001b[0;34m*\u001b[0m\u001b[0minput\u001b[0m\u001b[0;34m,\u001b[0m \u001b[0;34m**\u001b[0m\u001b[0mkwargs\u001b[0m\u001b[0;34m)\u001b[0m\u001b[0;34m\u001b[0m\u001b[0;34m\u001b[0m\u001b[0m\n\u001b[0m\u001b[1;32m    542\u001b[0m         \u001b[0;32mfor\u001b[0m \u001b[0mhook\u001b[0m \u001b[0;32min\u001b[0m \u001b[0mself\u001b[0m\u001b[0;34m.\u001b[0m\u001b[0m_forward_hooks\u001b[0m\u001b[0;34m.\u001b[0m\u001b[0mvalues\u001b[0m\u001b[0;34m(\u001b[0m\u001b[0;34m)\u001b[0m\u001b[0;34m:\u001b[0m\u001b[0;34m\u001b[0m\u001b[0;34m\u001b[0m\u001b[0m\n\u001b[1;32m    543\u001b[0m             \u001b[0mhook_result\u001b[0m \u001b[0;34m=\u001b[0m \u001b[0mhook\u001b[0m\u001b[0;34m(\u001b[0m\u001b[0mself\u001b[0m\u001b[0;34m,\u001b[0m \u001b[0minput\u001b[0m\u001b[0;34m,\u001b[0m \u001b[0mresult\u001b[0m\u001b[0;34m)\u001b[0m\u001b[0;34m\u001b[0m\u001b[0;34m\u001b[0m\u001b[0m\n",
        "\u001b[0;32m<ipython-input-14-0b3993372d84>\u001b[0m in \u001b[0;36mforward\u001b[0;34m(self, x)\u001b[0m\n\u001b[1;32m     10\u001b[0m \u001b[0;34m\u001b[0m\u001b[0m\n\u001b[1;32m     11\u001b[0m     \u001b[0;32mdef\u001b[0m \u001b[0mforward\u001b[0m\u001b[0;34m(\u001b[0m\u001b[0mself\u001b[0m\u001b[0;34m,\u001b[0m \u001b[0mx\u001b[0m\u001b[0;34m)\u001b[0m\u001b[0;34m:\u001b[0m\u001b[0;34m\u001b[0m\u001b[0;34m\u001b[0m\u001b[0m\n\u001b[0;32m---> 12\u001b[0;31m         \u001b[0mconv5\u001b[0m\u001b[0;34m(\u001b[0m\u001b[0mconv4\u001b[0m\u001b[0;34m(\u001b[0m\u001b[0mconv3\u001b[0m\u001b[0;34m(\u001b[0m\u001b[0mconv2\u001b[0m\u001b[0;34m(\u001b[0m\u001b[0mconv1\u001b[0m\u001b[0;34m(\u001b[0m\u001b[0mx\u001b[0m\u001b[0;34m)\u001b[0m\u001b[0;34m)\u001b[0m\u001b[0;34m)\u001b[0m\u001b[0;34m)\u001b[0m\u001b[0;34m)\u001b[0m\u001b[0;34m\u001b[0m\u001b[0;34m\u001b[0m\u001b[0m\n\u001b[0m\u001b[1;32m     13\u001b[0m \u001b[0;34m\u001b[0m\u001b[0m\n\u001b[1;32m     14\u001b[0m \u001b[0;34m\u001b[0m\u001b[0m\n",
        "\u001b[0;31mNameError\u001b[0m: name 'conv5' is not defined"
       ]
      }
     ],
     "persistentId": "65457dd9-f93f-47a6-85c1-15e44643f4b8",
     "text": "x = torch.rand(1,3, 224, 224)\n\nM = MyNet()\nM(x)"
    },
    "executionTime": "2019-10-12T17:48:13.236Z"
   },
   {
    "cell": {
     "executionCount": 16,
     "executionEventId": "8ff9d239-b495-473e-9144-9d03fa3a0692",
     "hasError": false,
     "id": "ee92825f-3907-4e42-94bb-c617269e1f1a",
     "outputs": [],
     "persistentId": "6fd8e1e4-e04a-4957-bd7f-1c2ff36b61b0",
     "text": "class MyNet(nn.Module):\n    def __init__(self):\n        super(MyNet, self).__init__()\n        conv1 = nn.Sequential(nn.Conv2d(3, 64, (3, 3)), nn.Conv2d(64, 64, (3, 3)), nn.MaxPool2d(2))\n        conv2 = nn.Sequential(nn.Conv2d(64, 64, (3, 3)), nn.Conv2d(64, 256, (3, 3)), nn.MaxPool2d(2))\n        conv3 = nn.Sequential(nn.Conv2d(256, 256, (3, 3)), nn.Conv2d(256, 256, (3, 3)),nn.Conv2d(256, 512, (3, 3)), nn.MaxPool2d(2))\n        conv4 = nn.Sequential(nn.Conv2d(512, 512, (3, 3)), nn.Conv2d(512, 512, (3, 3)), nn.Conv2d(512, 512, (3, 3), nn.MaxPool2d(2)))\n        conv5 = nn.Sequential(nn.Conv2d(512, 512, (3, 3)), nn.Conv2d(512, 512, (3, 3)), nn.Conv2d(512, 512, (3, 3), nn.MaxPool2d(2)))\n\n    \n    def forward(self, x):\n        conv5(conv4(conv3(conv2(conv1(x)))))\n        \n        "
    },
    "executionTime": "2019-10-12T17:48:15.166Z"
   },
   {
    "cell": {
     "executionCount": 17,
     "executionEventId": "7c265395-6c88-4413-b9c2-70dbf55a590f",
     "hasError": false,
     "id": "ee92825f-3907-4e42-94bb-c617269e1f1a",
     "outputs": [],
     "persistentId": "6fd8e1e4-e04a-4957-bd7f-1c2ff36b61b0",
     "text": "class MyNet(nn.Module):\n    def __init__(self):\n        super(MyNet, self).__init__()\n        self.conv1 = nn.Sequential(nn.Conv2d(3, 64, (3, 3)), nn.Conv2d(64, 64, (3, 3)), nn.MaxPool2d(2))\n        self.conv2 = nn.Sequential(nn.Conv2d(64, 64, (3, 3)), nn.Conv2d(64, 256, (3, 3)), nn.MaxPool2d(2))\n        self.conv3 = nn.Sequential(nn.Conv2d(256, 256, (3, 3)), nn.Conv2d(256, 256, (3, 3)),nn.Conv2d(256, 512, (3, 3)), nn.MaxPool2d(2))\n        self.conv4 = nn.Sequential(nn.Conv2d(512, 512, (3, 3)), nn.Conv2d(512, 512, (3, 3)), nn.Conv2d(512, 512, (3, 3), nn.MaxPool2d(2)))\n        self.conv5 = nn.Sequential(nn.Conv2d(512, 512, (3, 3)), nn.Conv2d(512, 512, (3, 3)), nn.Conv2d(512, 512, (3, 3), nn.MaxPool2d(2)))\n\n    \n    def forward(self, x):\n        return self.conv5(self.conv4(self.conv3(self.conv2(self.conv1(x)))))\n        \n        "
    },
    "executionTime": "2019-10-12T17:48:42.174Z"
   },
   {
    "cell": {
     "executionCount": 18,
     "executionEventId": "2096d5ab-76e1-4070-840a-d27e68e329e8",
     "hasError": true,
     "id": "7db4045b-8134-4794-9009-fb5bf45f6765",
     "outputs": [
      {
       "ename": "TypeError",
       "evalue": "conv2d(): argument 'stride' must be tuple of ints, but found element of type MaxPool2d at pos 1",
       "output_type": "error",
       "traceback": [
        "\u001b[0;31m---------------------------------------------------------------------------\u001b[0m",
        "\u001b[0;31mTypeError\u001b[0m                                 Traceback (most recent call last)",
        "\u001b[0;32m<ipython-input-18-9fb70f2b6768>\u001b[0m in \u001b[0;36m<module>\u001b[0;34m\u001b[0m\n\u001b[1;32m      2\u001b[0m \u001b[0;34m\u001b[0m\u001b[0m\n\u001b[1;32m      3\u001b[0m \u001b[0mM\u001b[0m \u001b[0;34m=\u001b[0m \u001b[0mMyNet\u001b[0m\u001b[0;34m(\u001b[0m\u001b[0;34m)\u001b[0m\u001b[0;34m\u001b[0m\u001b[0;34m\u001b[0m\u001b[0m\n\u001b[0;32m----> 4\u001b[0;31m \u001b[0mM\u001b[0m\u001b[0;34m(\u001b[0m\u001b[0mx\u001b[0m\u001b[0;34m)\u001b[0m\u001b[0;34m\u001b[0m\u001b[0;34m\u001b[0m\u001b[0m\n\u001b[0m",
        "\u001b[0;32m~/anaconda3/envs/dl/lib/python3.7/site-packages/torch/nn/modules/module.py\u001b[0m in \u001b[0;36m__call__\u001b[0;34m(self, *input, **kwargs)\u001b[0m\n\u001b[1;32m    539\u001b[0m             \u001b[0mresult\u001b[0m \u001b[0;34m=\u001b[0m \u001b[0mself\u001b[0m\u001b[0;34m.\u001b[0m\u001b[0m_slow_forward\u001b[0m\u001b[0;34m(\u001b[0m\u001b[0;34m*\u001b[0m\u001b[0minput\u001b[0m\u001b[0;34m,\u001b[0m \u001b[0;34m**\u001b[0m\u001b[0mkwargs\u001b[0m\u001b[0;34m)\u001b[0m\u001b[0;34m\u001b[0m\u001b[0;34m\u001b[0m\u001b[0m\n\u001b[1;32m    540\u001b[0m         \u001b[0;32melse\u001b[0m\u001b[0;34m:\u001b[0m\u001b[0;34m\u001b[0m\u001b[0;34m\u001b[0m\u001b[0m\n\u001b[0;32m--> 541\u001b[0;31m             \u001b[0mresult\u001b[0m \u001b[0;34m=\u001b[0m \u001b[0mself\u001b[0m\u001b[0;34m.\u001b[0m\u001b[0mforward\u001b[0m\u001b[0;34m(\u001b[0m\u001b[0;34m*\u001b[0m\u001b[0minput\u001b[0m\u001b[0;34m,\u001b[0m \u001b[0;34m**\u001b[0m\u001b[0mkwargs\u001b[0m\u001b[0;34m)\u001b[0m\u001b[0;34m\u001b[0m\u001b[0;34m\u001b[0m\u001b[0m\n\u001b[0m\u001b[1;32m    542\u001b[0m         \u001b[0;32mfor\u001b[0m \u001b[0mhook\u001b[0m \u001b[0;32min\u001b[0m \u001b[0mself\u001b[0m\u001b[0;34m.\u001b[0m\u001b[0m_forward_hooks\u001b[0m\u001b[0;34m.\u001b[0m\u001b[0mvalues\u001b[0m\u001b[0;34m(\u001b[0m\u001b[0;34m)\u001b[0m\u001b[0;34m:\u001b[0m\u001b[0;34m\u001b[0m\u001b[0;34m\u001b[0m\u001b[0m\n\u001b[1;32m    543\u001b[0m             \u001b[0mhook_result\u001b[0m \u001b[0;34m=\u001b[0m \u001b[0mhook\u001b[0m\u001b[0;34m(\u001b[0m\u001b[0mself\u001b[0m\u001b[0;34m,\u001b[0m \u001b[0minput\u001b[0m\u001b[0;34m,\u001b[0m \u001b[0mresult\u001b[0m\u001b[0;34m)\u001b[0m\u001b[0;34m\u001b[0m\u001b[0;34m\u001b[0m\u001b[0m\n",
        "\u001b[0;32m<ipython-input-17-d6db48ea888b>\u001b[0m in \u001b[0;36mforward\u001b[0;34m(self, x)\u001b[0m\n\u001b[1;32m     10\u001b[0m \u001b[0;34m\u001b[0m\u001b[0m\n\u001b[1;32m     11\u001b[0m     \u001b[0;32mdef\u001b[0m \u001b[0mforward\u001b[0m\u001b[0;34m(\u001b[0m\u001b[0mself\u001b[0m\u001b[0;34m,\u001b[0m \u001b[0mx\u001b[0m\u001b[0;34m)\u001b[0m\u001b[0;34m:\u001b[0m\u001b[0;34m\u001b[0m\u001b[0;34m\u001b[0m\u001b[0m\n\u001b[0;32m---> 12\u001b[0;31m         \u001b[0;32mreturn\u001b[0m \u001b[0mself\u001b[0m\u001b[0;34m.\u001b[0m\u001b[0mconv5\u001b[0m\u001b[0;34m(\u001b[0m\u001b[0mself\u001b[0m\u001b[0;34m.\u001b[0m\u001b[0mconv4\u001b[0m\u001b[0;34m(\u001b[0m\u001b[0mself\u001b[0m\u001b[0;34m.\u001b[0m\u001b[0mconv3\u001b[0m\u001b[0;34m(\u001b[0m\u001b[0mself\u001b[0m\u001b[0;34m.\u001b[0m\u001b[0mconv2\u001b[0m\u001b[0;34m(\u001b[0m\u001b[0mself\u001b[0m\u001b[0;34m.\u001b[0m\u001b[0mconv1\u001b[0m\u001b[0;34m(\u001b[0m\u001b[0mx\u001b[0m\u001b[0;34m)\u001b[0m\u001b[0;34m)\u001b[0m\u001b[0;34m)\u001b[0m\u001b[0;34m)\u001b[0m\u001b[0;34m)\u001b[0m\u001b[0;34m\u001b[0m\u001b[0;34m\u001b[0m\u001b[0m\n\u001b[0m\u001b[1;32m     13\u001b[0m \u001b[0;34m\u001b[0m\u001b[0m\n\u001b[1;32m     14\u001b[0m \u001b[0;34m\u001b[0m\u001b[0m\n",
        "\u001b[0;32m~/anaconda3/envs/dl/lib/python3.7/site-packages/torch/nn/modules/module.py\u001b[0m in \u001b[0;36m__call__\u001b[0;34m(self, *input, **kwargs)\u001b[0m\n\u001b[1;32m    539\u001b[0m             \u001b[0mresult\u001b[0m \u001b[0;34m=\u001b[0m \u001b[0mself\u001b[0m\u001b[0;34m.\u001b[0m\u001b[0m_slow_forward\u001b[0m\u001b[0;34m(\u001b[0m\u001b[0;34m*\u001b[0m\u001b[0minput\u001b[0m\u001b[0;34m,\u001b[0m \u001b[0;34m**\u001b[0m\u001b[0mkwargs\u001b[0m\u001b[0;34m)\u001b[0m\u001b[0;34m\u001b[0m\u001b[0;34m\u001b[0m\u001b[0m\n\u001b[1;32m    540\u001b[0m         \u001b[0;32melse\u001b[0m\u001b[0;34m:\u001b[0m\u001b[0;34m\u001b[0m\u001b[0;34m\u001b[0m\u001b[0m\n\u001b[0;32m--> 541\u001b[0;31m             \u001b[0mresult\u001b[0m \u001b[0;34m=\u001b[0m \u001b[0mself\u001b[0m\u001b[0;34m.\u001b[0m\u001b[0mforward\u001b[0m\u001b[0;34m(\u001b[0m\u001b[0;34m*\u001b[0m\u001b[0minput\u001b[0m\u001b[0;34m,\u001b[0m \u001b[0;34m**\u001b[0m\u001b[0mkwargs\u001b[0m\u001b[0;34m)\u001b[0m\u001b[0;34m\u001b[0m\u001b[0;34m\u001b[0m\u001b[0m\n\u001b[0m\u001b[1;32m    542\u001b[0m         \u001b[0;32mfor\u001b[0m \u001b[0mhook\u001b[0m \u001b[0;32min\u001b[0m \u001b[0mself\u001b[0m\u001b[0;34m.\u001b[0m\u001b[0m_forward_hooks\u001b[0m\u001b[0;34m.\u001b[0m\u001b[0mvalues\u001b[0m\u001b[0;34m(\u001b[0m\u001b[0;34m)\u001b[0m\u001b[0;34m:\u001b[0m\u001b[0;34m\u001b[0m\u001b[0;34m\u001b[0m\u001b[0m\n\u001b[1;32m    543\u001b[0m             \u001b[0mhook_result\u001b[0m \u001b[0;34m=\u001b[0m \u001b[0mhook\u001b[0m\u001b[0;34m(\u001b[0m\u001b[0mself\u001b[0m\u001b[0;34m,\u001b[0m \u001b[0minput\u001b[0m\u001b[0;34m,\u001b[0m \u001b[0mresult\u001b[0m\u001b[0;34m)\u001b[0m\u001b[0;34m\u001b[0m\u001b[0;34m\u001b[0m\u001b[0m\n",
        "\u001b[0;32m~/anaconda3/envs/dl/lib/python3.7/site-packages/torch/nn/modules/container.py\u001b[0m in \u001b[0;36mforward\u001b[0;34m(self, input)\u001b[0m\n\u001b[1;32m     90\u001b[0m     \u001b[0;32mdef\u001b[0m \u001b[0mforward\u001b[0m\u001b[0;34m(\u001b[0m\u001b[0mself\u001b[0m\u001b[0;34m,\u001b[0m \u001b[0minput\u001b[0m\u001b[0;34m)\u001b[0m\u001b[0;34m:\u001b[0m\u001b[0;34m\u001b[0m\u001b[0;34m\u001b[0m\u001b[0m\n\u001b[1;32m     91\u001b[0m         \u001b[0;32mfor\u001b[0m \u001b[0mmodule\u001b[0m \u001b[0;32min\u001b[0m \u001b[0mself\u001b[0m\u001b[0;34m.\u001b[0m\u001b[0m_modules\u001b[0m\u001b[0;34m.\u001b[0m\u001b[0mvalues\u001b[0m\u001b[0;34m(\u001b[0m\u001b[0;34m)\u001b[0m\u001b[0;34m:\u001b[0m\u001b[0;34m\u001b[0m\u001b[0;34m\u001b[0m\u001b[0m\n\u001b[0;32m---> 92\u001b[0;31m             \u001b[0minput\u001b[0m \u001b[0;34m=\u001b[0m \u001b[0mmodule\u001b[0m\u001b[0;34m(\u001b[0m\u001b[0minput\u001b[0m\u001b[0;34m)\u001b[0m\u001b[0;34m\u001b[0m\u001b[0;34m\u001b[0m\u001b[0m\n\u001b[0m\u001b[1;32m     93\u001b[0m         \u001b[0;32mreturn\u001b[0m \u001b[0minput\u001b[0m\u001b[0;34m\u001b[0m\u001b[0;34m\u001b[0m\u001b[0m\n\u001b[1;32m     94\u001b[0m \u001b[0;34m\u001b[0m\u001b[0m\n",
        "\u001b[0;32m~/anaconda3/envs/dl/lib/python3.7/site-packages/torch/nn/modules/module.py\u001b[0m in \u001b[0;36m__call__\u001b[0;34m(self, *input, **kwargs)\u001b[0m\n\u001b[1;32m    539\u001b[0m             \u001b[0mresult\u001b[0m \u001b[0;34m=\u001b[0m \u001b[0mself\u001b[0m\u001b[0;34m.\u001b[0m\u001b[0m_slow_forward\u001b[0m\u001b[0;34m(\u001b[0m\u001b[0;34m*\u001b[0m\u001b[0minput\u001b[0m\u001b[0;34m,\u001b[0m \u001b[0;34m**\u001b[0m\u001b[0mkwargs\u001b[0m\u001b[0;34m)\u001b[0m\u001b[0;34m\u001b[0m\u001b[0;34m\u001b[0m\u001b[0m\n\u001b[1;32m    540\u001b[0m         \u001b[0;32melse\u001b[0m\u001b[0;34m:\u001b[0m\u001b[0;34m\u001b[0m\u001b[0;34m\u001b[0m\u001b[0m\n\u001b[0;32m--> 541\u001b[0;31m             \u001b[0mresult\u001b[0m \u001b[0;34m=\u001b[0m \u001b[0mself\u001b[0m\u001b[0;34m.\u001b[0m\u001b[0mforward\u001b[0m\u001b[0;34m(\u001b[0m\u001b[0;34m*\u001b[0m\u001b[0minput\u001b[0m\u001b[0;34m,\u001b[0m \u001b[0;34m**\u001b[0m\u001b[0mkwargs\u001b[0m\u001b[0;34m)\u001b[0m\u001b[0;34m\u001b[0m\u001b[0;34m\u001b[0m\u001b[0m\n\u001b[0m\u001b[1;32m    542\u001b[0m         \u001b[0;32mfor\u001b[0m \u001b[0mhook\u001b[0m \u001b[0;32min\u001b[0m \u001b[0mself\u001b[0m\u001b[0;34m.\u001b[0m\u001b[0m_forward_hooks\u001b[0m\u001b[0;34m.\u001b[0m\u001b[0mvalues\u001b[0m\u001b[0;34m(\u001b[0m\u001b[0;34m)\u001b[0m\u001b[0;34m:\u001b[0m\u001b[0;34m\u001b[0m\u001b[0;34m\u001b[0m\u001b[0m\n\u001b[1;32m    543\u001b[0m             \u001b[0mhook_result\u001b[0m \u001b[0;34m=\u001b[0m \u001b[0mhook\u001b[0m\u001b[0;34m(\u001b[0m\u001b[0mself\u001b[0m\u001b[0;34m,\u001b[0m \u001b[0minput\u001b[0m\u001b[0;34m,\u001b[0m \u001b[0mresult\u001b[0m\u001b[0;34m)\u001b[0m\u001b[0;34m\u001b[0m\u001b[0;34m\u001b[0m\u001b[0m\n",
        "\u001b[0;32m~/anaconda3/envs/dl/lib/python3.7/site-packages/torch/nn/modules/conv.py\u001b[0m in \u001b[0;36mforward\u001b[0;34m(self, input)\u001b[0m\n\u001b[1;32m    343\u001b[0m \u001b[0;34m\u001b[0m\u001b[0m\n\u001b[1;32m    344\u001b[0m     \u001b[0;32mdef\u001b[0m \u001b[0mforward\u001b[0m\u001b[0;34m(\u001b[0m\u001b[0mself\u001b[0m\u001b[0;34m,\u001b[0m \u001b[0minput\u001b[0m\u001b[0;34m)\u001b[0m\u001b[0;34m:\u001b[0m\u001b[0;34m\u001b[0m\u001b[0;34m\u001b[0m\u001b[0m\n\u001b[0;32m--> 345\u001b[0;31m         \u001b[0;32mreturn\u001b[0m \u001b[0mself\u001b[0m\u001b[0;34m.\u001b[0m\u001b[0mconv2d_forward\u001b[0m\u001b[0;34m(\u001b[0m\u001b[0minput\u001b[0m\u001b[0;34m,\u001b[0m \u001b[0mself\u001b[0m\u001b[0;34m.\u001b[0m\u001b[0mweight\u001b[0m\u001b[0;34m)\u001b[0m\u001b[0;34m\u001b[0m\u001b[0;34m\u001b[0m\u001b[0m\n\u001b[0m\u001b[1;32m    346\u001b[0m \u001b[0;34m\u001b[0m\u001b[0m\n\u001b[1;32m    347\u001b[0m \u001b[0;32mclass\u001b[0m \u001b[0mConv3d\u001b[0m\u001b[0;34m(\u001b[0m\u001b[0m_ConvNd\u001b[0m\u001b[0;34m)\u001b[0m\u001b[0;34m:\u001b[0m\u001b[0;34m\u001b[0m\u001b[0;34m\u001b[0m\u001b[0m\n",
        "\u001b[0;32m~/anaconda3/envs/dl/lib/python3.7/site-packages/torch/nn/modules/conv.py\u001b[0m in \u001b[0;36mconv2d_forward\u001b[0;34m(self, input, weight)\u001b[0m\n\u001b[1;32m    340\u001b[0m                             _pair(0), self.dilation, self.groups)\n\u001b[1;32m    341\u001b[0m         return F.conv2d(input, weight, self.bias, self.stride,\n\u001b[0;32m--> 342\u001b[0;31m                         self.padding, self.dilation, self.groups)\n\u001b[0m\u001b[1;32m    343\u001b[0m \u001b[0;34m\u001b[0m\u001b[0m\n\u001b[1;32m    344\u001b[0m     \u001b[0;32mdef\u001b[0m \u001b[0mforward\u001b[0m\u001b[0;34m(\u001b[0m\u001b[0mself\u001b[0m\u001b[0;34m,\u001b[0m \u001b[0minput\u001b[0m\u001b[0;34m)\u001b[0m\u001b[0;34m:\u001b[0m\u001b[0;34m\u001b[0m\u001b[0;34m\u001b[0m\u001b[0m\n",
        "\u001b[0;31mTypeError\u001b[0m: conv2d(): argument 'stride' must be tuple of ints, but found element of type MaxPool2d at pos 1"
       ]
      }
     ],
     "persistentId": "65457dd9-f93f-47a6-85c1-15e44643f4b8",
     "text": "x = torch.rand(1,3, 224, 224)\n\nM = MyNet()\nM(x)"
    },
    "executionTime": "2019-10-12T17:48:43.183Z"
   },
   {
    "cell": {
     "executionCount": 19,
     "executionEventId": "8f387f47-0aca-408a-b1e1-c65a5ddd2222",
     "hasError": false,
     "id": "ee92825f-3907-4e42-94bb-c617269e1f1a",
     "outputs": [],
     "persistentId": "6fd8e1e4-e04a-4957-bd7f-1c2ff36b61b0",
     "text": "class MyNet(nn.Module):\n    def __init__(self):\n        super(MyNet, self).__init__()\n        self.conv1 = nn.Sequential(nn.Conv2d(3, 64, (3, 3)), nn.Conv2d(64, 64, (3, 3)), nn.MaxPool2d(2))\n        self.conv2 = nn.Sequential(nn.Conv2d(64, 64, (3, 3)), nn.Conv2d(64, 256, (3, 3)), nn.MaxPool2d(2))\n        self.conv3 = nn.Sequential(nn.Conv2d(256, 256, (3, 3)), nn.Conv2d(256, 256, (3, 3)), nn.Conv2d(256, 512, (3, 3), nn.MaxPool2d(2)))\n        self.conv4 = nn.Sequential(nn.Conv2d(512, 512, (3, 3)), nn.Conv2d(512, 512, (3, 3)), nn.Conv2d(512, 512, (3, 3), nn.MaxPool2d(2)))\n        self.conv5 = nn.Sequential(nn.Conv2d(512, 512, (3, 3)), nn.Conv2d(512, 512, (3, 3)), nn.Conv2d(512, 512, (3, 3), nn.MaxPool2d(2)))\n\n    \n    def forward(self, x):\n        return self.conv5(self.conv4(self.conv3(self.conv2(self.conv1(x)))))\n        \n        "
    },
    "executionTime": "2019-10-12T17:49:22.649Z"
   },
   {
    "cell": {
     "executionCount": 20,
     "executionEventId": "7b792afa-ddb0-4f3a-a3de-b443c5c32a82",
     "hasError": true,
     "id": "7db4045b-8134-4794-9009-fb5bf45f6765",
     "outputs": [
      {
       "ename": "TypeError",
       "evalue": "conv2d(): argument 'stride' must be tuple of ints, but found element of type MaxPool2d at pos 1",
       "output_type": "error",
       "traceback": [
        "\u001b[0;31m---------------------------------------------------------------------------\u001b[0m",
        "\u001b[0;31mTypeError\u001b[0m                                 Traceback (most recent call last)",
        "\u001b[0;32m<ipython-input-20-9fb70f2b6768>\u001b[0m in \u001b[0;36m<module>\u001b[0;34m\u001b[0m\n\u001b[1;32m      2\u001b[0m \u001b[0;34m\u001b[0m\u001b[0m\n\u001b[1;32m      3\u001b[0m \u001b[0mM\u001b[0m \u001b[0;34m=\u001b[0m \u001b[0mMyNet\u001b[0m\u001b[0;34m(\u001b[0m\u001b[0;34m)\u001b[0m\u001b[0;34m\u001b[0m\u001b[0;34m\u001b[0m\u001b[0m\n\u001b[0;32m----> 4\u001b[0;31m \u001b[0mM\u001b[0m\u001b[0;34m(\u001b[0m\u001b[0mx\u001b[0m\u001b[0;34m)\u001b[0m\u001b[0;34m\u001b[0m\u001b[0;34m\u001b[0m\u001b[0m\n\u001b[0m",
        "\u001b[0;32m~/anaconda3/envs/dl/lib/python3.7/site-packages/torch/nn/modules/module.py\u001b[0m in \u001b[0;36m__call__\u001b[0;34m(self, *input, **kwargs)\u001b[0m\n\u001b[1;32m    539\u001b[0m             \u001b[0mresult\u001b[0m \u001b[0;34m=\u001b[0m \u001b[0mself\u001b[0m\u001b[0;34m.\u001b[0m\u001b[0m_slow_forward\u001b[0m\u001b[0;34m(\u001b[0m\u001b[0;34m*\u001b[0m\u001b[0minput\u001b[0m\u001b[0;34m,\u001b[0m \u001b[0;34m**\u001b[0m\u001b[0mkwargs\u001b[0m\u001b[0;34m)\u001b[0m\u001b[0;34m\u001b[0m\u001b[0;34m\u001b[0m\u001b[0m\n\u001b[1;32m    540\u001b[0m         \u001b[0;32melse\u001b[0m\u001b[0;34m:\u001b[0m\u001b[0;34m\u001b[0m\u001b[0;34m\u001b[0m\u001b[0m\n\u001b[0;32m--> 541\u001b[0;31m             \u001b[0mresult\u001b[0m \u001b[0;34m=\u001b[0m \u001b[0mself\u001b[0m\u001b[0;34m.\u001b[0m\u001b[0mforward\u001b[0m\u001b[0;34m(\u001b[0m\u001b[0;34m*\u001b[0m\u001b[0minput\u001b[0m\u001b[0;34m,\u001b[0m \u001b[0;34m**\u001b[0m\u001b[0mkwargs\u001b[0m\u001b[0;34m)\u001b[0m\u001b[0;34m\u001b[0m\u001b[0;34m\u001b[0m\u001b[0m\n\u001b[0m\u001b[1;32m    542\u001b[0m         \u001b[0;32mfor\u001b[0m \u001b[0mhook\u001b[0m \u001b[0;32min\u001b[0m \u001b[0mself\u001b[0m\u001b[0;34m.\u001b[0m\u001b[0m_forward_hooks\u001b[0m\u001b[0;34m.\u001b[0m\u001b[0mvalues\u001b[0m\u001b[0;34m(\u001b[0m\u001b[0;34m)\u001b[0m\u001b[0;34m:\u001b[0m\u001b[0;34m\u001b[0m\u001b[0;34m\u001b[0m\u001b[0m\n\u001b[1;32m    543\u001b[0m             \u001b[0mhook_result\u001b[0m \u001b[0;34m=\u001b[0m \u001b[0mhook\u001b[0m\u001b[0;34m(\u001b[0m\u001b[0mself\u001b[0m\u001b[0;34m,\u001b[0m \u001b[0minput\u001b[0m\u001b[0;34m,\u001b[0m \u001b[0mresult\u001b[0m\u001b[0;34m)\u001b[0m\u001b[0;34m\u001b[0m\u001b[0;34m\u001b[0m\u001b[0m\n",
        "\u001b[0;32m<ipython-input-19-54a8cc0f7846>\u001b[0m in \u001b[0;36mforward\u001b[0;34m(self, x)\u001b[0m\n\u001b[1;32m     10\u001b[0m \u001b[0;34m\u001b[0m\u001b[0m\n\u001b[1;32m     11\u001b[0m     \u001b[0;32mdef\u001b[0m \u001b[0mforward\u001b[0m\u001b[0;34m(\u001b[0m\u001b[0mself\u001b[0m\u001b[0;34m,\u001b[0m \u001b[0mx\u001b[0m\u001b[0;34m)\u001b[0m\u001b[0;34m:\u001b[0m\u001b[0;34m\u001b[0m\u001b[0;34m\u001b[0m\u001b[0m\n\u001b[0;32m---> 12\u001b[0;31m         \u001b[0;32mreturn\u001b[0m \u001b[0mself\u001b[0m\u001b[0;34m.\u001b[0m\u001b[0mconv5\u001b[0m\u001b[0;34m(\u001b[0m\u001b[0mself\u001b[0m\u001b[0;34m.\u001b[0m\u001b[0mconv4\u001b[0m\u001b[0;34m(\u001b[0m\u001b[0mself\u001b[0m\u001b[0;34m.\u001b[0m\u001b[0mconv3\u001b[0m\u001b[0;34m(\u001b[0m\u001b[0mself\u001b[0m\u001b[0;34m.\u001b[0m\u001b[0mconv2\u001b[0m\u001b[0;34m(\u001b[0m\u001b[0mself\u001b[0m\u001b[0;34m.\u001b[0m\u001b[0mconv1\u001b[0m\u001b[0;34m(\u001b[0m\u001b[0mx\u001b[0m\u001b[0;34m)\u001b[0m\u001b[0;34m)\u001b[0m\u001b[0;34m)\u001b[0m\u001b[0;34m)\u001b[0m\u001b[0;34m)\u001b[0m\u001b[0;34m\u001b[0m\u001b[0;34m\u001b[0m\u001b[0m\n\u001b[0m\u001b[1;32m     13\u001b[0m \u001b[0;34m\u001b[0m\u001b[0m\n\u001b[1;32m     14\u001b[0m \u001b[0;34m\u001b[0m\u001b[0m\n",
        "\u001b[0;32m~/anaconda3/envs/dl/lib/python3.7/site-packages/torch/nn/modules/module.py\u001b[0m in \u001b[0;36m__call__\u001b[0;34m(self, *input, **kwargs)\u001b[0m\n\u001b[1;32m    539\u001b[0m             \u001b[0mresult\u001b[0m \u001b[0;34m=\u001b[0m \u001b[0mself\u001b[0m\u001b[0;34m.\u001b[0m\u001b[0m_slow_forward\u001b[0m\u001b[0;34m(\u001b[0m\u001b[0;34m*\u001b[0m\u001b[0minput\u001b[0m\u001b[0;34m,\u001b[0m \u001b[0;34m**\u001b[0m\u001b[0mkwargs\u001b[0m\u001b[0;34m)\u001b[0m\u001b[0;34m\u001b[0m\u001b[0;34m\u001b[0m\u001b[0m\n\u001b[1;32m    540\u001b[0m         \u001b[0;32melse\u001b[0m\u001b[0;34m:\u001b[0m\u001b[0;34m\u001b[0m\u001b[0;34m\u001b[0m\u001b[0m\n\u001b[0;32m--> 541\u001b[0;31m             \u001b[0mresult\u001b[0m \u001b[0;34m=\u001b[0m \u001b[0mself\u001b[0m\u001b[0;34m.\u001b[0m\u001b[0mforward\u001b[0m\u001b[0;34m(\u001b[0m\u001b[0;34m*\u001b[0m\u001b[0minput\u001b[0m\u001b[0;34m,\u001b[0m \u001b[0;34m**\u001b[0m\u001b[0mkwargs\u001b[0m\u001b[0;34m)\u001b[0m\u001b[0;34m\u001b[0m\u001b[0;34m\u001b[0m\u001b[0m\n\u001b[0m\u001b[1;32m    542\u001b[0m         \u001b[0;32mfor\u001b[0m \u001b[0mhook\u001b[0m \u001b[0;32min\u001b[0m \u001b[0mself\u001b[0m\u001b[0;34m.\u001b[0m\u001b[0m_forward_hooks\u001b[0m\u001b[0;34m.\u001b[0m\u001b[0mvalues\u001b[0m\u001b[0;34m(\u001b[0m\u001b[0;34m)\u001b[0m\u001b[0;34m:\u001b[0m\u001b[0;34m\u001b[0m\u001b[0;34m\u001b[0m\u001b[0m\n\u001b[1;32m    543\u001b[0m             \u001b[0mhook_result\u001b[0m \u001b[0;34m=\u001b[0m \u001b[0mhook\u001b[0m\u001b[0;34m(\u001b[0m\u001b[0mself\u001b[0m\u001b[0;34m,\u001b[0m \u001b[0minput\u001b[0m\u001b[0;34m,\u001b[0m \u001b[0mresult\u001b[0m\u001b[0;34m)\u001b[0m\u001b[0;34m\u001b[0m\u001b[0;34m\u001b[0m\u001b[0m\n",
        "\u001b[0;32m~/anaconda3/envs/dl/lib/python3.7/site-packages/torch/nn/modules/container.py\u001b[0m in \u001b[0;36mforward\u001b[0;34m(self, input)\u001b[0m\n\u001b[1;32m     90\u001b[0m     \u001b[0;32mdef\u001b[0m \u001b[0mforward\u001b[0m\u001b[0;34m(\u001b[0m\u001b[0mself\u001b[0m\u001b[0;34m,\u001b[0m \u001b[0minput\u001b[0m\u001b[0;34m)\u001b[0m\u001b[0;34m:\u001b[0m\u001b[0;34m\u001b[0m\u001b[0;34m\u001b[0m\u001b[0m\n\u001b[1;32m     91\u001b[0m         \u001b[0;32mfor\u001b[0m \u001b[0mmodule\u001b[0m \u001b[0;32min\u001b[0m \u001b[0mself\u001b[0m\u001b[0;34m.\u001b[0m\u001b[0m_modules\u001b[0m\u001b[0;34m.\u001b[0m\u001b[0mvalues\u001b[0m\u001b[0;34m(\u001b[0m\u001b[0;34m)\u001b[0m\u001b[0;34m:\u001b[0m\u001b[0;34m\u001b[0m\u001b[0;34m\u001b[0m\u001b[0m\n\u001b[0;32m---> 92\u001b[0;31m             \u001b[0minput\u001b[0m \u001b[0;34m=\u001b[0m \u001b[0mmodule\u001b[0m\u001b[0;34m(\u001b[0m\u001b[0minput\u001b[0m\u001b[0;34m)\u001b[0m\u001b[0;34m\u001b[0m\u001b[0;34m\u001b[0m\u001b[0m\n\u001b[0m\u001b[1;32m     93\u001b[0m         \u001b[0;32mreturn\u001b[0m \u001b[0minput\u001b[0m\u001b[0;34m\u001b[0m\u001b[0;34m\u001b[0m\u001b[0m\n\u001b[1;32m     94\u001b[0m \u001b[0;34m\u001b[0m\u001b[0m\n",
        "\u001b[0;32m~/anaconda3/envs/dl/lib/python3.7/site-packages/torch/nn/modules/module.py\u001b[0m in \u001b[0;36m__call__\u001b[0;34m(self, *input, **kwargs)\u001b[0m\n\u001b[1;32m    539\u001b[0m             \u001b[0mresult\u001b[0m \u001b[0;34m=\u001b[0m \u001b[0mself\u001b[0m\u001b[0;34m.\u001b[0m\u001b[0m_slow_forward\u001b[0m\u001b[0;34m(\u001b[0m\u001b[0;34m*\u001b[0m\u001b[0minput\u001b[0m\u001b[0;34m,\u001b[0m \u001b[0;34m**\u001b[0m\u001b[0mkwargs\u001b[0m\u001b[0;34m)\u001b[0m\u001b[0;34m\u001b[0m\u001b[0;34m\u001b[0m\u001b[0m\n\u001b[1;32m    540\u001b[0m         \u001b[0;32melse\u001b[0m\u001b[0;34m:\u001b[0m\u001b[0;34m\u001b[0m\u001b[0;34m\u001b[0m\u001b[0m\n\u001b[0;32m--> 541\u001b[0;31m             \u001b[0mresult\u001b[0m \u001b[0;34m=\u001b[0m \u001b[0mself\u001b[0m\u001b[0;34m.\u001b[0m\u001b[0mforward\u001b[0m\u001b[0;34m(\u001b[0m\u001b[0;34m*\u001b[0m\u001b[0minput\u001b[0m\u001b[0;34m,\u001b[0m \u001b[0;34m**\u001b[0m\u001b[0mkwargs\u001b[0m\u001b[0;34m)\u001b[0m\u001b[0;34m\u001b[0m\u001b[0;34m\u001b[0m\u001b[0m\n\u001b[0m\u001b[1;32m    542\u001b[0m         \u001b[0;32mfor\u001b[0m \u001b[0mhook\u001b[0m \u001b[0;32min\u001b[0m \u001b[0mself\u001b[0m\u001b[0;34m.\u001b[0m\u001b[0m_forward_hooks\u001b[0m\u001b[0;34m.\u001b[0m\u001b[0mvalues\u001b[0m\u001b[0;34m(\u001b[0m\u001b[0;34m)\u001b[0m\u001b[0;34m:\u001b[0m\u001b[0;34m\u001b[0m\u001b[0;34m\u001b[0m\u001b[0m\n\u001b[1;32m    543\u001b[0m             \u001b[0mhook_result\u001b[0m \u001b[0;34m=\u001b[0m \u001b[0mhook\u001b[0m\u001b[0;34m(\u001b[0m\u001b[0mself\u001b[0m\u001b[0;34m,\u001b[0m \u001b[0minput\u001b[0m\u001b[0;34m,\u001b[0m \u001b[0mresult\u001b[0m\u001b[0;34m)\u001b[0m\u001b[0;34m\u001b[0m\u001b[0;34m\u001b[0m\u001b[0m\n",
        "\u001b[0;32m~/anaconda3/envs/dl/lib/python3.7/site-packages/torch/nn/modules/conv.py\u001b[0m in \u001b[0;36mforward\u001b[0;34m(self, input)\u001b[0m\n\u001b[1;32m    343\u001b[0m \u001b[0;34m\u001b[0m\u001b[0m\n\u001b[1;32m    344\u001b[0m     \u001b[0;32mdef\u001b[0m \u001b[0mforward\u001b[0m\u001b[0;34m(\u001b[0m\u001b[0mself\u001b[0m\u001b[0;34m,\u001b[0m \u001b[0minput\u001b[0m\u001b[0;34m)\u001b[0m\u001b[0;34m:\u001b[0m\u001b[0;34m\u001b[0m\u001b[0;34m\u001b[0m\u001b[0m\n\u001b[0;32m--> 345\u001b[0;31m         \u001b[0;32mreturn\u001b[0m \u001b[0mself\u001b[0m\u001b[0;34m.\u001b[0m\u001b[0mconv2d_forward\u001b[0m\u001b[0;34m(\u001b[0m\u001b[0minput\u001b[0m\u001b[0;34m,\u001b[0m \u001b[0mself\u001b[0m\u001b[0;34m.\u001b[0m\u001b[0mweight\u001b[0m\u001b[0;34m)\u001b[0m\u001b[0;34m\u001b[0m\u001b[0;34m\u001b[0m\u001b[0m\n\u001b[0m\u001b[1;32m    346\u001b[0m \u001b[0;34m\u001b[0m\u001b[0m\n\u001b[1;32m    347\u001b[0m \u001b[0;32mclass\u001b[0m \u001b[0mConv3d\u001b[0m\u001b[0;34m(\u001b[0m\u001b[0m_ConvNd\u001b[0m\u001b[0;34m)\u001b[0m\u001b[0;34m:\u001b[0m\u001b[0;34m\u001b[0m\u001b[0;34m\u001b[0m\u001b[0m\n",
        "\u001b[0;32m~/anaconda3/envs/dl/lib/python3.7/site-packages/torch/nn/modules/conv.py\u001b[0m in \u001b[0;36mconv2d_forward\u001b[0;34m(self, input, weight)\u001b[0m\n\u001b[1;32m    340\u001b[0m                             _pair(0), self.dilation, self.groups)\n\u001b[1;32m    341\u001b[0m         return F.conv2d(input, weight, self.bias, self.stride,\n\u001b[0;32m--> 342\u001b[0;31m                         self.padding, self.dilation, self.groups)\n\u001b[0m\u001b[1;32m    343\u001b[0m \u001b[0;34m\u001b[0m\u001b[0m\n\u001b[1;32m    344\u001b[0m     \u001b[0;32mdef\u001b[0m \u001b[0mforward\u001b[0m\u001b[0;34m(\u001b[0m\u001b[0mself\u001b[0m\u001b[0;34m,\u001b[0m \u001b[0minput\u001b[0m\u001b[0;34m)\u001b[0m\u001b[0;34m:\u001b[0m\u001b[0;34m\u001b[0m\u001b[0;34m\u001b[0m\u001b[0m\n",
        "\u001b[0;31mTypeError\u001b[0m: conv2d(): argument 'stride' must be tuple of ints, but found element of type MaxPool2d at pos 1"
       ]
      }
     ],
     "persistentId": "65457dd9-f93f-47a6-85c1-15e44643f4b8",
     "text": "x = torch.rand(1,3, 224, 224)\n\nM = MyNet()\nM(x)"
    },
    "executionTime": "2019-10-12T17:49:23.688Z"
   },
   {
    "cell": {
     "executionCount": 21,
     "executionEventId": "38708fff-7971-4759-95e5-8c85eb8686c4",
     "hasError": false,
     "id": "ee92825f-3907-4e42-94bb-c617269e1f1a",
     "outputs": [],
     "persistentId": "6fd8e1e4-e04a-4957-bd7f-1c2ff36b61b0",
     "text": "class MyNet(nn.Module):\n    def __init__(self):\n        super(MyNet, self).__init__()\n        self.conv1 = nn.Sequential(\n            nn.Conv2d(3, 64, (3, 3)), \n            nn.Conv2d(64, 64, (3, 3)), \n            nn.MaxPool2d(2)\n        )\n        \n        self.conv2 = nn.Sequential(\n            nn.Conv2d(64, 64, (3, 3)), \n            nn.Conv2d(64, 256, (3, 3)), \n            nn.MaxPool2d(2)\n        )\n        \n        self.conv3 = nn.Sequential(nn.Conv2d(256, 256, (3, 3)), \n                                   nn.Conv2d(256, 256, (3, 3)), \n                                   nn.Conv2d(256, 512, (3, 3)), \n                                   nn.MaxPool2d(2))\n        \n        self.conv4 = nn.Sequential(nn.Conv2d(512, 512, (3, 3)), \n                                   nn.Conv2d(512, 512, (3, 3)), \n                                   nn.Conv2d(512, 512, (3, 3)), \n                                   nn.MaxPool2d(2))\n        \n        self.conv5 = nn.Sequential(\n            nn.Conv2d(512, 512, (3, 3)), \n            nn.Conv2d(512, 512, (3, 3)),\n            nn.Conv2d(512, 512, (3, 3)),\n            nn.MaxPool2d(2))\n\n    \n    def forward(self, x):\n        return self.conv5(self.conv4(self.conv3(self.conv2(self.conv1(x)))))\n        \n        "
    },
    "executionTime": "2019-10-12T17:50:43.199Z"
   },
   {
    "cell": {
     "executionCount": 22,
     "executionEventId": "5e20fba6-d9ea-4496-857d-2a055726fcb4",
     "hasError": false,
     "id": "ee92825f-3907-4e42-94bb-c617269e1f1a",
     "outputs": [],
     "persistentId": "6fd8e1e4-e04a-4957-bd7f-1c2ff36b61b0",
     "text": "class MyNet(nn.Module):\n    def __init__(self):\n        super(MyNet, self).__init__()\n        self.conv1 = nn.Sequential(\n            nn.Conv2d(3, 64, (3, 3)), \n            nn.Conv2d(64, 64, (3, 3)), \n            nn.MaxPool2d(2)\n        )\n        \n        self.conv2 = nn.Sequential(\n            nn.Conv2d(64, 64, (3, 3)), \n            nn.Conv2d(64, 256, (3, 3)), \n            nn.MaxPool2d(2)\n        )\n        \n        self.conv3 = nn.Sequential(\n            nn.Conv2d(256, 256, (3, 3)), \n            nn.Conv2d(256, 256, (3, 3)), \n            nn.Conv2d(256, 512, (3, 3)), \n            nn.MaxPool2d(2)\n        )\n        \n        self.conv4 = nn.Sequential(\n            nn.Conv2d(512, 512, (3, 3)), \n            nn.Conv2d(512, 512, (3, 3)), \n            nn.Conv2d(512, 512, (3, 3)), \n            nn.MaxPool2d(2)\n        )\n        \n        self.conv5 = nn.Sequential(\n            nn.Conv2d(512, 512, (3, 3)), \n            nn.Conv2d(512, 512, (3, 3)),\n            nn.Conv2d(512, 512, (3, 3)),\n            nn.MaxPool2d(2)\n        )\n\n    \n    def forward(self, x):\n        return self.conv5(self.conv4(self.conv3(self.conv2(self.conv1(x)))))\n        \n        "
    },
    "executionTime": "2019-10-12T17:51:11.817Z"
   },
   {
    "cell": {
     "executionCount": 23,
     "executionEventId": "7539917f-bdcf-4d58-870c-bdef68793620",
     "hasError": false,
     "id": "7db4045b-8134-4794-9009-fb5bf45f6765",
     "outputs": [
      {
       "data": {
        "text/plain": "tensor([[[[ 2.3487e-02]],\n\n         [[-1.5468e-02]],\n\n         [[-4.5515e-04]],\n\n         [[-1.3701e-02]],\n\n         [[ 3.7753e-03]],\n\n         [[-4.7520e-03]],\n\n         [[-1.1735e-02]],\n\n         [[-6.4902e-03]],\n\n         [[ 5.3814e-03]],\n\n         [[ 5.3553e-03]],\n\n         [[ 4.6081e-03]],\n\n         [[ 2.3776e-03]],\n\n         [[ 3.4243e-03]],\n\n         [[-1.0576e-02]],\n\n         [[-1.1251e-02]],\n\n         [[ 6.8984e-03]],\n\n         [[ 2.3352e-02]],\n\n         [[-1.5016e-02]],\n\n         [[-5.0765e-03]],\n\n         [[ 2.6512e-03]],\n\n         [[-1.0926e-02]],\n\n         [[ 3.7100e-03]],\n\n         [[-1.6157e-02]],\n\n         [[-7.3227e-03]],\n\n         [[ 3.5117e-04]],\n\n         [[ 8.9798e-03]],\n\n         [[-7.9692e-03]],\n\n         [[-2.6187e-03]],\n\n         [[ 1.7532e-02]],\n\n         [[-1.2172e-03]],\n\n         [[-1.9967e-03]],\n\n         [[-1.0660e-03]],\n\n         [[ 1.2338e-02]],\n\n         [[-2.8462e-03]],\n\n         [[-3.8663e-04]],\n\n         [[-1.0398e-02]],\n\n         [[-2.1179e-02]],\n\n         [[-6.2312e-03]],\n\n         [[ 1.9072e-03]],\n\n         [[-1.0759e-02]],\n\n         [[ 1.9254e-02]],\n\n         [[-4.9196e-03]],\n\n         [[-8.3894e-03]],\n\n         [[ 3.4488e-03]],\n\n         [[-1.0755e-02]],\n\n         [[ 1.0315e-02]],\n\n         [[-3.8769e-03]],\n\n         [[ 6.6128e-03]],\n\n         [[-2.6030e-03]],\n\n         [[-1.3105e-02]],\n\n         [[ 5.4145e-03]],\n\n         [[ 8.7966e-03]],\n\n         [[ 3.4947e-02]],\n\n         [[-6.9950e-03]],\n\n         [[-7.2424e-03]],\n\n         [[ 3.6636e-03]],\n\n         [[ 8.3041e-03]],\n\n         [[-1.6393e-02]],\n\n         [[-1.2736e-02]],\n\n         [[-1.7595e-02]],\n\n         [[-1.1845e-02]],\n\n         [[ 1.6003e-02]],\n\n         [[-1.0569e-02]],\n\n         [[-4.4496e-03]],\n\n         [[-1.3782e-02]],\n\n         [[ 4.1751e-03]],\n\n         [[ 9.4474e-03]],\n\n         [[ 8.0980e-03]],\n\n         [[ 3.6043e-04]],\n\n         [[ 2.6163e-03]],\n\n         [[-1.2707e-03]],\n\n         [[-1.0070e-02]],\n\n         [[ 2.1495e-02]],\n\n         [[-1.4865e-03]],\n\n         [[-4.7841e-03]],\n\n         [[-1.0751e-02]],\n\n         [[-2.7123e-03]],\n\n         [[ 8.1830e-03]],\n\n         [[-1.6007e-02]],\n\n         [[-7.8215e-04]],\n\n         [[ 1.2543e-02]],\n\n         [[ 1.3580e-02]],\n\n         [[ 1.2808e-02]],\n\n         [[ 8.0448e-04]],\n\n         [[ 2.1788e-02]],\n\n         [[ 2.1089e-02]],\n\n         [[ 4.6766e-04]],\n\n         [[-7.5677e-03]],\n\n         [[-2.0032e-02]],\n\n         [[ 5.0013e-03]],\n\n         [[ 2.5574e-03]],\n\n         [[-6.3462e-04]],\n\n         [[ 7.6633e-03]],\n\n         [[ 1.1884e-02]],\n\n         [[ 1.0372e-02]],\n\n         [[-1.1782e-02]],\n\n         [[ 1.6277e-02]],\n\n         [[-3.0453e-03]],\n\n         [[ 4.3667e-03]],\n\n         [[-5.3750e-03]],\n\n         [[ 1.4173e-02]],\n\n         [[-8.1342e-03]],\n\n         [[-3.8948e-03]],\n\n         [[ 1.9771e-02]],\n\n         [[-5.8712e-03]],\n\n         [[ 8.9723e-04]],\n\n         [[ 8.7566e-03]],\n\n         [[ 1.4706e-02]],\n\n         [[-8.1078e-03]],\n\n         [[-9.9057e-03]],\n\n         [[-7.2028e-03]],\n\n         [[ 1.4124e-02]],\n\n         [[ 1.9388e-02]],\n\n         [[-7.6379e-05]],\n\n         [[-1.2857e-02]],\n\n         [[-4.4783e-03]],\n\n         [[-2.7088e-04]],\n\n         [[ 1.0776e-02]],\n\n         [[-1.1484e-02]],\n\n         [[-9.4220e-03]],\n\n         [[ 1.6822e-02]],\n\n         [[ 2.3202e-03]],\n\n         [[-7.4988e-03]],\n\n         [[ 1.6136e-02]],\n\n         [[ 3.7579e-03]],\n\n         [[-7.6744e-03]],\n\n         [[-2.4085e-03]],\n\n         [[-7.9717e-04]],\n\n         [[-1.1994e-02]],\n\n         [[ 4.9740e-03]],\n\n         [[ 9.3414e-03]],\n\n         [[-3.9913e-03]],\n\n         [[-1.4354e-02]],\n\n         [[ 1.4101e-02]],\n\n         [[-1.5645e-02]],\n\n         [[ 1.5671e-02]],\n\n         [[-7.3075e-03]],\n\n         [[-4.9963e-03]],\n\n         [[-1.4343e-02]],\n\n         [[ 1.4932e-02]],\n\n         [[ 1.9450e-02]],\n\n         [[ 5.7308e-03]],\n\n         [[-3.2076e-03]],\n\n         [[-1.6238e-02]],\n\n         [[ 9.3981e-03]],\n\n         [[-1.4252e-04]],\n\n         [[ 1.4276e-02]],\n\n         [[-6.5939e-03]],\n\n         [[-1.0612e-02]],\n\n         [[-1.6304e-02]],\n\n         [[ 9.7103e-03]],\n\n         [[ 1.4135e-03]],\n\n         [[ 2.5507e-02]],\n\n         [[-1.4636e-02]],\n\n         [[-2.0943e-02]],\n\n         [[ 7.7110e-03]],\n\n         [[ 1.5617e-02]],\n\n         [[ 1.4029e-02]],\n\n         [[ 3.7626e-03]],\n\n         [[-2.4867e-02]],\n\n         [[ 1.6243e-02]],\n\n         [[-1.0341e-02]],\n\n         [[-1.6352e-02]],\n\n         [[ 6.3775e-03]],\n\n         [[ 1.5722e-03]],\n\n         [[-3.3354e-03]],\n\n         [[ 1.0298e-02]],\n\n         [[-4.2005e-03]],\n\n         [[ 8.0970e-03]],\n\n         [[-6.3405e-03]],\n\n         [[ 1.5486e-02]],\n\n         [[-9.8977e-03]],\n\n         [[-1.1548e-02]],\n\n         [[-1.3601e-02]],\n\n         [[ 1.0133e-02]],\n\n         [[ 3.8415e-03]],\n\n         [[-1.9805e-02]],\n\n         [[-1.2406e-02]],\n\n         [[-2.0479e-02]],\n\n         [[-2.3294e-02]],\n\n         [[ 7.0049e-04]],\n\n         [[ 1.1395e-02]],\n\n         [[-1.0934e-02]],\n\n         [[ 5.1759e-03]],\n\n         [[ 1.6392e-02]],\n\n         [[ 2.9301e-03]],\n\n         [[-1.7661e-02]],\n\n         [[ 5.8009e-03]],\n\n         [[ 2.2635e-03]],\n\n         [[ 8.6993e-03]],\n\n         [[-6.3429e-03]],\n\n         [[ 4.1757e-03]],\n\n         [[-6.5332e-03]],\n\n         [[ 6.2625e-03]],\n\n         [[ 8.1723e-03]],\n\n         [[ 2.6079e-02]],\n\n         [[ 6.8258e-03]],\n\n         [[ 9.9622e-03]],\n\n         [[ 8.4435e-03]],\n\n         [[-2.0053e-02]],\n\n         [[-1.0876e-02]],\n\n         [[ 1.8179e-02]],\n\n         [[-1.7433e-02]],\n\n         [[-1.3781e-02]],\n\n         [[ 4.4643e-03]],\n\n         [[-1.3649e-02]],\n\n         [[-1.3862e-02]],\n\n         [[-4.0333e-03]],\n\n         [[ 1.0393e-02]],\n\n         [[-1.1511e-02]],\n\n         [[-8.6960e-03]],\n\n         [[-6.8533e-03]],\n\n         [[ 1.9803e-03]],\n\n         [[-1.0307e-02]],\n\n         [[ 6.2243e-03]],\n\n         [[-5.4088e-03]],\n\n         [[ 1.7441e-03]],\n\n         [[-1.0299e-02]],\n\n         [[-3.4321e-03]],\n\n         [[-5.2120e-03]],\n\n         [[-1.8450e-04]],\n\n         [[-1.3383e-02]],\n\n         [[-6.4683e-03]],\n\n         [[-1.3925e-02]],\n\n         [[ 8.8666e-03]],\n\n         [[-1.3155e-02]],\n\n         [[ 5.2878e-03]],\n\n         [[ 2.1052e-03]],\n\n         [[ 1.8263e-02]],\n\n         [[-1.1116e-02]],\n\n         [[ 2.0087e-02]],\n\n         [[ 2.2214e-03]],\n\n         [[-1.2034e-02]],\n\n         [[ 3.8273e-03]],\n\n         [[-1.4550e-03]],\n\n         [[-1.1915e-02]],\n\n         [[ 1.0785e-02]],\n\n         [[-2.0678e-03]],\n\n         [[ 3.5747e-03]],\n\n         [[-3.1603e-03]],\n\n         [[-8.1148e-03]],\n\n         [[ 2.3194e-03]],\n\n         [[ 4.9890e-03]],\n\n         [[ 6.9759e-03]],\n\n         [[-2.6099e-02]],\n\n         [[ 5.5495e-03]],\n\n         [[-1.1692e-02]],\n\n         [[-4.4106e-03]],\n\n         [[-1.6025e-02]],\n\n         [[ 1.0033e-02]],\n\n         [[-3.7189e-03]],\n\n         [[-1.1093e-02]],\n\n         [[-8.4385e-03]],\n\n         [[ 1.0847e-02]],\n\n         [[-1.6488e-02]],\n\n         [[-3.3938e-03]],\n\n         [[-7.0188e-03]],\n\n         [[-1.2739e-02]],\n\n         [[ 8.6887e-03]],\n\n         [[-7.5886e-03]],\n\n         [[-1.8487e-03]],\n\n         [[-3.9489e-03]],\n\n         [[-2.2393e-03]],\n\n         [[ 2.0638e-02]],\n\n         [[-9.2403e-04]],\n\n         [[ 7.9952e-03]],\n\n         [[-2.0069e-02]],\n\n         [[ 7.3536e-03]],\n\n         [[ 1.2726e-03]],\n\n         [[-1.0314e-02]],\n\n         [[-9.6684e-03]],\n\n         [[-1.5879e-02]],\n\n         [[-6.3395e-03]],\n\n         [[ 2.6400e-03]],\n\n         [[-7.1508e-03]],\n\n         [[-1.3591e-02]],\n\n         [[ 2.5898e-02]],\n\n         [[ 5.6061e-03]],\n\n         [[-3.4064e-03]],\n\n         [[ 5.6846e-03]],\n\n         [[-6.3285e-04]],\n\n         [[-8.3293e-03]],\n\n         [[-2.1178e-02]],\n\n         [[-6.0244e-03]],\n\n         [[ 5.9632e-03]],\n\n         [[ 6.4798e-03]],\n\n         [[-6.6056e-03]],\n\n         [[ 2.0524e-02]],\n\n         [[ 4.2919e-03]],\n\n         [[ 6.9716e-03]],\n\n         [[-9.9023e-03]],\n\n         [[-5.6814e-03]],\n\n         [[-1.5319e-03]],\n\n         [[ 2.2035e-02]],\n\n         [[ 9.7713e-03]],\n\n         [[ 2.5992e-03]],\n\n         [[ 8.3494e-03]],\n\n         [[ 9.5047e-03]],\n\n         [[ 1.3232e-02]],\n\n         [[ 5.5553e-03]],\n\n         [[ 5.0700e-03]],\n\n         [[-1.2847e-02]],\n\n         [[ 1.5809e-02]],\n\n         [[-8.3204e-03]],\n\n         [[-1.5776e-02]],\n\n         [[ 4.3737e-03]],\n\n         [[ 1.1015e-03]],\n\n         [[-3.6899e-03]],\n\n         [[-1.5073e-02]],\n\n         [[ 1.4233e-02]],\n\n         [[-7.2782e-03]],\n\n         [[ 7.4156e-04]],\n\n         [[ 3.2044e-03]],\n\n         [[ 2.5019e-02]],\n\n         [[ 1.6470e-02]],\n\n         [[-7.3648e-03]],\n\n         [[ 8.4229e-04]],\n\n         [[ 2.2523e-02]],\n\n         [[ 1.1242e-02]],\n\n         [[-6.6657e-03]],\n\n         [[-3.3462e-03]],\n\n         [[-1.6790e-03]],\n\n         [[ 6.0683e-04]],\n\n         [[ 7.5001e-03]],\n\n         [[-6.6661e-03]],\n\n         [[ 4.4164e-03]],\n\n         [[ 2.8496e-03]],\n\n         [[-1.6763e-02]],\n\n         [[-3.6351e-04]],\n\n         [[-2.5882e-03]],\n\n         [[-2.5391e-03]],\n\n         [[ 2.3053e-03]],\n\n         [[-1.8788e-02]],\n\n         [[ 1.3131e-02]],\n\n         [[ 1.6880e-03]],\n\n         [[ 8.6736e-03]],\n\n         [[-6.9451e-05]],\n\n         [[ 1.8019e-03]],\n\n         [[-1.6592e-03]],\n\n         [[-1.2392e-02]],\n\n         [[-9.0768e-03]],\n\n         [[ 4.5162e-03]],\n\n         [[-6.9979e-03]],\n\n         [[ 1.6091e-03]],\n\n         [[ 1.5443e-02]],\n\n         [[ 1.0183e-02]],\n\n         [[ 1.0462e-02]],\n\n         [[-1.9885e-02]],\n\n         [[-4.0920e-03]],\n\n         [[-5.4769e-03]],\n\n         [[-7.6707e-03]],\n\n         [[ 7.2254e-03]],\n\n         [[ 9.6303e-04]],\n\n         [[-1.1138e-02]],\n\n         [[-7.7038e-03]],\n\n         [[ 1.3919e-04]],\n\n         [[-1.4996e-02]],\n\n         [[-1.0025e-02]],\n\n         [[ 3.2087e-03]],\n\n         [[-9.7656e-03]],\n\n         [[-6.4007e-03]],\n\n         [[ 6.6252e-03]],\n\n         [[ 6.1186e-03]],\n\n         [[-1.3745e-03]],\n\n         [[-1.8789e-03]],\n\n         [[-6.7753e-03]],\n\n         [[-6.4115e-03]],\n\n         [[-1.7194e-03]],\n\n         [[ 3.4130e-03]],\n\n         [[ 1.2044e-02]],\n\n         [[ 5.0996e-03]],\n\n         [[ 1.1502e-02]],\n\n         [[-6.9845e-03]],\n\n         [[ 6.3670e-03]],\n\n         [[-1.5930e-02]],\n\n         [[-3.4737e-03]],\n\n         [[ 1.6966e-02]],\n\n         [[ 1.5472e-02]],\n\n         [[-9.3898e-03]],\n\n         [[-8.6681e-04]],\n\n         [[-5.2960e-03]],\n\n         [[ 8.0516e-04]],\n\n         [[ 1.2053e-03]],\n\n         [[ 4.2147e-03]],\n\n         [[-3.4401e-03]],\n\n         [[-5.0403e-03]],\n\n         [[ 5.4987e-03]],\n\n         [[-4.9561e-04]],\n\n         [[ 1.2574e-02]],\n\n         [[ 3.2166e-03]],\n\n         [[ 1.1491e-02]],\n\n         [[-5.0808e-03]],\n\n         [[-6.7161e-03]],\n\n         [[ 3.5615e-03]],\n\n         [[-9.4889e-03]],\n\n         [[ 2.2049e-03]],\n\n         [[ 6.1852e-03]],\n\n         [[-1.7341e-03]],\n\n         [[-9.2675e-03]],\n\n         [[ 1.9840e-02]],\n\n         [[-1.5163e-03]],\n\n         [[ 9.3014e-03]],\n\n         [[-4.2185e-03]],\n\n         [[ 2.0167e-02]],\n\n         [[ 1.0209e-02]],\n\n         [[ 8.1652e-03]],\n\n         [[ 2.5190e-03]],\n\n         [[ 4.9837e-03]],\n\n         [[ 1.4418e-02]],\n\n         [[ 4.7098e-03]],\n\n         [[-1.4261e-02]],\n\n         [[ 3.6219e-03]],\n\n         [[ 1.6196e-02]],\n\n         [[-1.7617e-02]],\n\n         [[ 1.1403e-02]],\n\n         [[ 1.4765e-02]],\n\n         [[ 3.4243e-03]],\n\n         [[-3.8049e-03]],\n\n         [[-1.1420e-04]],\n\n         [[ 1.1120e-02]],\n\n         [[-1.2708e-02]],\n\n         [[ 1.8234e-02]],\n\n         [[ 1.2327e-02]],\n\n         [[-1.2801e-02]],\n\n         [[ 4.1314e-03]],\n\n         [[ 1.1322e-02]],\n\n         [[-9.5431e-03]],\n\n         [[ 1.6734e-02]],\n\n         [[-6.4045e-04]],\n\n         [[-8.1318e-03]],\n\n         [[ 9.2207e-04]],\n\n         [[-1.0727e-02]],\n\n         [[-3.0330e-03]],\n\n         [[-2.1882e-02]],\n\n         [[-1.3319e-02]],\n\n         [[-3.6075e-03]],\n\n         [[ 1.4310e-03]],\n\n         [[-1.0260e-02]],\n\n         [[ 9.8974e-03]],\n\n         [[ 8.5786e-03]],\n\n         [[-1.2246e-02]],\n\n         [[ 1.0380e-02]],\n\n         [[-1.4624e-02]],\n\n         [[-1.0179e-02]],\n\n         [[ 3.3637e-03]],\n\n         [[-5.6575e-03]],\n\n         [[ 4.1444e-03]],\n\n         [[ 2.8757e-03]],\n\n         [[ 1.4671e-02]],\n\n         [[ 8.9005e-03]],\n\n         [[ 2.1146e-03]],\n\n         [[ 1.5811e-02]],\n\n         [[-1.2553e-03]],\n\n         [[-2.9556e-02]],\n\n         [[ 1.4091e-03]],\n\n         [[-8.6672e-03]],\n\n         [[ 1.9466e-02]],\n\n         [[ 8.2430e-03]],\n\n         [[ 2.3587e-03]],\n\n         [[ 6.2405e-03]],\n\n         [[ 1.8129e-02]],\n\n         [[ 1.2621e-03]],\n\n         [[-1.0969e-02]],\n\n         [[ 4.5727e-03]],\n\n         [[ 1.3333e-02]],\n\n         [[-1.5715e-02]],\n\n         [[-1.1685e-02]],\n\n         [[ 1.1743e-02]],\n\n         [[-1.0946e-02]],\n\n         [[ 3.7902e-03]],\n\n         [[-8.5591e-04]],\n\n         [[-1.5511e-02]],\n\n         [[ 1.9737e-02]],\n\n         [[-3.1867e-03]],\n\n         [[-1.9390e-02]],\n\n         [[ 5.5153e-03]],\n\n         [[-6.5224e-03]],\n\n         [[-1.4765e-02]],\n\n         [[ 7.1949e-03]],\n\n         [[ 1.3828e-02]],\n\n         [[ 1.0838e-02]],\n\n         [[ 4.1722e-04]],\n\n         [[ 1.0127e-02]],\n\n         [[ 1.8137e-02]],\n\n         [[ 5.0676e-03]],\n\n         [[-1.6011e-02]],\n\n         [[ 9.5841e-03]],\n\n         [[ 9.7604e-03]],\n\n         [[ 2.1057e-03]],\n\n         [[-1.1005e-02]],\n\n         [[-3.0919e-03]],\n\n         [[ 7.9446e-03]],\n\n         [[-2.0807e-03]],\n\n         [[ 3.3322e-03]],\n\n         [[-1.9185e-03]],\n\n         [[-4.9353e-03]],\n\n         [[ 8.9603e-04]],\n\n         [[-1.0566e-02]],\n\n         [[-2.3758e-02]],\n\n         [[-2.5173e-03]],\n\n         [[ 1.2923e-02]],\n\n         [[ 1.0000e-03]],\n\n         [[ 7.3632e-03]],\n\n         [[-1.7580e-03]],\n\n         [[-2.2997e-02]],\n\n         [[-3.9914e-03]],\n\n         [[ 8.0434e-03]],\n\n         [[-4.2791e-03]],\n\n         [[ 1.3167e-02]],\n\n         [[ 2.6347e-03]],\n\n         [[ 2.7496e-03]],\n\n         [[ 3.1309e-03]]]], grad_fn=<MaxPool2DWithIndicesBackward>)"
       },
       "execution_count": 23,
       "metadata": {},
       "output_type": "execute_result"
      }
     ],
     "persistentId": "65457dd9-f93f-47a6-85c1-15e44643f4b8",
     "text": "x = torch.rand(1,3, 224, 224)\n\nM = MyNet()\nM(x)"
    },
    "executionTime": "2019-10-12T17:51:13.222Z"
   },
   {
    "cell": {
     "executionCount": 24,
     "executionEventId": "f368fa28-3e3e-47d3-8d88-fc78f3d03e2a",
     "hasError": false,
     "id": "7db4045b-8134-4794-9009-fb5bf45f6765",
     "outputs": [
      {
       "data": {
        "text/plain": "torch.Size([1, 512, 1, 1])"
       },
       "execution_count": 24,
       "metadata": {},
       "output_type": "execute_result"
      }
     ],
     "persistentId": "65457dd9-f93f-47a6-85c1-15e44643f4b8",
     "text": "x = torch.rand(1,3, 224, 224)\n\nM = MyNet()\nM(x).shape"
    },
    "executionTime": "2019-10-12T17:51:17.558Z"
   },
   {
    "cell": {
     "executionCount": 25,
     "executionEventId": "bff6b66d-2175-4fba-9e1a-adec8e737031",
     "hasError": true,
     "id": "ee92825f-3907-4e42-94bb-c617269e1f1a",
     "outputs": [
      {
       "ename": "SyntaxError",
       "evalue": "invalid syntax (<ipython-input-25-8a22db3ea89c>, line 6)",
       "output_type": "error",
       "traceback": [
        "\u001b[0;36m  File \u001b[0;32m\"<ipython-input-25-8a22db3ea89c>\"\u001b[0;36m, line \u001b[0;32m6\u001b[0m\n\u001b[0;31m    nn.Conv2d(64, 64, (3, 3, padding=1)),\u001b[0m\n\u001b[0m                                    ^\u001b[0m\n\u001b[0;31mSyntaxError\u001b[0m\u001b[0;31m:\u001b[0m invalid syntax\n"
       ]
      }
     ],
     "persistentId": "6fd8e1e4-e04a-4957-bd7f-1c2ff36b61b0",
     "text": "class MyNet(nn.Module):\n    def __init__(self):\n        super(MyNet, self).__init__()\n        self.conv1 = nn.Sequential(\n            nn.Conv2d(3, 64, (3, 3), padding=1), \n            nn.Conv2d(64, 64, (3, 3, padding=1)), \n            nn.MaxPool2d(2)\n        )\n        \n        self.conv2 = nn.Sequential(\n            nn.Conv2d(64, 64, (3, 3), padding=1), \n            nn.Conv2d(64, 256, (3, 3), padding=1), \n            nn.MaxPool2d(2)\n        )\n        \n        self.conv3 = nn.Sequential(\n            nn.Conv2d(256, 256, (3, 3), padding=1), \n            nn.Conv2d(256, 256, (3, 3), padding=1), \n            nn.Conv2d(256, 512, (3, 3), padding=1), \n            nn.MaxPool2d(2)\n        )\n        \n        self.conv4 = nn.Sequential(\n            nn.Conv2d(512, 512, (3, 3), padding=1), \n            nn.Conv2d(512, 512, (3, 3), padding=1), \n            nn.Conv2d(512, 512, (3, 3), padding=1), \n            nn.MaxPool2d(2)\n        )\n        \n        self.conv5 = nn.Sequential(\n            nn.Conv2d(512, 512, (3, 3), padding=1), \n            nn.Conv2d(512, 512, (3, 3), padding=1),\n            nn.Conv2d(512, 512, (3, 3), padding=1),\n            nn.MaxPool2d(2)\n        )\n\n    \n    def forward(self, x):\n        return self.conv5(self.conv4(self.conv3(self.conv2(self.conv1(x)))))\n        \n        "
    },
    "executionTime": "2019-10-12T17:52:51.086Z"
   },
   {
    "cell": {
     "executionCount": 26,
     "executionEventId": "63b50ff7-1448-4104-9c8b-79687a299d78",
     "hasError": true,
     "id": "ee92825f-3907-4e42-94bb-c617269e1f1a",
     "outputs": [
      {
       "ename": "SyntaxError",
       "evalue": "invalid syntax (<ipython-input-26-e9010d59f3c3>, line 13)",
       "output_type": "error",
       "traceback": [
        "\u001b[0;36m  File \u001b[0;32m\"<ipython-input-26-e9010d59f3c3>\"\u001b[0;36m, line \u001b[0;32m13\u001b[0m\n\u001b[0;31m    nn.MaxPool2d(2)l\u001b[0m\n\u001b[0m                   ^\u001b[0m\n\u001b[0;31mSyntaxError\u001b[0m\u001b[0;31m:\u001b[0m invalid syntax\n"
       ]
      }
     ],
     "persistentId": "6fd8e1e4-e04a-4957-bd7f-1c2ff36b61b0",
     "text": "class MyNet(nn.Module):\n    def __init__(self):\n        super(MyNet, self).__init__()\n        self.conv1 = nn.Sequential(\n            nn.Conv2d(3, 64, (3, 3), padding=1), \n            nn.Conv2d(64, 64, (3, 3), padding=1), \n            nn.MaxPool2d(2)\n        )\n        \n        self.conv2 = nn.Sequential(\n            nn.Conv2d(64, 64, (3, 3), padding=1), \n            nn.Conv2d(64, 256, (3, 3), padding=1), \n            nn.MaxPool2d(2)l\n        )\n        \n        self.conv3 = nn.Sequential(\n            nn.Conv2d(256, 256, (3, 3), padding=1), \n            nn.Conv2d(256, 256, (3, 3), padding=1), \n            nn.Conv2d(256, 512, (3, 3), padding=1), \n            nn.MaxPool2d(2)\n        )\n        \n        self.conv4 = nn.Sequential(\n            nn.Conv2d(512, 512, (3, 3), padding=1), \n            nn.Conv2d(512, 512, (3, 3), padding=1), \n            nn.Conv2d(512, 512, (3, 3), padding=1), \n            nn.MaxPool2d(2)\n        )\n        \n        self.conv5 = nn.Sequential(\n            nn.Conv2d(512, 512, (3, 3), padding=1), \n            nn.Conv2d(512, 512, (3, 3), padding=1),\n            nn.Conv2d(512, 512, (3, 3), padding=1),\n            nn.MaxPool2d(2)\n        )\n\n    \n    def forward(self, x):\n        return self.conv5(self.conv4(self.conv3(self.conv2(self.conv1(x)))))\n        \n        "
    },
    "executionTime": "2019-10-12T17:53:21.612Z"
   },
   {
    "cell": {
     "executionCount": 27,
     "executionEventId": "fdc5d91e-3b15-4e83-a4ed-6b3064b44a3f",
     "hasError": false,
     "id": "ee92825f-3907-4e42-94bb-c617269e1f1a",
     "outputs": [],
     "persistentId": "6fd8e1e4-e04a-4957-bd7f-1c2ff36b61b0",
     "text": "class MyNet(nn.Module):\n    def __init__(self):\n        super(MyNet, self).__init__()\n        self.conv1 = nn.Sequential(\n            nn.Conv2d(3, 64, (3, 3), padding=1), \n            nn.Conv2d(64, 64, (3, 3), padding=1), \n            nn.MaxPool2d(2)\n        )\n        \n        self.conv2 = nn.Sequential(\n            nn.Conv2d(64, 64, (3, 3), padding=1), \n            nn.Conv2d(64, 256, (3, 3), padding=1), \n            nn.MaxPool2d(2)\n        )\n        \n        self.conv3 = nn.Sequential(\n            nn.Conv2d(256, 256, (3, 3), padding=1), \n            nn.Conv2d(256, 256, (3, 3), padding=1), \n            nn.Conv2d(256, 512, (3, 3), padding=1), \n            nn.MaxPool2d(2)\n        )\n        \n        self.conv4 = nn.Sequential(\n            nn.Conv2d(512, 512, (3, 3), padding=1), \n            nn.Conv2d(512, 512, (3, 3), padding=1), \n            nn.Conv2d(512, 512, (3, 3), padding=1), \n            nn.MaxPool2d(2)\n        )\n        \n        self.conv5 = nn.Sequential(\n            nn.Conv2d(512, 512, (3, 3), padding=1), \n            nn.Conv2d(512, 512, (3, 3), padding=1),\n            nn.Conv2d(512, 512, (3, 3), padding=1),\n            nn.MaxPool2d(2)\n        )\n\n    \n    def forward(self, x):\n        return self.conv5(self.conv4(self.conv3(self.conv2(self.conv1(x)))))\n        \n        "
    },
    "executionTime": "2019-10-12T17:53:30.415Z"
   },
   {
    "cell": {
     "executionCount": 28,
     "executionEventId": "4e67c320-b3a7-42cf-993d-3162bd966dcd",
     "hasError": false,
     "id": "7db4045b-8134-4794-9009-fb5bf45f6765",
     "outputs": [
      {
       "data": {
        "text/plain": "torch.Size([1, 512, 7, 7])"
       },
       "execution_count": 28,
       "metadata": {},
       "output_type": "execute_result"
      }
     ],
     "persistentId": "65457dd9-f93f-47a6-85c1-15e44643f4b8",
     "text": "x = torch.rand(1,3, 224, 224)\n\nM = MyNet()\nM(x).shape"
    },
    "executionTime": "2019-10-12T17:53:31.879Z"
   },
   {
    "cell": {
     "executionCount": 29,
     "executionEventId": "b29bced8-7ffa-42db-936d-3cfc8b24c8a6",
     "hasError": false,
     "id": "ee92825f-3907-4e42-94bb-c617269e1f1a",
     "outputs": [],
     "persistentId": "6fd8e1e4-e04a-4957-bd7f-1c2ff36b61b0",
     "text": "class MyNet(nn.Module):\n    def __init__(self):\n        super(MyNet, self).__init__()\n        self.conv1 = nn.Sequential(\n            nn.Conv2d(3, 64, (3, 3), padding=1), \n            nn.Conv2d(64, 64, (3, 3), padding=1), \n            nn.MaxPool2d(2)\n        )\n        \n        self.conv2 = nn.Sequential(\n            nn.Conv2d(64, 64, (3, 3), padding=1), \n            nn.Conv2d(64, 256, (3, 3), padding=1), \n            nn.MaxPool2d(2)\n        )\n        \n        self.conv3 = nn.Sequential(\n            nn.Conv2d(256, 256, (3, 3), padding=1), \n            nn.Conv2d(256, 256, (3, 3), padding=1), \n            nn.Conv2d(256, 512, (3, 3), padding=1), \n            nn.MaxPool2d(2)\n        )\n        \n        self.conv4 = nn.Sequential(\n            nn.Conv2d(512, 512, (3, 3), padding=1), \n            nn.Conv2d(512, 512, (3, 3), padding=1), \n            nn.Conv2d(512, 512, (3, 3), padding=1), \n            nn.MaxPool2d(2)\n        )\n        \n        self.conv5 = nn.Sequential(\n            nn.Conv2d(512, 512, (3, 3), padding=1), \n            nn.Conv2d(512, 512, (3, 3), padding=1),\n            nn.Conv2d(512, 512, (3, 3), padding=1),\n            nn.MaxPool2d(2)\n        )\n        \n        self.flatten = nn.Flatten(start_dim=1)\n\n    \n    def forward(self, x):\n        return self.conv5(self.conv4(self.conv3(self.conv2(self.conv1(x)))))\n        \n        "
    },
    "executionTime": "2019-10-12T17:54:32.258Z"
   },
   {
    "cell": {
     "executionCount": 30,
     "executionEventId": "3ffeb94e-e092-403e-bfdf-4e67e293657c",
     "hasError": false,
     "id": "ee92825f-3907-4e42-94bb-c617269e1f1a",
     "outputs": [],
     "persistentId": "6fd8e1e4-e04a-4957-bd7f-1c2ff36b61b0",
     "text": "class MyNet(nn.Module):\n    def __init__(self):\n        super(MyNet, self).__init__()\n        self.conv1 = nn.Sequential(\n            nn.Conv2d(3, 64, (3, 3), padding=1), \n            nn.Conv2d(64, 64, (3, 3), padding=1), \n            nn.MaxPool2d(2)\n        )\n        \n        self.conv2 = nn.Sequential(\n            nn.Conv2d(64, 64, (3, 3), padding=1), \n            nn.Conv2d(64, 256, (3, 3), padding=1), \n            nn.MaxPool2d(2)\n        )\n        \n        self.conv3 = nn.Sequential(\n            nn.Conv2d(256, 256, (3, 3), padding=1), \n            nn.Conv2d(256, 256, (3, 3), padding=1), \n            nn.Conv2d(256, 512, (3, 3), padding=1), \n            nn.MaxPool2d(2)\n        )\n        \n        self.conv4 = nn.Sequential(\n            nn.Conv2d(512, 512, (3, 3), padding=1), \n            nn.Conv2d(512, 512, (3, 3), padding=1), \n            nn.Conv2d(512, 512, (3, 3), padding=1), \n            nn.MaxPool2d(2)\n        )\n        \n        self.conv5 = nn.Sequential(\n            nn.Conv2d(512, 512, (3, 3), padding=1), \n            nn.Conv2d(512, 512, (3, 3), padding=1),\n            nn.Conv2d(512, 512, (3, 3), padding=1),\n            nn.MaxPool2d(2)\n        )\n        \n        self.flatten = nn.Flatten(start_dim=1)\n\n    \n    def forward(self, x):\n        return self.flatten(self.conv5(self.conv4(self.conv3(self.conv2(self.conv1(x))))))\n        \n        "
    },
    "executionTime": "2019-10-12T17:54:40.472Z"
   },
   {
    "cell": {
     "executionCount": 31,
     "executionEventId": "f056af2b-7b71-4584-b3c6-6d3c186ca88a",
     "hasError": false,
     "id": "7db4045b-8134-4794-9009-fb5bf45f6765",
     "outputs": [
      {
       "data": {
        "text/plain": "torch.Size([1, 25088])"
       },
       "execution_count": 31,
       "metadata": {},
       "output_type": "execute_result"
      }
     ],
     "persistentId": "65457dd9-f93f-47a6-85c1-15e44643f4b8",
     "text": "x = torch.rand(1,3, 224, 224)\n\nM = MyNet()\nM(x).shape"
    },
    "executionTime": "2019-10-12T17:54:41.536Z"
   },
   {
    "cell": {
     "executionCount": 32,
     "executionEventId": "837e80f9-dc74-4dbb-9c93-8b85dd25e9c9",
     "hasError": false,
     "id": "ee92825f-3907-4e42-94bb-c617269e1f1a",
     "outputs": [],
     "persistentId": "6fd8e1e4-e04a-4957-bd7f-1c2ff36b61b0",
     "text": "class MyNet(nn.Module):\n    def __init__(self):\n        super(MyNet, self).__init__()\n        self.conv1 = nn.Sequential(\n            nn.Conv2d(3, 64, (3, 3), padding=1), \n            nn.Conv2d(64, 64, (3, 3), padding=1), \n            nn.MaxPool2d(2)\n        )\n        \n        self.conv2 = nn.Sequential(\n            nn.Conv2d(64, 64, (3, 3), padding=1), \n            nn.Conv2d(64, 256, (3, 3), padding=1), \n            nn.MaxPool2d(2)\n        )\n        \n        self.conv3 = nn.Sequential(\n            nn.Conv2d(256, 256, (3, 3), padding=1), \n            nn.Conv2d(256, 256, (3, 3), padding=1), \n            nn.Conv2d(256, 512, (3, 3), padding=1), \n            nn.MaxPool2d(2)\n        )\n        \n        self.conv4 = nn.Sequential(\n            nn.Conv2d(512, 512, (3, 3), padding=1), \n            nn.Conv2d(512, 512, (3, 3), padding=1), \n            nn.Conv2d(512, 512, (3, 3), padding=1), \n            nn.MaxPool2d(2)\n        )\n        \n        self.conv5 = nn.Sequential(\n            nn.Conv2d(512, 512, (3, 3), padding=1), \n            nn.Conv2d(512, 512, (3, 3), padding=1),\n            nn.Conv2d(512, 512, (3, 3), padding=1),\n            nn.MaxPool2d(2)\n        )\n        \n        self.flatten = nn.Flatten(start_dim=1)\n        \n        self.fc6 = nn.Linear(25088, 4096)\n        self.fc7 = nn.Linear(4096, 4096)\n        self.cls = nn.Linear(4096, 10)\n        \n\n    \n    def forward(self, x):\n        return self.flatten(self.conv5(self.conv4(self.conv3(self.conv2(self.conv1(x))))))\n        \n        "
    },
    "executionTime": "2019-10-12T17:55:35.455Z"
   },
   {
    "cell": {
     "executionCount": 33,
     "executionEventId": "2af6328b-e50e-4751-ba96-29ab4f78b4a1",
     "hasError": false,
     "id": "ee92825f-3907-4e42-94bb-c617269e1f1a",
     "outputs": [],
     "persistentId": "6fd8e1e4-e04a-4957-bd7f-1c2ff36b61b0",
     "text": "class MyNet(nn.Module):\n    def __init__(self):\n        super(MyNet, self).__init__()\n        self.conv1 = nn.Sequential(\n            nn.Conv2d(3, 64, (3, 3), padding=1), \n            nn.Conv2d(64, 64, (3, 3), padding=1), \n            nn.MaxPool2d(2)\n        )\n        \n        self.conv2 = nn.Sequential(\n            nn.Conv2d(64, 64, (3, 3), padding=1), \n            nn.Conv2d(64, 256, (3, 3), padding=1), \n            nn.MaxPool2d(2)\n        )\n        \n        self.conv3 = nn.Sequential(\n            nn.Conv2d(256, 256, (3, 3), padding=1), \n            nn.Conv2d(256, 256, (3, 3), padding=1), \n            nn.Conv2d(256, 512, (3, 3), padding=1), \n            nn.MaxPool2d(2)\n        )\n        \n        self.conv4 = nn.Sequential(\n            nn.Conv2d(512, 512, (3, 3), padding=1), \n            nn.Conv2d(512, 512, (3, 3), padding=1), \n            nn.Conv2d(512, 512, (3, 3), padding=1), \n            nn.MaxPool2d(2)\n        )\n        \n        self.conv5 = nn.Sequential(\n            nn.Conv2d(512, 512, (3, 3), padding=1), \n            nn.Conv2d(512, 512, (3, 3), padding=1),\n            nn.Conv2d(512, 512, (3, 3), padding=1),\n            nn.MaxPool2d(2)\n        )\n        \n        self.flatten = nn.Flatten(start_dim=1)\n        \n        self.fc6 = nn.Linear(25088, 4096)\n        self.fc7 = nn.Linear(4096, 4096)\n        self.cls = nn.Linear(4096, 10)\n        \n\n    \n    def forward(self, x):\n        features = self.flatten(self.conv5(self.conv4(self.conv3(self.conv2(self.conv1(x))))))\n        self.cls(self.fc7(self.fc6(features)))\n        \n        "
    },
    "executionTime": "2019-10-12T17:55:54.336Z"
   },
   {
    "cell": {
     "executionCount": 34,
     "executionEventId": "5928a104-0279-409f-a587-380a217de208",
     "hasError": true,
     "id": "7db4045b-8134-4794-9009-fb5bf45f6765",
     "outputs": [
      {
       "ename": "AttributeError",
       "evalue": "'NoneType' object has no attribute 'shape'",
       "output_type": "error",
       "traceback": [
        "\u001b[0;31m---------------------------------------------------------------------------\u001b[0m",
        "\u001b[0;31mAttributeError\u001b[0m                            Traceback (most recent call last)",
        "\u001b[0;32m<ipython-input-34-4f6e8be5bdf2>\u001b[0m in \u001b[0;36m<module>\u001b[0;34m\u001b[0m\n\u001b[1;32m      2\u001b[0m \u001b[0;34m\u001b[0m\u001b[0m\n\u001b[1;32m      3\u001b[0m \u001b[0mM\u001b[0m \u001b[0;34m=\u001b[0m \u001b[0mMyNet\u001b[0m\u001b[0;34m(\u001b[0m\u001b[0;34m)\u001b[0m\u001b[0;34m\u001b[0m\u001b[0;34m\u001b[0m\u001b[0m\n\u001b[0;32m----> 4\u001b[0;31m \u001b[0mM\u001b[0m\u001b[0;34m(\u001b[0m\u001b[0mx\u001b[0m\u001b[0;34m)\u001b[0m\u001b[0;34m.\u001b[0m\u001b[0mshape\u001b[0m\u001b[0;34m\u001b[0m\u001b[0;34m\u001b[0m\u001b[0m\n\u001b[0m",
        "\u001b[0;31mAttributeError\u001b[0m: 'NoneType' object has no attribute 'shape'"
       ]
      }
     ],
     "persistentId": "65457dd9-f93f-47a6-85c1-15e44643f4b8",
     "text": "x = torch.rand(1,3, 224, 224)\n\nM = MyNet()\nM(x).shape"
    },
    "executionTime": "2019-10-12T17:55:55.985Z"
   },
   {
    "cell": {
     "executionCount": 35,
     "executionEventId": "e6b9ab3a-26ed-4572-b430-166c3ba4af89",
     "hasError": false,
     "id": "ee92825f-3907-4e42-94bb-c617269e1f1a",
     "outputs": [],
     "persistentId": "6fd8e1e4-e04a-4957-bd7f-1c2ff36b61b0",
     "text": "class MyNet(nn.Module):\n    def __init__(self):\n        super(MyNet, self).__init__()\n        self.conv1 = nn.Sequential(\n            nn.Conv2d(3, 64, (3, 3), padding=1), \n            nn.Conv2d(64, 64, (3, 3), padding=1), \n            nn.MaxPool2d(2)\n        )\n        \n        self.conv2 = nn.Sequential(\n            nn.Conv2d(64, 64, (3, 3), padding=1), \n            nn.Conv2d(64, 256, (3, 3), padding=1), \n            nn.MaxPool2d(2)\n        )\n        \n        self.conv3 = nn.Sequential(\n            nn.Conv2d(256, 256, (3, 3), padding=1), \n            nn.Conv2d(256, 256, (3, 3), padding=1), \n            nn.Conv2d(256, 512, (3, 3), padding=1), \n            nn.MaxPool2d(2)\n        )\n        \n        self.conv4 = nn.Sequential(\n            nn.Conv2d(512, 512, (3, 3), padding=1), \n            nn.Conv2d(512, 512, (3, 3), padding=1), \n            nn.Conv2d(512, 512, (3, 3), padding=1), \n            nn.MaxPool2d(2)\n        )\n        \n        self.conv5 = nn.Sequential(\n            nn.Conv2d(512, 512, (3, 3), padding=1), \n            nn.Conv2d(512, 512, (3, 3), padding=1),\n            nn.Conv2d(512, 512, (3, 3), padding=1),\n            nn.MaxPool2d(2)\n        )\n        \n        self.flatten = nn.Flatten(start_dim=1)\n        \n        self.fc6 = nn.Linear(25088, 4096)\n        self.fc7 = nn.Linear(4096, 4096)\n        self.cls = nn.Linear(4096, 10)\n        \n\n    \n    def forward(self, x):\n        features = self.flatten(self.conv5(self.conv4(self.conv3(self.conv2(self.conv1(x))))))\n        return self.cls(self.fc7(self.fc6(features)))\n        \n        "
    },
    "executionTime": "2019-10-12T17:56:02.177Z"
   },
   {
    "cell": {
     "executionCount": 36,
     "executionEventId": "70296436-e7f7-4c14-b6b1-3e5b75a334a0",
     "hasError": false,
     "id": "7db4045b-8134-4794-9009-fb5bf45f6765",
     "outputs": [
      {
       "data": {
        "text/plain": "torch.Size([1, 10])"
       },
       "execution_count": 36,
       "metadata": {},
       "output_type": "execute_result"
      }
     ],
     "persistentId": "65457dd9-f93f-47a6-85c1-15e44643f4b8",
     "text": "x = torch.rand(1,3, 224, 224)\n\nM = MyNet()\nM(x).shape"
    },
    "executionTime": "2019-10-12T17:56:03.424Z"
   },
   {
    "cell": {
     "executionCount": 37,
     "executionEventId": "e741e92b-0519-4b9e-afbb-ec99b50ff37f",
     "hasError": true,
     "id": "6795bd1f-dfb0-4113-8e39-746ea40c2a11",
     "outputs": [
      {
       "ename": "SyntaxError",
       "evalue": "invalid syntax (<ipython-input-37-359e50b13e6a>, line 1)",
       "output_type": "error",
       "traceback": [
        "\u001b[0;36m  File \u001b[0;32m\"<ipython-input-37-359e50b13e6a>\"\u001b[0;36m, line \u001b[0;32m1\u001b[0m\n\u001b[0;31m    nn.Flatten(start_dim=)\u001b[0m\n\u001b[0m                         ^\u001b[0m\n\u001b[0;31mSyntaxError\u001b[0m\u001b[0;31m:\u001b[0m invalid syntax\n"
       ]
      }
     ],
     "persistentId": "0a43fefa-5a89-4637-816e-83e30de39fef",
     "text": "nn.Flatten(start_dim=)"
    },
    "executionTime": "2019-10-12T17:56:03.456Z"
   },
   {
    "cell": {
     "executionCount": 38,
     "executionEventId": "163108ff-120e-487a-a0b6-d01224fab3fa",
     "hasError": false,
     "id": "ee92825f-3907-4e42-94bb-c617269e1f1a",
     "outputs": [],
     "persistentId": "6fd8e1e4-e04a-4957-bd7f-1c2ff36b61b0",
     "text": "class MyNet(nn.Module):\n    def __init__(self):\n        super(MyNet, self).__init__()\n        pass\n\n\n    \n    def forward(self, x):\n        pass\n\n        \n        "
    },
    "executionTime": "2019-10-12T17:57:21.597Z"
   },
   {
    "cell": {
     "executionCount": 39,
     "executionEventId": "d59368f8-90a0-41c2-9b5e-767c9d8f07e1",
     "hasError": true,
     "id": "7db4045b-8134-4794-9009-fb5bf45f6765",
     "outputs": [
      {
       "ename": "AttributeError",
       "evalue": "'NoneType' object has no attribute 'shape'",
       "output_type": "error",
       "traceback": [
        "\u001b[0;31m---------------------------------------------------------------------------\u001b[0m",
        "\u001b[0;31mAttributeError\u001b[0m                            Traceback (most recent call last)",
        "\u001b[0;32m<ipython-input-39-051c6699c7f6>\u001b[0m in \u001b[0;36m<module>\u001b[0;34m\u001b[0m\n\u001b[1;32m      1\u001b[0m \u001b[0mx\u001b[0m \u001b[0;34m=\u001b[0m \u001b[0mtorch\u001b[0m\u001b[0;34m.\u001b[0m\u001b[0mrand\u001b[0m\u001b[0;34m(\u001b[0m\u001b[0;36m1\u001b[0m\u001b[0;34m,\u001b[0m\u001b[0;36m3\u001b[0m\u001b[0;34m,\u001b[0m \u001b[0;36m224\u001b[0m\u001b[0;34m,\u001b[0m \u001b[0;36m224\u001b[0m\u001b[0;34m)\u001b[0m\u001b[0;34m\u001b[0m\u001b[0;34m\u001b[0m\u001b[0m\n\u001b[1;32m      2\u001b[0m \u001b[0mM\u001b[0m \u001b[0;34m=\u001b[0m \u001b[0mMyNet\u001b[0m\u001b[0;34m(\u001b[0m\u001b[0;34m)\u001b[0m\u001b[0;34m\u001b[0m\u001b[0;34m\u001b[0m\u001b[0m\n\u001b[0;32m----> 3\u001b[0;31m \u001b[0mM\u001b[0m\u001b[0;34m(\u001b[0m\u001b[0mx\u001b[0m\u001b[0;34m)\u001b[0m\u001b[0;34m.\u001b[0m\u001b[0mshape\u001b[0m\u001b[0;34m\u001b[0m\u001b[0;34m\u001b[0m\u001b[0m\n\u001b[0m",
        "\u001b[0;31mAttributeError\u001b[0m: 'NoneType' object has no attribute 'shape'"
       ]
      }
     ],
     "persistentId": "65457dd9-f93f-47a6-85c1-15e44643f4b8",
     "text": "x = torch.rand(1,3, 224, 224)\nM = MyNet()\nM(x).shape"
    },
    "executionTime": "2019-10-12T17:57:28.412Z"
   }
  ],
  "kernelspec": {
   "display_name": "Python [conda env:dl] *",
   "language": "python",
   "name": "conda-env-dl-py"
  },
  "language_info": {
   "codemirror_mode": {
    "name": "ipython",
    "version": 3
   },
   "file_extension": ".py",
   "mimetype": "text/x-python",
   "name": "python",
   "nbconvert_exporter": "python",
   "pygments_lexer": "ipython3",
   "version": "3.7.6"
  },
  "uuid": "62923155-9da9-46cc-b8e1-8a815257fac8"
 },
 "nbformat": 4,
 "nbformat_minor": 4
}
