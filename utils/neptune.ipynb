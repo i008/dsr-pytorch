{
 "cells": [
  {
   "cell_type": "code",
   "execution_count": null,
   "metadata": {},
   "outputs": [],
   "source": [
    "import neptune\n",
    "from neptunecontrib.api.utils import get_filepaths\n",
    "from neptunecontrib.versioning.data import log_image_dir_snapshots\n",
    "\n",
    "token = os.environ.get('NEPTUNE_TOKEN')\n",
    "neptune.init(api_token=token,\n",
    "             project_qualified_name='i008/dsr')\n"
   ]
  }
 ],
 "metadata": {
  "kernelspec": {
   "display_name": "Python 3",
   "language": "python",
   "name": "python3"
  },
  "language_info": {
   "codemirror_mode": {
    "name": "ipython",
    "version": 3
   },
   "file_extension": ".py",
   "mimetype": "text/x-python",
   "name": "python",
   "nbconvert_exporter": "python",
   "pygments_lexer": "ipython3",
   "version": "3.7.3"
  }
 },
 "nbformat": 4,
 "nbformat_minor": 2
}
