{
 "cells": [
  {
   "cell_type": "code",
   "execution_count": 1,
   "metadata": {},
   "outputs": [],
   "source": [
    "import glob\n",
    "import pathlib\n",
    "from torchvision.transforms import ToTensor, Normalize, Resize, ToPILImage\n",
    "import PIL\n",
    "from torch.utils.data import DataLoader\n",
    "from torch.optim import Adam\n",
    "from torch.utils.data import Dataset\n",
    "\n",
    "class ImageLoader(Dataset):\n",
    "    def __init__(self, path='/media/i008/ssd500/small_sneaker_not_sneaker/sneaker'):\n",
    "        super().__init__()\n",
    "        \n",
    "        self.path = path\n",
    "        \n",
    "        path = pathlib.Path(path)\n",
    "        self.image_list = list(path.glob(\"*.jpg\"))\n",
    "        \n",
    "    def __len__(self):\n",
    "        return len(self.image_list)\n",
    "    \n",
    "    \n",
    "    def __getitem__(self, ix):\n",
    "        image = PIL.Image.open(self.image_list[ix]).convert(\"RGB\")\n",
    "        image = Resize((256, 256))(image)\n",
    "        image = ToTensor()(image)\n",
    "        \n",
    "        return image\n",
    "\n",
    "        \n",
    "        "
   ]
  }
 ],
 "metadata": {
  "kernelspec": {
   "display_name": "Python [conda env:anaconda3]",
   "language": "python",
   "name": "conda-env-anaconda3-py"
  },
  "language_info": {
   "codemirror_mode": {
    "name": "ipython",
    "version": 3
   },
   "file_extension": ".py",
   "mimetype": "text/x-python",
   "name": "python",
   "nbconvert_exporter": "python",
   "pygments_lexer": "ipython3",
   "version": "3.6.4"
  }
 },
 "nbformat": 4,
 "nbformat_minor": 2
}
