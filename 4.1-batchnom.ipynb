{
 "cells": [
  {
   "cell_type": "markdown",
   "metadata": {},
   "source": [
    "# BatchNorm"
   ]
  },
  {
   "cell_type": "markdown",
   "metadata": {},
   "source": [
    "BatchNorm, short for batch normalization, is a simple layer that has one task in life: \n",
    "using two learned parameters (meaning that it will be trained along with the rest of the network) to try to ensure that each minibatch that goes through the network has a mean centered around zero with a variance of 1.    \n",
    "\n",
    "You might ask why we need to do this when we’ve already normalized our input by using the transform. For smaller networks, BatchNorm is indeed less useful, but as they get larger, the effect of any layer on another, say 20 layers down, can be vast because of repeated multiplication, and you may end up with either vanishing or exploding gradients, both of which are fatal to the training process. \n",
    "\n",
    "The BatchNorm layers make sure that even if you use a model such as ResNet-152, the multiplications inside your network don’t get out of hand.You might be wondering: if we have BatchNorm in our network, why are we normalizing the input at all in the training loop’s transformation chain? After all, shouldn’t BatchNorm do the work for us? And the answer here is yes, you could do that! But it’ll take longer for the network to learn how to get the inputs under control, as they’ll have to discover the initial transform themselves, which will make training longer."
   ]
  },
  {
   "cell_type": "code",
   "execution_count": 10,
   "metadata": {
    "execution_event_id": "39e67c7b-1cf3-4f77-ab4e-b661ec0a43fb",
    "last_executed_text": "from torch import nn\nfrom torch.nn import functional as F\nimport torch\nfrom utils.metrics import calculate_acc",
    "persistent_id": "5e469a54-df61-4a6c-879a-d00a51320acd"
   },
   "outputs": [],
   "source": [
    "from torch import nn\n",
    "from torch.nn import functional as F\n",
    "import torch\n",
    "from utils.metrics import calculate_acc"
   ]
  },
  {
   "cell_type": "code",
   "execution_count": 14,
   "metadata": {
    "execution_event_id": "7002edee-b111-49f0-80c5-019c27b968e7",
    "last_executed_text": "class BnLayer(nn.Module):\n    def __init__(self, ni, nf, stride=2, kernel_size=3):\n        super().__init__()\n        self.conv = nn.Conv2d(ni, nf, kernel_size=kernel_size, stride=stride,bias=False, padding=1)\n        \n        self.a = nn.Parameter(torch.zeros(nf,1,1))\n        self.m = nn.Parameter(torch.ones(nf,1,1))\n        \n    def forward(self, x):\n        x = F.relu(self.conv(x))\n        x_chan = x.transpose(0,1).contiguous().view(x.size(1), -1)\n        # c_chan -> torch.Size([3, 12544]) for [1,3,224,224]\n\n        if self.training:\n            self.means = x_chan.mean(1)[:,None,None]\n            self.stds  = x_chan.std(1)[:,None,None]          \n\n        return (x-self.means) / self.stds * self.m + self.a",
    "persistent_id": "97b950d8-7cb1-463d-83c5-27960f736147"
   },
   "outputs": [],
   "source": [
    "class BnLayer(nn.Module):\n",
    "    def __init__(self, ni, nf, stride=2, kernel_size=3):\n",
    "        super().__init__()\n",
    "        self.conv = nn.Conv2d(ni, nf, kernel_size=kernel_size, stride=stride,bias=False, padding=1)\n",
    "        \n",
    "        self.a = nn.Parameter(torch.zeros(nf,1,1))\n",
    "        self.m = nn.Parameter(torch.ones(nf,1,1))\n",
    "        \n",
    "    def forward(self, x):\n",
    "        x = F.relu(self.conv(x))\n",
    "        x_chan = x.transpose(0,1).contiguous().view(x.size(1), -1)\n",
    "        # c_chan -> torch.Size([3, 12544]) for [1,3,224,224]\n",
    "\n",
    "        if self.training:\n",
    "            self.means = x_chan.mean(1)[:,None,None]\n",
    "            self.stds  = x_chan.std(1)[:,None,None]          \n",
    "\n",
    "        return (x-self.means) / self.stds * self.m + self.a"
   ]
  },
  {
   "cell_type": "code",
   "execution_count": 3,
   "metadata": {
    "execution_event_id": "b50ceb47-65e6-4146-adfa-ba1d88ce2268",
    "last_executed_text": "k = torch.rand(1, 3, 224, 224)",
    "persistent_id": "3b6fbd17-cccb-4a5b-a4f3-e0597a6f278d"
   },
   "outputs": [],
   "source": [
    "k = torch.rand(1, 3, 224, 224)"
   ]
  },
  {
   "cell_type": "code",
   "execution_count": 15,
   "metadata": {
    "execution_event_id": "5fd33b7e-5873-458c-a024-a49ae4680676",
    "last_executed_text": "BN = BnLayer(3, 3)",
    "persistent_id": "595379ff-1a85-42d9-86f6-a66ec0fbd69f"
   },
   "outputs": [],
   "source": [
    "BN = BnLayer(3, 3)"
   ]
  },
  {
   "cell_type": "code",
   "execution_count": 17,
   "metadata": {
    "execution_event_id": "034769aa-b660-4bde-86ab-a2e883fe0e99",
    "last_executed_text": "BN(k)",
    "persistent_id": "c302c729-6698-4610-9872-cde8fd446a99"
   },
   "outputs": [
    {
     "data": {
      "text/plain": [
       "tensor([[[[-3.1043, -0.7105, -0.1559,  ..., -1.4714, -1.1432, -2.0205],\n",
       "          [-2.7250, -0.9292,  0.9126,  ...,  1.2126,  0.1625, -1.3427],\n",
       "          [-3.2150, -0.9238,  1.9144,  ...,  0.1427, -0.3079,  0.1637],\n",
       "          ...,\n",
       "          [-2.1894,  0.0657, -0.3283,  ...,  0.7765, -0.2901, -0.9284],\n",
       "          [-0.1304,  1.0492, -0.4338,  ...,  1.3788,  1.4572,  0.0774],\n",
       "          [-2.5184,  1.5575,  0.1685,  ...,  0.4032, -0.4163,  0.3095]],\n",
       "\n",
       "         [[ 1.9979,  1.6444,  2.2727,  ...,  2.6831,  0.7054,  3.2051],\n",
       "          [-0.8301,  2.2846, -0.9196,  ..., -0.3816, -0.9196, -0.8902],\n",
       "          [-0.2964,  1.3931, -0.9196,  ...,  0.1738,  0.8101, -0.9196],\n",
       "          ...,\n",
       "          [-0.7531, -0.3444, -0.9196,  ..., -0.9196, -0.8844, -0.9196],\n",
       "          [ 2.7149,  0.0839, -0.9196,  ..., -0.1110, -0.0543, -0.9191],\n",
       "          [ 0.0519,  0.0141,  0.8943,  ..., -0.9196, -0.9196, -0.9196]],\n",
       "\n",
       "         [[ 0.0881,  2.0197, -0.0351,  ...,  1.2356,  0.4678,  1.3606],\n",
       "          [-0.4601,  0.5780,  0.8468,  ...,  0.3755, -1.0714,  0.0157],\n",
       "          [ 1.6379, -0.7137, -1.0714,  ..., -0.1566, -1.0714, -1.0714],\n",
       "          ...,\n",
       "          [ 1.3646, -0.2181, -0.2616,  ..., -1.0714, -0.4681,  2.1910],\n",
       "          [ 1.0756,  3.0926, -1.0714,  ..., -0.8850,  0.8099, -0.4924],\n",
       "          [ 0.3021, -0.0556,  1.1139,  ..., -0.8355, -0.8925, -1.0714]]]],\n",
       "       grad_fn=<AddBackward0>)"
      ]
     },
     "execution_count": 17,
     "metadata": {},
     "output_type": "execute_result"
    }
   ],
   "source": [
    "BN(k)"
   ]
  }
 ],
 "metadata": {
  "history": [
   {
    "cell": {
     "executionCount": 2,
     "executionEventId": "2882d7d8-f6a9-46da-aa05-78abc1dccba7",
     "hasError": true,
     "id": "8426ff2f-a6c1-43c3-a65c-456ad49729d4",
     "outputs": [
      {
       "ename": "SyntaxError",
       "evalue": "invalid syntax (<ipython-input-2-5feadfd52119>, line 10)",
       "output_type": "error",
       "traceback": [
        "\u001b[0;36m  File \u001b[0;32m\"<ipython-input-2-5feadfd52119>\"\u001b[0;36m, line \u001b[0;32m10\u001b[0m\n\u001b[0;31m    x = F.relu(self.conv(x))x_chan = x.transpose(0,1).contiguous().view(x.size(1), -1)\u001b[0m\n\u001b[0m                                 ^\u001b[0m\n\u001b[0;31mSyntaxError\u001b[0m\u001b[0;31m:\u001b[0m invalid syntax\n"
       ]
      }
     ],
     "persistentId": "97b950d8-7cb1-463d-83c5-27960f736147",
     "text": "class BnLayer(nn.Module):\n    def __init__(self, ni, nf, stride=2, kernel_size=3):\n        super().__init__()\n        self.conv = nn.Conv2d(ni, nf, kernel_size=kernel_size, stride=stride,bias=False, padding=1)\n        \n        self.a = nn.Parameter(torch.zeros(nf,1,1))\n        self.m = nn.Parameter(torch.ones(nf,1,1))\n        \n        def forward(self, x):\n            x = F.relu(self.conv(x))x_chan = x.transpose(0,1).contiguous().view(x.size(1), -1)\n            \n            if self.training:\n                self.means = x_chan.mean(1)[:,None,None]\n                self.stds  = x_chan.std(1)[:,None,None]          \n                \n            return (x-self.means) / self.stds * self.m + self.a"
    },
    "executionTime": "2019-10-12T16:08:58.346Z"
   },
   {
    "cell": {
     "executionCount": 3,
     "executionEventId": "3bf21c52-a1a0-4791-b38c-e44df0dece6d",
     "hasError": true,
     "id": "8426ff2f-a6c1-43c3-a65c-456ad49729d4",
     "outputs": [
      {
       "ename": "NameError",
       "evalue": "name 'nn' is not defined",
       "output_type": "error",
       "traceback": [
        "\u001b[0;31m---------------------------------------------------------------------------\u001b[0m",
        "\u001b[0;31mNameError\u001b[0m                                 Traceback (most recent call last)",
        "\u001b[0;32m<ipython-input-3-3677869006dc>\u001b[0m in \u001b[0;36m<module>\u001b[0;34m\u001b[0m\n\u001b[0;32m----> 1\u001b[0;31m \u001b[0;32mclass\u001b[0m \u001b[0mBnLayer\u001b[0m\u001b[0;34m(\u001b[0m\u001b[0mnn\u001b[0m\u001b[0;34m.\u001b[0m\u001b[0mModule\u001b[0m\u001b[0;34m)\u001b[0m\u001b[0;34m:\u001b[0m\u001b[0;34m\u001b[0m\u001b[0;34m\u001b[0m\u001b[0m\n\u001b[0m\u001b[1;32m      2\u001b[0m     \u001b[0;32mdef\u001b[0m \u001b[0m__init__\u001b[0m\u001b[0;34m(\u001b[0m\u001b[0mself\u001b[0m\u001b[0;34m,\u001b[0m \u001b[0mni\u001b[0m\u001b[0;34m,\u001b[0m \u001b[0mnf\u001b[0m\u001b[0;34m,\u001b[0m \u001b[0mstride\u001b[0m\u001b[0;34m=\u001b[0m\u001b[0;36m2\u001b[0m\u001b[0;34m,\u001b[0m \u001b[0mkernel_size\u001b[0m\u001b[0;34m=\u001b[0m\u001b[0;36m3\u001b[0m\u001b[0;34m)\u001b[0m\u001b[0;34m:\u001b[0m\u001b[0;34m\u001b[0m\u001b[0;34m\u001b[0m\u001b[0m\n\u001b[1;32m      3\u001b[0m         \u001b[0msuper\u001b[0m\u001b[0;34m(\u001b[0m\u001b[0;34m)\u001b[0m\u001b[0;34m.\u001b[0m\u001b[0m__init__\u001b[0m\u001b[0;34m(\u001b[0m\u001b[0;34m)\u001b[0m\u001b[0;34m\u001b[0m\u001b[0;34m\u001b[0m\u001b[0m\n\u001b[1;32m      4\u001b[0m         \u001b[0mself\u001b[0m\u001b[0;34m.\u001b[0m\u001b[0mconv\u001b[0m \u001b[0;34m=\u001b[0m \u001b[0mnn\u001b[0m\u001b[0;34m.\u001b[0m\u001b[0mConv2d\u001b[0m\u001b[0;34m(\u001b[0m\u001b[0mni\u001b[0m\u001b[0;34m,\u001b[0m \u001b[0mnf\u001b[0m\u001b[0;34m,\u001b[0m \u001b[0mkernel_size\u001b[0m\u001b[0;34m=\u001b[0m\u001b[0mkernel_size\u001b[0m\u001b[0;34m,\u001b[0m \u001b[0mstride\u001b[0m\u001b[0;34m=\u001b[0m\u001b[0mstride\u001b[0m\u001b[0;34m,\u001b[0m\u001b[0mbias\u001b[0m\u001b[0;34m=\u001b[0m\u001b[0;32mFalse\u001b[0m\u001b[0;34m,\u001b[0m \u001b[0mpadding\u001b[0m\u001b[0;34m=\u001b[0m\u001b[0;36m1\u001b[0m\u001b[0;34m)\u001b[0m\u001b[0;34m\u001b[0m\u001b[0;34m\u001b[0m\u001b[0m\n\u001b[1;32m      5\u001b[0m \u001b[0;34m\u001b[0m\u001b[0m\n",
        "\u001b[0;31mNameError\u001b[0m: name 'nn' is not defined"
       ]
      }
     ],
     "persistentId": "97b950d8-7cb1-463d-83c5-27960f736147",
     "text": "class BnLayer(nn.Module):\n    def __init__(self, ni, nf, stride=2, kernel_size=3):\n        super().__init__()\n        self.conv = nn.Conv2d(ni, nf, kernel_size=kernel_size, stride=stride,bias=False, padding=1)\n        \n        self.a = nn.Parameter(torch.zeros(nf,1,1))\n        self.m = nn.Parameter(torch.ones(nf,1,1))\n        \n        def forward(self, x):\n            x = F.relu(self.conv(x))\n            x_chan = x.transpose(0,1).contiguous().view(x.size(1), -1)\n            \n            if self.training:\n                self.means = x_chan.mean(1)[:,None,None]\n                self.stds  = x_chan.std(1)[:,None,None]          \n                \n            return (x-self.means) / self.stds * self.m + self.a"
    },
    "executionTime": "2019-10-12T16:09:04.432Z"
   },
   {
    "cell": {
     "executionCount": 4,
     "executionEventId": "ec433296-fc61-40e9-a436-1d52cb8a56d1",
     "hasError": false,
     "id": "ee3abf77-d6db-458b-88d9-f30c600fed64",
     "outputs": [],
     "persistentId": "5e469a54-df61-4a6c-879a-d00a51320acd",
     "text": "from torch import nn"
    },
    "executionTime": "2019-10-12T16:09:55.241Z"
   },
   {
    "cell": {
     "executionCount": 5,
     "executionEventId": "2dc072f4-d810-4027-aab6-cf66d46881dc",
     "hasError": false,
     "id": "8426ff2f-a6c1-43c3-a65c-456ad49729d4",
     "outputs": [],
     "persistentId": "97b950d8-7cb1-463d-83c5-27960f736147",
     "text": "\n\nclass BnLayer(nn.Module):\n    def __init__(self, ni, nf, stride=2, kernel_size=3):\n        super().__init__()\n        self.conv = nn.Conv2d(ni, nf, kernel_size=kernel_size, stride=stride,bias=False, padding=1)\n        \n        self.a = nn.Parameter(torch.zeros(nf,1,1))\n        self.m = nn.Parameter(torch.ones(nf,1,1))\n        \n        def forward(self, x):\n            x = F.relu(self.conv(x))\n            x_chan = x.transpose(0,1).contiguous().view(x.size(1), -1)\n            \n            if self.training:\n                self.means = x_chan.mean(1)[:,None,None]\n                self.stds  = x_chan.std(1)[:,None,None]          \n                \n            return (x-self.means) / self.stds * self.m + self.a"
    },
    "executionTime": "2019-10-12T16:09:55.270Z"
   },
   {
    "cell": {
     "executionCount": 1,
     "executionEventId": "bcf5f1bc-4577-4342-aaa7-075bd1e9ca7c",
     "hasError": true,
     "id": "afb187a7-6d41-4986-9011-e13f982bec92",
     "outputs": [
      {
       "ename": "NameError",
       "evalue": "name 'BnLayer' is not defined",
       "output_type": "error",
       "traceback": [
        "\u001b[0;31m---------------------------------------------------------------------------\u001b[0m",
        "\u001b[0;31mNameError\u001b[0m                                 Traceback (most recent call last)",
        "\u001b[0;32m<ipython-input-1-d4be84bf7ad6>\u001b[0m in \u001b[0;36m<module>\u001b[0;34m\u001b[0m\n\u001b[0;32m----> 1\u001b[0;31m \u001b[0mBnLayer\u001b[0m\u001b[0;34m(\u001b[0m\u001b[0;34m)\u001b[0m\u001b[0;34m\u001b[0m\u001b[0;34m\u001b[0m\u001b[0m\n\u001b[0m",
        "\u001b[0;31mNameError\u001b[0m: name 'BnLayer' is not defined"
       ]
      }
     ],
     "persistentId": "3b6fbd17-cccb-4a5b-a4f3-e0597a6f278d",
     "text": "BnLayer()"
    },
    "executionTime": "2019-10-12T16:17:40.585Z"
   },
   {
    "cell": {
     "executionCount": 2,
     "executionEventId": "7ab5ad5a-46ad-4862-8c16-6e03ce132947",
     "hasError": true,
     "id": "4b85090f-a520-49c8-bbf5-69a306487971",
     "outputs": [
      {
       "ename": "NameError",
       "evalue": "name 'nn' is not defined",
       "output_type": "error",
       "traceback": [
        "\u001b[0;31m---------------------------------------------------------------------------\u001b[0m",
        "\u001b[0;31mNameError\u001b[0m                                 Traceback (most recent call last)",
        "\u001b[0;32m<ipython-input-2-3677869006dc>\u001b[0m in \u001b[0;36m<module>\u001b[0;34m\u001b[0m\n\u001b[0;32m----> 1\u001b[0;31m \u001b[0;32mclass\u001b[0m \u001b[0mBnLayer\u001b[0m\u001b[0;34m(\u001b[0m\u001b[0mnn\u001b[0m\u001b[0;34m.\u001b[0m\u001b[0mModule\u001b[0m\u001b[0;34m)\u001b[0m\u001b[0;34m:\u001b[0m\u001b[0;34m\u001b[0m\u001b[0;34m\u001b[0m\u001b[0m\n\u001b[0m\u001b[1;32m      2\u001b[0m     \u001b[0;32mdef\u001b[0m \u001b[0m__init__\u001b[0m\u001b[0;34m(\u001b[0m\u001b[0mself\u001b[0m\u001b[0;34m,\u001b[0m \u001b[0mni\u001b[0m\u001b[0;34m,\u001b[0m \u001b[0mnf\u001b[0m\u001b[0;34m,\u001b[0m \u001b[0mstride\u001b[0m\u001b[0;34m=\u001b[0m\u001b[0;36m2\u001b[0m\u001b[0;34m,\u001b[0m \u001b[0mkernel_size\u001b[0m\u001b[0;34m=\u001b[0m\u001b[0;36m3\u001b[0m\u001b[0;34m)\u001b[0m\u001b[0;34m:\u001b[0m\u001b[0;34m\u001b[0m\u001b[0;34m\u001b[0m\u001b[0m\n\u001b[1;32m      3\u001b[0m         \u001b[0msuper\u001b[0m\u001b[0;34m(\u001b[0m\u001b[0;34m)\u001b[0m\u001b[0;34m.\u001b[0m\u001b[0m__init__\u001b[0m\u001b[0;34m(\u001b[0m\u001b[0;34m)\u001b[0m\u001b[0;34m\u001b[0m\u001b[0;34m\u001b[0m\u001b[0m\n\u001b[1;32m      4\u001b[0m         \u001b[0mself\u001b[0m\u001b[0;34m.\u001b[0m\u001b[0mconv\u001b[0m \u001b[0;34m=\u001b[0m \u001b[0mnn\u001b[0m\u001b[0;34m.\u001b[0m\u001b[0mConv2d\u001b[0m\u001b[0;34m(\u001b[0m\u001b[0mni\u001b[0m\u001b[0;34m,\u001b[0m \u001b[0mnf\u001b[0m\u001b[0;34m,\u001b[0m \u001b[0mkernel_size\u001b[0m\u001b[0;34m=\u001b[0m\u001b[0mkernel_size\u001b[0m\u001b[0;34m,\u001b[0m \u001b[0mstride\u001b[0m\u001b[0;34m=\u001b[0m\u001b[0mstride\u001b[0m\u001b[0;34m,\u001b[0m\u001b[0mbias\u001b[0m\u001b[0;34m=\u001b[0m\u001b[0;32mFalse\u001b[0m\u001b[0;34m,\u001b[0m \u001b[0mpadding\u001b[0m\u001b[0;34m=\u001b[0m\u001b[0;36m1\u001b[0m\u001b[0;34m)\u001b[0m\u001b[0;34m\u001b[0m\u001b[0;34m\u001b[0m\u001b[0m\n\u001b[1;32m      5\u001b[0m \u001b[0;34m\u001b[0m\u001b[0m\n",
        "\u001b[0;31mNameError\u001b[0m: name 'nn' is not defined"
       ]
      }
     ],
     "persistentId": "97b950d8-7cb1-463d-83c5-27960f736147",
     "text": "class BnLayer(nn.Module):\n    def __init__(self, ni, nf, stride=2, kernel_size=3):\n        super().__init__()\n        self.conv = nn.Conv2d(ni, nf, kernel_size=kernel_size, stride=stride,bias=False, padding=1)\n        \n        self.a = nn.Parameter(torch.zeros(nf,1,1))\n        self.m = nn.Parameter(torch.ones(nf,1,1))\n        \n        def forward(self, x):\n            x = F.relu(self.conv(x))\n            x_chan = x.transpose(0,1).contiguous().view(x.size(1), -1)\n            \n            if self.training:\n                self.means = x_chan.mean(1)[:,None,None]\n                self.stds  = x_chan.std(1)[:,None,None]          \n                \n            return (x-self.means) / self.stds * self.m + self.a"
    },
    "executionTime": "2019-10-12T16:17:42.271Z"
   },
   {
    "cell": {
     "executionCount": 3,
     "executionEventId": "2b32a01f-231e-4306-b3ea-23b34ac9e776",
     "hasError": false,
     "id": "63bff1d5-053a-46e8-87e6-ac286bf9ad4c",
     "outputs": [],
     "persistentId": "5e469a54-df61-4a6c-879a-d00a51320acd",
     "text": "from torch import nn"
    },
    "executionTime": "2019-10-12T16:17:43.649Z"
   },
   {
    "cell": {
     "executionCount": 4,
     "executionEventId": "0ece48ee-ee26-4604-a5e8-a5bcb23e4109",
     "hasError": false,
     "id": "4b85090f-a520-49c8-bbf5-69a306487971",
     "outputs": [],
     "persistentId": "97b950d8-7cb1-463d-83c5-27960f736147",
     "text": "class BnLayer(nn.Module):\n    def __init__(self, ni, nf, stride=2, kernel_size=3):\n        super().__init__()\n        self.conv = nn.Conv2d(ni, nf, kernel_size=kernel_size, stride=stride,bias=False, padding=1)\n        \n        self.a = nn.Parameter(torch.zeros(nf,1,1))\n        self.m = nn.Parameter(torch.ones(nf,1,1))\n        \n        def forward(self, x):\n            x = F.relu(self.conv(x))\n            x_chan = x.transpose(0,1).contiguous().view(x.size(1), -1)\n            \n            if self.training:\n                self.means = x_chan.mean(1)[:,None,None]\n                self.stds  = x_chan.std(1)[:,None,None]          \n                \n            return (x-self.means) / self.stds * self.m + self.a"
    },
    "executionTime": "2019-10-12T16:17:43.652Z"
   },
   {
    "cell": {
     "executionCount": 5,
     "executionEventId": "43b831b6-6e00-4ed2-9fce-c873b369df63",
     "hasError": true,
     "id": "afb187a7-6d41-4986-9011-e13f982bec92",
     "outputs": [
      {
       "ename": "TypeError",
       "evalue": "__init__() missing 2 required positional arguments: 'ni' and 'nf'",
       "output_type": "error",
       "traceback": [
        "\u001b[0;31m---------------------------------------------------------------------------\u001b[0m",
        "\u001b[0;31mTypeError\u001b[0m                                 Traceback (most recent call last)",
        "\u001b[0;32m<ipython-input-5-d4be84bf7ad6>\u001b[0m in \u001b[0;36m<module>\u001b[0;34m\u001b[0m\n\u001b[0;32m----> 1\u001b[0;31m \u001b[0mBnLayer\u001b[0m\u001b[0;34m(\u001b[0m\u001b[0;34m)\u001b[0m\u001b[0;34m\u001b[0m\u001b[0;34m\u001b[0m\u001b[0m\n\u001b[0m",
        "\u001b[0;31mTypeError\u001b[0m: __init__() missing 2 required positional arguments: 'ni' and 'nf'"
       ]
      }
     ],
     "persistentId": "3b6fbd17-cccb-4a5b-a4f3-e0597a6f278d",
     "text": "BnLayer()"
    },
    "executionTime": "2019-10-12T16:17:44.190Z"
   },
   {
    "cell": {
     "executionCount": 6,
     "executionEventId": "6a0e5cea-d869-47f6-b51c-43c87896aed5",
     "hasError": false,
     "id": "63bff1d5-053a-46e8-87e6-ac286bf9ad4c",
     "outputs": [],
     "persistentId": "5e469a54-df61-4a6c-879a-d00a51320acd",
     "text": "from torch import nn"
    },
    "executionTime": "2019-10-12T16:18:23.188Z"
   },
   {
    "cell": {
     "executionCount": 7,
     "executionEventId": "194ebf24-b043-4e77-bc5f-5ce8fc86f185",
     "hasError": false,
     "id": "4b85090f-a520-49c8-bbf5-69a306487971",
     "outputs": [],
     "persistentId": "97b950d8-7cb1-463d-83c5-27960f736147",
     "text": "class BnLayer(nn.Module):\n    def __init__(self, ni, nf, stride=2, kernel_size=3):\n        super().__init__()\n        self.conv = nn.Conv2d(ni, nf, kernel_size=kernel_size, stride=stride,bias=False, padding=1)\n        \n        self.a = nn.Parameter(torch.zeros(nf,1,1))\n        self.m = nn.Parameter(torch.ones(nf,1,1))\n        \n        def forward(self, x):\n            x = F.relu(self.conv(x))\n            x_chan = x.transpose(0,1).contiguous().view(x.size(1), -1)\n            \n            if self.training:\n                self.means = x_chan.mean(1)[:,None,None]\n                self.stds  = x_chan.std(1)[:,None,None]          \n                \n            return (x-self.means) / self.stds * self.m + self.a"
    },
    "executionTime": "2019-10-12T16:18:23.769Z"
   },
   {
    "cell": {
     "executionCount": 8,
     "executionEventId": "ef0611bd-de35-4a0d-88c5-441c63dd31ec",
     "hasError": false,
     "id": "4b85090f-a520-49c8-bbf5-69a306487971",
     "outputs": [],
     "persistentId": "97b950d8-7cb1-463d-83c5-27960f736147",
     "text": "class BnLayer(nn.Module):\n    def __init__(self, ni, nf, stride=2, kernel_size=3):\n        super().__init__()\n        self.conv = nn.Conv2d(ni, nf, kernel_size=kernel_size, stride=stride,bias=False, padding=1)\n        \n        self.a = nn.Parameter(torch.zeros(nf,1,1))\n        self.m = nn.Parameter(torch.ones(nf,1,1))\n        \n        def forward(self, x):\n            x = F.relu(self.conv(x))\n            x_chan = x.transpose(0,1).contiguous().view(x.size(1), -1)\n            \n            if self.training:\n                self.means = x_chan.mean(1)[:,None,None]\n                self.stds  = x_chan.std(1)[:,None,None]          \n                \n            return (x-self.means) / self.stds * self.m + self.a"
    },
    "executionTime": "2019-10-12T16:20:33.746Z"
   },
   {
    "cell": {
     "executionCount": 9,
     "executionEventId": "2bee61f0-d473-4fb1-9101-3b6458eb42aa",
     "hasError": true,
     "id": "afb187a7-6d41-4986-9011-e13f982bec92",
     "outputs": [
      {
       "ename": "NameError",
       "evalue": "name 'torch' is not defined",
       "output_type": "error",
       "traceback": [
        "\u001b[0;31m---------------------------------------------------------------------------\u001b[0m",
        "\u001b[0;31mNameError\u001b[0m                                 Traceback (most recent call last)",
        "\u001b[0;32m<ipython-input-9-44e67eb7ca4e>\u001b[0m in \u001b[0;36m<module>\u001b[0;34m\u001b[0m\n\u001b[0;32m----> 1\u001b[0;31m \u001b[0mtorch\u001b[0m\u001b[0;34m.\u001b[0m\u001b[0mrand\u001b[0m\u001b[0;34m(\u001b[0m\u001b[0;36m1\u001b[0m\u001b[0;34m,\u001b[0m \u001b[0;36m3\u001b[0m\u001b[0;34m,\u001b[0m \u001b[0;36m224\u001b[0m\u001b[0;34m,\u001b[0m \u001b[0;36m224\u001b[0m\u001b[0;34m)\u001b[0m\u001b[0;34m\u001b[0m\u001b[0;34m\u001b[0m\u001b[0m\n\u001b[0m",
        "\u001b[0;31mNameError\u001b[0m: name 'torch' is not defined"
       ]
      }
     ],
     "persistentId": "3b6fbd17-cccb-4a5b-a4f3-e0597a6f278d",
     "text": "torch.rand(1, 3, 224, 224)"
    },
    "executionTime": "2019-10-12T16:20:48.365Z"
   },
   {
    "cell": {
     "executionCount": 10,
     "executionEventId": "5d52c34a-7523-4b56-8508-c8f414a50d97",
     "hasError": false,
     "id": "63bff1d5-053a-46e8-87e6-ac286bf9ad4c",
     "outputs": [],
     "persistentId": "5e469a54-df61-4a6c-879a-d00a51320acd",
     "text": "from torch import nn\nimport torch"
    },
    "executionTime": "2019-10-12T16:20:53.312Z"
   },
   {
    "cell": {
     "executionCount": 11,
     "executionEventId": "922cf1f6-67c9-4174-8b52-b6ff813b730e",
     "hasError": false,
     "id": "4b85090f-a520-49c8-bbf5-69a306487971",
     "outputs": [],
     "persistentId": "97b950d8-7cb1-463d-83c5-27960f736147",
     "text": "class BnLayer(nn.Module):\n    def __init__(self, ni, nf, stride=2, kernel_size=3):\n        super().__init__()\n        self.conv = nn.Conv2d(ni, nf, kernel_size=kernel_size, stride=stride,bias=False, padding=1)\n        \n        self.a = nn.Parameter(torch.zeros(nf,1,1))\n        self.m = nn.Parameter(torch.ones(nf,1,1))\n        \n        def forward(self, x):\n            x = F.relu(self.conv(x))\n            x_chan = x.transpose(0,1).contiguous().view(x.size(1), -1)\n            \n            if self.training:\n                self.means = x_chan.mean(1)[:,None,None]\n                self.stds  = x_chan.std(1)[:,None,None]          \n                \n            return (x-self.means) / self.stds * self.m + self.a"
    },
    "executionTime": "2019-10-12T16:20:53.473Z"
   },
   {
    "cell": {
     "executionCount": 12,
     "executionEventId": "78de9d06-8a63-4c8a-9dd1-936e03b4d46a",
     "hasError": false,
     "id": "afb187a7-6d41-4986-9011-e13f982bec92",
     "outputs": [],
     "persistentId": "3b6fbd17-cccb-4a5b-a4f3-e0597a6f278d",
     "text": "k = torch.rand(1, 3, 224, 224)"
    },
    "executionTime": "2019-10-12T16:20:53.682Z"
   },
   {
    "cell": {
     "executionCount": 13,
     "executionEventId": "7237413f-79a9-46b7-a23b-1cc36c762303",
     "hasError": false,
     "id": "4b85090f-a520-49c8-bbf5-69a306487971",
     "outputs": [],
     "persistentId": "97b950d8-7cb1-463d-83c5-27960f736147",
     "text": "class BnLayer(nn.Module):\n    def __init__(self, ni, nf, stride=2, kernel_size=3):\n        super().__init__()\n        self.conv = nn.Conv2d(ni, nf, kernel_size=kernel_size, stride=stride,bias=False, padding=1)\n        \n        self.a = nn.Parameter(torch.zeros(nf,1,1))\n        self.m = nn.Parameter(torch.ones(nf,1,1))\n        \n        def forward(self, x):\n            x = F.relu(self.conv(x))\n            x_chan = x.transpose(0,1).contiguous().view(x.size(1), -1)\n            \n            if self.training:\n                self.means = x_chan.mean(1)[:,None,None]\n                self.stds  = x_chan.std(1)[:,None,None]          \n                \n            return (x-self.means) / self.stds * self.m + self.a"
    },
    "executionTime": "2019-10-12T16:20:57.812Z"
   },
   {
    "cell": {
     "executionCount": 14,
     "executionEventId": "27139405-cb3b-4ffb-8bac-4d24d4e9737c",
     "hasError": true,
     "id": "d5ad43cc-0184-46d6-a1ab-e1b0295760b1",
     "outputs": [
      {
       "ename": "TypeError",
       "evalue": "__init__() missing 2 required positional arguments: 'ni' and 'nf'",
       "output_type": "error",
       "traceback": [
        "\u001b[0;31m---------------------------------------------------------------------------\u001b[0m",
        "\u001b[0;31mTypeError\u001b[0m                                 Traceback (most recent call last)",
        "\u001b[0;32m<ipython-input-14-508d508d6170>\u001b[0m in \u001b[0;36m<module>\u001b[0;34m\u001b[0m\n\u001b[0;32m----> 1\u001b[0;31m \u001b[0mbn\u001b[0m \u001b[0;34m=\u001b[0m \u001b[0mBnLayer\u001b[0m\u001b[0;34m(\u001b[0m\u001b[0;34m)\u001b[0m\u001b[0;34m\u001b[0m\u001b[0;34m\u001b[0m\u001b[0m\n\u001b[0m",
        "\u001b[0;31mTypeError\u001b[0m: __init__() missing 2 required positional arguments: 'ni' and 'nf'"
       ]
      }
     ],
     "persistentId": "0048c386-2897-4ad6-824e-2f9019f875a5",
     "text": "bn = BnLayer()"
    },
    "executionTime": "2019-10-12T16:21:01.722Z"
   },
   {
    "cell": {
     "executionCount": 15,
     "executionEventId": "161e362d-ca21-4a60-a7d0-01da9f367d75",
     "hasError": false,
     "id": "d5ad43cc-0184-46d6-a1ab-e1b0295760b1",
     "outputs": [],
     "persistentId": "0048c386-2897-4ad6-824e-2f9019f875a5",
     "text": "bn = BnLayer(3, 3)\n\n"
    },
    "executionTime": "2019-10-12T16:21:07.435Z"
   },
   {
    "cell": {
     "executionCount": 16,
     "executionEventId": "84be91a4-c791-44d8-af82-1ddb3f63c5e4",
     "hasError": true,
     "id": "d5ad43cc-0184-46d6-a1ab-e1b0295760b1",
     "outputs": [
      {
       "ename": "NotImplementedError",
       "evalue": "",
       "output_type": "error",
       "traceback": [
        "\u001b[0;31m---------------------------------------------------------------------------\u001b[0m",
        "\u001b[0;31mNotImplementedError\u001b[0m                       Traceback (most recent call last)",
        "\u001b[0;32m<ipython-input-16-5bbee537589d>\u001b[0m in \u001b[0;36m<module>\u001b[0;34m\u001b[0m\n\u001b[1;32m      1\u001b[0m \u001b[0mbn\u001b[0m \u001b[0;34m=\u001b[0m \u001b[0mBnLayer\u001b[0m\u001b[0;34m(\u001b[0m\u001b[0;36m3\u001b[0m\u001b[0;34m,\u001b[0m \u001b[0;36m3\u001b[0m\u001b[0;34m)\u001b[0m\u001b[0;34m\u001b[0m\u001b[0;34m\u001b[0m\u001b[0m\n\u001b[1;32m      2\u001b[0m \u001b[0;34m\u001b[0m\u001b[0m\n\u001b[0;32m----> 3\u001b[0;31m \u001b[0mbn\u001b[0m\u001b[0;34m(\u001b[0m\u001b[0mk\u001b[0m\u001b[0;34m)\u001b[0m\u001b[0;34m\u001b[0m\u001b[0;34m\u001b[0m\u001b[0m\n\u001b[0m",
        "\u001b[0;32m~/anaconda3/envs/dl/lib/python3.7/site-packages/torch/nn/modules/module.py\u001b[0m in \u001b[0;36m__call__\u001b[0;34m(self, *input, **kwargs)\u001b[0m\n\u001b[1;32m    539\u001b[0m             \u001b[0mresult\u001b[0m \u001b[0;34m=\u001b[0m \u001b[0mself\u001b[0m\u001b[0;34m.\u001b[0m\u001b[0m_slow_forward\u001b[0m\u001b[0;34m(\u001b[0m\u001b[0;34m*\u001b[0m\u001b[0minput\u001b[0m\u001b[0;34m,\u001b[0m \u001b[0;34m**\u001b[0m\u001b[0mkwargs\u001b[0m\u001b[0;34m)\u001b[0m\u001b[0;34m\u001b[0m\u001b[0;34m\u001b[0m\u001b[0m\n\u001b[1;32m    540\u001b[0m         \u001b[0;32melse\u001b[0m\u001b[0;34m:\u001b[0m\u001b[0;34m\u001b[0m\u001b[0;34m\u001b[0m\u001b[0m\n\u001b[0;32m--> 541\u001b[0;31m             \u001b[0mresult\u001b[0m \u001b[0;34m=\u001b[0m \u001b[0mself\u001b[0m\u001b[0;34m.\u001b[0m\u001b[0mforward\u001b[0m\u001b[0;34m(\u001b[0m\u001b[0;34m*\u001b[0m\u001b[0minput\u001b[0m\u001b[0;34m,\u001b[0m \u001b[0;34m**\u001b[0m\u001b[0mkwargs\u001b[0m\u001b[0;34m)\u001b[0m\u001b[0;34m\u001b[0m\u001b[0;34m\u001b[0m\u001b[0m\n\u001b[0m\u001b[1;32m    542\u001b[0m         \u001b[0;32mfor\u001b[0m \u001b[0mhook\u001b[0m \u001b[0;32min\u001b[0m \u001b[0mself\u001b[0m\u001b[0;34m.\u001b[0m\u001b[0m_forward_hooks\u001b[0m\u001b[0;34m.\u001b[0m\u001b[0mvalues\u001b[0m\u001b[0;34m(\u001b[0m\u001b[0;34m)\u001b[0m\u001b[0;34m:\u001b[0m\u001b[0;34m\u001b[0m\u001b[0;34m\u001b[0m\u001b[0m\n\u001b[1;32m    543\u001b[0m             \u001b[0mhook_result\u001b[0m \u001b[0;34m=\u001b[0m \u001b[0mhook\u001b[0m\u001b[0;34m(\u001b[0m\u001b[0mself\u001b[0m\u001b[0;34m,\u001b[0m \u001b[0minput\u001b[0m\u001b[0;34m,\u001b[0m \u001b[0mresult\u001b[0m\u001b[0;34m)\u001b[0m\u001b[0;34m\u001b[0m\u001b[0;34m\u001b[0m\u001b[0m\n",
        "\u001b[0;32m~/anaconda3/envs/dl/lib/python3.7/site-packages/torch/nn/modules/module.py\u001b[0m in \u001b[0;36mforward\u001b[0;34m(self, *input)\u001b[0m\n\u001b[1;32m     95\u001b[0m             \u001b[0mregistered\u001b[0m \u001b[0mhooks\u001b[0m \u001b[0;32mwhile\u001b[0m \u001b[0mthe\u001b[0m \u001b[0mlatter\u001b[0m \u001b[0msilently\u001b[0m \u001b[0mignores\u001b[0m \u001b[0mthem\u001b[0m\u001b[0;34m.\u001b[0m\u001b[0;34m\u001b[0m\u001b[0;34m\u001b[0m\u001b[0m\n\u001b[1;32m     96\u001b[0m         \"\"\"\n\u001b[0;32m---> 97\u001b[0;31m         \u001b[0;32mraise\u001b[0m \u001b[0mNotImplementedError\u001b[0m\u001b[0;34m\u001b[0m\u001b[0;34m\u001b[0m\u001b[0m\n\u001b[0m\u001b[1;32m     98\u001b[0m \u001b[0;34m\u001b[0m\u001b[0m\n\u001b[1;32m     99\u001b[0m     \u001b[0;32mdef\u001b[0m \u001b[0mregister_buffer\u001b[0m\u001b[0;34m(\u001b[0m\u001b[0mself\u001b[0m\u001b[0;34m,\u001b[0m \u001b[0mname\u001b[0m\u001b[0;34m,\u001b[0m \u001b[0mtensor\u001b[0m\u001b[0;34m)\u001b[0m\u001b[0;34m:\u001b[0m\u001b[0;34m\u001b[0m\u001b[0;34m\u001b[0m\u001b[0m\n",
        "\u001b[0;31mNotImplementedError\u001b[0m: "
       ]
      }
     ],
     "persistentId": "0048c386-2897-4ad6-824e-2f9019f875a5",
     "text": "bn = BnLayer(3, 3)\n\nbn(k)"
    },
    "executionTime": "2019-10-12T16:21:11.065Z"
   },
   {
    "cell": {
     "executionCount": 17,
     "executionEventId": "2bc6aecb-1c08-452c-b3bd-3097a904afd8",
     "hasError": false,
     "id": "4b85090f-a520-49c8-bbf5-69a306487971",
     "outputs": [],
     "persistentId": "97b950d8-7cb1-463d-83c5-27960f736147",
     "text": "class BnLayer(nn.Module):\n    def __init__(self, ni, nf, stride=2, kernel_size=3):\n        super().__init__()\n        self.conv = nn.Conv2d(ni, nf, kernel_size=kernel_size, stride=stride,bias=False, padding=1)\n        \n        self.a = nn.Parameter(torch.zeros(nf,1,1))\n        self.m = nn.Parameter(torch.ones(nf,1,1))\n        \n        def forward(self, x):\n            x = F.relu(self.conv(x))\n            x_chan = x.transpose(0,1).contiguous().view(x.size(1), -1)\n            \n            if self.training:\n                self.means = x_chan.mean(1)[:,None,None]\n                self.stds  = x_chan.std(1)[:,None,None]          \n                \n            return (x-self.means) / self.stds * self.m + self.a"
    },
    "executionTime": "2019-10-12T16:21:25.806Z"
   },
   {
    "cell": {
     "executionCount": 18,
     "executionEventId": "8bb9fba2-94ce-445b-93a2-ceeb42d4b340",
     "hasError": false,
     "id": "d5ad43cc-0184-46d6-a1ab-e1b0295760b1",
     "outputs": [
      {
       "data": {
        "text/plain": "BnLayer(\n  (conv): Conv2d(3, 3, kernel_size=(3, 3), stride=(2, 2), padding=(1, 1), bias=False)\n)"
       },
       "execution_count": 18,
       "metadata": {},
       "output_type": "execute_result"
      }
     ],
     "persistentId": "0048c386-2897-4ad6-824e-2f9019f875a5",
     "text": "bn = BnLayer(3, 3)\n\nbn"
    },
    "executionTime": "2019-10-12T16:22:07.864Z"
   },
   {
    "cell": {
     "executionCount": 19,
     "executionEventId": "2ebde31f-e568-4135-bf85-6c94670c7d0b",
     "hasError": true,
     "id": "d5ad43cc-0184-46d6-a1ab-e1b0295760b1",
     "outputs": [
      {
       "ename": "NotImplementedError",
       "evalue": "",
       "output_type": "error",
       "traceback": [
        "\u001b[0;31m---------------------------------------------------------------------------\u001b[0m",
        "\u001b[0;31mNotImplementedError\u001b[0m                       Traceback (most recent call last)",
        "\u001b[0;32m<ipython-input-19-03c07e7a389b>\u001b[0m in \u001b[0;36m<module>\u001b[0;34m\u001b[0m\n\u001b[1;32m      1\u001b[0m \u001b[0;31m# bn = BnLayer(3, 3)\u001b[0m\u001b[0;34m\u001b[0m\u001b[0;34m\u001b[0m\u001b[0;34m\u001b[0m\u001b[0m\n\u001b[1;32m      2\u001b[0m \u001b[0;34m\u001b[0m\u001b[0m\n\u001b[0;32m----> 3\u001b[0;31m \u001b[0mbn\u001b[0m\u001b[0;34m(\u001b[0m\u001b[0;34m)\u001b[0m\u001b[0;34m\u001b[0m\u001b[0;34m\u001b[0m\u001b[0m\n\u001b[0m",
        "\u001b[0;32m~/anaconda3/envs/dl/lib/python3.7/site-packages/torch/nn/modules/module.py\u001b[0m in \u001b[0;36m__call__\u001b[0;34m(self, *input, **kwargs)\u001b[0m\n\u001b[1;32m    539\u001b[0m             \u001b[0mresult\u001b[0m \u001b[0;34m=\u001b[0m \u001b[0mself\u001b[0m\u001b[0;34m.\u001b[0m\u001b[0m_slow_forward\u001b[0m\u001b[0;34m(\u001b[0m\u001b[0;34m*\u001b[0m\u001b[0minput\u001b[0m\u001b[0;34m,\u001b[0m \u001b[0;34m**\u001b[0m\u001b[0mkwargs\u001b[0m\u001b[0;34m)\u001b[0m\u001b[0;34m\u001b[0m\u001b[0;34m\u001b[0m\u001b[0m\n\u001b[1;32m    540\u001b[0m         \u001b[0;32melse\u001b[0m\u001b[0;34m:\u001b[0m\u001b[0;34m\u001b[0m\u001b[0;34m\u001b[0m\u001b[0m\n\u001b[0;32m--> 541\u001b[0;31m             \u001b[0mresult\u001b[0m \u001b[0;34m=\u001b[0m \u001b[0mself\u001b[0m\u001b[0;34m.\u001b[0m\u001b[0mforward\u001b[0m\u001b[0;34m(\u001b[0m\u001b[0;34m*\u001b[0m\u001b[0minput\u001b[0m\u001b[0;34m,\u001b[0m \u001b[0;34m**\u001b[0m\u001b[0mkwargs\u001b[0m\u001b[0;34m)\u001b[0m\u001b[0;34m\u001b[0m\u001b[0;34m\u001b[0m\u001b[0m\n\u001b[0m\u001b[1;32m    542\u001b[0m         \u001b[0;32mfor\u001b[0m \u001b[0mhook\u001b[0m \u001b[0;32min\u001b[0m \u001b[0mself\u001b[0m\u001b[0;34m.\u001b[0m\u001b[0m_forward_hooks\u001b[0m\u001b[0;34m.\u001b[0m\u001b[0mvalues\u001b[0m\u001b[0;34m(\u001b[0m\u001b[0;34m)\u001b[0m\u001b[0;34m:\u001b[0m\u001b[0;34m\u001b[0m\u001b[0;34m\u001b[0m\u001b[0m\n\u001b[1;32m    543\u001b[0m             \u001b[0mhook_result\u001b[0m \u001b[0;34m=\u001b[0m \u001b[0mhook\u001b[0m\u001b[0;34m(\u001b[0m\u001b[0mself\u001b[0m\u001b[0;34m,\u001b[0m \u001b[0minput\u001b[0m\u001b[0;34m,\u001b[0m \u001b[0mresult\u001b[0m\u001b[0;34m)\u001b[0m\u001b[0;34m\u001b[0m\u001b[0;34m\u001b[0m\u001b[0m\n",
        "\u001b[0;32m~/anaconda3/envs/dl/lib/python3.7/site-packages/torch/nn/modules/module.py\u001b[0m in \u001b[0;36mforward\u001b[0;34m(self, *input)\u001b[0m\n\u001b[1;32m     95\u001b[0m             \u001b[0mregistered\u001b[0m \u001b[0mhooks\u001b[0m \u001b[0;32mwhile\u001b[0m \u001b[0mthe\u001b[0m \u001b[0mlatter\u001b[0m \u001b[0msilently\u001b[0m \u001b[0mignores\u001b[0m \u001b[0mthem\u001b[0m\u001b[0;34m.\u001b[0m\u001b[0;34m\u001b[0m\u001b[0;34m\u001b[0m\u001b[0m\n\u001b[1;32m     96\u001b[0m         \"\"\"\n\u001b[0;32m---> 97\u001b[0;31m         \u001b[0;32mraise\u001b[0m \u001b[0mNotImplementedError\u001b[0m\u001b[0;34m\u001b[0m\u001b[0;34m\u001b[0m\u001b[0m\n\u001b[0m\u001b[1;32m     98\u001b[0m \u001b[0;34m\u001b[0m\u001b[0m\n\u001b[1;32m     99\u001b[0m     \u001b[0;32mdef\u001b[0m \u001b[0mregister_buffer\u001b[0m\u001b[0;34m(\u001b[0m\u001b[0mself\u001b[0m\u001b[0;34m,\u001b[0m \u001b[0mname\u001b[0m\u001b[0;34m,\u001b[0m \u001b[0mtensor\u001b[0m\u001b[0;34m)\u001b[0m\u001b[0;34m:\u001b[0m\u001b[0;34m\u001b[0m\u001b[0;34m\u001b[0m\u001b[0m\n",
        "\u001b[0;31mNotImplementedError\u001b[0m: "
       ]
      }
     ],
     "persistentId": "0048c386-2897-4ad6-824e-2f9019f875a5",
     "text": "# bn = BnLayer(3, 3)\n\nbn()"
    },
    "executionTime": "2019-10-12T16:22:19.580Z"
   },
   {
    "cell": {
     "executionCount": 20,
     "executionEventId": "f815fc3c-1c4c-4c87-8d60-b20cc5e5a362",
     "hasError": false,
     "id": "4b85090f-a520-49c8-bbf5-69a306487971",
     "outputs": [],
     "persistentId": "97b950d8-7cb1-463d-83c5-27960f736147",
     "text": "class BnLayer(nn.Module):\n    def __init__(self, ni, nf, stride=2, kernel_size=3):\n        super().__init__()\n        self.conv = nn.Conv2d(ni, nf, kernel_size=kernel_size, stride=stride,bias=False, padding=1)\n        \n        self.a = nn.Parameter(torch.zeros(nf,1,1))\n        self.m = nn.Parameter(torch.ones(nf,1,1))\n        \n    def forward(self, x):\n        x = F.relu(self.conv(x))\n        x_chan = x.transpose(0,1).contiguous().view(x.size(1), -1)\n\n        if self.training:\n            self.means = x_chan.mean(1)[:,None,None]\n            self.stds  = x_chan.std(1)[:,None,None]          \n\n        return (x-self.means) / self.stds * self.m + self.a"
    },
    "executionTime": "2019-10-12T16:22:28.669Z"
   },
   {
    "cell": {
     "executionCount": 21,
     "executionEventId": "40bbed60-7f53-41b6-9b73-14616744ef82",
     "hasError": false,
     "id": "4b85090f-a520-49c8-bbf5-69a306487971",
     "outputs": [],
     "persistentId": "97b950d8-7cb1-463d-83c5-27960f736147",
     "text": "class BnLayer(nn.Module):\n    def __init__(self, ni, nf, stride=2, kernel_size=3):\n        super().__init__()\n        self.conv = nn.Conv2d(ni, nf, kernel_size=kernel_size, stride=stride,bias=False, padding=1)\n        \n        self.a = nn.Parameter(torch.zeros(nf,1,1))\n        self.m = nn.Parameter(torch.ones(nf,1,1))\n        \n    def forward(self, x):\n        x = F.relu(self.conv(x))\n        x_chan = x.transpose(0,1).contiguous().view(x.size(1), -1)\n\n        if self.training:\n            self.means = x_chan.mean(1)[:,None,None]\n            self.stds  = x_chan.std(1)[:,None,None]          \n\n        return (x-self.means) / self.stds * self.m + self.a"
    },
    "executionTime": "2019-10-12T16:22:28.739Z"
   },
   {
    "cell": {
     "executionCount": 22,
     "executionEventId": "6823bb64-11f2-4b5d-b9aa-0fe871fafd34",
     "hasError": false,
     "id": "afb187a7-6d41-4986-9011-e13f982bec92",
     "outputs": [],
     "persistentId": "3b6fbd17-cccb-4a5b-a4f3-e0597a6f278d",
     "text": "k = torch.rand(1, 3, 224, 224)"
    },
    "executionTime": "2019-10-12T16:22:29.424Z"
   },
   {
    "cell": {
     "executionCount": 23,
     "executionEventId": "a6af1e3e-e7be-4495-a0f5-6a0e918ab740",
     "hasError": true,
     "id": "d5ad43cc-0184-46d6-a1ab-e1b0295760b1",
     "outputs": [
      {
       "ename": "NameError",
       "evalue": "name 'F' is not defined",
       "output_type": "error",
       "traceback": [
        "\u001b[0;31m---------------------------------------------------------------------------\u001b[0m",
        "\u001b[0;31mNameError\u001b[0m                                 Traceback (most recent call last)",
        "\u001b[0;32m<ipython-input-23-c5b203af270c>\u001b[0m in \u001b[0;36m<module>\u001b[0;34m\u001b[0m\n\u001b[1;32m      1\u001b[0m \u001b[0mbn\u001b[0m \u001b[0;34m=\u001b[0m \u001b[0mBnLayer\u001b[0m\u001b[0;34m(\u001b[0m\u001b[0;36m3\u001b[0m\u001b[0;34m,\u001b[0m \u001b[0;36m3\u001b[0m\u001b[0;34m)\u001b[0m\u001b[0;34m\u001b[0m\u001b[0;34m\u001b[0m\u001b[0m\n\u001b[1;32m      2\u001b[0m \u001b[0;34m\u001b[0m\u001b[0m\n\u001b[0;32m----> 3\u001b[0;31m \u001b[0mbn\u001b[0m\u001b[0;34m(\u001b[0m\u001b[0mbn\u001b[0m\u001b[0;34m)\u001b[0m\u001b[0;34m\u001b[0m\u001b[0;34m\u001b[0m\u001b[0m\n\u001b[0m",
        "\u001b[0;32m~/anaconda3/envs/dl/lib/python3.7/site-packages/torch/nn/modules/module.py\u001b[0m in \u001b[0;36m__call__\u001b[0;34m(self, *input, **kwargs)\u001b[0m\n\u001b[1;32m    539\u001b[0m             \u001b[0mresult\u001b[0m \u001b[0;34m=\u001b[0m \u001b[0mself\u001b[0m\u001b[0;34m.\u001b[0m\u001b[0m_slow_forward\u001b[0m\u001b[0;34m(\u001b[0m\u001b[0;34m*\u001b[0m\u001b[0minput\u001b[0m\u001b[0;34m,\u001b[0m \u001b[0;34m**\u001b[0m\u001b[0mkwargs\u001b[0m\u001b[0;34m)\u001b[0m\u001b[0;34m\u001b[0m\u001b[0;34m\u001b[0m\u001b[0m\n\u001b[1;32m    540\u001b[0m         \u001b[0;32melse\u001b[0m\u001b[0;34m:\u001b[0m\u001b[0;34m\u001b[0m\u001b[0;34m\u001b[0m\u001b[0m\n\u001b[0;32m--> 541\u001b[0;31m             \u001b[0mresult\u001b[0m \u001b[0;34m=\u001b[0m \u001b[0mself\u001b[0m\u001b[0;34m.\u001b[0m\u001b[0mforward\u001b[0m\u001b[0;34m(\u001b[0m\u001b[0;34m*\u001b[0m\u001b[0minput\u001b[0m\u001b[0;34m,\u001b[0m \u001b[0;34m**\u001b[0m\u001b[0mkwargs\u001b[0m\u001b[0;34m)\u001b[0m\u001b[0;34m\u001b[0m\u001b[0;34m\u001b[0m\u001b[0m\n\u001b[0m\u001b[1;32m    542\u001b[0m         \u001b[0;32mfor\u001b[0m \u001b[0mhook\u001b[0m \u001b[0;32min\u001b[0m \u001b[0mself\u001b[0m\u001b[0;34m.\u001b[0m\u001b[0m_forward_hooks\u001b[0m\u001b[0;34m.\u001b[0m\u001b[0mvalues\u001b[0m\u001b[0;34m(\u001b[0m\u001b[0;34m)\u001b[0m\u001b[0;34m:\u001b[0m\u001b[0;34m\u001b[0m\u001b[0;34m\u001b[0m\u001b[0m\n\u001b[1;32m    543\u001b[0m             \u001b[0mhook_result\u001b[0m \u001b[0;34m=\u001b[0m \u001b[0mhook\u001b[0m\u001b[0;34m(\u001b[0m\u001b[0mself\u001b[0m\u001b[0;34m,\u001b[0m \u001b[0minput\u001b[0m\u001b[0;34m,\u001b[0m \u001b[0mresult\u001b[0m\u001b[0;34m)\u001b[0m\u001b[0;34m\u001b[0m\u001b[0;34m\u001b[0m\u001b[0m\n",
        "\u001b[0;32m<ipython-input-21-4fe5a579bf2a>\u001b[0m in \u001b[0;36mforward\u001b[0;34m(self, x)\u001b[0m\n\u001b[1;32m      8\u001b[0m \u001b[0;34m\u001b[0m\u001b[0m\n\u001b[1;32m      9\u001b[0m     \u001b[0;32mdef\u001b[0m \u001b[0mforward\u001b[0m\u001b[0;34m(\u001b[0m\u001b[0mself\u001b[0m\u001b[0;34m,\u001b[0m \u001b[0mx\u001b[0m\u001b[0;34m)\u001b[0m\u001b[0;34m:\u001b[0m\u001b[0;34m\u001b[0m\u001b[0;34m\u001b[0m\u001b[0m\n\u001b[0;32m---> 10\u001b[0;31m         \u001b[0mx\u001b[0m \u001b[0;34m=\u001b[0m \u001b[0mF\u001b[0m\u001b[0;34m.\u001b[0m\u001b[0mrelu\u001b[0m\u001b[0;34m(\u001b[0m\u001b[0mself\u001b[0m\u001b[0;34m.\u001b[0m\u001b[0mconv\u001b[0m\u001b[0;34m(\u001b[0m\u001b[0mx\u001b[0m\u001b[0;34m)\u001b[0m\u001b[0;34m)\u001b[0m\u001b[0;34m\u001b[0m\u001b[0;34m\u001b[0m\u001b[0m\n\u001b[0m\u001b[1;32m     11\u001b[0m         \u001b[0mx_chan\u001b[0m \u001b[0;34m=\u001b[0m \u001b[0mx\u001b[0m\u001b[0;34m.\u001b[0m\u001b[0mtranspose\u001b[0m\u001b[0;34m(\u001b[0m\u001b[0;36m0\u001b[0m\u001b[0;34m,\u001b[0m\u001b[0;36m1\u001b[0m\u001b[0;34m)\u001b[0m\u001b[0;34m.\u001b[0m\u001b[0mcontiguous\u001b[0m\u001b[0;34m(\u001b[0m\u001b[0;34m)\u001b[0m\u001b[0;34m.\u001b[0m\u001b[0mview\u001b[0m\u001b[0;34m(\u001b[0m\u001b[0mx\u001b[0m\u001b[0;34m.\u001b[0m\u001b[0msize\u001b[0m\u001b[0;34m(\u001b[0m\u001b[0;36m1\u001b[0m\u001b[0;34m)\u001b[0m\u001b[0;34m,\u001b[0m \u001b[0;34m-\u001b[0m\u001b[0;36m1\u001b[0m\u001b[0;34m)\u001b[0m\u001b[0;34m\u001b[0m\u001b[0;34m\u001b[0m\u001b[0m\n\u001b[1;32m     12\u001b[0m \u001b[0;34m\u001b[0m\u001b[0m\n",
        "\u001b[0;31mNameError\u001b[0m: name 'F' is not defined"
       ]
      }
     ],
     "persistentId": "0048c386-2897-4ad6-824e-2f9019f875a5",
     "text": "bn = BnLayer(3, 3)\n\nbn(bn)"
    },
    "executionTime": "2019-10-12T16:22:32.563Z"
   },
   {
    "cell": {
     "executionCount": 24,
     "executionEventId": "0e9c8b84-b924-4ca6-b57a-3330b0cffe2e",
     "hasError": false,
     "id": "63bff1d5-053a-46e8-87e6-ac286bf9ad4c",
     "outputs": [],
     "persistentId": "5e469a54-df61-4a6c-879a-d00a51320acd",
     "text": "from torch import nn\nfrom torch.nn import functional as F\nimport torch"
    },
    "executionTime": "2019-10-12T16:22:48.665Z"
   },
   {
    "cell": {
     "executionCount": 25,
     "executionEventId": "e1e8c33c-4533-4e5c-bf57-015b089a9605",
     "hasError": false,
     "id": "4b85090f-a520-49c8-bbf5-69a306487971",
     "outputs": [],
     "persistentId": "97b950d8-7cb1-463d-83c5-27960f736147",
     "text": "class BnLayer(nn.Module):\n    def __init__(self, ni, nf, stride=2, kernel_size=3):\n        super().__init__()\n        self.conv = nn.Conv2d(ni, nf, kernel_size=kernel_size, stride=stride,bias=False, padding=1)\n        \n        self.a = nn.Parameter(torch.zeros(nf,1,1))\n        self.m = nn.Parameter(torch.ones(nf,1,1))\n        \n    def forward(self, x):\n        x = F.relu(self.conv(x))\n        x_chan = x.transpose(0,1).contiguous().view(x.size(1), -1)\n\n        if self.training:\n            self.means = x_chan.mean(1)[:,None,None]\n            self.stds  = x_chan.std(1)[:,None,None]          \n\n        return (x-self.means) / self.stds * self.m + self.a"
    },
    "executionTime": "2019-10-12T16:22:49.880Z"
   },
   {
    "cell": {
     "executionCount": 26,
     "executionEventId": "39951bcc-8687-494f-b3f2-e0680a76f2fb",
     "hasError": false,
     "id": "afb187a7-6d41-4986-9011-e13f982bec92",
     "outputs": [],
     "persistentId": "3b6fbd17-cccb-4a5b-a4f3-e0597a6f278d",
     "text": "k = torch.rand(1, 3, 224, 224)"
    },
    "executionTime": "2019-10-12T16:22:50.077Z"
   },
   {
    "cell": {
     "executionCount": 27,
     "executionEventId": "78ca44d3-cafd-4254-a425-b50fc37d40d9",
     "hasError": true,
     "id": "d5ad43cc-0184-46d6-a1ab-e1b0295760b1",
     "outputs": [
      {
       "ename": "TypeError",
       "evalue": "conv2d(): argument 'input' (position 1) must be Tensor, not BnLayer",
       "output_type": "error",
       "traceback": [
        "\u001b[0;31m---------------------------------------------------------------------------\u001b[0m",
        "\u001b[0;31mTypeError\u001b[0m                                 Traceback (most recent call last)",
        "\u001b[0;32m<ipython-input-27-c5b203af270c>\u001b[0m in \u001b[0;36m<module>\u001b[0;34m\u001b[0m\n\u001b[1;32m      1\u001b[0m \u001b[0mbn\u001b[0m \u001b[0;34m=\u001b[0m \u001b[0mBnLayer\u001b[0m\u001b[0;34m(\u001b[0m\u001b[0;36m3\u001b[0m\u001b[0;34m,\u001b[0m \u001b[0;36m3\u001b[0m\u001b[0;34m)\u001b[0m\u001b[0;34m\u001b[0m\u001b[0;34m\u001b[0m\u001b[0m\n\u001b[1;32m      2\u001b[0m \u001b[0;34m\u001b[0m\u001b[0m\n\u001b[0;32m----> 3\u001b[0;31m \u001b[0mbn\u001b[0m\u001b[0;34m(\u001b[0m\u001b[0mbn\u001b[0m\u001b[0;34m)\u001b[0m\u001b[0;34m\u001b[0m\u001b[0;34m\u001b[0m\u001b[0m\n\u001b[0m",
        "\u001b[0;32m~/anaconda3/envs/dl/lib/python3.7/site-packages/torch/nn/modules/module.py\u001b[0m in \u001b[0;36m__call__\u001b[0;34m(self, *input, **kwargs)\u001b[0m\n\u001b[1;32m    539\u001b[0m             \u001b[0mresult\u001b[0m \u001b[0;34m=\u001b[0m \u001b[0mself\u001b[0m\u001b[0;34m.\u001b[0m\u001b[0m_slow_forward\u001b[0m\u001b[0;34m(\u001b[0m\u001b[0;34m*\u001b[0m\u001b[0minput\u001b[0m\u001b[0;34m,\u001b[0m \u001b[0;34m**\u001b[0m\u001b[0mkwargs\u001b[0m\u001b[0;34m)\u001b[0m\u001b[0;34m\u001b[0m\u001b[0;34m\u001b[0m\u001b[0m\n\u001b[1;32m    540\u001b[0m         \u001b[0;32melse\u001b[0m\u001b[0;34m:\u001b[0m\u001b[0;34m\u001b[0m\u001b[0;34m\u001b[0m\u001b[0m\n\u001b[0;32m--> 541\u001b[0;31m             \u001b[0mresult\u001b[0m \u001b[0;34m=\u001b[0m \u001b[0mself\u001b[0m\u001b[0;34m.\u001b[0m\u001b[0mforward\u001b[0m\u001b[0;34m(\u001b[0m\u001b[0;34m*\u001b[0m\u001b[0minput\u001b[0m\u001b[0;34m,\u001b[0m \u001b[0;34m**\u001b[0m\u001b[0mkwargs\u001b[0m\u001b[0;34m)\u001b[0m\u001b[0;34m\u001b[0m\u001b[0;34m\u001b[0m\u001b[0m\n\u001b[0m\u001b[1;32m    542\u001b[0m         \u001b[0;32mfor\u001b[0m \u001b[0mhook\u001b[0m \u001b[0;32min\u001b[0m \u001b[0mself\u001b[0m\u001b[0;34m.\u001b[0m\u001b[0m_forward_hooks\u001b[0m\u001b[0;34m.\u001b[0m\u001b[0mvalues\u001b[0m\u001b[0;34m(\u001b[0m\u001b[0;34m)\u001b[0m\u001b[0;34m:\u001b[0m\u001b[0;34m\u001b[0m\u001b[0;34m\u001b[0m\u001b[0m\n\u001b[1;32m    543\u001b[0m             \u001b[0mhook_result\u001b[0m \u001b[0;34m=\u001b[0m \u001b[0mhook\u001b[0m\u001b[0;34m(\u001b[0m\u001b[0mself\u001b[0m\u001b[0;34m,\u001b[0m \u001b[0minput\u001b[0m\u001b[0;34m,\u001b[0m \u001b[0mresult\u001b[0m\u001b[0;34m)\u001b[0m\u001b[0;34m\u001b[0m\u001b[0;34m\u001b[0m\u001b[0m\n",
        "\u001b[0;32m<ipython-input-25-4fe5a579bf2a>\u001b[0m in \u001b[0;36mforward\u001b[0;34m(self, x)\u001b[0m\n\u001b[1;32m      8\u001b[0m \u001b[0;34m\u001b[0m\u001b[0m\n\u001b[1;32m      9\u001b[0m     \u001b[0;32mdef\u001b[0m \u001b[0mforward\u001b[0m\u001b[0;34m(\u001b[0m\u001b[0mself\u001b[0m\u001b[0;34m,\u001b[0m \u001b[0mx\u001b[0m\u001b[0;34m)\u001b[0m\u001b[0;34m:\u001b[0m\u001b[0;34m\u001b[0m\u001b[0;34m\u001b[0m\u001b[0m\n\u001b[0;32m---> 10\u001b[0;31m         \u001b[0mx\u001b[0m \u001b[0;34m=\u001b[0m \u001b[0mF\u001b[0m\u001b[0;34m.\u001b[0m\u001b[0mrelu\u001b[0m\u001b[0;34m(\u001b[0m\u001b[0mself\u001b[0m\u001b[0;34m.\u001b[0m\u001b[0mconv\u001b[0m\u001b[0;34m(\u001b[0m\u001b[0mx\u001b[0m\u001b[0;34m)\u001b[0m\u001b[0;34m)\u001b[0m\u001b[0;34m\u001b[0m\u001b[0;34m\u001b[0m\u001b[0m\n\u001b[0m\u001b[1;32m     11\u001b[0m         \u001b[0mx_chan\u001b[0m \u001b[0;34m=\u001b[0m \u001b[0mx\u001b[0m\u001b[0;34m.\u001b[0m\u001b[0mtranspose\u001b[0m\u001b[0;34m(\u001b[0m\u001b[0;36m0\u001b[0m\u001b[0;34m,\u001b[0m\u001b[0;36m1\u001b[0m\u001b[0;34m)\u001b[0m\u001b[0;34m.\u001b[0m\u001b[0mcontiguous\u001b[0m\u001b[0;34m(\u001b[0m\u001b[0;34m)\u001b[0m\u001b[0;34m.\u001b[0m\u001b[0mview\u001b[0m\u001b[0;34m(\u001b[0m\u001b[0mx\u001b[0m\u001b[0;34m.\u001b[0m\u001b[0msize\u001b[0m\u001b[0;34m(\u001b[0m\u001b[0;36m1\u001b[0m\u001b[0;34m)\u001b[0m\u001b[0;34m,\u001b[0m \u001b[0;34m-\u001b[0m\u001b[0;36m1\u001b[0m\u001b[0;34m)\u001b[0m\u001b[0;34m\u001b[0m\u001b[0;34m\u001b[0m\u001b[0m\n\u001b[1;32m     12\u001b[0m \u001b[0;34m\u001b[0m\u001b[0m\n",
        "\u001b[0;32m~/anaconda3/envs/dl/lib/python3.7/site-packages/torch/nn/modules/module.py\u001b[0m in \u001b[0;36m__call__\u001b[0;34m(self, *input, **kwargs)\u001b[0m\n\u001b[1;32m    539\u001b[0m             \u001b[0mresult\u001b[0m \u001b[0;34m=\u001b[0m \u001b[0mself\u001b[0m\u001b[0;34m.\u001b[0m\u001b[0m_slow_forward\u001b[0m\u001b[0;34m(\u001b[0m\u001b[0;34m*\u001b[0m\u001b[0minput\u001b[0m\u001b[0;34m,\u001b[0m \u001b[0;34m**\u001b[0m\u001b[0mkwargs\u001b[0m\u001b[0;34m)\u001b[0m\u001b[0;34m\u001b[0m\u001b[0;34m\u001b[0m\u001b[0m\n\u001b[1;32m    540\u001b[0m         \u001b[0;32melse\u001b[0m\u001b[0;34m:\u001b[0m\u001b[0;34m\u001b[0m\u001b[0;34m\u001b[0m\u001b[0m\n\u001b[0;32m--> 541\u001b[0;31m             \u001b[0mresult\u001b[0m \u001b[0;34m=\u001b[0m \u001b[0mself\u001b[0m\u001b[0;34m.\u001b[0m\u001b[0mforward\u001b[0m\u001b[0;34m(\u001b[0m\u001b[0;34m*\u001b[0m\u001b[0minput\u001b[0m\u001b[0;34m,\u001b[0m \u001b[0;34m**\u001b[0m\u001b[0mkwargs\u001b[0m\u001b[0;34m)\u001b[0m\u001b[0;34m\u001b[0m\u001b[0;34m\u001b[0m\u001b[0m\n\u001b[0m\u001b[1;32m    542\u001b[0m         \u001b[0;32mfor\u001b[0m \u001b[0mhook\u001b[0m \u001b[0;32min\u001b[0m \u001b[0mself\u001b[0m\u001b[0;34m.\u001b[0m\u001b[0m_forward_hooks\u001b[0m\u001b[0;34m.\u001b[0m\u001b[0mvalues\u001b[0m\u001b[0;34m(\u001b[0m\u001b[0;34m)\u001b[0m\u001b[0;34m:\u001b[0m\u001b[0;34m\u001b[0m\u001b[0;34m\u001b[0m\u001b[0m\n\u001b[1;32m    543\u001b[0m             \u001b[0mhook_result\u001b[0m \u001b[0;34m=\u001b[0m \u001b[0mhook\u001b[0m\u001b[0;34m(\u001b[0m\u001b[0mself\u001b[0m\u001b[0;34m,\u001b[0m \u001b[0minput\u001b[0m\u001b[0;34m,\u001b[0m \u001b[0mresult\u001b[0m\u001b[0;34m)\u001b[0m\u001b[0;34m\u001b[0m\u001b[0;34m\u001b[0m\u001b[0m\n",
        "\u001b[0;32m~/anaconda3/envs/dl/lib/python3.7/site-packages/torch/nn/modules/conv.py\u001b[0m in \u001b[0;36mforward\u001b[0;34m(self, input)\u001b[0m\n\u001b[1;32m    343\u001b[0m \u001b[0;34m\u001b[0m\u001b[0m\n\u001b[1;32m    344\u001b[0m     \u001b[0;32mdef\u001b[0m \u001b[0mforward\u001b[0m\u001b[0;34m(\u001b[0m\u001b[0mself\u001b[0m\u001b[0;34m,\u001b[0m \u001b[0minput\u001b[0m\u001b[0;34m)\u001b[0m\u001b[0;34m:\u001b[0m\u001b[0;34m\u001b[0m\u001b[0;34m\u001b[0m\u001b[0m\n\u001b[0;32m--> 345\u001b[0;31m         \u001b[0;32mreturn\u001b[0m \u001b[0mself\u001b[0m\u001b[0;34m.\u001b[0m\u001b[0mconv2d_forward\u001b[0m\u001b[0;34m(\u001b[0m\u001b[0minput\u001b[0m\u001b[0;34m,\u001b[0m \u001b[0mself\u001b[0m\u001b[0;34m.\u001b[0m\u001b[0mweight\u001b[0m\u001b[0;34m)\u001b[0m\u001b[0;34m\u001b[0m\u001b[0;34m\u001b[0m\u001b[0m\n\u001b[0m\u001b[1;32m    346\u001b[0m \u001b[0;34m\u001b[0m\u001b[0m\n\u001b[1;32m    347\u001b[0m \u001b[0;32mclass\u001b[0m \u001b[0mConv3d\u001b[0m\u001b[0;34m(\u001b[0m\u001b[0m_ConvNd\u001b[0m\u001b[0;34m)\u001b[0m\u001b[0;34m:\u001b[0m\u001b[0;34m\u001b[0m\u001b[0;34m\u001b[0m\u001b[0m\n",
        "\u001b[0;32m~/anaconda3/envs/dl/lib/python3.7/site-packages/torch/nn/modules/conv.py\u001b[0m in \u001b[0;36mconv2d_forward\u001b[0;34m(self, input, weight)\u001b[0m\n\u001b[1;32m    340\u001b[0m                             _pair(0), self.dilation, self.groups)\n\u001b[1;32m    341\u001b[0m         return F.conv2d(input, weight, self.bias, self.stride,\n\u001b[0;32m--> 342\u001b[0;31m                         self.padding, self.dilation, self.groups)\n\u001b[0m\u001b[1;32m    343\u001b[0m \u001b[0;34m\u001b[0m\u001b[0m\n\u001b[1;32m    344\u001b[0m     \u001b[0;32mdef\u001b[0m \u001b[0mforward\u001b[0m\u001b[0;34m(\u001b[0m\u001b[0mself\u001b[0m\u001b[0;34m,\u001b[0m \u001b[0minput\u001b[0m\u001b[0;34m)\u001b[0m\u001b[0;34m:\u001b[0m\u001b[0;34m\u001b[0m\u001b[0;34m\u001b[0m\u001b[0m\n",
        "\u001b[0;31mTypeError\u001b[0m: conv2d(): argument 'input' (position 1) must be Tensor, not BnLayer"
       ]
      }
     ],
     "persistentId": "0048c386-2897-4ad6-824e-2f9019f875a5",
     "text": "bn = BnLayer(3, 3)\n\nbn(bn)"
    },
    "executionTime": "2019-10-12T16:22:50.209Z"
   },
   {
    "cell": {
     "executionCount": 28,
     "executionEventId": "cdc37b21-b2f8-427c-a924-b47d8f90dc3c",
     "hasError": false,
     "id": "d5ad43cc-0184-46d6-a1ab-e1b0295760b1",
     "outputs": [
      {
       "data": {
        "text/plain": "tensor([[[[ 3.0756e+00, -2.3196e-01, -2.3196e-01,  ..., -2.3196e-01,\n           -2.3196e-01, -2.3196e-01],\n          [ 3.0057e+00, -2.3196e-01, -2.3196e-01,  ..., -2.3196e-01,\n           -2.3196e-01, -2.3196e-01],\n          [ 3.1222e+00, -2.3196e-01, -2.3196e-01,  ..., -2.3196e-01,\n           -2.3196e-01, -2.3196e-01],\n          ...,\n          [ 4.0977e+00, -2.3196e-01, -2.3196e-01,  ..., -2.3196e-01,\n           -2.3196e-01, -2.3196e-01],\n          [-2.3196e-01, -2.3196e-01, -2.3196e-01,  ..., -2.3196e-01,\n           -2.3196e-01, -2.3196e-01],\n          [ 4.2626e+00, -2.3196e-01, -2.3196e-01,  ..., -2.3196e-01,\n            8.9039e-01, -2.3196e-01]],\n\n         [[ 2.8621e-03,  4.1763e+00,  2.7658e+00,  ...,  3.3637e+00,\n            8.2776e-01,  3.1744e+00],\n          [-6.4389e-01,  4.4485e-01, -6.4389e-01,  ..., -6.4389e-01,\n           -3.4279e-02, -6.4389e-01],\n          [-6.4389e-01, -6.4389e-01,  2.0330e+00,  ...,  4.6373e-02,\n           -6.4389e-01, -6.4389e-01],\n          ...,\n          [-6.4389e-01, -6.4389e-01, -3.2228e-01,  ..., -6.4389e-01,\n           -6.4389e-01, -6.4389e-01],\n          [ 2.9475e-01, -6.4389e-01,  8.2174e-01,  ..., -6.4389e-01,\n           -6.4389e-01, -1.7946e-01],\n          [-6.4389e-01, -6.4389e-01, -6.4389e-01,  ..., -6.4389e-01,\n           -6.4389e-01,  7.1316e-01]],\n\n         [[-1.5742e-01, -1.5742e-01, -1.5742e-01,  ..., -1.5742e-01,\n           -1.5742e-01, -1.5742e-01],\n          [-1.5742e-01, -1.5742e-01,  1.8894e+00,  ..., -1.5742e-01,\n           -1.5742e-01, -1.5742e-01],\n          [-1.5742e-01, -1.5742e-01, -1.5742e-01,  ..., -1.5742e-01,\n           -1.5742e-01, -1.5742e-01],\n          ...,\n          [-1.5742e-01, -1.5742e-01, -1.5742e-01,  ..., -1.5742e-01,\n           -1.5742e-01, -1.5742e-01],\n          [-1.5742e-01, -1.5742e-01, -1.5742e-01,  ..., -1.5742e-01,\n           -1.5742e-01, -1.5742e-01],\n          [-1.5742e-01, -1.5742e-01, -1.5742e-01,  ..., -1.5742e-01,\n           -1.5742e-01, -1.5742e-01]]]], grad_fn=<AddBackward0>)"
       },
       "execution_count": 28,
       "metadata": {},
       "output_type": "execute_result"
      }
     ],
     "persistentId": "0048c386-2897-4ad6-824e-2f9019f875a5",
     "text": "bn = BnLayer(3, 3)\n\nbn(k)"
    },
    "executionTime": "2019-10-12T16:22:58.951Z"
   },
   {
    "cell": {
     "executionCount": 29,
     "executionEventId": "119dd795-35ec-45f8-8990-542e613a4e53",
     "hasError": false,
     "id": "d5ad43cc-0184-46d6-a1ab-e1b0295760b1",
     "outputs": [],
     "persistentId": "0048c386-2897-4ad6-824e-2f9019f875a5",
     "text": "bn = BnLayer(3, 3)\n\nR =bn(k)"
    },
    "executionTime": "2019-10-12T16:23:03.024Z"
   },
   {
    "cell": {
     "executionCount": 30,
     "executionEventId": "09abf11e-6bc7-443d-a9a4-2f153795dca1",
     "hasError": false,
     "id": "37e2e3b9-cbbc-46e8-97d9-10137ccbbe6e",
     "outputs": [
      {
       "data": {
        "text/plain": "tensor([[[[-1.7040e-01, -1.7040e-01,  2.5653e+00,  ..., -1.7040e-01,\n           -1.7040e-01, -1.7040e-01],\n          [ 5.9308e+00, -1.7040e-01, -1.7040e-01,  ..., -1.7040e-01,\n           -1.7040e-01, -1.7040e-01],\n          [-1.7040e-01, -1.7040e-01, -1.7040e-01,  ..., -1.7040e-01,\n           -1.7040e-01, -1.7040e-01],\n          ...,\n          [-1.7040e-01, -1.7040e-01, -1.7040e-01,  ..., -1.7040e-01,\n           -1.7040e-01, -1.7040e-01],\n          [-1.7040e-01, -1.7040e-01, -1.7040e-01,  ..., -1.7040e-01,\n           -1.7040e-01, -1.7040e-01],\n          [-1.7040e-01, -1.7040e-01, -1.7040e-01,  ..., -1.7040e-01,\n           -1.7040e-01, -1.7040e-01]],\n\n         [[-1.3702e+00, -9.8371e-01,  2.3649e-01,  ...,  8.3903e-01,\n           -1.4995e+00, -1.7369e-01],\n          [ 8.1139e-01,  6.6867e-01, -5.2995e-01,  ...,  9.3990e-01,\n            1.4406e+00, -2.6079e-01],\n          [-1.3772e+00,  1.1547e+00, -1.2696e+00,  ...,  5.5451e-01,\n            8.7345e-01,  1.5026e-01],\n          ...,\n          [-1.0088e-01, -2.4382e-01,  1.1288e+00,  ...,  2.1675e+00,\n            9.4372e-01, -7.2019e-01],\n          [-4.3065e-01, -1.4995e+00,  1.1795e+00,  ...,  1.3274e-01,\n           -6.2825e-02,  1.0053e+00],\n          [-8.1174e-01,  4.9200e-01,  1.0249e+00,  ..., -1.1967e-01,\n            1.0074e+00,  1.1950e+00]],\n\n         [[ 8.3073e-01,  5.7685e-01,  7.4358e-01,  ...,  5.8143e-01,\n           -1.8814e-01,  2.0829e+00],\n          [ 5.2373e-03, -1.8981e-02, -6.4892e-02,  ..., -1.1428e+00,\n            3.7338e-01, -3.8857e-01],\n          [-9.2037e-01, -5.5807e-01, -5.8462e-01,  ..., -5.3948e-03,\n           -5.1121e-01, -1.0756e+00],\n          ...,\n          [-8.7204e-01, -2.2740e-01, -6.1428e-01,  ..., -1.3645e+00,\n            3.7144e-01,  1.3866e+00],\n          [-1.4222e+00, -4.9481e-01, -7.2279e-01,  ..., -9.0898e-01,\n           -1.4222e+00,  1.0975e+00],\n          [-1.4222e+00,  4.9223e-01, -9.7553e-01,  ..., -4.6665e-01,\n           -7.6391e-01, -6.9574e-01]]]], grad_fn=<AddBackward0>)"
       },
       "execution_count": 30,
       "metadata": {},
       "output_type": "execute_result"
      }
     ],
     "persistentId": "b69a923f-9f3f-459c-b66a-c6b2caede5d3",
     "text": "R"
    },
    "executionTime": "2019-10-12T16:23:04.422Z"
   },
   {
    "cell": {
     "executionCount": 31,
     "executionEventId": "5939a898-2dc9-49ff-841d-850601bee02f",
     "hasError": false,
     "id": "37e2e3b9-cbbc-46e8-97d9-10137ccbbe6e",
     "outputs": [
      {
       "data": {
        "text/plain": "tensor(3.8723e-08, grad_fn=<MeanBackward0>)"
       },
       "execution_count": 31,
       "metadata": {},
       "output_type": "execute_result"
      }
     ],
     "persistentId": "b69a923f-9f3f-459c-b66a-c6b2caede5d3",
     "text": "R.mean()"
    },
    "executionTime": "2019-10-12T16:23:06.666Z"
   },
   {
    "cell": {
     "executionCount": 32,
     "executionEventId": "ce4fb9ed-b5ea-4ef0-948e-b6e35d88b3c5",
     "hasError": false,
     "id": "37e2e3b9-cbbc-46e8-97d9-10137ccbbe6e",
     "outputs": [
      {
       "data": {
        "text/plain": "tensor([[[-0.1704, -0.1704,  2.5653,  ..., -0.1704, -0.1704, -0.1704],\n         [ 5.9308, -0.1704, -0.1704,  ..., -0.1704, -0.1704, -0.1704],\n         [-0.1704, -0.1704, -0.1704,  ..., -0.1704, -0.1704, -0.1704],\n         ...,\n         [-0.1704, -0.1704, -0.1704,  ..., -0.1704, -0.1704, -0.1704],\n         [-0.1704, -0.1704, -0.1704,  ..., -0.1704, -0.1704, -0.1704],\n         [-0.1704, -0.1704, -0.1704,  ..., -0.1704, -0.1704, -0.1704]]],\n       grad_fn=<SliceBackward>)"
       },
       "execution_count": 32,
       "metadata": {},
       "output_type": "execute_result"
      }
     ],
     "persistentId": "b69a923f-9f3f-459c-b66a-c6b2caede5d3",
     "text": "R[:, 0, :, :]"
    },
    "executionTime": "2019-10-12T16:23:57.697Z"
   },
   {
    "cell": {
     "executionCount": 33,
     "executionEventId": "7d91585b-94ed-4a9e-8bd3-67a235b7fdb5",
     "hasError": false,
     "id": "37e2e3b9-cbbc-46e8-97d9-10137ccbbe6e",
     "outputs": [
      {
       "data": {
        "text/plain": "tensor(1., grad_fn=<StdBackward0>)"
       },
       "execution_count": 33,
       "metadata": {},
       "output_type": "execute_result"
      }
     ],
     "persistentId": "b69a923f-9f3f-459c-b66a-c6b2caede5d3",
     "text": "R[:, 0, :, :].std()"
    },
    "executionTime": "2019-10-12T16:24:01.324Z"
   },
   {
    "cell": {
     "executionCount": 34,
     "executionEventId": "0cf4b720-c212-45df-af1a-20ec8974570d",
     "hasError": false,
     "id": "37e2e3b9-cbbc-46e8-97d9-10137ccbbe6e",
     "outputs": [
      {
       "data": {
        "text/plain": "tensor(1.3350e-07, grad_fn=<MeanBackward0>)"
       },
       "execution_count": 34,
       "metadata": {},
       "output_type": "execute_result"
      }
     ],
     "persistentId": "b69a923f-9f3f-459c-b66a-c6b2caede5d3",
     "text": "R[:, 0, :, :].mean()"
    },
    "executionTime": "2019-10-12T16:24:03.625Z"
   },
   {
    "cell": {
     "executionCount": 35,
     "executionEventId": "344b9a0b-6aed-4da7-892d-21ed09d19986",
     "hasError": false,
     "id": "37e2e3b9-cbbc-46e8-97d9-10137ccbbe6e",
     "outputs": [
      {
       "data": {
        "text/plain": "tensor(3.8723e-08, grad_fn=<MeanBackward0>)"
       },
       "execution_count": 35,
       "metadata": {},
       "output_type": "execute_result"
      }
     ],
     "persistentId": "b69a923f-9f3f-459c-b66a-c6b2caede5d3",
     "text": "R[:, :, :, :].mean()"
    },
    "executionTime": "2019-10-12T16:26:26.140Z"
   },
   {
    "cell": {
     "executionCount": 36,
     "executionEventId": "cbda863f-98d4-416c-af25-cb784e222fd2",
     "hasError": false,
     "id": "37e2e3b9-cbbc-46e8-97d9-10137ccbbe6e",
     "outputs": [
      {
       "data": {
        "text/plain": "tensor(1.0000, grad_fn=<StdBackward0>)"
       },
       "execution_count": 36,
       "metadata": {},
       "output_type": "execute_result"
      }
     ],
     "persistentId": "b69a923f-9f3f-459c-b66a-c6b2caede5d3",
     "text": "R[:, :, :, :].std()"
    },
    "executionTime": "2019-10-12T16:26:29.116Z"
   },
   {
    "cell": {
     "executionCount": 37,
     "executionEventId": "a4495a90-e098-4471-af91-c42e52b36571",
     "hasError": false,
     "id": "d5ad43cc-0184-46d6-a1ab-e1b0295760b1",
     "outputs": [],
     "persistentId": "0048c386-2897-4ad6-824e-2f9019f875a5",
     "text": "bn = BnLayer(3, 3)\n\nR =bn(k)"
    },
    "executionTime": "2019-10-12T16:26:39.916Z"
   },
   {
    "cell": {
     "executionCount": 38,
     "executionEventId": "4a35d16c-5c65-4cc2-bb85-52591e560ada",
     "hasError": true,
     "id": "afb187a7-6d41-4986-9011-e13f982bec92",
     "outputs": [
      {
       "ename": "NameError",
       "evalue": "name 'torJch' is not defined",
       "output_type": "error",
       "traceback": [
        "\u001b[0;31m---------------------------------------------------------------------------\u001b[0m",
        "\u001b[0;31mNameError\u001b[0m                                 Traceback (most recent call last)",
        "\u001b[0;32m<ipython-input-38-e975176fa6b7>\u001b[0m in \u001b[0;36m<module>\u001b[0;34m\u001b[0m\n\u001b[0;32m----> 1\u001b[0;31m \u001b[0mk\u001b[0m \u001b[0;34m=\u001b[0m \u001b[0mtorJch\u001b[0m\u001b[0;34m.\u001b[0m\u001b[0mrand\u001b[0m\u001b[0;34m(\u001b[0m\u001b[0;36m1\u001b[0m\u001b[0;34m,\u001b[0m \u001b[0;36m3\u001b[0m\u001b[0;34m,\u001b[0m \u001b[0;36m224\u001b[0m\u001b[0;34m,\u001b[0m \u001b[0;36m224\u001b[0m\u001b[0;34m)\u001b[0m\u001b[0;34m\u001b[0m\u001b[0;34m\u001b[0m\u001b[0m\n\u001b[0m",
        "\u001b[0;31mNameError\u001b[0m: name 'torJch' is not defined"
       ]
      }
     ],
     "persistentId": "3b6fbd17-cccb-4a5b-a4f3-e0597a6f278d",
     "text": "k = torJch.rand(1, 3, 224, 224)"
    },
    "executionTime": "2019-10-12T16:26:40.778Z"
   },
   {
    "cell": {
     "executionCount": 39,
     "executionEventId": "86debead-1255-4850-9c66-576ae158b567",
     "hasError": false,
     "id": "d5ad43cc-0184-46d6-a1ab-e1b0295760b1",
     "outputs": [],
     "persistentId": "0048c386-2897-4ad6-824e-2f9019f875a5",
     "text": "bn = BnLayer(3, 3)\n\nR =bn(k)"
    },
    "executionTime": "2019-10-12T16:26:40.921Z"
   },
   {
    "cell": {
     "executionCount": 40,
     "executionEventId": "96b5ed42-e0ec-4fd4-9011-8ac7eb956fd9",
     "hasError": false,
     "id": "afb187a7-6d41-4986-9011-e13f982bec92",
     "outputs": [],
     "persistentId": "3b6fbd17-cccb-4a5b-a4f3-e0597a6f278d",
     "text": "k = torch.rand(1, 3, 224, 224)"
    },
    "executionTime": "2019-10-12T16:26:42.129Z"
   },
   {
    "cell": {
     "executionCount": 41,
     "executionEventId": "b1684c0c-c1dc-4598-b70c-0619744ab422",
     "hasError": false,
     "id": "275154fd-c0ef-41ac-b980-9c14090feaab",
     "outputs": [
      {
       "data": {
        "text/plain": "tensor([[[[-0.5843, -1.3747, -1.3747,  ..., -1.2606, -1.1042, -1.3747],\n          [-0.9203,  1.8065, -0.4108,  ..., -1.2698, -0.1045, -1.1471],\n          [-0.6064,  0.3890,  0.9710,  ..., -1.3747, -1.3747, -0.5092],\n          ...,\n          [ 0.9268, -1.0680,  1.5639,  ..., -1.3747,  0.3170, -0.5543],\n          [ 0.6753, -1.0793,  1.5583,  ..., -0.5816,  0.4704, -0.5667],\n          [ 0.1594,  0.6218, -1.3147,  ..., -1.3747, -0.9404,  1.7128]],\n\n         [[ 3.7881,  1.2229,  3.8905,  ...,  1.7718,  0.5428,  1.2396],\n          [-0.0762, -0.4419, -0.4419,  ..., -0.4419, -0.4419,  1.5560],\n          [ 1.1946, -0.4419, -0.4419,  ..., -0.4419, -0.4419, -0.4419],\n          ...,\n          [-0.4419, -0.4419, -0.4419,  ..., -0.4419, -0.4419, -0.4419],\n          [-0.4419,  2.0746,  2.5109,  ...,  2.9186,  0.0478, -0.4419],\n          [-0.4419, -0.4419,  1.1766,  ..., -0.4419,  1.7503, -0.4419]],\n\n         [[ 4.7852, -0.2417, -0.2417,  ..., -0.2417,  3.3629, -0.2417],\n          [-0.2417, -0.2417,  0.7427,  ..., -0.2417, -0.2417, -0.2417],\n          [-0.2417, -0.2417, -0.2417,  ..., -0.2417, -0.2417, -0.2417],\n          ...,\n          [-0.2417, -0.2417, -0.2417,  ..., -0.2417, -0.2417, -0.2417],\n          [-0.2417, -0.2417,  0.5559,  ..., -0.2417, -0.2417,  3.8096],\n          [-0.2417, -0.2417, -0.2417,  ..., -0.2417, -0.2417, -0.2417]]]],\n       grad_fn=<AddBackward0>)"
       },
       "execution_count": 41,
       "metadata": {},
       "output_type": "execute_result"
      }
     ],
     "persistentId": "8f58097d-bd43-4940-8705-f59495224a23",
     "text": "R"
    },
    "executionTime": "2019-10-12T16:26:43.888Z"
   },
   {
    "cell": {
     "executionCount": 42,
     "executionEventId": "1ccdc61a-0580-49db-8ded-67eaebd82b94",
     "hasError": false,
     "id": "63bff1d5-053a-46e8-87e6-ac286bf9ad4c",
     "outputs": [],
     "persistentId": "5e469a54-df61-4a6c-879a-d00a51320acd",
     "text": "from torch import nn\nfrom torch.nn import functional as F\nimport torch\nfrom utils.metrics import calculate_acc"
    },
    "executionTime": "2019-10-12T16:29:14.887Z"
   },
   {
    "cell": {
     "executionCount": 43,
     "executionEventId": "40d8a9de-3e91-46d6-806c-2fba1c3149f3",
     "hasError": false,
     "id": "275154fd-c0ef-41ac-b980-9c14090feaab",
     "outputs": [
      {
       "name": "stdout",
       "output_type": "stream",
       "text": "/media/i008/ssd500/googledrive/dsr-pytorch\n"
      }
     ],
     "persistentId": "8f58097d-bd43-4940-8705-f59495224a23",
     "text": "!pwd"
    },
    "executionTime": "2019-10-12T16:30:22.079Z"
   },
   {
    "cell": {
     "executionCount": 44,
     "executionEventId": "79554186-79ac-4d32-9079-217651de6c98",
     "hasError": true,
     "id": "275154fd-c0ef-41ac-b980-9c14090feaab",
     "outputs": [
      {
       "ename": "ValueError",
       "evalue": "attempted relative import beyond top-level package",
       "output_type": "error",
       "traceback": [
        "\u001b[0;31m---------------------------------------------------------------------------\u001b[0m",
        "\u001b[0;31mValueError\u001b[0m                                Traceback (most recent call last)",
        "\u001b[0;32m<ipython-input-44-86dd180eb4b0>\u001b[0m in \u001b[0;36m<module>\u001b[0;34m\u001b[0m\n\u001b[0;32m----> 1\u001b[0;31m \u001b[0;32mfrom\u001b[0m \u001b[0;34m.\u001b[0m\u001b[0;34m.\u001b[0m \u001b[0;32mimport\u001b[0m \u001b[0mbla\u001b[0m\u001b[0;34m\u001b[0m\u001b[0;34m\u001b[0m\u001b[0m\n\u001b[0m",
        "\u001b[0;31mValueError\u001b[0m: attempted relative import beyond top-level package"
       ]
      }
     ],
     "persistentId": "8f58097d-bd43-4940-8705-f59495224a23",
     "text": "from .. import bla"
    },
    "executionTime": "2019-10-12T16:31:37.778Z"
   },
   {
    "cell": {
     "executionCount": 45,
     "executionEventId": "33695259-ff29-47b0-8c62-5d23d1388019",
     "hasError": true,
     "id": "275154fd-c0ef-41ac-b980-9c14090feaab",
     "outputs": [
      {
       "ename": "SyntaxError",
       "evalue": "invalid syntax (<ipython-input-45-bbd4bf76880a>, line 1)",
       "output_type": "error",
       "traceback": [
        "\u001b[0;36m  File \u001b[0;32m\"<ipython-input-45-bbd4bf76880a>\"\u001b[0;36m, line \u001b[0;32m1\u001b[0m\n\u001b[0;31m    from ..bla\u001b[0m\n\u001b[0m              ^\u001b[0m\n\u001b[0;31mSyntaxError\u001b[0m\u001b[0;31m:\u001b[0m invalid syntax\n"
       ]
      }
     ],
     "persistentId": "8f58097d-bd43-4940-8705-f59495224a23",
     "text": "from ..bla"
    },
    "executionTime": "2019-10-12T16:31:42.157Z"
   },
   {
    "cell": {
     "executionCount": 46,
     "executionEventId": "51badb07-ad10-4d6f-86bf-8cdf3c83298f",
     "hasError": true,
     "id": "275154fd-c0ef-41ac-b980-9c14090feaab",
     "outputs": [
      {
       "ename": "ValueError",
       "evalue": "attempted relative import beyond top-level package",
       "output_type": "error",
       "traceback": [
        "\u001b[0;31m---------------------------------------------------------------------------\u001b[0m",
        "\u001b[0;31mValueError\u001b[0m                                Traceback (most recent call last)",
        "\u001b[0;32m<ipython-input-46-190cc7ef1c30>\u001b[0m in \u001b[0;36m<module>\u001b[0;34m\u001b[0m\n\u001b[0;32m----> 1\u001b[0;31m \u001b[0;32mfrom\u001b[0m \u001b[0;34m.\u001b[0m\u001b[0;34m.\u001b[0m\u001b[0mbla\u001b[0m \u001b[0;32mimport\u001b[0m \u001b[0mX\u001b[0m\u001b[0;34m\u001b[0m\u001b[0;34m\u001b[0m\u001b[0m\n\u001b[0m",
        "\u001b[0;31mValueError\u001b[0m: attempted relative import beyond top-level package"
       ]
      }
     ],
     "persistentId": "8f58097d-bd43-4940-8705-f59495224a23",
     "text": "from ..bla import X"
    },
    "executionTime": "2019-10-12T16:31:44.449Z"
   },
   {
    "cell": {
     "executionCount": 47,
     "executionEventId": "a25923e3-f9b6-41ef-8ec8-2b234e410530",
     "hasError": false,
     "id": "afb187a7-6d41-4986-9011-e13f982bec92",
     "outputs": [],
     "persistentId": "3b6fbd17-cccb-4a5b-a4f3-e0597a6f278d",
     "text": "k = torch.rand(1, 3, 224, 224)"
    },
    "executionTime": "2019-10-12T16:34:49.294Z"
   },
   {
    "cell": {
     "executionCount": 48,
     "executionEventId": "d445a7a8-01fa-4743-bd3d-29f5febef334",
     "hasError": false,
     "id": "d5ad43cc-0184-46d6-a1ab-e1b0295760b1",
     "outputs": [],
     "persistentId": "0048c386-2897-4ad6-824e-2f9019f875a5",
     "text": "bn = BnLayer(3, 3)\n\nR =bn(k)"
    },
    "executionTime": "2019-10-12T16:34:49.423Z"
   },
   {
    "cell": {
     "executionCount": 48,
     "executionEventId": "307bb0cf-7dc3-4df6-b5a9-a1d290c1c9ec",
     "hasError": false,
     "id": "d5ad43cc-0184-46d6-a1ab-e1b0295760b1",
     "outputs": [],
     "persistentId": "0048c386-2897-4ad6-824e-2f9019f875a5",
     "text": "bn = BnLayer(3, 3)\n\nR =bn(k)"
    },
    "executionTime": "2019-10-12T16:34:49.429Z"
   },
   {
    "cell": {
     "executionCount": 49,
     "executionEventId": "9f036d4a-7e54-4972-b5c2-5332201bf936",
     "hasError": false,
     "id": "4b85090f-a520-49c8-bbf5-69a306487971",
     "outputs": [],
     "persistentId": "97b950d8-7cb1-463d-83c5-27960f736147",
     "text": "class BnLayer(nn.Module):\n    def __init__(self, ni, nf, stride=2, kernel_size=3):\n        super().__init__()\n        self.conv = nn.Conv2d(ni, nf, kernel_size=kernel_size, stride=stride,bias=False, padding=1)\n        \n        self.a = nn.Parameter(torch.zeros(nf,1,1))\n        self.m = nn.Parameter(torch.ones(nf,1,1))\n        \n    def forward(self, x):\n        x = F.relu(self.conv(x))\n        x_chan = x.transpose(0,1).contiguous().view(x.size(1), -1)\n\n        if self.training:\n            self.means = x_chan.mean(1)[:,None,None]\n            self.stds  = x_chan.std(1)[:,None,None]          \n\n        return (x-self.means) / self.stds * self.m + self.a"
    },
    "executionTime": "2019-10-12T16:35:04.337Z"
   },
   {
    "cell": {
     "executionCount": 50,
     "executionEventId": "a2369b69-7c32-45b9-bf76-17068a0493f8",
     "hasError": false,
     "id": "63bff1d5-053a-46e8-87e6-ac286bf9ad4c",
     "outputs": [],
     "persistentId": "5e469a54-df61-4a6c-879a-d00a51320acd",
     "text": "from torch import nn\nfrom torch.nn import functional as F\nimport torch\nfrom utils.metrics import calculate_acc"
    },
    "executionTime": "2019-10-12T16:35:06.773Z"
   },
   {
    "cell": {
     "executionCount": 51,
     "executionEventId": "12e38523-e651-4425-b25a-c3c923324dad",
     "hasError": false,
     "id": "4b85090f-a520-49c8-bbf5-69a306487971",
     "outputs": [],
     "persistentId": "97b950d8-7cb1-463d-83c5-27960f736147",
     "text": "class BnLayer(nn.Module):\n    def __init__(self, ni, nf, stride=2, kernel_size=3):\n        super().__init__()\n        self.conv = nn.Conv2d(ni, nf, kernel_size=kernel_size, stride=stride,bias=False, padding=1)\n        \n        self.a = nn.Parameter(torch.zeros(nf,1,1))\n        self.m = nn.Parameter(torch.ones(nf,1,1))\n        \n    def forward(self, x):\n        x = F.relu(self.conv(x))\n        x_chan = x.transpose(0,1).contiguous().view(x.size(1), -1)\n\n        if self.training:\n            self.means = x_chan.mean(1)[:,None,None]\n            self.stds  = x_chan.std(1)[:,None,None]          \n\n        return (x-self.means) / self.stds * self.m + self.a"
    },
    "executionTime": "2019-10-12T16:35:06.944Z"
   },
   {
    "cell": {
     "executionCount": 52,
     "executionEventId": "b9d50e07-fe1f-4759-afac-d0c841411109",
     "hasError": false,
     "id": "afb187a7-6d41-4986-9011-e13f982bec92",
     "outputs": [],
     "persistentId": "3b6fbd17-cccb-4a5b-a4f3-e0597a6f278d",
     "text": "k = torch.rand(1, 3, 224, 224)"
    },
    "executionTime": "2019-10-12T16:35:07.105Z"
   },
   {
    "cell": {
     "executionCount": 53,
     "executionEventId": "a815bfb2-3679-440a-843e-9224678bbacb",
     "hasError": false,
     "id": "d5ad43cc-0184-46d6-a1ab-e1b0295760b1",
     "outputs": [],
     "persistentId": "0048c386-2897-4ad6-824e-2f9019f875a5",
     "text": "bn = BnLayer(3, 3)\n\nR =bn(k)"
    },
    "executionTime": "2019-10-12T16:35:07.429Z"
   },
   {
    "cell": {
     "executionCount": 53,
     "executionEventId": "5ff90b17-7b85-4e73-aa84-11b5563b0c14",
     "hasError": false,
     "id": "d5ad43cc-0184-46d6-a1ab-e1b0295760b1",
     "outputs": [],
     "persistentId": "0048c386-2897-4ad6-824e-2f9019f875a5",
     "text": "bn = BnLayer(3, 3)\n\nR =bn(k)"
    },
    "executionTime": "2019-10-12T16:35:07.436Z"
   },
   {
    "cell": {
     "executionCount": 1,
     "executionEventId": "5864f6b0-c706-4e43-a204-c3bd6f252ad4",
     "hasError": false,
     "id": "63bff1d5-053a-46e8-87e6-ac286bf9ad4c",
     "outputs": [],
     "persistentId": "5e469a54-df61-4a6c-879a-d00a51320acd",
     "text": "from torch import nn\nfrom torch.nn import functional as F\nimport torch\nfrom utils.metrics import calculate_acc"
    },
    "executionTime": "2019-10-12T16:35:19.818Z"
   },
   {
    "cell": {
     "executionCount": 2,
     "executionEventId": "f572cef1-5fb7-4961-aee5-be14dd48b748",
     "hasError": false,
     "id": "4b85090f-a520-49c8-bbf5-69a306487971",
     "outputs": [],
     "persistentId": "97b950d8-7cb1-463d-83c5-27960f736147",
     "text": "class BnLayer(nn.Module):\n    def __init__(self, ni, nf, stride=2, kernel_size=3):\n        super().__init__()\n        self.conv = nn.Conv2d(ni, nf, kernel_size=kernel_size, stride=stride,bias=False, padding=1)\n        \n        self.a = nn.Parameter(torch.zeros(nf,1,1))\n        self.m = nn.Parameter(torch.ones(nf,1,1))\n        \n    def forward(self, x):\n        x = F.relu(self.conv(x))\n        x_chan = x.transpose(0,1).contiguous().view(x.size(1), -1)\n\n        if self.training:\n            self.means = x_chan.mean(1)[:,None,None]\n            self.stds  = x_chan.std(1)[:,None,None]          \n\n        return (x-self.means) / self.stds * self.m + self.a"
    },
    "executionTime": "2019-10-12T16:35:20.469Z"
   },
   {
    "cell": {
     "executionCount": 3,
     "executionEventId": "1f86a99b-dd60-4d4f-ab2c-50b29ba9c326",
     "hasError": false,
     "id": "afb187a7-6d41-4986-9011-e13f982bec92",
     "outputs": [],
     "persistentId": "3b6fbd17-cccb-4a5b-a4f3-e0597a6f278d",
     "text": "k = torch.rand(1, 3, 224, 224)"
    },
    "executionTime": "2019-10-12T16:35:20.648Z"
   },
   {
    "cell": {
     "executionCount": 4,
     "executionEventId": "d8444356-8cef-4843-9343-a9fb96864d05",
     "hasError": false,
     "id": "d5ad43cc-0184-46d6-a1ab-e1b0295760b1",
     "outputs": [],
     "persistentId": "0048c386-2897-4ad6-824e-2f9019f875a5",
     "text": "bn = BnLayer(3, 3)\n\nR =bn(k)"
    },
    "executionTime": "2019-10-12T16:35:20.888Z"
   },
   {
    "cell": {
     "executionCount": 4,
     "executionEventId": "afc780c6-ff0f-4786-b88d-928d5d81c979",
     "hasError": false,
     "id": "d5ad43cc-0184-46d6-a1ab-e1b0295760b1",
     "outputs": [],
     "persistentId": "0048c386-2897-4ad6-824e-2f9019f875a5",
     "text": "bn = BnLayer(3, 3)\n\nR =bn(k)"
    },
    "executionTime": "2019-10-12T16:35:20.896Z"
   },
   {
    "cell": {
     "executionCount": 1,
     "executionEventId": "44886c12-7dd2-48d7-841c-54f124bf39b9",
     "hasError": false,
     "id": "258b4947-2ab0-4b1d-8a93-75309df5bc55",
     "outputs": [],
     "persistentId": "5e469a54-df61-4a6c-879a-d00a51320acd",
     "text": "from torch import nn\nfrom torch.nn import functional as F\nimport torch\nfrom utils.metrics import calculate_acc"
    },
    "executionTime": "2019-10-12T16:39:16.839Z"
   },
   {
    "cell": {
     "executionCount": 2,
     "executionEventId": "ff6ad525-31f6-41dd-90ca-4a4948f808e1",
     "hasError": false,
     "id": "d466e22f-930a-48a4-b9a1-675a5b434a8a",
     "outputs": [],
     "persistentId": "97b950d8-7cb1-463d-83c5-27960f736147",
     "text": "class BnLayer(nn.Module):\n    def __init__(self, ni, nf, stride=2, kernel_size=3):\n        super().__init__()\n        self.conv = nn.Conv2d(ni, nf, kernel_size=kernel_size, stride=stride,bias=False, padding=1)\n        \n        self.a = nn.Parameter(torch.zeros(nf,1,1))\n        self.m = nn.Parameter(torch.ones(nf,1,1))\n        \n    def forward(self, x):\n        x = F.relu(self.conv(x))\n        x_chan = x.transpose(0,1).contiguous().view(x.size(1), -1)\n\n        if self.training:\n            self.means = x_chan.mean(1)[:,None,None]\n            self.stds  = x_chan.std(1)[:,None,None]          \n\n        return (x-self.means) / self.stds * self.m + self.a"
    },
    "executionTime": "2019-10-12T16:39:16.851Z"
   },
   {
    "cell": {
     "executionCount": 3,
     "executionEventId": "6ab0eff0-1984-486c-8934-32680514e464",
     "hasError": false,
     "id": "5af05a4f-c630-49f6-950e-d57612e2e307",
     "outputs": [],
     "persistentId": "3b6fbd17-cccb-4a5b-a4f3-e0597a6f278d",
     "text": "k = torch.rand(1, 3, 224, 224)"
    },
    "executionTime": "2019-10-12T16:39:16.977Z"
   },
   {
    "cell": {
     "executionCount": 4,
     "executionEventId": "3ae01f56-5a55-45ae-a160-878e032b9dc1",
     "hasError": false,
     "id": "72cc27ba-3dd5-4594-ae18-91dc33ed2796",
     "outputs": [],
     "persistentId": "0048c386-2897-4ad6-824e-2f9019f875a5",
     "text": "bn = BnLayer(3, 3)\n\nR =bn(k)"
    },
    "executionTime": "2019-10-12T16:39:17.354Z"
   },
   {
    "cell": {
     "executionCount": 5,
     "executionEventId": "2d86dc81-b494-4371-a672-ae011e2110ae",
     "hasError": false,
     "id": "d466e22f-930a-48a4-b9a1-675a5b434a8a",
     "outputs": [],
     "persistentId": "97b950d8-7cb1-463d-83c5-27960f736147",
     "text": "class BnLayer(nn.Module):\n    def __init__(self, ni, nf, stride=2, kernel_size=3):\n        super().__init__()\n        self.conv = nn.Conv2d(ni, nf, kernel_size=kernel_size, stride=stride,bias=False, padding=1)\n        \n        self.a = nn.Parameter(torch.zeros(nf,1,1))\n        self.m = nn.Parameter(torch.ones(nf,1,1))\n        \n    def forward(self, x):\n        x = F.relu(self.conv(x))\n        x_chan = x.transpose(0,1).contiguous().view(x.size(1), -1)\n        print(x_chan)\n\n        if self.training:\n            self.means = x_chan.mean(1)[:,None,None]\n            self.stds  = x_chan.std(1)[:,None,None]          \n\n        return (x-self.means) / self.stds * self.m + self.a"
    },
    "executionTime": "2019-10-12T16:43:13.286Z"
   },
   {
    "cell": {
     "executionCount": 6,
     "executionEventId": "321cdada-b423-42ae-9348-3c730d76509b",
     "hasError": false,
     "id": "ebea355c-8746-4d90-b7c5-7aef5612fb6f",
     "outputs": [
      {
       "name": "stderr",
       "output_type": "stream",
       "text": "UsageError: %%debug is a cell magic, but the cell body is empty. Did you mean the line magic %debug (single %)?\n"
      }
     ],
     "persistentId": "0db3bece-8a2c-478c-9670-d057ff0f8b4a",
     "text": "%%debug"
    },
    "executionTime": "2019-10-12T16:43:33.018Z"
   },
   {
    "cell": {
     "executionCount": 7,
     "executionEventId": "59849516-5d0a-42cc-ba9d-d93df2e58d99",
     "hasError": false,
     "id": "5af05a4f-c630-49f6-950e-d57612e2e307",
     "outputs": [],
     "persistentId": "3b6fbd17-cccb-4a5b-a4f3-e0597a6f278d",
     "text": "\nk = torch.rand(1, 3, 224, 224)"
    },
    "executionTime": "2019-10-12T16:45:44.011Z"
   },
   {
    "cell": {
     "executionCount": 8,
     "executionEventId": "abc614be-bf90-49ae-95e7-2d0104c8db64",
     "hasError": false,
     "id": "72cc27ba-3dd5-4594-ae18-91dc33ed2796",
     "outputs": [
      {
       "name": "stdout",
       "output_type": "stream",
       "text": "tensor([[0.0000, 0.0000, 0.0000,  ..., 0.0000, 0.0531, 0.0000],\n        [0.0000, 0.1621, 0.2208,  ..., 0.1199, 0.3319, 0.1747],\n        [0.2491, 0.1744, 0.2685,  ..., 0.3217, 0.0782, 0.0217]],\n       grad_fn=<ViewBackward>)\n"
      }
     ],
     "persistentId": "0048c386-2897-4ad6-824e-2f9019f875a5",
     "text": "bn = BnLayer(3, 3)\n\nR =bn(k)"
    },
    "executionTime": "2019-10-12T16:45:44.211Z"
   },
   {
    "cell": {
     "executionCount": 9,
     "executionEventId": "c185e1f8-307a-4db9-bcd9-3178e91d378c",
     "hasError": false,
     "id": "d466e22f-930a-48a4-b9a1-675a5b434a8a",
     "outputs": [],
     "persistentId": "97b950d8-7cb1-463d-83c5-27960f736147",
     "text": "class BnLayer(nn.Module):\n    def __init__(self, ni, nf, stride=2, kernel_size=3):\n        super().__init__()\n        self.conv = nn.Conv2d(ni, nf, kernel_size=kernel_size, stride=stride,bias=False, padding=1)\n        \n        self.a = nn.Parameter(torch.zeros(nf,1,1))\n        self.m = nn.Parameter(torch.ones(nf,1,1))\n        \n    def forward(self, x):\n        x = F.relu(self.conv(x))\n        x_chan = x.transpose(0,1).contiguous().view(x.size(1), -1)\n        import pdb; pdb.set_trace()\n\n        if self.training:\n            self.means = x_chan.mean(1)[:,None,None]\n            self.stds  = x_chan.std(1)[:,None,None]          \n\n        return (x-self.means) / self.stds * self.m + self.a"
    },
    "executionTime": "2019-10-12T16:45:56.445Z"
   },
   {
    "cell": {
     "executionCount": 10,
     "executionEventId": "9ac54688-0fd5-4be6-b707-f515bf472d35",
     "hasError": false,
     "id": "5af05a4f-c630-49f6-950e-d57612e2e307",
     "outputs": [],
     "persistentId": "3b6fbd17-cccb-4a5b-a4f3-e0597a6f278d",
     "text": "\nk = torch.rand(1, 3, 224, 224)"
    },
    "executionTime": "2019-10-12T16:45:57.588Z"
   },
   {
    "cell": {
     "executionCount": 5,
     "executionEventId": "1a5bf820-31a7-4501-91b8-7e74ae64a74d",
     "hasError": false,
     "id": "258b4947-2ab0-4b1d-8a93-75309df5bc55",
     "outputs": [],
     "persistentId": "5e469a54-df61-4a6c-879a-d00a51320acd",
     "text": "from torch import nn\nfrom torch.nn import functional as F\nimport torch\nfrom utils.metrics import calculate_acc"
    },
    "executionTime": "2019-10-12T16:48:01.884Z"
   },
   {
    "cell": {
     "executionCount": 6,
     "executionEventId": "8d8bcc9c-5b7a-43fe-befd-c562351d8ee6",
     "hasError": false,
     "id": "d466e22f-930a-48a4-b9a1-675a5b434a8a",
     "outputs": [],
     "persistentId": "97b950d8-7cb1-463d-83c5-27960f736147",
     "text": "class BnLayer(nn.Module):\n    def __init__(self, ni, nf, stride=2, kernel_size=3):\n        super().__init__()\n        self.conv = nn.Conv2d(ni, nf, kernel_size=kernel_size, stride=stride,bias=False, padding=1)\n        \n        self.a = nn.Parameter(torch.zeros(nf,1,1))\n        self.m = nn.Parameter(torch.ones(nf,1,1))\n        \n    def forward(self, x):\n        x = F.relu(self.conv(x))\n        x_chan = x.transpose(0,1).contiguous().view(x.size(1), -1)\n        # c_chan -> torch.Size([3, 12544]) for [1,3,224,224]\n        \n\n        if self.training:\n            self.means = x_chan.mean(1)[:,None,None]\n            self.stds  = x_chan.std(1)[:,None,None]          \n\n        return (x-self.means) / self.stds * self.m + self.a"
    },
    "executionTime": "2019-10-12T16:48:02.004Z"
   },
   {
    "cell": {
     "executionCount": 7,
     "executionEventId": "0db286b9-dc87-4020-a5af-18305ead5335",
     "hasError": false,
     "id": "5af05a4f-c630-49f6-950e-d57612e2e307",
     "outputs": [],
     "persistentId": "3b6fbd17-cccb-4a5b-a4f3-e0597a6f278d",
     "text": "\nk = torch.rand(1, 3, 224, 224)"
    },
    "executionTime": "2019-10-12T16:48:02.221Z"
   },
   {
    "cell": {
     "executionCount": 8,
     "executionEventId": "abab2498-7398-4dfa-9771-ad217abee8f0",
     "hasError": false,
     "id": "72cc27ba-3dd5-4594-ae18-91dc33ed2796",
     "outputs": [],
     "persistentId": "0048c386-2897-4ad6-824e-2f9019f875a5",
     "text": "bn = BnLayer(3, 3)\n\nR =bn(k)"
    },
    "executionTime": "2019-10-12T16:48:02.592Z"
   },
   {
    "cell": {
     "executionCount": 9,
     "executionEventId": "f1564077-9133-4222-bc40-cc4fe71c2d55",
     "hasError": false,
     "id": "72cc27ba-3dd5-4594-ae18-91dc33ed2796",
     "outputs": [
      {
       "name": "stdout",
       "output_type": "stream",
       "text": "NOTE: Enter 'c' at the ipdb>  prompt to continue execution.\n> \u001b[0;32m<string>\u001b[0m(2)\u001b[0;36m<module>\u001b[0;34m()\u001b[0m\n\n"
      },
      {
       "name": "stdin",
       "output_type": "stream",
       "text": "ipdb>  l\n"
      },
      {
       "name": "stdout",
       "output_type": "stream",
       "text": "\n"
      },
      {
       "name": "stdin",
       "output_type": "stream",
       "text": "ipdb>  print(1)\n"
      },
      {
       "name": "stdout",
       "output_type": "stream",
       "text": "1\n"
      },
      {
       "name": "stdin",
       "output_type": "stream",
       "text": "ipdb>  ll\n"
      },
      {
       "name": "stdout",
       "output_type": "stream",
       "text": "*** could not get source code\n"
      },
      {
       "name": "stdin",
       "output_type": "stream",
       "text": "ipdb>  h ll\n"
      },
      {
       "name": "stdout",
       "output_type": "stream",
       "text": "Print lines of code from the current stack frame.\n\n        Shows more lines than 'list' does.\n"
      },
      {
       "name": "stdin",
       "output_type": "stream",
       "text": "ipdb>  h\n"
      },
      {
       "name": "stdout",
       "output_type": "stream",
       "text": "\nDocumented commands (type help <topic>):\n========================================\nEOF    cl         disable  interact  next    psource  rv         unt   \na      clear      display  j         p       q        s          until \nalias  commands   down     jump      pdef    quit     source     up    \nargs   condition  enable   l         pdoc    r        step       w     \nb      cont       exit     list      pfile   restart  tbreak     whatis\nbreak  continue   h        ll        pinfo   return   u          where \nbt     d          help     longlist  pinfo2  retval   unalias  \nc      debug      ignore   n         pp      run      undisplay\n\nMiscellaneous help topics:\n==========================\nexec  pdb\n\n"
      },
      {
       "name": "stdin",
       "output_type": "stream",
       "text": "ipdb>  l\n"
      },
      {
       "name": "stdout",
       "output_type": "stream",
       "text": "\n"
      },
      {
       "name": "stdin",
       "output_type": "stream",
       "text": "ipdb>  q\n"
      }
     ],
     "persistentId": "0048c386-2897-4ad6-824e-2f9019f875a5",
     "text": "%%debug\nbn = BnLayer(3, 3)\nR =bn(k)"
    },
    "executionTime": "2019-10-12T16:48:49.644Z"
   },
   {
    "cell": {
     "executionCount": 10,
     "executionEventId": "719b8a2c-64e0-44d8-b98d-63adea62f5eb",
     "hasError": false,
     "id": "72cc27ba-3dd5-4594-ae18-91dc33ed2796",
     "outputs": [
      {
       "name": "stdout",
       "output_type": "stream",
       "text": "NOTE: Enter 'c' at the ipdb>  prompt to continue execution.\n> \u001b[0;32m<string>\u001b[0m(2)\u001b[0;36m<module>\u001b[0;34m()\u001b[0m\n\n"
      },
      {
       "name": "stdin",
       "output_type": "stream",
       "text": "ipdb>  c\n"
      }
     ],
     "persistentId": "0048c386-2897-4ad6-824e-2f9019f875a5",
     "text": "%%debug\nbn = BnLayer(3, 3)\nR =bn(k)"
    },
    "executionTime": "2019-10-12T16:48:57.220Z"
   },
   {
    "cell": {
     "executionCount": 11,
     "executionEventId": "2b88abd8-2679-4ac4-8ca4-605ce88a4b33",
     "hasError": false,
     "id": "d466e22f-930a-48a4-b9a1-675a5b434a8a",
     "outputs": [],
     "persistentId": "97b950d8-7cb1-463d-83c5-27960f736147",
     "text": "class BnLayer(nn.Module):\n    def __init__(self, ni, nf, stride=2, kernel_size=3):\n        super().__init__()\n        self.conv = nn.Conv2d(ni, nf, kernel_size=kernel_size, stride=stride,bias=False, padding=1)\n        \n        self.a = nn.Parameter(torch.zeros(nf,1,1))\n        self.m = nn.Parameter(torch.ones(nf,1,1))\n        \n    def forward(self, x):\n        x = F.relu(self.conv(x))\n        x_chan = x.transpose(0,1).contiguous().view(x.size(1), -1)\n        # c_chan -> torch.Size([3, 12544]) for [1,3,224,224]\n        1/0\n\n        if self.training:\n            self.means = x_chan.mean(1)[:,None,None]\n            self.stds  = x_chan.std(1)[:,None,None]          \n\n        return (x-self.means) / self.stds * self.m + self.a"
    },
    "executionTime": "2019-10-12T16:49:03.355Z"
   },
   {
    "cell": {
     "executionCount": 12,
     "executionEventId": "876656f3-0cea-4886-b175-a8aabf8d2320",
     "hasError": false,
     "id": "258b4947-2ab0-4b1d-8a93-75309df5bc55",
     "outputs": [],
     "persistentId": "5e469a54-df61-4a6c-879a-d00a51320acd",
     "text": "from torch import nn\nfrom torch.nn import functional as F\nimport torch\nfrom utils.metrics import calculate_acc"
    },
    "executionTime": "2019-10-12T16:49:36.846Z"
   },
   {
    "cell": {
     "executionCount": 13,
     "executionEventId": "fa754234-4cab-4dd2-963b-eab1e017226f",
     "hasError": false,
     "id": "d466e22f-930a-48a4-b9a1-675a5b434a8a",
     "outputs": [],
     "persistentId": "97b950d8-7cb1-463d-83c5-27960f736147",
     "text": "class BnLayer(nn.Module):\n    def __init__(self, ni, nf, stride=2, kernel_size=3):\n        super().__init__()\n        self.conv = nn.Conv2d(ni, nf, kernel_size=kernel_size, stride=stride,bias=False, padding=1)\n        \n        self.a = nn.Parameter(torch.zeros(nf,1,1))\n        self.m = nn.Parameter(torch.ones(nf,1,1))\n        \n    def forward(self, x):\n        x = F.relu(self.conv(x))\n        x_chan = x.transpose(0,1).contiguous().view(x.size(1), -1)\n        # c_chan -> torch.Size([3, 12544]) for [1,3,224,224]\n        1/0\n\n        if self.training:\n            self.means = x_chan.mean(1)[:,None,None]\n            self.stds  = x_chan.std(1)[:,None,None]          \n\n        return (x-self.means) / self.stds * self.m + self.a"
    },
    "executionTime": "2019-10-12T16:49:36.991Z"
   },
   {
    "cell": {
     "executionCount": 14,
     "executionEventId": "4c9d0001-e526-455b-a14b-3f7f4b9c83c0",
     "hasError": false,
     "id": "5af05a4f-c630-49f6-950e-d57612e2e307",
     "outputs": [],
     "persistentId": "3b6fbd17-cccb-4a5b-a4f3-e0597a6f278d",
     "text": "\nk = torch.rand(1, 3, 224, 224)"
    },
    "executionTime": "2019-10-12T16:49:37.307Z"
   },
   {
    "cell": {
     "executionCount": 1,
     "executionEventId": "e54d9004-c208-4e0d-afb8-556cb5e3018c",
     "hasError": false,
     "id": "258b4947-2ab0-4b1d-8a93-75309df5bc55",
     "outputs": [],
     "persistentId": "5e469a54-df61-4a6c-879a-d00a51320acd",
     "text": "from torch import nn\nfrom torch.nn import functional as F\nimport torch\nfrom utils.metrics import calculate_acc"
    },
    "executionTime": "2019-10-12T16:50:15.587Z"
   },
   {
    "cell": {
     "executionCount": 2,
     "executionEventId": "ddade996-72c7-4ba4-9d4d-35a79222b9ad",
     "hasError": false,
     "id": "d466e22f-930a-48a4-b9a1-675a5b434a8a",
     "outputs": [],
     "persistentId": "97b950d8-7cb1-463d-83c5-27960f736147",
     "text": "class BnLayer(nn.Module):\n    def __init__(self, ni, nf, stride=2, kernel_size=3):\n        super().__init__()\n        self.conv = nn.Conv2d(ni, nf, kernel_size=kernel_size, stride=stride,bias=False, padding=1)\n        \n        self.a = nn.Parameter(torch.zeros(nf,1,1))\n        self.m = nn.Parameter(torch.ones(nf,1,1))\n        \n    def forward(self, x):\n        x = F.relu(self.conv(x))\n        x_chan = x.transpose(0,1).contiguous().view(x.size(1), -1)\n        # c_chan -> torch.Size([3, 12544]) for [1,3,224,224]\n        1/0\n\n        if self.training:\n            self.means = x_chan.mean(1)[:,None,None]\n            self.stds  = x_chan.std(1)[:,None,None]          \n\n        return (x-self.means) / self.stds * self.m + self.a"
    },
    "executionTime": "2019-10-12T16:50:15.596Z"
   },
   {
    "cell": {
     "executionCount": 3,
     "executionEventId": "b50ceb47-65e6-4146-adfa-ba1d88ce2268",
     "hasError": false,
     "id": "5af05a4f-c630-49f6-950e-d57612e2e307",
     "outputs": [],
     "persistentId": "3b6fbd17-cccb-4a5b-a4f3-e0597a6f278d",
     "text": "k = torch.rand(1, 3, 224, 224)"
    },
    "executionTime": "2019-10-12T16:50:15.611Z"
   },
   {
    "cell": {
     "executionCount": 4,
     "executionEventId": "7bb99ea0-5cba-4094-8f2f-4d065e49ef33",
     "hasError": true,
     "id": "ebea355c-8746-4d90-b7c5-7aef5612fb6f",
     "outputs": [
      {
       "ename": "NameError",
       "evalue": "name 'Bn' is not defined",
       "output_type": "error",
       "traceback": [
        "\u001b[0;31m---------------------------------------------------------------------------\u001b[0m",
        "\u001b[0;31mNameError\u001b[0m                                 Traceback (most recent call last)",
        "\u001b[0;32m<ipython-input-4-40afa38133d7>\u001b[0m in \u001b[0;36m<module>\u001b[0;34m\u001b[0m\n\u001b[0;32m----> 1\u001b[0;31m \u001b[0mBn\u001b[0m\u001b[0;34m\u001b[0m\u001b[0;34m\u001b[0m\u001b[0m\n\u001b[0m",
        "\u001b[0;31mNameError\u001b[0m: name 'Bn' is not defined"
       ]
      }
     ],
     "persistentId": "0db3bece-8a2c-478c-9670-d057ff0f8b4a",
     "text": "Bn"
    },
    "executionTime": "2019-10-12T16:50:17.824Z"
   },
   {
    "cell": {
     "executionCount": 5,
     "executionEventId": "2089e3f7-8e41-440e-a51f-e4ca8ca4d43a",
     "hasError": true,
     "id": "ebea355c-8746-4d90-b7c5-7aef5612fb6f",
     "outputs": [
      {
       "ename": "TypeError",
       "evalue": "__init__() missing 2 required positional arguments: 'ni' and 'nf'",
       "output_type": "error",
       "traceback": [
        "\u001b[0;31m---------------------------------------------------------------------------\u001b[0m",
        "\u001b[0;31mTypeError\u001b[0m                                 Traceback (most recent call last)",
        "\u001b[0;32m<ipython-input-5-508d508d6170>\u001b[0m in \u001b[0;36m<module>\u001b[0;34m\u001b[0m\n\u001b[0;32m----> 1\u001b[0;31m \u001b[0mbn\u001b[0m \u001b[0;34m=\u001b[0m \u001b[0mBnLayer\u001b[0m\u001b[0;34m(\u001b[0m\u001b[0;34m)\u001b[0m\u001b[0;34m\u001b[0m\u001b[0;34m\u001b[0m\u001b[0m\n\u001b[0m",
        "\u001b[0;31mTypeError\u001b[0m: __init__() missing 2 required positional arguments: 'ni' and 'nf'"
       ]
      }
     ],
     "persistentId": "0db3bece-8a2c-478c-9670-d057ff0f8b4a",
     "text": "bn = BnLayer()"
    },
    "executionTime": "2019-10-12T16:50:23.890Z"
   },
   {
    "cell": {
     "executionCount": 6,
     "executionEventId": "56e381ab-0b47-4fca-9eb2-3292f54430ab",
     "hasError": false,
     "id": "ebea355c-8746-4d90-b7c5-7aef5612fb6f",
     "outputs": [],
     "persistentId": "0db3bece-8a2c-478c-9670-d057ff0f8b4a",
     "text": "bn = BnLayer(3, 3)"
    },
    "executionTime": "2019-10-12T16:50:26.817Z"
   },
   {
    "cell": {
     "executionCount": 7,
     "executionEventId": "90f7985d-09c6-42ac-b49d-6365a42e8f3d",
     "hasError": true,
     "id": "ebea355c-8746-4d90-b7c5-7aef5612fb6f",
     "outputs": [
      {
       "ename": "ZeroDivisionError",
       "evalue": "division by zero",
       "output_type": "error",
       "traceback": [
        "\u001b[0;31m---------------------------------------------------------------------------\u001b[0m",
        "\u001b[0;31mZeroDivisionError\u001b[0m                         Traceback (most recent call last)",
        "\u001b[0;32m<ipython-input-7-340faf98319e>\u001b[0m in \u001b[0;36m<module>\u001b[0;34m\u001b[0m\n\u001b[1;32m      1\u001b[0m \u001b[0mbn\u001b[0m \u001b[0;34m=\u001b[0m \u001b[0mBnLayer\u001b[0m\u001b[0;34m(\u001b[0m\u001b[0;36m3\u001b[0m\u001b[0;34m,\u001b[0m \u001b[0;36m3\u001b[0m\u001b[0;34m)\u001b[0m\u001b[0;34m\u001b[0m\u001b[0;34m\u001b[0m\u001b[0m\n\u001b[0;32m----> 2\u001b[0;31m \u001b[0mbn\u001b[0m\u001b[0;34m(\u001b[0m\u001b[0mk\u001b[0m\u001b[0;34m)\u001b[0m\u001b[0;34m\u001b[0m\u001b[0;34m\u001b[0m\u001b[0m\n\u001b[0m",
        "\u001b[0;32m~/anaconda3/envs/dl/lib/python3.7/site-packages/torch/nn/modules/module.py\u001b[0m in \u001b[0;36m__call__\u001b[0;34m(self, *input, **kwargs)\u001b[0m\n\u001b[1;32m    539\u001b[0m             \u001b[0mresult\u001b[0m \u001b[0;34m=\u001b[0m \u001b[0mself\u001b[0m\u001b[0;34m.\u001b[0m\u001b[0m_slow_forward\u001b[0m\u001b[0;34m(\u001b[0m\u001b[0;34m*\u001b[0m\u001b[0minput\u001b[0m\u001b[0;34m,\u001b[0m \u001b[0;34m**\u001b[0m\u001b[0mkwargs\u001b[0m\u001b[0;34m)\u001b[0m\u001b[0;34m\u001b[0m\u001b[0;34m\u001b[0m\u001b[0m\n\u001b[1;32m    540\u001b[0m         \u001b[0;32melse\u001b[0m\u001b[0;34m:\u001b[0m\u001b[0;34m\u001b[0m\u001b[0;34m\u001b[0m\u001b[0m\n\u001b[0;32m--> 541\u001b[0;31m             \u001b[0mresult\u001b[0m \u001b[0;34m=\u001b[0m \u001b[0mself\u001b[0m\u001b[0;34m.\u001b[0m\u001b[0mforward\u001b[0m\u001b[0;34m(\u001b[0m\u001b[0;34m*\u001b[0m\u001b[0minput\u001b[0m\u001b[0;34m,\u001b[0m \u001b[0;34m**\u001b[0m\u001b[0mkwargs\u001b[0m\u001b[0;34m)\u001b[0m\u001b[0;34m\u001b[0m\u001b[0;34m\u001b[0m\u001b[0m\n\u001b[0m\u001b[1;32m    542\u001b[0m         \u001b[0;32mfor\u001b[0m \u001b[0mhook\u001b[0m \u001b[0;32min\u001b[0m \u001b[0mself\u001b[0m\u001b[0;34m.\u001b[0m\u001b[0m_forward_hooks\u001b[0m\u001b[0;34m.\u001b[0m\u001b[0mvalues\u001b[0m\u001b[0;34m(\u001b[0m\u001b[0;34m)\u001b[0m\u001b[0;34m:\u001b[0m\u001b[0;34m\u001b[0m\u001b[0;34m\u001b[0m\u001b[0m\n\u001b[1;32m    543\u001b[0m             \u001b[0mhook_result\u001b[0m \u001b[0;34m=\u001b[0m \u001b[0mhook\u001b[0m\u001b[0;34m(\u001b[0m\u001b[0mself\u001b[0m\u001b[0;34m,\u001b[0m \u001b[0minput\u001b[0m\u001b[0;34m,\u001b[0m \u001b[0mresult\u001b[0m\u001b[0;34m)\u001b[0m\u001b[0;34m\u001b[0m\u001b[0;34m\u001b[0m\u001b[0m\n",
        "\u001b[0;32m<ipython-input-2-e957d0cc474d>\u001b[0m in \u001b[0;36mforward\u001b[0;34m(self, x)\u001b[0m\n\u001b[1;32m     11\u001b[0m         \u001b[0mx_chan\u001b[0m \u001b[0;34m=\u001b[0m \u001b[0mx\u001b[0m\u001b[0;34m.\u001b[0m\u001b[0mtranspose\u001b[0m\u001b[0;34m(\u001b[0m\u001b[0;36m0\u001b[0m\u001b[0;34m,\u001b[0m\u001b[0;36m1\u001b[0m\u001b[0;34m)\u001b[0m\u001b[0;34m.\u001b[0m\u001b[0mcontiguous\u001b[0m\u001b[0;34m(\u001b[0m\u001b[0;34m)\u001b[0m\u001b[0;34m.\u001b[0m\u001b[0mview\u001b[0m\u001b[0;34m(\u001b[0m\u001b[0mx\u001b[0m\u001b[0;34m.\u001b[0m\u001b[0msize\u001b[0m\u001b[0;34m(\u001b[0m\u001b[0;36m1\u001b[0m\u001b[0;34m)\u001b[0m\u001b[0;34m,\u001b[0m \u001b[0;34m-\u001b[0m\u001b[0;36m1\u001b[0m\u001b[0;34m)\u001b[0m\u001b[0;34m\u001b[0m\u001b[0;34m\u001b[0m\u001b[0m\n\u001b[1;32m     12\u001b[0m         \u001b[0;31m# c_chan -> torch.Size([3, 12544]) for [1,3,224,224]\u001b[0m\u001b[0;34m\u001b[0m\u001b[0;34m\u001b[0m\u001b[0;34m\u001b[0m\u001b[0m\n\u001b[0;32m---> 13\u001b[0;31m         \u001b[0;36m1\u001b[0m\u001b[0;34m/\u001b[0m\u001b[0;36m0\u001b[0m\u001b[0;34m\u001b[0m\u001b[0;34m\u001b[0m\u001b[0m\n\u001b[0m\u001b[1;32m     14\u001b[0m \u001b[0;34m\u001b[0m\u001b[0m\n\u001b[1;32m     15\u001b[0m         \u001b[0;32mif\u001b[0m \u001b[0mself\u001b[0m\u001b[0;34m.\u001b[0m\u001b[0mtraining\u001b[0m\u001b[0;34m:\u001b[0m\u001b[0;34m\u001b[0m\u001b[0;34m\u001b[0m\u001b[0m\n",
        "\u001b[0;31mZeroDivisionError\u001b[0m: division by zero"
       ]
      }
     ],
     "persistentId": "0db3bece-8a2c-478c-9670-d057ff0f8b4a",
     "text": "bn = BnLayer(3, 3)\nbn(k)"
    },
    "executionTime": "2019-10-12T16:50:29.024Z"
   },
   {
    "cell": {
     "executionCount": 8,
     "executionEventId": "88e16684-54e1-4a13-91da-2eb683a684e1",
     "hasError": false,
     "id": "ebea355c-8746-4d90-b7c5-7aef5612fb6f",
     "outputs": [
      {
       "name": "stdout",
       "output_type": "stream",
       "text": "NOTE: Enter 'c' at the ipdb>  prompt to continue execution.\n> \u001b[0;32m<string>\u001b[0m(2)\u001b[0;36m<module>\u001b[0;34m()\u001b[0m\n\n"
      },
      {
       "name": "stdin",
       "output_type": "stream",
       "text": "ipdb>  l\n"
      },
      {
       "name": "stdout",
       "output_type": "stream",
       "text": "\n"
      },
      {
       "name": "stdin",
       "output_type": "stream",
       "text": "ipdb>  h\n"
      },
      {
       "name": "stdout",
       "output_type": "stream",
       "text": "\nDocumented commands (type help <topic>):\n========================================\nEOF    cl         disable  interact  next    psource  rv         unt   \na      clear      display  j         p       q        s          until \nalias  commands   down     jump      pdef    quit     source     up    \nargs   condition  enable   l         pdoc    r        step       w     \nb      cont       exit     list      pfile   restart  tbreak     whatis\nbreak  continue   h        ll        pinfo   return   u          where \nbt     d          help     longlist  pinfo2  retval   unalias  \nc      debug      ignore   n         pp      run      undisplay\n\nMiscellaneous help topics:\n==========================\nexec  pdb\n\n"
      },
      {
       "name": "stdin",
       "output_type": "stream",
       "text": "ipdb>  display\n"
      },
      {
       "name": "stdout",
       "output_type": "stream",
       "text": "Currently displaying:\n"
      },
      {
       "name": "stdin",
       "output_type": "stream",
       "text": "ipdb>  locals()\n"
      },
      {
       "name": "stdout",
       "output_type": "stream",
       "text": "{'__name__': '__main__', '__doc__': 'Automatically created module for IPython interactive environment', '__package__': None, '__loader__': None, '__spec__': None, '__builtin__': <module 'builtins' (built-in)>, '__builtins__': <module 'builtins' (built-in)>, '_ih': ['', 'from torch import nn\\nfrom torch.nn import functional as F\\nimport torch\\nfrom utils.metrics import calculate_acc', 'class BnLayer(nn.Module):\\n    def __init__(self, ni, nf, stride=2, kernel_size=3):\\n        super().__init__()\\n        self.conv = nn.Conv2d(ni, nf, kernel_size=kernel_size, stride=stride,bias=False, padding=1)\\n        \\n        self.a = nn.Parameter(torch.zeros(nf,1,1))\\n        self.m = nn.Parameter(torch.ones(nf,1,1))\\n        \\n    def forward(self, x):\\n        x = F.relu(self.conv(x))\\n        x_chan = x.transpose(0,1).contiguous().view(x.size(1), -1)\\n        # c_chan -> torch.Size([3, 12544]) for [1,3,224,224]\\n        1/0\\n\\n        if self.training:\\n            self.means = x_chan.mean(1)[:,None,None]\\n            self.stds  = x_chan.std(1)[:,None,None]          \\n\\n        return (x-self.means) / self.stds * self.m + self.a', 'k = torch.rand(1, 3, 224, 224)', 'Bn', 'bn = BnLayer()', 'bn = BnLayer(3, 3)', 'bn = BnLayer(3, 3)\\nbn(k)', \"get_ipython().run_cell_magic('debug', '', 'bn = BnLayer(3, 3)\\\\nbn(k)\\\\n')\"], '_oh': {}, '_dh': ['/media/i008/ssd500/googledrive/dsr-pytorch'], 'In': ['', 'from torch import nn\\nfrom torch.nn import functional as F\\nimport torch\\nfrom utils.metrics import calculate_acc', 'class BnLayer(nn.Module):\\n    def __init__(self, ni, nf, stride=2, kernel_size=3):\\n        super().__init__()\\n        self.conv = nn.Conv2d(ni, nf, kernel_size=kernel_size, stride=stride,bias=False, padding=1)\\n        \\n        self.a = nn.Parameter(torch.zeros(nf,1,1))\\n        self.m = nn.Parameter(torch.ones(nf,1,1))\\n        \\n    def forward(self, x):\\n        x = F.relu(self.conv(x))\\n        x_chan = x.transpose(0,1).contiguous().view(x.size(1), -1)\\n        # c_chan -> torch.Size([3, 12544]) for [1,3,224,224]\\n        1/0\\n\\n        if self.training:\\n            self.means = x_chan.mean(1)[:,None,None]\\n            self.stds  = x_chan.std(1)[:,None,None]          \\n\\n        return (x-self.means) / self.stds * self.m + self.a', 'k = torch.rand(1, 3, 224, 224)', 'Bn', 'bn = BnLayer()', 'bn = BnLayer(3, 3)', 'bn = BnLayer(3, 3)\\nbn(k)', \"get_ipython().run_cell_magic('debug', '', 'bn = BnLayer(3, 3)\\\\nbn(k)\\\\n')\"], 'Out': {}, 'get_ipython': <bound method InteractiveShell.get_ipython of <ipykernel.zmqshell.ZMQInteractiveShell object at 0x7f9463a31650>>, 'exit': <IPython.core.autocall.ZMQExitAutocall object at 0x7f9465b59250>, 'quit': <IPython.core.autocall.ZMQExitAutocall object at 0x7f9465b59250>, '_': '', '__': '', '___': '', '_i': 'bn = BnLayer(3, 3)\\nbn(k)', '_ii': 'bn = BnLayer(3, 3)', '_iii': 'bn = BnLayer()', '_i1': 'from torch import nn\\nfrom torch.nn import functional as F\\nimport torch\\nfrom utils.metrics import calculate_acc', 'nn': <module 'torch.nn' from '/home/i008/anaconda3/envs/dl/lib/python3.7/site-packages/torch/nn/__init__.py'>, 'F': <module 'torch.nn.functional' from '/home/i008/anaconda3/envs/dl/lib/python3.7/site-packages/torch/nn/functional.py'>, 'torch': <module 'torch' from '/home/i008/anaconda3/envs/dl/lib/python3.7/site-packages/torch/__init__.py'>, 'calculate_acc': <function calculate_acc at 0x7f946056a0e0>, '_i2': 'class BnLayer(nn.Module):\\n    def __init__(self, ni, nf, stride=2, kernel_size=3):\\n        super().__init__()\\n        self.conv = nn.Conv2d(ni, nf, kernel_size=kernel_size, stride=stride,bias=False, padding=1)\\n        \\n        self.a = nn.Parameter(torch.zeros(nf,1,1))\\n        self.m = nn.Parameter(torch.ones(nf,1,1))\\n        \\n    def forward(self, x):\\n        x = F.relu(self.conv(x))\\n        x_chan = x.transpose(0,1).contiguous().view(x.size(1), -1)\\n        # c_chan -> torch.Size([3, 12544]) for [1,3,224,224]\\n        1/0\\n\\n        if self.training:\\n            self.means = x_chan.mean(1)[:,None,None]\\n            self.stds  = x_chan.std(1)[:,None,None]          \\n\\n        return (x-self.means) / self.stds * self.m + self.a', 'BnLayer': <class '__main__.BnLayer'>, '_i3': 'k = torch.rand(1, 3, 224, 224)', 'k': tensor([[[[0.5491, 0.9981, 0.3508,  ..., 0.0428, 0.6556, 0.7530],\n          [0.0107, 0.9856, 0.7666,  ..., 0.0827, 0.1297, 0.4729],\n          [0.1691, 0.8215, 0.7418,  ..., 0.2872, 0.6360, 0.8649],\n          ...,\n          [0.2766, 0.6440, 0.8337,  ..., 0.4731, 0.3002, 0.9217],\n          [0.4165, 0.3623, 0.1076,  ..., 0.1870, 0.0498, 0.9236],\n          [0.3104, 0.2500, 0.3292,  ..., 0.6271, 0.3058, 0.1872]],\n\n         [[0.0143, 0.1835, 0.6089,  ..., 0.3381, 0.9431, 0.9353],\n          [0.5416, 0.0125, 0.9037,  ..., 0.0398, 0.6486, 0.1684],\n          [0.0874, 0.0648, 0.0888,  ..., 0.0851, 0.9419, 0.3065],\n          ...,\n          [0.7485, 0.1433, 0.8283,  ..., 0.8459, 0.5542, 0.9856],\n          [0.1575, 0.6651, 0.9225,  ..., 0.5376, 0.2060, 0.3192],\n          [0.9081, 0.4530, 0.3698,  ..., 0.9816, 0.5068, 0.0792]],\n\n         [[0.2634, 0.7336, 0.8315,  ..., 0.2593, 0.3529, 0.7415],\n          [0.7427, 0.3295, 0.3621,  ..., 0.6731, 0.7023, 0.3516],\n          [0.3870, 0.5371, 0.6105,  ..., 0.5319, 0.4230, 0.3125],\n          ...,\n          [0.6572, 0.8439, 0.3831,  ..., 0.1528, 0.8252, 0.4644],\n          [0.3878, 0.3961, 0.6598,  ..., 0.9539, 0.3720, 0.4353],\n          [0.2021, 0.8791, 0.0677,  ..., 0.3235, 0.5053, 0.4198]]]]), '_i4': 'Bn', '_i5': 'bn = BnLayer()', '_i6': 'bn = BnLayer(3, 3)', 'bn': BnLayer(\n  (conv): Conv2d(3, 3, kernel_size=(3, 3), stride=(2, 2), padding=(1, 1), bias=False)\n), '_i7': 'bn = BnLayer(3, 3)\\nbn(k)', '_i8': '%%debug\\nbn = BnLayer(3, 3)\\nbn(k)'}\n"
      },
      {
       "name": "stdin",
       "output_type": "stream",
       "text": "ipdb>  h\n"
      },
      {
       "name": "stdout",
       "output_type": "stream",
       "text": "\nDocumented commands (type help <topic>):\n========================================\nEOF    cl         disable  interact  next    psource  rv         unt   \na      clear      display  j         p       q        s          until \nalias  commands   down     jump      pdef    quit     source     up    \nargs   condition  enable   l         pdoc    r        step       w     \nb      cont       exit     list      pfile   restart  tbreak     whatis\nbreak  continue   h        ll        pinfo   return   u          where \nbt     d          help     longlist  pinfo2  retval   unalias  \nc      debug      ignore   n         pp      run      undisplay\n\nMiscellaneous help topics:\n==========================\nexec  pdb\n\n"
      },
      {
       "name": "stdin",
       "output_type": "stream",
       "text": "ipdb>  c\n"
      },
      {
       "name": "stdout",
       "output_type": "stream",
       "text": "\u001b[0;31m---------------------------------------------------------------------------\u001b[0m\n\u001b[0;31mZeroDivisionError\u001b[0m                         Traceback (most recent call last)\n\u001b[0;32m~/anaconda3/envs/dl/lib/python3.7/site-packages/torch/nn/modules/module.py\u001b[0m in \u001b[0;36m__call__\u001b[0;34m(self, *input, **kwargs)\u001b[0m\n\u001b[1;32m    539\u001b[0m             \u001b[0mresult\u001b[0m \u001b[0;34m=\u001b[0m \u001b[0mself\u001b[0m\u001b[0;34m.\u001b[0m\u001b[0m_slow_forward\u001b[0m\u001b[0;34m(\u001b[0m\u001b[0;34m*\u001b[0m\u001b[0minput\u001b[0m\u001b[0;34m,\u001b[0m \u001b[0;34m**\u001b[0m\u001b[0mkwargs\u001b[0m\u001b[0;34m)\u001b[0m\u001b[0;34m\u001b[0m\u001b[0;34m\u001b[0m\u001b[0m\n\u001b[1;32m    540\u001b[0m         \u001b[0;32melse\u001b[0m\u001b[0;34m:\u001b[0m\u001b[0;34m\u001b[0m\u001b[0;34m\u001b[0m\u001b[0m\n\u001b[0;32m--> 541\u001b[0;31m             \u001b[0mresult\u001b[0m \u001b[0;34m=\u001b[0m \u001b[0mself\u001b[0m\u001b[0;34m.\u001b[0m\u001b[0mforward\u001b[0m\u001b[0;34m(\u001b[0m\u001b[0;34m*\u001b[0m\u001b[0minput\u001b[0m\u001b[0;34m,\u001b[0m \u001b[0;34m**\u001b[0m\u001b[0mkwargs\u001b[0m\u001b[0;34m)\u001b[0m\u001b[0;34m\u001b[0m\u001b[0;34m\u001b[0m\u001b[0m\n\u001b[0m\u001b[1;32m    542\u001b[0m         \u001b[0;32mfor\u001b[0m \u001b[0mhook\u001b[0m \u001b[0;32min\u001b[0m \u001b[0mself\u001b[0m\u001b[0;34m.\u001b[0m\u001b[0m_forward_hooks\u001b[0m\u001b[0;34m.\u001b[0m\u001b[0mvalues\u001b[0m\u001b[0;34m(\u001b[0m\u001b[0;34m)\u001b[0m\u001b[0;34m:\u001b[0m\u001b[0;34m\u001b[0m\u001b[0;34m\u001b[0m\u001b[0m\n\u001b[1;32m    543\u001b[0m             \u001b[0mhook_result\u001b[0m \u001b[0;34m=\u001b[0m \u001b[0mhook\u001b[0m\u001b[0;34m(\u001b[0m\u001b[0mself\u001b[0m\u001b[0;34m,\u001b[0m \u001b[0minput\u001b[0m\u001b[0;34m,\u001b[0m \u001b[0mresult\u001b[0m\u001b[0;34m)\u001b[0m\u001b[0;34m\u001b[0m\u001b[0;34m\u001b[0m\u001b[0m\n\n\u001b[0;32m<ipython-input-2-e957d0cc474d>\u001b[0m in \u001b[0;36mforward\u001b[0;34m(self, x)\u001b[0m\n\u001b[1;32m     11\u001b[0m         \u001b[0mx_chan\u001b[0m \u001b[0;34m=\u001b[0m \u001b[0mx\u001b[0m\u001b[0;34m.\u001b[0m\u001b[0mtranspose\u001b[0m\u001b[0;34m(\u001b[0m\u001b[0;36m0\u001b[0m\u001b[0;34m,\u001b[0m\u001b[0;36m1\u001b[0m\u001b[0;34m)\u001b[0m\u001b[0;34m.\u001b[0m\u001b[0mcontiguous\u001b[0m\u001b[0;34m(\u001b[0m\u001b[0;34m)\u001b[0m\u001b[0;34m.\u001b[0m\u001b[0mview\u001b[0m\u001b[0;34m(\u001b[0m\u001b[0mx\u001b[0m\u001b[0;34m.\u001b[0m\u001b[0msize\u001b[0m\u001b[0;34m(\u001b[0m\u001b[0;36m1\u001b[0m\u001b[0;34m)\u001b[0m\u001b[0;34m,\u001b[0m \u001b[0;34m-\u001b[0m\u001b[0;36m1\u001b[0m\u001b[0;34m)\u001b[0m\u001b[0;34m\u001b[0m\u001b[0;34m\u001b[0m\u001b[0m\n\u001b[1;32m     12\u001b[0m         \u001b[0;31m# c_chan -> torch.Size([3, 12544]) for [1,3,224,224]\u001b[0m\u001b[0;34m\u001b[0m\u001b[0;34m\u001b[0m\u001b[0;34m\u001b[0m\u001b[0m\n\u001b[0;32m---> 13\u001b[0;31m         \u001b[0;36m1\u001b[0m\u001b[0;34m/\u001b[0m\u001b[0;36m0\u001b[0m\u001b[0;34m\u001b[0m\u001b[0;34m\u001b[0m\u001b[0m\n\u001b[0m\u001b[1;32m     14\u001b[0m \u001b[0;34m\u001b[0m\u001b[0m\n\u001b[1;32m     15\u001b[0m         \u001b[0;32mif\u001b[0m \u001b[0mself\u001b[0m\u001b[0;34m.\u001b[0m\u001b[0mtraining\u001b[0m\u001b[0;34m:\u001b[0m\u001b[0;34m\u001b[0m\u001b[0;34m\u001b[0m\u001b[0m\n\n\u001b[0;31mZeroDivisionError\u001b[0m: division by zero\n"
      }
     ],
     "persistentId": "0db3bece-8a2c-478c-9670-d057ff0f8b4a",
     "text": "%%debug\nbn = BnLayer(3, 3)\nbn(k)"
    },
    "executionTime": "2019-10-12T16:51:15.259Z"
   },
   {
    "cell": {
     "executionCount": 9,
     "executionEventId": "9ac69ffd-b6a3-42ae-bce6-49c2605886a0",
     "hasError": false,
     "id": "1d14f726-e2bc-474d-a67a-c926faf36dde",
     "outputs": [],
     "persistentId": "97b950d8-7cb1-463d-83c5-27960f736147",
     "text": "class BnLayer(nn.Module):\n    def __init__(self, ni, nf, stride=2, kernel_size=3):\n        super().__init__()\n        self.conv = nn.Conv2d(ni, nf, kernel_size=kernel_size, stride=stride,bias=False, padding=1)\n        \n        self.a = nn.Parameter(torch.zeros(nf,1,1))\n        self.m = nn.Parameter(torch.ones(nf,1,1))\n        \n    def forward(self, x):\n        x = F.relu(self.conv(x))\n        x_chan = x.transpose(0,1).contiguous().view(x.size(1), -1)\n        # c_chan -> torch.Size([3, 12544]) for [1,3,224,224]\n\n        if self.training:\n            self.means = x_chan.mean(1)[:,None,None]\n            self.stds  = x_chan.std(1)[:,None,None]          \n\n        return (x-self.means) / self.stds * self.m + self.a"
    },
    "executionTime": "2019-10-12T16:58:49.537Z"
   },
   {
    "cell": {
     "executionCount": 10,
     "executionEventId": "39e67c7b-1cf3-4f77-ab4e-b661ec0a43fb",
     "hasError": false,
     "id": "f24ac94e-c4d3-4498-98af-98d03de9e5c8",
     "outputs": [],
     "persistentId": "5e469a54-df61-4a6c-879a-d00a51320acd",
     "text": "from torch import nn\nfrom torch.nn import functional as F\nimport torch\nfrom utils.metrics import calculate_acc"
    },
    "executionTime": "2019-10-12T16:58:50.450Z"
   },
   {
    "cell": {
     "executionCount": 11,
     "executionEventId": "9f234108-6b33-41b5-9351-36413ee58265",
     "hasError": false,
     "id": "1d14f726-e2bc-474d-a67a-c926faf36dde",
     "outputs": [],
     "persistentId": "97b950d8-7cb1-463d-83c5-27960f736147",
     "text": "class BnLayer(nn.Module):\n    def __init__(self, ni, nf, stride=2, kernel_size=3):\n        super().__init__()\n        self.conv = nn.Conv2d(ni, nf, kernel_size=kernel_size, stride=stride,bias=False, padding=1)\n        \n        self.a = nn.Parameter(torch.zeros(nf,1,1))\n        self.m = nn.Parameter(torch.ones(nf,1,1))\n        \n    def forward(self, x):\n        x = F.relu(self.conv(x))\n        x_chan = x.transpose(0,1).contiguous().view(x.size(1), -1)\n        # c_chan -> torch.Size([3, 12544]) for [1,3,224,224]\n\n        if self.training:\n            self.means = x_chan.mean(1)[:,None,None]\n            self.stds  = x_chan.std(1)[:,None,None]          \n\n        return (x-self.means) / self.stds * self.m + self.a"
    },
    "executionTime": "2019-10-12T16:58:50.742Z"
   },
   {
    "cell": {
     "executionCount": 12,
     "executionEventId": "21d6ac36-932b-4826-b076-37e4492038aa",
     "hasError": false,
     "id": "1d14f726-e2bc-474d-a67a-c926faf36dde",
     "outputs": [],
     "persistentId": "97b950d8-7cb1-463d-83c5-27960f736147",
     "text": "class BnLayer(nn.Module):\n    def __init__(self, ni, nf, stride=2, kernel_size=3):\n        super().__init__()\n        self.conv = nn.Conv2d(ni, nf, kernel_size=kernel_size, stride=stride,bias=False, padding=1)\n        \n        self.a = nn.Parameter(torch.zeros(nf,1,1))\n        self.m = nn.Parameter(torch.ones(nf,1,1))\n        \n    def forward(self, x):\n        x = F.relu(self.conv(x))\n        x_chan = x.transpose(0,1).contiguous().view(x.size(1), -1)\n        # c_chan -> torch.Size([3, 12544]) for [1,3,224,224]\n\n        if self.training:\n            self.means = x_chan.mean(1)[:,None,None]\n            self.stds  = x_chan.std(1)[:,None,None]          \n\n        return (x-self.means) / self.stds * self.m + self.a"
    },
    "executionTime": "2019-10-12T17:04:18.459Z"
   },
   {
    "cell": {
     "executionCount": 13,
     "executionEventId": "61ce7546-7fa9-454e-bbab-b907c92355e8",
     "hasError": true,
     "id": "4aec0731-4364-4d3e-844f-9c5a245237ee",
     "outputs": [
      {
       "ename": "TypeError",
       "evalue": "__init__() missing 2 required positional arguments: 'ni' and 'nf'",
       "output_type": "error",
       "traceback": [
        "\u001b[0;31m---------------------------------------------------------------------------\u001b[0m",
        "\u001b[0;31mTypeError\u001b[0m                                 Traceback (most recent call last)",
        "\u001b[0;32m<ipython-input-13-0a7207d7ec21>\u001b[0m in \u001b[0;36m<module>\u001b[0;34m\u001b[0m\n\u001b[0;32m----> 1\u001b[0;31m \u001b[0mBN\u001b[0m \u001b[0;34m=\u001b[0m \u001b[0mBnLayer\u001b[0m\u001b[0;34m(\u001b[0m\u001b[0;34m)\u001b[0m\u001b[0;34m\u001b[0m\u001b[0;34m\u001b[0m\u001b[0m\n\u001b[0m",
        "\u001b[0;31mTypeError\u001b[0m: __init__() missing 2 required positional arguments: 'ni' and 'nf'"
       ]
      }
     ],
     "persistentId": "595379ff-1a85-42d9-86f6-a66ec0fbd69f",
     "text": "BN = BnLayer()"
    },
    "executionTime": "2019-10-12T17:04:21.428Z"
   },
   {
    "cell": {
     "executionCount": 14,
     "executionEventId": "7002edee-b111-49f0-80c5-019c27b968e7",
     "hasError": false,
     "id": "1d14f726-e2bc-474d-a67a-c926faf36dde",
     "outputs": [],
     "persistentId": "97b950d8-7cb1-463d-83c5-27960f736147",
     "text": "class BnLayer(nn.Module):\n    def __init__(self, ni, nf, stride=2, kernel_size=3):\n        super().__init__()\n        self.conv = nn.Conv2d(ni, nf, kernel_size=kernel_size, stride=stride,bias=False, padding=1)\n        \n        self.a = nn.Parameter(torch.zeros(nf,1,1))\n        self.m = nn.Parameter(torch.ones(nf,1,1))\n        \n    def forward(self, x):\n        x = F.relu(self.conv(x))\n        x_chan = x.transpose(0,1).contiguous().view(x.size(1), -1)\n        # c_chan -> torch.Size([3, 12544]) for [1,3,224,224]\n\n        if self.training:\n            self.means = x_chan.mean(1)[:,None,None]\n            self.stds  = x_chan.std(1)[:,None,None]          \n\n        return (x-self.means) / self.stds * self.m + self.a"
    },
    "executionTime": "2019-10-12T17:04:22.515Z"
   },
   {
    "cell": {
     "executionCount": 15,
     "executionEventId": "5fd33b7e-5873-458c-a024-a49ae4680676",
     "hasError": false,
     "id": "4aec0731-4364-4d3e-844f-9c5a245237ee",
     "outputs": [],
     "persistentId": "595379ff-1a85-42d9-86f6-a66ec0fbd69f",
     "text": "BN = BnLayer(3, 3)"
    },
    "executionTime": "2019-10-12T17:04:24.361Z"
   },
   {
    "cell": {
     "executionCount": 16,
     "executionEventId": "50d8471e-f9e7-4f05-85b6-d22fecc9b9f1",
     "hasError": false,
     "id": "fe0dea04-d645-4df4-885b-749490189e38",
     "outputs": [
      {
       "data": {
        "text/plain": "tensor([[[[-3.1043, -0.7105, -0.1559,  ..., -1.4714, -1.1432, -2.0205],\n          [-2.7250, -0.9292,  0.9126,  ...,  1.2126,  0.1625, -1.3427],\n          [-3.2150, -0.9238,  1.9144,  ...,  0.1427, -0.3079,  0.1637],\n          ...,\n          [-2.1894,  0.0657, -0.3283,  ...,  0.7765, -0.2901, -0.9284],\n          [-0.1304,  1.0492, -0.4338,  ...,  1.3788,  1.4572,  0.0774],\n          [-2.5184,  1.5575,  0.1685,  ...,  0.4032, -0.4163,  0.3095]],\n\n         [[ 1.9979,  1.6444,  2.2727,  ...,  2.6831,  0.7054,  3.2051],\n          [-0.8301,  2.2846, -0.9196,  ..., -0.3816, -0.9196, -0.8902],\n          [-0.2964,  1.3931, -0.9196,  ...,  0.1738,  0.8101, -0.9196],\n          ...,\n          [-0.7531, -0.3444, -0.9196,  ..., -0.9196, -0.8844, -0.9196],\n          [ 2.7149,  0.0839, -0.9196,  ..., -0.1110, -0.0543, -0.9191],\n          [ 0.0519,  0.0141,  0.8943,  ..., -0.9196, -0.9196, -0.9196]],\n\n         [[ 0.0881,  2.0197, -0.0351,  ...,  1.2356,  0.4678,  1.3606],\n          [-0.4601,  0.5780,  0.8468,  ...,  0.3755, -1.0714,  0.0157],\n          [ 1.6379, -0.7137, -1.0714,  ..., -0.1566, -1.0714, -1.0714],\n          ...,\n          [ 1.3646, -0.2181, -0.2616,  ..., -1.0714, -0.4681,  2.1910],\n          [ 1.0756,  3.0926, -1.0714,  ..., -0.8850,  0.8099, -0.4924],\n          [ 0.3021, -0.0556,  1.1139,  ..., -0.8355, -0.8925, -1.0714]]]],\n       grad_fn=<AddBackward0>)"
       },
       "execution_count": 16,
       "metadata": {},
       "output_type": "execute_result"
      }
     ],
     "persistentId": "c302c729-6698-4610-9872-cde8fd446a99",
     "text": "BN(k)"
    },
    "executionTime": "2019-10-12T17:04:31.481Z"
   },
   {
    "cell": {
     "executionCount": 17,
     "executionEventId": "034769aa-b660-4bde-86ab-a2e883fe0e99",
     "hasError": false,
     "id": "fe0dea04-d645-4df4-885b-749490189e38",
     "outputs": [
      {
       "data": {
        "text/plain": "tensor([[[[-3.1043, -0.7105, -0.1559,  ..., -1.4714, -1.1432, -2.0205],\n          [-2.7250, -0.9292,  0.9126,  ...,  1.2126,  0.1625, -1.3427],\n          [-3.2150, -0.9238,  1.9144,  ...,  0.1427, -0.3079,  0.1637],\n          ...,\n          [-2.1894,  0.0657, -0.3283,  ...,  0.7765, -0.2901, -0.9284],\n          [-0.1304,  1.0492, -0.4338,  ...,  1.3788,  1.4572,  0.0774],\n          [-2.5184,  1.5575,  0.1685,  ...,  0.4032, -0.4163,  0.3095]],\n\n         [[ 1.9979,  1.6444,  2.2727,  ...,  2.6831,  0.7054,  3.2051],\n          [-0.8301,  2.2846, -0.9196,  ..., -0.3816, -0.9196, -0.8902],\n          [-0.2964,  1.3931, -0.9196,  ...,  0.1738,  0.8101, -0.9196],\n          ...,\n          [-0.7531, -0.3444, -0.9196,  ..., -0.9196, -0.8844, -0.9196],\n          [ 2.7149,  0.0839, -0.9196,  ..., -0.1110, -0.0543, -0.9191],\n          [ 0.0519,  0.0141,  0.8943,  ..., -0.9196, -0.9196, -0.9196]],\n\n         [[ 0.0881,  2.0197, -0.0351,  ...,  1.2356,  0.4678,  1.3606],\n          [-0.4601,  0.5780,  0.8468,  ...,  0.3755, -1.0714,  0.0157],\n          [ 1.6379, -0.7137, -1.0714,  ..., -0.1566, -1.0714, -1.0714],\n          ...,\n          [ 1.3646, -0.2181, -0.2616,  ..., -1.0714, -0.4681,  2.1910],\n          [ 1.0756,  3.0926, -1.0714,  ..., -0.8850,  0.8099, -0.4924],\n          [ 0.3021, -0.0556,  1.1139,  ..., -0.8355, -0.8925, -1.0714]]]],\n       grad_fn=<AddBackward0>)"
       },
       "execution_count": 17,
       "metadata": {},
       "output_type": "execute_result"
      }
     ],
     "persistentId": "c302c729-6698-4610-9872-cde8fd446a99",
     "text": "BN(k)"
    },
    "executionTime": "2019-10-12T17:07:40.344Z"
   }
  ],
  "kernelspec": {
   "display_name": "dsr-dl",
   "language": "python",
   "name": "dl"
  },
  "language_info": {
   "codemirror_mode": {
    "name": "ipython",
    "version": 3
   },
   "file_extension": ".py",
   "mimetype": "text/x-python",
   "name": "python",
   "nbconvert_exporter": "python",
   "pygments_lexer": "ipython3",
   "version": "3.7.4"
  },
  "uuid": "d9147b47-810c-44d8-bd29-bd2f6d151852"
 },
 "nbformat": 4,
 "nbformat_minor": 4
}
