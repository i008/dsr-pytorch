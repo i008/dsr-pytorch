{
 "cells": [
  {
   "cell_type": "code",
   "execution_count": 52,
   "metadata": {},
   "outputs": [],
   "source": [
    "import json\n",
    "import pandas as pd\n",
    "import PIL\n",
    "import numpy as np\n",
    "import os\n",
    "from pycocotools.coco import COCO\n",
    "from easyimages.utils import xyxy2xywh, change_box_order, visualize_one_coco,vis_image\n",
    "%matplotlib inline"
   ]
  },
  {
   "cell_type": "code",
   "execution_count": 53,
   "metadata": {},
   "outputs": [
    {
     "data": {
      "text/plain": [
       "'\\nusage: generate-shapes.py [-h] -n NUMBER [--width WIDTH] [--height HEIGHT]\\n              [--max-shapes MAX_SHAPES] [--min-shapes MIN_SHAPES]\\n              [--min-dimension MIN_DIMENSION] [--max-dimension MAX_DIMENSION]\\n              [--min-intensity MIN_INTENSITY] [--gray]\\n              [--shape {rectangle,circle,triangle}] [-o OUTPUT_DIR]\\n              [--allow-overlap]\\n\\nGenerate Toy Object Detection Dataset\\n\\noptional arguments:\\n  -h, --help            show this help message and exit\\n  -n NUMBER, --number NUMBER\\n                        The number of images to generate\\n  --width WIDTH         The width of generated images (128)\\n  --height HEIGHT       The height of generated images (128)\\n  --max-shapes MAX_SHAPES\\n                        The maximum number of shapes per image (10)\\n  --min-shapes MIN_SHAPES\\n                        The maximum number of shapes per image (1)\\n  --min-dimension MIN_DIMENSION\\n                        The minimum dimension of a shape (10)\\n  --max-dimension MAX_DIMENSION\\n                        The maximum dimension of a shape (None)\\n  --min-intensity MIN_INTENSITY\\n                        The minimum intensity (0-255) for a pixel channel\\n                        (128)\\n  --gray                Make all shapes grayscale\\n  --shape {rectangle,circle,triangle}\\n                        Generate only this kind of shape\\n  -o OUTPUT_DIR, --output-dir OUTPUT_DIR\\n                        The output directory where to save images\\n  --allow-overlap       Allow shapes to overlap on images\\n\\n'"
      ]
     },
     "execution_count": 53,
     "metadata": {},
     "output_type": "execute_result"
    }
   ],
   "source": [
    "'''\n",
    "usage: generate-shapes.py [-h] -n NUMBER [--width WIDTH] [--height HEIGHT]\n",
    "              [--max-shapes MAX_SHAPES] [--min-shapes MIN_SHAPES]\n",
    "              [--min-dimension MIN_DIMENSION] [--max-dimension MAX_DIMENSION]\n",
    "              [--min-intensity MIN_INTENSITY] [--gray]\n",
    "              [--shape {rectangle,circle,triangle}] [-o OUTPUT_DIR]\n",
    "              [--allow-overlap]\n",
    "\n",
    "Generate Toy Object Detection Dataset\n",
    "\n",
    "optional arguments:\n",
    "  -h, --help            show this help message and exit\n",
    "  -n NUMBER, --number NUMBER\n",
    "                        The number of images to generate\n",
    "  --width WIDTH         The width of generated images (128)\n",
    "  --height HEIGHT       The height of generated images (128)\n",
    "  --max-shapes MAX_SHAPES\n",
    "                        The maximum number of shapes per image (10)\n",
    "  --min-shapes MIN_SHAPES\n",
    "                        The maximum number of shapes per image (1)\n",
    "  --min-dimension MIN_DIMENSION\n",
    "                        The minimum dimension of a shape (10)\n",
    "  --max-dimension MAX_DIMENSION\n",
    "                        The maximum dimension of a shape (None)\n",
    "  --min-intensity MIN_INTENSITY\n",
    "                        The minimum intensity (0-255) for a pixel channel\n",
    "                        (128)\n",
    "  --gray                Make all shapes grayscale\n",
    "  --shape {rectangle,circle,triangle}\n",
    "                        Generate only this kind of shape\n",
    "  -o OUTPUT_DIR, --output-dir OUTPUT_DIR\n",
    "                        The output directory where to save images\n",
    "  --allow-overlap       Allow shapes to overlap on images\n",
    "\n",
    "'''\n"
   ]
  },
  {
   "cell_type": "code",
   "execution_count": 54,
   "metadata": {},
   "outputs": [
    {
     "name": "stdout",
     "output_type": "stream",
     "text": [
      "Generated 1000 images in 3.41s\r\n",
      "Saving to /home/i008/googledrive/dsr-pytorch/generate-shapes/out100_200 ...\r\n"
     ]
    }
   ],
   "source": [
    "# !pip3 install scipy==0.17.0\n",
    "# !rm -r out/\n",
    "# !python generate_shapes.py  --allow-overlap --min-dimension 50 --max-dimension 100 --number 1000 --output-dir out50_100 --width 300 --height 300\n",
    "!python generate_shapes.py  --allow-overlap --min-dimension 100 --max-dimension 200 --number 1000 --output-dir out100_200 --width 300 --height 300"
   ]
  },
  {
   "cell_type": "code",
   "execution_count": 55,
   "metadata": {},
   "outputs": [],
   "source": [
    "cat_dict = {'circle': 0,'triangle':1, 'rectangle': 2}\n",
    "\n",
    "categories = []\n",
    "for name,i in cat_dict.items():\n",
    "    categories.append({'supercategory':'none','id':i,'name':name})"
   ]
  },
  {
   "cell_type": "code",
   "execution_count": 56,
   "metadata": {},
   "outputs": [],
   "source": [
    "images_base_path = 'out100_200/'\n",
    "B = json.load(open('out100_200/labels.json','rb'))\n",
    "\n",
    "coco_template = {'annotations': [], 'images': [], 'info': 'bbox_encoding=top-left-widht-height', 'categories': []}\n",
    "coco_template['categories'] = categories\n",
    "for i,image in enumerate(B):\n",
    "    image_name = str(i)+'.png'\n",
    "    image_path = os.path.join(images_base_path, image_name)\n",
    "    width, height = PIL.Image.open(image_path).size\n",
    "    \n",
    "    coco_template['images'].append({'id': image_name, 'file_name': image_name, 'width':width, 'height':height})\n",
    "    \n",
    "    for ib, box in enumerate(image['boxes']):\n",
    "        x1,y1,x2,y2,cls = box['x1'], box['y1'], box['x2'], box['y2'], cat_dict[box['class']]\n",
    "        box = np.array([[x1,y1,x2,y2]])\n",
    "        boxcwh = change_box_order(box, input_order='tlbr',output_order='tlwh')[0]\n",
    "        one_box = {'id':str(i)+'_'+str(ib), 'image_id': image_name, 'category_id': cls, 'bbox': np.ndarray.tolist(boxcwh)}\n",
    "        coco_template['annotations'].append(one_box)"
   ]
  },
  {
   "cell_type": "code",
   "execution_count": 57,
   "metadata": {},
   "outputs": [
    {
     "name": "stdout",
     "output_type": "stream",
     "text": [
      "loading annotations into memory...\n",
      "Done (t=0.01s)\n",
      "creating index...\n",
      "index created!\n"
     ]
    }
   ],
   "source": [
    "# from easyimages.utils import *\n",
    "\n",
    "with open('100_200.json','w') as bla:\n",
    "    bla.write(json.dumps(coco_template))\n",
    "coco = COCO('100_200.json')"
   ]
  },
  {
   "cell_type": "code",
   "execution_count": 44,
   "metadata": {
    "scrolled": false
   },
   "outputs": [],
   "source": []
  },
  {
   "cell_type": "code",
   "execution_count": 58,
   "metadata": {},
   "outputs": [
    {
     "name": "stdout",
     "output_type": "stream",
     "text": [
      "loading annotations into memory...\n",
      "Done (t=0.02s)\n",
      "creating index...\n",
      "index created!\n"
     ]
    },
    {
     "data": {
      "image/png": "[encoded data removed]",
      "text/plain": [
       "<Figure size 1080x720 with 1 Axes>"
      ]
     },
     "execution_count": 58,
     "metadata": {},
     "output_type": "execute_result"
    },
    {
     "data": {
      "image/png": "[encoded data removed]",
      "text/plain": [
       "<Figure size 1080x720 with 1 Axes>"
      ]
     },
     "metadata": {
      "needs_background": "light"
     },
     "output_type": "display_data"
    }
   ],
   "source": [
    "coco = COCO(annotation_file='100_200.json')\n",
    "visualize_one_coco(coco, base_path='out100_200/')"
   ]
  },
  {
   "cell_type": "code",
   "execution_count": 19,
   "metadata": {},
   "outputs": [
    {
     "data": {
      "text/plain": [
       "['10_0']"
      ]
     },
     "execution_count": 19,
     "metadata": {},
     "output_type": "execute_result"
    }
   ],
   "source": [
    "coco.getAnnIds(['10.png'])"
   ]
  },
  {
   "cell_type": "code",
   "execution_count": 28,
   "metadata": {},
   "outputs": [],
   "source": [
    "import torch\n",
    "\n",
    "torch.save(%m)"
   ]
  },
  {
   "cell_type": "code",
   "execution_count": 51,
   "metadata": {},
   "outputs": [],
   "source": [
    "!cp 100_200.json out100_200/"
   ]
  }
 ],
 "metadata": {
  "kernelspec": {
   "display_name": "Python [conda env:dl]",
   "language": "python",
   "name": "conda-env-dl-py"
  },
  "language_info": {
   "codemirror_mode": {
    "name": "ipython",
    "version": 3
   },
   "file_extension": ".py",
   "mimetype": "text/x-python",
   "name": "python",
   "nbconvert_exporter": "python",
   "pygments_lexer": "ipython3",
   "version": "3.7.4"
  }
 },
 "nbformat": 4,
 "nbformat_minor": 2
}
