{
 "cells": [
  {
   "cell_type": "code",
   "execution_count": 1,
   "metadata": {},
   "outputs": [],
   "source": [
    "from torch.utils.data import IterableDataset, Dataset, SequentialSampler, Sampler, SubsetRandomSampler, DataLoader\n",
    "from torch.utils.data.sampler import SubsetRandomSampler, BatchSampler, SequentialSampler, RandomSampler\n",
    "import numpy as np\n",
    "import pandas as pd"
   ]
  },
  {
   "cell_type": "markdown",
   "metadata": {},
   "source": [
    "### Dataset \n",
    "    - Map Style Dataset\n",
    "    - Iterable Style dataset\n",
    "### DataLoader\n",
    "### Sampler"
   ]
  },
  {
   "cell_type": "markdown",
   "metadata": {},
   "source": [
    "# Map Style Datasets\n",
    "A dataset where its bebeviour is controlled by \\__getitem__() and \\__len__()"
   ]
  },
  {
   "cell_type": "code",
   "execution_count": 2,
   "metadata": {},
   "outputs": [],
   "source": [
    "class CustomDataset(Dataset):\n",
    "    def __init__(self, data, labels):\n",
    "        self.data = data\n",
    "        self.labels = labels\n",
    "    \n",
    "    def __getitem__(self, ix):\n",
    "        return self.data[ix], self.labels[ix]\n",
    "    \n",
    "    def __len__(self):\n",
    "        return len(self.data)\n"
   ]
  },
  {
   "cell_type": "code",
   "execution_count": 3,
   "metadata": {},
   "outputs": [
    {
     "name": "stdout",
     "output_type": "stream",
     "text": [
      "(0, 0)\n",
      "(1, 1)\n",
      "1000\n"
     ]
    }
   ],
   "source": [
    "X = list(range(1000))\n",
    "y = list(range(1000))\n",
    "\n",
    "ds = CustomDataset(X, y)\n",
    "\n",
    "print(ds[0])\n",
    "print(ds[1])\n",
    "print(len(ds))"
   ]
  },
  {
   "cell_type": "code",
   "execution_count": 298,
   "metadata": {},
   "outputs": [
    {
     "name": "stdout",
     "output_type": "stream",
     "text": [
      "<torch.utils.data.sampler.SequentialSampler object at 0x128644890>\n",
      "[tensor([0]), tensor([0])]\n"
     ]
    }
   ],
   "source": [
    "dl =DataLoader(ds, batch_size=1)\n",
    "print(dl.sampler)\n",
    "\n",
    "for b in dl:\n",
    "    break\n",
    "print(b)"
   ]
  },
  {
   "cell_type": "code",
   "execution_count": 299,
   "metadata": {},
   "outputs": [
    {
     "name": "stdout",
     "output_type": "stream",
     "text": [
      "tensor([ 0,  1,  2,  3,  4,  5,  6,  7,  8,  9, 10, 11, 12, 13, 14, 15]) tensor([ 0,  1,  2,  3,  4,  5,  6,  7,  8,  9, 10, 11, 12, 13, 14, 15])\n"
     ]
    }
   ],
   "source": [
    "dl =DataLoader(ds, batch_size=16)\n",
    "\n",
    "for data, target in dl:\n",
    "    break\n",
    "print(data, target)"
   ]
  },
  {
   "cell_type": "markdown",
   "metadata": {},
   "source": [
    "# Samplers \n",
    "control wich items we choose to collect a batch"
   ]
  },
  {
   "cell_type": "code",
   "execution_count": 300,
   "metadata": {
    "scrolled": true
   },
   "outputs": [
    {
     "name": "stdout",
     "output_type": "stream",
     "text": [
      "[285, 756, 870, 239, 564, 813, 76, 385, 321, 90]\n"
     ]
    }
   ],
   "source": [
    "print([s for s in RandomSampler(y)][:10])"
   ]
  },
  {
   "cell_type": "code",
   "execution_count": 301,
   "metadata": {},
   "outputs": [
    {
     "name": "stdout",
     "output_type": "stream",
     "text": [
      "[0, 1, 2, 3, 4, 5, 6, 7, 8, 9]\n"
     ]
    }
   ],
   "source": [
    "print([s for s in SequentialSampler(y)][:10])"
   ]
  },
  {
   "cell_type": "code",
   "execution_count": 302,
   "metadata": {},
   "outputs": [
    {
     "name": "stdout",
     "output_type": "stream",
     "text": [
      "<torch.utils.data.sampler.RandomSampler object at 0x12adc1a10>\n",
      "tensor([379, 917, 713, 731,   8, 720,  74,  58, 197, 449, 287, 461, 608, 640,\n",
      "        536,  51])\n",
      "tensor([379, 917, 713, 731,   8, 720,  74,  58, 197, 449, 287, 461, 608, 640,\n",
      "        536,  51])\n"
     ]
    }
   ],
   "source": [
    "dl =DataLoader(ds, batch_size=16, shuffle=True)\n",
    "print(dl.sampler)\n",
    "for b in dl: break\n",
    "print(b[0])\n",
    "print(b[1])"
   ]
  },
  {
   "cell_type": "markdown",
   "metadata": {},
   "source": [
    "# Batching and collate_fn\n",
    "\n",
    "If batching enabled dataloader will combine multiple samples into a batch. The default collate functions i quite powerful but there are scenarios where you might need to adjust it"
   ]
  },
  {
   "cell_type": "code",
   "execution_count": 4,
   "metadata": {},
   "outputs": [],
   "source": [
    "import torch\n",
    "\n",
    "class CustomRecordDataset(Dataset):\n",
    "    def __init__(self,records):\n",
    "        self.records = records\n",
    "        \n",
    "    def __getitem__(self, ix):\n",
    "        return self.records[ix]\n",
    "    \n",
    "    def __len__(self):\n",
    "        return len(self.records)"
   ]
  },
  {
   "cell_type": "markdown",
   "metadata": {},
   "source": [
    "If a record-field value is a tensor or numpy array they will be concataneted on a additional batch_dimension (dim=0)"
   ]
  },
  {
   "cell_type": "code",
   "execution_count": 304,
   "metadata": {},
   "outputs": [
    {
     "data": {
      "text/plain": [
       "torch.Size([4, 3, 224, 224])"
      ]
     },
     "execution_count": 304,
     "metadata": {},
     "output_type": "execute_result"
    }
   ],
   "source": [
    "\n",
    "R = [{'feature_vector': torch.rand(3,224,224), 'label':1}] * 100\n",
    "\n",
    "for b in DataLoader(CustomRecordDataset(R), batch_size=4):\n",
    "    break\n",
    "b['feature_vector'].shape"
   ]
  },
  {
   "cell_type": "code",
   "execution_count": 5,
   "metadata": {},
   "outputs": [
    {
     "data": {
      "text/plain": [
       "tensor([1, 1, 1, 1])"
      ]
     },
     "execution_count": 5,
     "metadata": {},
     "output_type": "execute_result"
    }
   ],
   "source": [
    "\n",
    "R = [{'feature_vector': np.array([1,2,3]), 'label':1}] * 100\n",
    "\n",
    "for b in DataLoader(CustomRecordDataset(R), \n",
    "                    batch_size=4):\n",
    "    break\n",
    "b['feature_vector']\n",
    "b['label']"
   ]
  },
  {
   "cell_type": "code",
   "execution_count": 8,
   "metadata": {},
   "outputs": [],
   "source": [
    "def custom_collate(*args):\n",
    "    for a in args[0]:\n",
    "        print(a)"
   ]
  },
  {
   "cell_type": "code",
   "execution_count": 9,
   "metadata": {},
   "outputs": [
    {
     "name": "stdout",
     "output_type": "stream",
     "text": [
      "{'feature_vector': array([1, 2, 3]), 'label': 1}\n",
      "{'feature_vector': array([1, 2, 3]), 'label': 1}\n",
      "{'feature_vector': array([1, 2, 3]), 'label': 1}\n",
      "{'feature_vector': array([1, 2, 3]), 'label': 1}\n",
      "{'feature_vector': array([1, 2, 3]), 'label': 1}\n",
      "{'feature_vector': array([1, 2, 3]), 'label': 1}\n",
      "{'feature_vector': array([1, 2, 3]), 'label': 1}\n",
      "{'feature_vector': array([1, 2, 3]), 'label': 1}\n",
      "{'feature_vector': array([1, 2, 3]), 'label': 1}\n",
      "{'feature_vector': array([1, 2, 3]), 'label': 1}\n",
      "{'feature_vector': array([1, 2, 3]), 'label': 1}\n",
      "{'feature_vector': array([1, 2, 3]), 'label': 1}\n"
     ]
    }
   ],
   "source": [
    "for b in DataLoader(CustomRecordDataset(R), batch_size=12, collate_fn=custom_collate):\n",
    "    break"
   ]
  },
  {
   "cell_type": "markdown",
   "metadata": {},
   "source": [
    "## Exercise 1\n",
    "\n",
    "Given the dataframe below, create a custom dataset (**DataFrameDataset**) that you will be able to use with a DataLoader.   Be aware of the fact that data is stored as strings!\n"
   ]
  },
  {
   "cell_type": "code",
   "execution_count": 55,
   "metadata": {},
   "outputs": [
    {
     "data": {
      "text/html": [
       "<div>\n",
       "<style scoped>\n",
       "    .dataframe tbody tr th:only-of-type {\n",
       "        vertical-align: middle;\n",
       "    }\n",
       "\n",
       "    .dataframe tbody tr th {\n",
       "        vertical-align: top;\n",
       "    }\n",
       "\n",
       "    .dataframe thead th {\n",
       "        text-align: right;\n",
       "    }\n",
       "</style>\n",
       "<table border=\"1\" class=\"dataframe\">\n",
       "  <thead>\n",
       "    <tr style=\"text-align: right;\">\n",
       "      <th></th>\n",
       "      <th>vector</th>\n",
       "      <th>cls</th>\n",
       "    </tr>\n",
       "  </thead>\n",
       "  <tbody>\n",
       "    <tr>\n",
       "      <th>0</th>\n",
       "      <td>[-0.6455748076557228, 0.14581910048898597, 0.7...</td>\n",
       "      <td>2</td>\n",
       "    </tr>\n",
       "    <tr>\n",
       "      <th>1</th>\n",
       "      <td>[0.30972425360634626, 0.5334698343817319, 0.18...</td>\n",
       "      <td>0</td>\n",
       "    </tr>\n",
       "    <tr>\n",
       "      <th>2</th>\n",
       "      <td>[2.00549490085801, 0.24793027917198568, -0.833...</td>\n",
       "      <td>2</td>\n",
       "    </tr>\n",
       "    <tr>\n",
       "      <th>3</th>\n",
       "      <td>[1.7075235609806672, 1.0314500868555092, -1.51...</td>\n",
       "      <td>1</td>\n",
       "    </tr>\n",
       "    <tr>\n",
       "      <th>4</th>\n",
       "      <td>[1.035192799215285, -0.40234613870886565, 1.35...</td>\n",
       "      <td>2</td>\n",
       "    </tr>\n",
       "    <tr>\n",
       "      <th>...</th>\n",
       "      <td>...</td>\n",
       "      <td>...</td>\n",
       "    </tr>\n",
       "    <tr>\n",
       "      <th>95</th>\n",
       "      <td>[-2.0379258586075757, 0.9748072853267833, 0.16...</td>\n",
       "      <td>2</td>\n",
       "    </tr>\n",
       "    <tr>\n",
       "      <th>96</th>\n",
       "      <td>[-0.5632616120688013, 0.9628132799409411, 0.98...</td>\n",
       "      <td>2</td>\n",
       "    </tr>\n",
       "    <tr>\n",
       "      <th>97</th>\n",
       "      <td>[0.9415353378508489, -0.2491448249107736, -1.1...</td>\n",
       "      <td>2</td>\n",
       "    </tr>\n",
       "    <tr>\n",
       "      <th>98</th>\n",
       "      <td>[0.37183559847150327, 0.08097419444312148, 1.8...</td>\n",
       "      <td>4</td>\n",
       "    </tr>\n",
       "    <tr>\n",
       "      <th>99</th>\n",
       "      <td>[-0.47632949745660647, -0.37507624142551743, 1...</td>\n",
       "      <td>2</td>\n",
       "    </tr>\n",
       "  </tbody>\n",
       "</table>\n",
       "<p>100 rows × 2 columns</p>\n",
       "</div>"
      ],
      "text/plain": [
       "                                               vector cls\n",
       "0   [-0.6455748076557228, 0.14581910048898597, 0.7...   2\n",
       "1   [0.30972425360634626, 0.5334698343817319, 0.18...   0\n",
       "2   [2.00549490085801, 0.24793027917198568, -0.833...   2\n",
       "3   [1.7075235609806672, 1.0314500868555092, -1.51...   1\n",
       "4   [1.035192799215285, -0.40234613870886565, 1.35...   2\n",
       "..                                                ...  ..\n",
       "95  [-2.0379258586075757, 0.9748072853267833, 0.16...   2\n",
       "96  [-0.5632616120688013, 0.9628132799409411, 0.98...   2\n",
       "97  [0.9415353378508489, -0.2491448249107736, -1.1...   2\n",
       "98  [0.37183559847150327, 0.08097419444312148, 1.8...   4\n",
       "99  [-0.47632949745660647, -0.37507624142551743, 1...   2\n",
       "\n",
       "[100 rows x 2 columns]"
      ]
     },
     "execution_count": 55,
     "metadata": {},
     "output_type": "execute_result"
    }
   ],
   "source": [
    "df = pd.DataFrame([{'vector': str(list(np.random.randn(128))), \n",
    "                    'cls': str(np.random.randint(5))} for i in range(100)])\n",
    "df"
   ]
  },
  {
   "cell_type": "code",
   "execution_count": 51,
   "metadata": {},
   "outputs": [],
   "source": [
    "class DataFrameDataset(Dataset):\n",
    "    \n",
    "    def __init__(self, df):\n",
    "        # your code\n",
    "        pass\n",
    "        \n",
    "        \n",
    "    def __len__(self):\n",
    "        # your code\n",
    "        pass\n",
    "        \n",
    "        \n",
    "    def __getitem__(self, ix):\n",
    "    \n",
    "#        # yout code\n",
    "        pass\n",
    "        "
   ]
  },
  {
   "cell_type": "markdown",
   "metadata": {},
   "source": [
    "## Expected result\n"
   ]
  },
  {
   "cell_type": "code",
   "execution_count": 53,
   "metadata": {},
   "outputs": [],
   "source": [
    "\n",
    "ds = DataFrameDataset(df)\n",
    "\n",
    "for b in DataLoader(ds, batch_size=32):\n",
    "    print(b)\n",
    "    break\n",
    "\n",
    "    \n",
    "# expect result: \n",
    "\n",
    "# b[0].shape = (32, 128)\n",
    "# b[1].shape = (32,)\n",
    "# len(df) = 128\n",
    "\n",
    "\n",
    "# [tensor([[ 1.2975, -0.5364,  0.2255,  ...,  0.2322,  0.7593, -0.7148],\n",
    "#          [ 1.1905,  2.5280, -1.0700,  ..., -1.2392,  0.7593,  0.8753],\n",
    "#          [ 0.7722, -1.0419,  0.3524,  ...,  1.2047,  0.8558, -1.8945],\n",
    "#          ...,\n",
    "#          [-0.7296, -0.5408,  0.7186,  ..., -0.9272, -0.9017, -1.9553],\n",
    "#          [ 0.7755,  1.1396, -0.9595,  ..., -0.5878, -0.3832, -0.8104],\n",
    "#          [ 2.7820, -0.7205,  1.3589,  ..., -0.4224,  0.2663,  0.9374]],\n",
    "#         dtype=torch.float64),\n",
    "#  tensor([3, 1, 4, 4, 4, 2, 4, 1, 0, 2, 3, 3, 1, 1, 1, 2, 1, 4, 3, 4, 1, 4, 4, 3,\n",
    "#          0, 3, 0, 3, 1, 1, 2, 2])]"
   ]
  },
  {
   "cell_type": "code",
   "execution_count": null,
   "metadata": {},
   "outputs": [],
   "source": []
  }
 ],
 "metadata": {
  "kernelspec": {
   "display_name": "Python [conda env:dl]",
   "language": "python",
   "name": "conda-env-dl-py"
  },
  "language_info": {
   "codemirror_mode": {
    "name": "ipython",
    "version": 3
   },
   "file_extension": ".py",
   "mimetype": "text/x-python",
   "name": "python",
   "nbconvert_exporter": "python",
   "pygments_lexer": "ipython3",
   "version": "3.7.7"
  }
 },
 "nbformat": 4,
 "nbformat_minor": 2
}
