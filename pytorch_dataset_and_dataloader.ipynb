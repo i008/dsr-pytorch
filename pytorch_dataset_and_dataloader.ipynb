{
 "cells": [
  {
   "cell_type": "code",
   "execution_count": 12,
   "metadata": {
    "execution": {
     "iopub.execute_input": "2020-07-25T17:17:46.664172Z",
     "iopub.status.busy": "2020-07-25T17:17:46.663862Z",
     "iopub.status.idle": "2020-07-25T17:17:46.666944Z",
     "shell.execute_reply": "2020-07-25T17:17:46.666453Z",
     "shell.execute_reply.started": "2020-07-25T17:17:46.664152Z"
    }
   },
   "outputs": [],
   "source": [
    "from torch.utils.data import IterableDataset, Dataset, SequentialSampler, Sampler, SubsetRandomSampler, DataLoader\n",
    "from torch.utils.data.sampler import SubsetRandomSampler, BatchSampler, SequentialSampler, RandomSampler\n",
    "import numpy as np\n",
    "import pandas as pd"
   ]
  },
  {
   "cell_type": "markdown",
   "metadata": {},
   "source": [
    "### Dataset \n",
    "    - Map Style Dataset\n",
    "    - Iterable Style dataset\n",
    "### DataLoader\n",
    "### Sampler"
   ]
  },
  {
   "cell_type": "markdown",
   "metadata": {},
   "source": [
    "# Map Style Datasets\n",
    "A dataset where its bebeviour is controlled by \\__getitem__() and \\__len__()"
   ]
  },
  {
   "cell_type": "code",
   "execution_count": 13,
   "metadata": {
    "execution": {
     "iopub.execute_input": "2020-07-25T17:17:47.166584Z",
     "iopub.status.busy": "2020-07-25T17:17:47.165242Z",
     "iopub.status.idle": "2020-07-25T17:17:47.171973Z",
     "shell.execute_reply": "2020-07-25T17:17:47.171411Z",
     "shell.execute_reply.started": "2020-07-25T17:17:47.166498Z"
    }
   },
   "outputs": [],
   "source": [
    "class CustomDataset(Dataset):\n",
    "    def __init__(self, data, labels):\n",
    "        self.data = data\n",
    "        self.labels = labels\n",
    "    \n",
    "    def __getitem__(self, ix):\n",
    "        return self.data[ix], self.labels[ix]\n",
    "    \n",
    "    def __len__(self):\n",
    "        return len(self.data)\n"
   ]
  },
  {
   "cell_type": "code",
   "execution_count": 14,
   "metadata": {
    "execution": {
     "iopub.execute_input": "2020-07-25T17:17:47.374783Z",
     "iopub.status.busy": "2020-07-25T17:17:47.373501Z",
     "iopub.status.idle": "2020-07-25T17:17:47.380238Z",
     "shell.execute_reply": "2020-07-25T17:17:47.379685Z",
     "shell.execute_reply.started": "2020-07-25T17:17:47.374698Z"
    }
   },
   "outputs": [
    {
     "name": "stdout",
     "output_type": "stream",
     "text": [
      "(0, 0)\n",
      "(1, 1)\n",
      "1000\n"
     ]
    }
   ],
   "source": [
    "X = list(range(1000))\n",
    "y = list(range(1000))\n",
    "\n",
    "ds = CustomDataset(X, y)\n",
    "\n",
    "print(ds[0])\n",
    "print(ds[1])\n",
    "print(len(ds))"
   ]
  },
  {
   "cell_type": "code",
   "execution_count": 15,
   "metadata": {
    "execution": {
     "iopub.execute_input": "2020-07-25T17:17:47.474941Z",
     "iopub.status.busy": "2020-07-25T17:17:47.474084Z",
     "iopub.status.idle": "2020-07-25T17:17:47.489913Z",
     "shell.execute_reply": "2020-07-25T17:17:47.487297Z",
     "shell.execute_reply.started": "2020-07-25T17:17:47.474861Z"
    }
   },
   "outputs": [
    {
     "name": "stdout",
     "output_type": "stream",
     "text": [
      "<torch.utils.data.sampler.SequentialSampler object at 0x7f335e0afd90>\n",
      "[tensor([0]), tensor([0])]\n"
     ]
    }
   ],
   "source": [
    "dl =DataLoader(ds, batch_size=1)\n",
    "print(dl.sampler)\n",
    "\n",
    "for b in dl:\n",
    "    break\n",
    "print(b)"
   ]
  },
  {
   "cell_type": "code",
   "execution_count": 16,
   "metadata": {
    "execution": {
     "iopub.execute_input": "2020-07-25T17:17:47.620049Z",
     "iopub.status.busy": "2020-07-25T17:17:47.619179Z",
     "iopub.status.idle": "2020-07-25T17:17:47.632449Z",
     "shell.execute_reply": "2020-07-25T17:17:47.631966Z",
     "shell.execute_reply.started": "2020-07-25T17:17:47.619968Z"
    }
   },
   "outputs": [
    {
     "name": "stdout",
     "output_type": "stream",
     "text": [
      "tensor([ 0,  1,  2,  3,  4,  5,  6,  7,  8,  9, 10, 11, 12, 13, 14, 15]) tensor([ 0,  1,  2,  3,  4,  5,  6,  7,  8,  9, 10, 11, 12, 13, 14, 15])\n"
     ]
    }
   ],
   "source": [
    "dl =DataLoader(ds, batch_size=16)\n",
    "\n",
    "for data, target in dl:\n",
    "    break\n",
    "print(data, target)"
   ]
  },
  {
   "cell_type": "markdown",
   "metadata": {},
   "source": [
    "# Samplers \n",
    "control wich items we choose to collect a batch"
   ]
  },
  {
   "cell_type": "code",
   "execution_count": 17,
   "metadata": {
    "execution": {
     "iopub.execute_input": "2020-07-25T17:17:47.950727Z",
     "iopub.status.busy": "2020-07-25T17:17:47.949854Z",
     "iopub.status.idle": "2020-07-25T17:17:47.962525Z",
     "shell.execute_reply": "2020-07-25T17:17:47.959941Z",
     "shell.execute_reply.started": "2020-07-25T17:17:47.950646Z"
    },
    "scrolled": true
   },
   "outputs": [
    {
     "name": "stdout",
     "output_type": "stream",
     "text": [
      "[165, 445, 140, 984, 858, 17, 997, 886, 65, 229]\n"
     ]
    }
   ],
   "source": [
    "print([s for s in RandomSampler(y)][:10])"
   ]
  },
  {
   "cell_type": "code",
   "execution_count": 18,
   "metadata": {
    "execution": {
     "iopub.execute_input": "2020-07-25T17:17:48.148550Z",
     "iopub.status.busy": "2020-07-25T17:17:48.147684Z",
     "iopub.status.idle": "2020-07-25T17:17:48.160211Z",
     "shell.execute_reply": "2020-07-25T17:17:48.157186Z",
     "shell.execute_reply.started": "2020-07-25T17:17:48.148469Z"
    }
   },
   "outputs": [
    {
     "name": "stdout",
     "output_type": "stream",
     "text": [
      "[0, 1, 2, 3, 4, 5, 6, 7, 8, 9]\n"
     ]
    }
   ],
   "source": [
    "print([s for s in SequentialSampler(y)][:10])"
   ]
  },
  {
   "cell_type": "code",
   "execution_count": 19,
   "metadata": {
    "execution": {
     "iopub.execute_input": "2020-07-25T17:17:48.517681Z",
     "iopub.status.busy": "2020-07-25T17:17:48.517357Z",
     "iopub.status.idle": "2020-07-25T17:17:48.524697Z",
     "shell.execute_reply": "2020-07-25T17:17:48.523726Z",
     "shell.execute_reply.started": "2020-07-25T17:17:48.517651Z"
    }
   },
   "outputs": [
    {
     "name": "stdout",
     "output_type": "stream",
     "text": [
      "<torch.utils.data.sampler.RandomSampler object at 0x7f335e0cd050>\n",
      "tensor([950,  53, 387,  20, 878,  87, 789, 307, 724, 153, 823,  97, 597, 319,\n",
      "         62, 533])\n",
      "tensor([950,  53, 387,  20, 878,  87, 789, 307, 724, 153, 823,  97, 597, 319,\n",
      "         62, 533])\n"
     ]
    }
   ],
   "source": [
    "dl =DataLoader(ds, batch_size=16, shuffle=True)\n",
    "print(dl.sampler)\n",
    "for b in dl: break\n",
    "print(b[0])\n",
    "print(b[1])"
   ]
  },
  {
   "cell_type": "code",
   "execution_count": 20,
   "metadata": {
    "execution": {
     "iopub.execute_input": "2020-07-25T17:17:49.038511Z",
     "iopub.status.busy": "2020-07-25T17:17:49.037635Z",
     "iopub.status.idle": "2020-07-25T17:17:49.043720Z",
     "shell.execute_reply": "2020-07-25T17:17:49.043293Z",
     "shell.execute_reply.started": "2020-07-25T17:17:49.038429Z"
    }
   },
   "outputs": [
    {
     "data": {
      "text/plain": [
       "torch.Size([16])"
      ]
     },
     "execution_count": 20,
     "metadata": {},
     "output_type": "execute_result"
    }
   ],
   "source": [
    "b[0].shape"
   ]
  },
  {
   "cell_type": "markdown",
   "metadata": {},
   "source": [
    "# Batching and collate_fn\n",
    "\n",
    "If batching enabled dataloader will combine multiple samples into a batch. The default collate functions i quite powerful but there are scenarios where you might need to adjust it"
   ]
  },
  {
   "cell_type": "code",
   "execution_count": 21,
   "metadata": {
    "execution": {
     "iopub.execute_input": "2020-07-25T17:17:50.199261Z",
     "iopub.status.busy": "2020-07-25T17:17:50.197940Z",
     "iopub.status.idle": "2020-07-25T17:17:50.211198Z",
     "shell.execute_reply": "2020-07-25T17:17:50.209660Z",
     "shell.execute_reply.started": "2020-07-25T17:17:50.199177Z"
    }
   },
   "outputs": [],
   "source": [
    "import torch\n",
    "\n",
    "class CustomRecordDataset(Dataset):\n",
    "    def __init__(self,records):\n",
    "        self.records = records\n",
    "        \n",
    "    def __getitem__(self, ix):\n",
    "        return self.records[ix]\n",
    "    \n",
    "    def __len__(self):\n",
    "        return len(self.records)"
   ]
  },
  {
   "cell_type": "markdown",
   "metadata": {},
   "source": [
    "If a record-field value is a tensor or numpy array they will be concataneted on a additional batch_dimension (dim=0)"
   ]
  },
  {
   "cell_type": "code",
   "execution_count": 23,
   "metadata": {
    "execution": {
     "iopub.execute_input": "2020-07-25T17:19:16.736308Z",
     "iopub.status.busy": "2020-07-25T17:19:16.735841Z",
     "iopub.status.idle": "2020-07-25T17:19:16.752429Z",
     "shell.execute_reply": "2020-07-25T17:19:16.750250Z",
     "shell.execute_reply.started": "2020-07-25T17:19:16.736267Z"
    }
   },
   "outputs": [
    {
     "data": {
      "text/plain": [
       "torch.Size([4, 3, 224, 224])"
      ]
     },
     "execution_count": 23,
     "metadata": {},
     "output_type": "execute_result"
    }
   ],
   "source": [
    "\n",
    "R = [{'feature_vector': torch.rand(3,224,224), 'label':1}] * 100\n",
    "\n",
    "for b in DataLoader(CustomRecordDataset(R), batch_size=4):\n",
    "    break\n",
    "b['feature_vector'].shape"
   ]
  },
  {
   "cell_type": "code",
   "execution_count": 5,
   "metadata": {},
   "outputs": [
    {
     "data": {
      "text/plain": [
       "tensor([1, 1, 1, 1])"
      ]
     },
     "execution_count": 5,
     "metadata": {},
     "output_type": "execute_result"
    }
   ],
   "source": [
    "\n",
    "R = [{'feature_vector': np.array([1,2,3]), 'label':1}] * 100\n",
    "\n",
    "for b in DataLoader(CustomRecordDataset(R), \n",
    "                    batch_size=4):\n",
    "    break\n",
    "b['feature_vector']\n",
    "b['label']"
   ]
  },
  {
   "cell_type": "code",
   "execution_count": 8,
   "metadata": {},
   "outputs": [],
   "source": [
    "def custom_collate(*args):\n",
    "    for a in args[0]:\n",
    "        print(a)"
   ]
  },
  {
   "cell_type": "code",
   "execution_count": 9,
   "metadata": {},
   "outputs": [
    {
     "name": "stdout",
     "output_type": "stream",
     "text": [
      "{'feature_vector': array([1, 2, 3]), 'label': 1}\n",
      "{'feature_vector': array([1, 2, 3]), 'label': 1}\n",
      "{'feature_vector': array([1, 2, 3]), 'label': 1}\n",
      "{'feature_vector': array([1, 2, 3]), 'label': 1}\n",
      "{'feature_vector': array([1, 2, 3]), 'label': 1}\n",
      "{'feature_vector': array([1, 2, 3]), 'label': 1}\n",
      "{'feature_vector': array([1, 2, 3]), 'label': 1}\n",
      "{'feature_vector': array([1, 2, 3]), 'label': 1}\n",
      "{'feature_vector': array([1, 2, 3]), 'label': 1}\n",
      "{'feature_vector': array([1, 2, 3]), 'label': 1}\n",
      "{'feature_vector': array([1, 2, 3]), 'label': 1}\n",
      "{'feature_vector': array([1, 2, 3]), 'label': 1}\n"
     ]
    }
   ],
   "source": [
    "for b in DataLoader(CustomRecordDataset(R), batch_size=12, collate_fn=custom_collate):\n",
    "    break"
   ]
  },
  {
   "cell_type": "markdown",
   "metadata": {},
   "source": [
    "## Exercise 1\n",
    "\n",
    "Given the dataframe below, create a custom dataset (**DataFrameDataset**) that you will be able to use with a DataLoader.   Be aware of the fact that data is stored as strings!\n"
   ]
  },
  {
   "cell_type": "code",
   "execution_count": 24,
   "metadata": {
    "execution": {
     "iopub.execute_input": "2020-07-25T17:20:54.912317Z",
     "iopub.status.busy": "2020-07-25T17:20:54.911455Z",
     "iopub.status.idle": "2020-07-25T17:20:54.935055Z",
     "shell.execute_reply": "2020-07-25T17:20:54.934476Z",
     "shell.execute_reply.started": "2020-07-25T17:20:54.912237Z"
    }
   },
   "outputs": [
    {
     "data": {
      "text/html": [
       "<div>\n",
       "<style scoped>\n",
       "    .dataframe tbody tr th:only-of-type {\n",
       "        vertical-align: middle;\n",
       "    }\n",
       "\n",
       "    .dataframe tbody tr th {\n",
       "        vertical-align: top;\n",
       "    }\n",
       "\n",
       "    .dataframe thead th {\n",
       "        text-align: right;\n",
       "    }\n",
       "</style>\n",
       "<table border=\"1\" class=\"dataframe\">\n",
       "  <thead>\n",
       "    <tr style=\"text-align: right;\">\n",
       "      <th></th>\n",
       "      <th>vector</th>\n",
       "      <th>cls</th>\n",
       "    </tr>\n",
       "  </thead>\n",
       "  <tbody>\n",
       "    <tr>\n",
       "      <th>0</th>\n",
       "      <td>[-1.699801475934545, 0.09268444777898342, -0.2...</td>\n",
       "      <td>2</td>\n",
       "    </tr>\n",
       "    <tr>\n",
       "      <th>1</th>\n",
       "      <td>[-0.747517082449728, 1.208480231677957, -0.867...</td>\n",
       "      <td>4</td>\n",
       "    </tr>\n",
       "    <tr>\n",
       "      <th>2</th>\n",
       "      <td>[0.7402412279486025, 0.02220018439142956, -0.9...</td>\n",
       "      <td>3</td>\n",
       "    </tr>\n",
       "    <tr>\n",
       "      <th>3</th>\n",
       "      <td>[-1.4197976716370841, 0.7137226157746042, -0.6...</td>\n",
       "      <td>2</td>\n",
       "    </tr>\n",
       "    <tr>\n",
       "      <th>4</th>\n",
       "      <td>[-0.5567741318539665, 0.3752355258290632, -0.6...</td>\n",
       "      <td>1</td>\n",
       "    </tr>\n",
       "    <tr>\n",
       "      <th>...</th>\n",
       "      <td>...</td>\n",
       "      <td>...</td>\n",
       "    </tr>\n",
       "    <tr>\n",
       "      <th>95</th>\n",
       "      <td>[-1.0709808154174603, -1.1544218628423701, -1....</td>\n",
       "      <td>2</td>\n",
       "    </tr>\n",
       "    <tr>\n",
       "      <th>96</th>\n",
       "      <td>[1.8072831572288406, 0.5660121141064004, -0.55...</td>\n",
       "      <td>2</td>\n",
       "    </tr>\n",
       "    <tr>\n",
       "      <th>97</th>\n",
       "      <td>[-0.8834171967780721, -1.3738268928543496, -0....</td>\n",
       "      <td>1</td>\n",
       "    </tr>\n",
       "    <tr>\n",
       "      <th>98</th>\n",
       "      <td>[-0.02968978529547735, -0.25260334522969147, -...</td>\n",
       "      <td>0</td>\n",
       "    </tr>\n",
       "    <tr>\n",
       "      <th>99</th>\n",
       "      <td>[-0.1508163901071414, 0.23591983166461394, 0.8...</td>\n",
       "      <td>3</td>\n",
       "    </tr>\n",
       "  </tbody>\n",
       "</table>\n",
       "<p>100 rows × 2 columns</p>\n",
       "</div>"
      ],
      "text/plain": [
       "                                               vector cls\n",
       "0   [-1.699801475934545, 0.09268444777898342, -0.2...   2\n",
       "1   [-0.747517082449728, 1.208480231677957, -0.867...   4\n",
       "2   [0.7402412279486025, 0.02220018439142956, -0.9...   3\n",
       "3   [-1.4197976716370841, 0.7137226157746042, -0.6...   2\n",
       "4   [-0.5567741318539665, 0.3752355258290632, -0.6...   1\n",
       "..                                                ...  ..\n",
       "95  [-1.0709808154174603, -1.1544218628423701, -1....   2\n",
       "96  [1.8072831572288406, 0.5660121141064004, -0.55...   2\n",
       "97  [-0.8834171967780721, -1.3738268928543496, -0....   1\n",
       "98  [-0.02968978529547735, -0.25260334522969147, -...   0\n",
       "99  [-0.1508163901071414, 0.23591983166461394, 0.8...   3\n",
       "\n",
       "[100 rows x 2 columns]"
      ]
     },
     "execution_count": 24,
     "metadata": {},
     "output_type": "execute_result"
    }
   ],
   "source": [
    "df = pd.DataFrame([{'vector': str(list(np.random.randn(128))), \n",
    "                    'cls': str(np.random.randint(5))} for i in range(100)])\n",
    "df"
   ]
  },
  {
   "cell_type": "code",
   "execution_count": 30,
   "metadata": {
    "execution": {
     "iopub.execute_input": "2020-07-25T17:32:09.591462Z",
     "iopub.status.busy": "2020-07-25T17:32:09.590586Z",
     "iopub.status.idle": "2020-07-25T17:32:09.598158Z",
     "shell.execute_reply": "2020-07-25T17:32:09.597572Z",
     "shell.execute_reply.started": "2020-07-25T17:32:09.591380Z"
    }
   },
   "outputs": [
    {
     "data": {
      "text/plain": [
       "[-1.699801475934545,\n",
       " 0.09268444777898342,\n",
       " -0.279765963828878,\n",
       " 0.8599558291589802,\n",
       " 0.4431945401025378,\n",
       " -0.1748647228299461,\n",
       " 0.9722227564984574,\n",
       " -0.6392266325552667,\n",
       " -0.26969222491609945,\n",
       " -0.42886011833264054,\n",
       " 0.09217335638997833,\n",
       " -0.8992504183881692,\n",
       " -0.6775889359777681,\n",
       " -0.7265122879993583,\n",
       " 1.071740693225215,\n",
       " -0.7135544097037698,\n",
       " -0.24655306178083627,\n",
       " -0.7496031244987634,\n",
       " 0.6371118555962387,\n",
       " -1.4680690356960726,\n",
       " -1.506858504096004,\n",
       " -0.17249433759681707,\n",
       " -0.37690362973154207,\n",
       " 1.3864814205892606,\n",
       " -0.1189823489648525,\n",
       " -0.674990877121737,\n",
       " -0.5465502255568178,\n",
       " 0.8869418034749424,\n",
       " 0.6283752971954946,\n",
       " 1.2506436892769404,\n",
       " 0.1441429311299944,\n",
       " -0.07780328340474876,\n",
       " 0.0898707803579152,\n",
       " -1.1878094502494259,\n",
       " 2.2105732918727394,\n",
       " -0.022199736683702363,\n",
       " 0.61190478749321,\n",
       " -0.0825132374145533,\n",
       " -0.1232848066939051,\n",
       " 0.42307841766139176,\n",
       " -0.09334858368291528,\n",
       " 0.6262091977695436,\n",
       " 1.7243142808397094,\n",
       " -1.1977454837799588,\n",
       " -0.7306917745230376,\n",
       " 0.12211896962565941,\n",
       " 0.8251951636402522,\n",
       " -0.44115936452180865,\n",
       " -1.1731113725260045,\n",
       " 1.5029665119650208,\n",
       " -0.7460992830641809,\n",
       " 0.2661813076822521,\n",
       " -0.22295858725299947,\n",
       " -0.2886031562609277,\n",
       " 1.1721632454556339,\n",
       " 1.2449167270366692,\n",
       " 0.8118141916227788,\n",
       " 1.0327700713198118,\n",
       " -0.7812265022467361,\n",
       " 1.5144729222160132,\n",
       " -1.047760399531927,\n",
       " 0.5684207286439049,\n",
       " 0.666401948024159,\n",
       " -0.5124486072003417,\n",
       " -3.7148070103688147,\n",
       " -0.4379552165993913,\n",
       " -0.3259892635126158,\n",
       " 0.05734935028353135,\n",
       " 1.0206295629698177,\n",
       " -0.4536221089901881,\n",
       " 0.6319655545503677,\n",
       " 0.2831349742180178,\n",
       " 2.11699475014758,\n",
       " 0.85629255105696,\n",
       " 0.7523964302514933,\n",
       " 1.3419930534563371,\n",
       " -0.13207197688646946,\n",
       " -0.09254293050788533,\n",
       " 0.2925732940486436,\n",
       " -2.079833961652956,\n",
       " 1.782765734373432,\n",
       " 0.10130883961718612,\n",
       " -1.2420485735210538,\n",
       " 0.0690310056658193,\n",
       " -1.8064651421549325,\n",
       " -1.3309478971636948,\n",
       " -0.907737882370988,\n",
       " 0.10254414207398097,\n",
       " 0.06376389575872586,\n",
       " 0.12130900157509028,\n",
       " 1.1569147187709914,\n",
       " -0.03751342990830856,\n",
       " -0.82916418979888,\n",
       " 0.6815171137510269,\n",
       " -0.3991747403216086,\n",
       " 0.20329149647454986,\n",
       " 0.5027464346995765,\n",
       " 1.6978535705963977,\n",
       " 0.35831125421476995,\n",
       " -0.8303312901569334,\n",
       " 0.6305453481948341,\n",
       " -0.7687140247083311,\n",
       " 0.8283093917134413,\n",
       " 1.158677877414485,\n",
       " -0.16687607842518976,\n",
       " -0.2926063522836177,\n",
       " -1.3094149492630696,\n",
       " -0.2525447901723331,\n",
       " -0.14792876126137997,\n",
       " 0.8870469126719541,\n",
       " -0.336149290669229,\n",
       " -1.1126927789385048,\n",
       " -0.9646960206837398,\n",
       " -0.8172170151548507,\n",
       " 0.18883600542018156,\n",
       " 1.2666744996737582,\n",
       " -0.6374789747375581,\n",
       " -0.023115800572578424,\n",
       " 0.5060572648766786,\n",
       " 0.5204447602473979,\n",
       " -1.2125938096184634,\n",
       " -0.309162206938207,\n",
       " -0.40992196816176313,\n",
       " 0.47575245895117946,\n",
       " 0.7683502578864128,\n",
       " 0.0354423839450895,\n",
       " -0.04097658977243247,\n",
       " -0.3734349885521457]"
      ]
     },
     "execution_count": 30,
     "metadata": {},
     "output_type": "execute_result"
    }
   ],
   "source": [
    "eval(df.iloc[0].vector)"
   ]
  },
  {
   "cell_type": "code",
   "execution_count": 36,
   "metadata": {
    "execution": {
     "iopub.execute_input": "2020-07-25T17:46:53.805343Z",
     "iopub.status.busy": "2020-07-25T17:46:53.804427Z",
     "iopub.status.idle": "2020-07-25T17:46:53.809735Z",
     "shell.execute_reply": "2020-07-25T17:46:53.809152Z",
     "shell.execute_reply.started": "2020-07-25T17:46:53.805258Z"
    }
   },
   "outputs": [],
   "source": [
    "class DataFrameDataset(Dataset):\n",
    "    \n",
    "    def __init__(self, df):\n",
    "        self.df = df\n",
    "        \n",
    "    def __len__(self):\n",
    "        return len(self.df)\n",
    "        \n",
    "    def __getitem__(self, ix):\n",
    "        row = self.df.iloc[ix]\n",
    "        v = np.array(eval(row.vector))\n",
    "        c = int(row.cls)\n",
    "        \n",
    "        return v, c"
   ]
  },
  {
   "cell_type": "code",
   "execution_count": 37,
   "metadata": {
    "execution": {
     "iopub.execute_input": "2020-07-25T17:46:54.215273Z",
     "iopub.status.busy": "2020-07-25T17:46:54.214409Z",
     "iopub.status.idle": "2020-07-25T17:46:54.222265Z",
     "shell.execute_reply": "2020-07-25T17:46:54.221843Z",
     "shell.execute_reply.started": "2020-07-25T17:46:54.215193Z"
    }
   },
   "outputs": [
    {
     "data": {
      "text/plain": [
       "array([-1.69980148,  0.09268445, -0.27976596,  0.85995583,  0.44319454,\n",
       "       -0.17486472,  0.97222276, -0.63922663, -0.26969222, -0.42886012,\n",
       "        0.09217336, -0.89925042, -0.67758894, -0.72651229,  1.07174069,\n",
       "       -0.71355441, -0.24655306, -0.74960312,  0.63711186, -1.46806904,\n",
       "       -1.5068585 , -0.17249434, -0.37690363,  1.38648142, -0.11898235,\n",
       "       -0.67499088, -0.54655023,  0.8869418 ,  0.6283753 ,  1.25064369,\n",
       "        0.14414293, -0.07780328,  0.08987078, -1.18780945,  2.21057329,\n",
       "       -0.02219974,  0.61190479, -0.08251324, -0.12328481,  0.42307842,\n",
       "       -0.09334858,  0.6262092 ,  1.72431428, -1.19774548, -0.73069177,\n",
       "        0.12211897,  0.82519516, -0.44115936, -1.17311137,  1.50296651,\n",
       "       -0.74609928,  0.26618131, -0.22295859, -0.28860316,  1.17216325,\n",
       "        1.24491673,  0.81181419,  1.03277007, -0.7812265 ,  1.51447292,\n",
       "       -1.0477604 ,  0.56842073,  0.66640195, -0.51244861, -3.71480701,\n",
       "       -0.43795522, -0.32598926,  0.05734935,  1.02062956, -0.45362211,\n",
       "        0.63196555,  0.28313497,  2.11699475,  0.85629255,  0.75239643,\n",
       "        1.34199305, -0.13207198, -0.09254293,  0.29257329, -2.07983396,\n",
       "        1.78276573,  0.10130884, -1.24204857,  0.06903101, -1.80646514,\n",
       "       -1.3309479 , -0.90773788,  0.10254414,  0.0637639 ,  0.121309  ,\n",
       "        1.15691472, -0.03751343, -0.82916419,  0.68151711, -0.39917474,\n",
       "        0.2032915 ,  0.50274643,  1.69785357,  0.35831125, -0.83033129,\n",
       "        0.63054535, -0.76871402,  0.82830939,  1.15867788, -0.16687608,\n",
       "       -0.29260635, -1.30941495, -0.25254479, -0.14792876,  0.88704691,\n",
       "       -0.33614929, -1.11269278, -0.96469602, -0.81721702,  0.18883601,\n",
       "        1.2666745 , -0.63747897, -0.0231158 ,  0.50605726,  0.52044476,\n",
       "       -1.21259381, -0.30916221, -0.40992197,  0.47575246,  0.76835026,\n",
       "        0.03544238, -0.04097659, -0.37343499])"
      ]
     },
     "execution_count": 37,
     "metadata": {},
     "output_type": "execute_result"
    }
   ],
   "source": [
    "np.array(eval(df.iloc[0].vector))"
   ]
  },
  {
   "cell_type": "markdown",
   "metadata": {},
   "source": [
    "## Expected result\n"
   ]
  },
  {
   "cell_type": "code",
   "execution_count": 38,
   "metadata": {
    "execution": {
     "iopub.execute_input": "2020-07-25T17:46:55.254657Z",
     "iopub.status.busy": "2020-07-25T17:46:55.253784Z",
     "iopub.status.idle": "2020-07-25T17:46:55.288998Z",
     "shell.execute_reply": "2020-07-25T17:46:55.288451Z",
     "shell.execute_reply.started": "2020-07-25T17:46:55.254575Z"
    }
   },
   "outputs": [
    {
     "name": "stdout",
     "output_type": "stream",
     "text": [
      "[tensor([[-1.6998,  0.0927, -0.2798,  ...,  0.0354, -0.0410, -0.3734],\n",
      "        [-0.7475,  1.2085, -0.8676,  ..., -0.4179, -0.7688,  0.5704],\n",
      "        [ 0.7402,  0.0222, -0.9671,  ...,  0.7752,  0.2379, -0.7153],\n",
      "        ...,\n",
      "        [-2.3917,  1.2423,  1.6472,  ...,  0.8940, -0.4067, -0.3080],\n",
      "        [-0.0841,  0.4208,  0.5599,  ...,  0.2798,  1.0094,  0.3988],\n",
      "        [-0.2963,  0.5013,  0.3362,  ..., -0.6216, -0.3353,  0.3426]],\n",
      "       dtype=torch.float64), tensor([2, 4, 3, 2, 1, 4, 1, 2, 3, 1, 0, 1, 1, 3, 4, 2, 0, 1, 0, 0, 1, 4, 1, 1,\n",
      "        3, 2, 4, 2, 1, 1, 4, 1])]\n"
     ]
    }
   ],
   "source": [
    "\n",
    "ds = DataFrameDataset(df)\n",
    "\n",
    "for b in DataLoader(ds, batch_size=32):\n",
    "    print(b)\n",
    "    break\n",
    "\n",
    "    \n",
    "# expect result: \n",
    "\n",
    "# b[0].shape = (32, 128)\n",
    "# b[1].shape = (32,)\n",
    "# len(df) = 128\n",
    "\n",
    "\n",
    "# [tensor([[ 1.2975, -0.5364,  0.2255,  ...,  0.2322,  0.7593, -0.7148],\n",
    "#          [ 1.1905,  2.5280, -1.0700,  ..., -1.2392,  0.7593,  0.8753],\n",
    "#          [ 0.7722, -1.0419,  0.3524,  ...,  1.2047,  0.8558, -1.8945],\n",
    "#          ...,\n",
    "#          [-0.7296, -0.5408,  0.7186,  ..., -0.9272, -0.9017, -1.9553],\n",
    "#          [ 0.7755,  1.1396, -0.9595,  ..., -0.5878, -0.3832, -0.8104],\n",
    "#          [ 2.7820, -0.7205,  1.3589,  ..., -0.4224,  0.2663,  0.9374]],\n",
    "#         dtype=torch.float64),\n",
    "#  tensor([3, 1, 4, 4, 4, 2, 4, 1, 0, 2, 3, 3, 1, 1, 1, 2, 1, 4, 3, 4, 1, 4, 4, 3,\n",
    "#          0, 3, 0, 3, 1, 1, 2, 2])]"
   ]
  },
  {
   "cell_type": "code",
   "execution_count": 41,
   "metadata": {
    "execution": {
     "iopub.execute_input": "2020-07-25T17:47:10.150441Z",
     "iopub.status.busy": "2020-07-25T17:47:10.149566Z",
     "iopub.status.idle": "2020-07-25T17:47:10.155895Z",
     "shell.execute_reply": "2020-07-25T17:47:10.155336Z",
     "shell.execute_reply.started": "2020-07-25T17:47:10.150359Z"
    }
   },
   "outputs": [
    {
     "data": {
      "text/plain": [
       "torch.Size([32])"
      ]
     },
     "execution_count": 41,
     "metadata": {},
     "output_type": "execute_result"
    }
   ],
   "source": [
    "b[1].shape"
   ]
  },
  {
   "cell_type": "code",
   "execution_count": null,
   "metadata": {},
   "outputs": [],
   "source": []
  }
 ],
 "metadata": {
  "kernelspec": {
   "display_name": "Python [conda env:dl]",
   "language": "python",
   "name": "conda-env-dl-py"
  },
  "language_info": {
   "codemirror_mode": {
    "name": "ipython",
    "version": 3
   },
   "file_extension": ".py",
   "mimetype": "text/x-python",
   "name": "python",
   "nbconvert_exporter": "python",
   "pygments_lexer": "ipython3",
   "version": "3.7.7"
  }
 },
 "nbformat": 4,
 "nbformat_minor": 4
}
