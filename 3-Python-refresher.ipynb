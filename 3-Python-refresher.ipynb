{
 "cells": [
  {
   "cell_type": "markdown",
   "metadata": {},
   "source": [
    "### Dealing with Paths"
   ]
  },
  {
   "cell_type": "code",
   "execution_count": null,
   "metadata": {},
   "outputs": [],
   "source": [
    "import os\n",
    "from pathlib import Path\n",
    "\n",
    "# get Path for home directory\n",
    "home = Path(os.path.expanduser('~'))\n",
    "images_in_home = home.glob('*.jpg')\n",
    "\n",
    "# You can use  the '/' operator wich is overriden to nabivgate trough folders\n",
    "home / 'Downloads'\n",
    "\n",
    "# You can create folders and files:\n",
    "\n",
    "new_folder = home / 'newfolder'\n",
    "new_folder.mkdir(exist_ok=True)\n",
    "\n",
    "\n"
   ]
  },
  {
   "cell_type": "code",
   "execution_count": null,
   "metadata": {},
   "outputs": [],
   "source": [
    "str(new_folder)"
   ]
  },
  {
   "cell_type": "markdown",
   "metadata": {},
   "source": [
    "### Classes"
   ]
  },
  {
   "cell_type": "code",
   "execution_count": null,
   "metadata": {},
   "outputs": [],
   "source": [
    "# Class / super\n",
    "\n",
    "class Person:\n",
    "    # initializing the variables\n",
    "    name = \"\"\n",
    "    age = 0\n",
    "    def __init__(self, person_name, person_age):\n",
    "        self.name = person_name\n",
    "        self.age = person_age\n",
    "    def show_name(self):\n",
    "        print(self.name)\n",
    "    def show_age(self):\n",
    "        print(self.age)\n",
    "\n",
    "        \n",
    "class Student(Person):\n",
    "    studentId = \"\"\n",
    "    def __init__(self, student_name, student_age, student_id):\n",
    "#         Person.__init__(self, student_name, student_age)\n",
    "        super().__init__(student_name, student_age)\n",
    "        self.studentId = student_id\n",
    "    def get_id(self):\n",
    "        return self.studentId  # returns the value of student id\n",
    "\n",
    "# Super allows us to initialize the super class without needing to provide the name of if explicitly\n",
    "# super().__init__(student_name, student_age) == Person.__init__(self, student_name, student_age)\n"
   ]
  },
  {
   "cell_type": "markdown",
   "metadata": {},
   "source": [
    "### Dunder methods"
   ]
  },
  {
   "cell_type": "code",
   "execution_count": null,
   "metadata": {},
   "outputs": [],
   "source": [
    "# Some important Magic/Dunder methods \n",
    "\n",
    "class A:\n",
    "    def __init__(self, data):\n",
    "        self.data = data\n",
    "    \n",
    "    def __len__(self):\n",
    "        return len(self.data)\n",
    "    \n",
    "    def __getitem__(self, i):\n",
    "        return self.data[i]\n",
    "    \n",
    "    def __str__(self):\n",
    "        return \"This is alternative representation off data {}\".format(self.data)\n",
    "    \n",
    "    def __repr__(self):\n",
    "        return self.__str__()\n",
    "    \n",
    "    def __call__(self):\n",
    "        print(\"I can be called like a function without specifying a method\")\n",
    "        \n",
    "data = A([1,2,3,4,5]) \n",
    "len(data) # prints 5\n",
    "data[0] # prints 1\n",
    "data() # prints  \"I can be called like a function without specifying a method\"\n",
    "# etc"
   ]
  },
  {
   "cell_type": "code",
   "execution_count": null,
   "metadata": {},
   "outputs": [],
   "source": [
    "data"
   ]
  },
  {
   "cell_type": "markdown",
   "metadata": {},
   "source": [
    "### Generators"
   ]
  },
  {
   "cell_type": "code",
   "execution_count": null,
   "metadata": {},
   "outputs": [],
   "source": [
    "# one liner generator\n",
    "g = (i for i in range(10))\n",
    "print(next(g))\n",
    "print(next(g))\n",
    "print(next(g))"
   ]
  },
  {
   "cell_type": "markdown",
   "metadata": {},
   "source": [
    "### Debugging"
   ]
  },
  {
   "cell_type": "code",
   "execution_count": null,
   "metadata": {},
   "outputs": [],
   "source": [
    "import pdb\n",
    "import numpy as np\n",
    "from IPython.core.debugger import set_trace\n",
    "%pdb"
   ]
  },
  {
   "cell_type": "code",
   "execution_count": null,
   "metadata": {},
   "outputs": [],
   "source": [
    "import numpy as np \n",
    "def this_fails_sometimes():\n",
    "    a = np.random.choice([0, 1])\n",
    "    set_trace()\n",
    "    if a == 1:\n",
    "        raise ValueError\n",
    "    else:\n",
    "        print(\"all good\")\n"
   ]
  },
  {
   "cell_type": "code",
   "execution_count": null,
   "metadata": {},
   "outputs": [],
   "source": [
    "this_fails_sometimes()"
   ]
  }
 ],
 "metadata": {
  "kernelspec": {
   "display_name": "Python 3",
   "language": "python",
   "name": "python3"
  },
  "language_info": {
   "codemirror_mode": {
    "name": "ipython",
    "version": 3
   },
   "file_extension": ".py",
   "mimetype": "text/x-python",
   "name": "python",
   "nbconvert_exporter": "python",
   "pygments_lexer": "ipython3",
   "version": "3.7.3"
  }
 },
 "nbformat": 4,
 "nbformat_minor": 2
}
